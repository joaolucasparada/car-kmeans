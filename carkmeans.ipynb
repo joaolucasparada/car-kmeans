{
 "cells": [
  {
   "cell_type": "code",
   "execution_count": 1,
   "metadata": {},
   "outputs": [
    {
     "name": "stdout",
     "output_type": "stream",
     "text": [
      "Requirement already satisfied: pandas in c:\\users\\jlpar\\downloads\\carkmeans\\venv\\lib\\site-packages (2.2.2)\n",
      "Requirement already satisfied: numpy>=1.23.2 in c:\\users\\jlpar\\downloads\\carkmeans\\venv\\lib\\site-packages (from pandas) (2.1.1)\n",
      "Requirement already satisfied: python-dateutil>=2.8.2 in c:\\users\\jlpar\\downloads\\carkmeans\\venv\\lib\\site-packages (from pandas) (2.9.0.post0)\n",
      "Requirement already satisfied: pytz>=2020.1 in c:\\users\\jlpar\\downloads\\carkmeans\\venv\\lib\\site-packages (from pandas) (2024.1)\n",
      "Requirement already satisfied: tzdata>=2022.7 in c:\\users\\jlpar\\downloads\\carkmeans\\venv\\lib\\site-packages (from pandas) (2024.1)\n",
      "Requirement already satisfied: six>=1.5 in c:\\users\\jlpar\\downloads\\carkmeans\\venv\\lib\\site-packages (from python-dateutil>=2.8.2->pandas) (1.16.0)\n"
     ]
    },
    {
     "name": "stderr",
     "output_type": "stream",
     "text": [
      "\n",
      "[notice] A new release of pip is available: 24.0 -> 24.2\n",
      "[notice] To update, run: python.exe -m pip install --upgrade pip\n"
     ]
    },
    {
     "name": "stdout",
     "output_type": "stream",
     "text": [
      "Requirement already satisfied: matplotlib in c:\\users\\jlpar\\downloads\\carkmeans\\venv\\lib\\site-packages (3.9.2)\n",
      "Requirement already satisfied: contourpy>=1.0.1 in c:\\users\\jlpar\\downloads\\carkmeans\\venv\\lib\\site-packages (from matplotlib) (1.3.0)\n",
      "Requirement already satisfied: cycler>=0.10 in c:\\users\\jlpar\\downloads\\carkmeans\\venv\\lib\\site-packages (from matplotlib) (0.12.1)\n",
      "Requirement already satisfied: fonttools>=4.22.0 in c:\\users\\jlpar\\downloads\\carkmeans\\venv\\lib\\site-packages (from matplotlib) (4.53.1)\n",
      "Requirement already satisfied: kiwisolver>=1.3.1 in c:\\users\\jlpar\\downloads\\carkmeans\\venv\\lib\\site-packages (from matplotlib) (1.4.7)\n",
      "Requirement already satisfied: numpy>=1.23 in c:\\users\\jlpar\\downloads\\carkmeans\\venv\\lib\\site-packages (from matplotlib) (2.1.1)\n",
      "Requirement already satisfied: packaging>=20.0 in c:\\users\\jlpar\\downloads\\carkmeans\\venv\\lib\\site-packages (from matplotlib) (24.1)\n",
      "Requirement already satisfied: pillow>=8 in c:\\users\\jlpar\\downloads\\carkmeans\\venv\\lib\\site-packages (from matplotlib) (10.4.0)\n",
      "Requirement already satisfied: pyparsing>=2.3.1 in c:\\users\\jlpar\\downloads\\carkmeans\\venv\\lib\\site-packages (from matplotlib) (3.1.4)\n",
      "Requirement already satisfied: python-dateutil>=2.7 in c:\\users\\jlpar\\downloads\\carkmeans\\venv\\lib\\site-packages (from matplotlib) (2.9.0.post0)\n",
      "Requirement already satisfied: six>=1.5 in c:\\users\\jlpar\\downloads\\carkmeans\\venv\\lib\\site-packages (from python-dateutil>=2.7->matplotlib) (1.16.0)\n"
     ]
    },
    {
     "name": "stderr",
     "output_type": "stream",
     "text": [
      "\n",
      "[notice] A new release of pip is available: 24.0 -> 24.2\n",
      "[notice] To update, run: python.exe -m pip install --upgrade pip\n"
     ]
    },
    {
     "name": "stdout",
     "output_type": "stream",
     "text": [
      "Requirement already satisfied: plotly.express in c:\\users\\jlpar\\downloads\\carkmeans\\venv\\lib\\site-packages (0.4.1)\n",
      "Requirement already satisfied: pandas>=0.20.0 in c:\\users\\jlpar\\downloads\\carkmeans\\venv\\lib\\site-packages (from plotly.express) (2.2.2)\n",
      "Requirement already satisfied: plotly>=4.1.0 in c:\\users\\jlpar\\downloads\\carkmeans\\venv\\lib\\site-packages (from plotly.express) (5.24.0)\n",
      "Requirement already satisfied: statsmodels>=0.9.0 in c:\\users\\jlpar\\downloads\\carkmeans\\venv\\lib\\site-packages (from plotly.express) (0.14.2)\n",
      "Requirement already satisfied: scipy>=0.18 in c:\\users\\jlpar\\downloads\\carkmeans\\venv\\lib\\site-packages (from plotly.express) (1.14.1)\n",
      "Requirement already satisfied: patsy>=0.5 in c:\\users\\jlpar\\downloads\\carkmeans\\venv\\lib\\site-packages (from plotly.express) (0.5.6)\n",
      "Requirement already satisfied: numpy>=1.11 in c:\\users\\jlpar\\downloads\\carkmeans\\venv\\lib\\site-packages (from plotly.express) (2.1.1)\n",
      "Requirement already satisfied: python-dateutil>=2.8.2 in c:\\users\\jlpar\\downloads\\carkmeans\\venv\\lib\\site-packages (from pandas>=0.20.0->plotly.express) (2.9.0.post0)\n",
      "Requirement already satisfied: pytz>=2020.1 in c:\\users\\jlpar\\downloads\\carkmeans\\venv\\lib\\site-packages (from pandas>=0.20.0->plotly.express) (2024.1)\n",
      "Requirement already satisfied: tzdata>=2022.7 in c:\\users\\jlpar\\downloads\\carkmeans\\venv\\lib\\site-packages (from pandas>=0.20.0->plotly.express) (2024.1)\n",
      "Requirement already satisfied: six in c:\\users\\jlpar\\downloads\\carkmeans\\venv\\lib\\site-packages (from patsy>=0.5->plotly.express) (1.16.0)\n",
      "Requirement already satisfied: tenacity>=6.2.0 in c:\\users\\jlpar\\downloads\\carkmeans\\venv\\lib\\site-packages (from plotly>=4.1.0->plotly.express) (8.5.0)\n",
      "Requirement already satisfied: packaging in c:\\users\\jlpar\\downloads\\carkmeans\\venv\\lib\\site-packages (from plotly>=4.1.0->plotly.express) (24.1)\n"
     ]
    },
    {
     "name": "stderr",
     "output_type": "stream",
     "text": [
      "\n",
      "[notice] A new release of pip is available: 24.0 -> 24.2\n",
      "[notice] To update, run: python.exe -m pip install --upgrade pip\n"
     ]
    },
    {
     "name": "stdout",
     "output_type": "stream",
     "text": [
      "Requirement already satisfied: scikit-learn in c:\\users\\jlpar\\downloads\\carkmeans\\venv\\lib\\site-packages (1.5.1)\n",
      "Requirement already satisfied: numpy>=1.19.5 in c:\\users\\jlpar\\downloads\\carkmeans\\venv\\lib\\site-packages (from scikit-learn) (2.1.1)\n",
      "Requirement already satisfied: scipy>=1.6.0 in c:\\users\\jlpar\\downloads\\carkmeans\\venv\\lib\\site-packages (from scikit-learn) (1.14.1)\n",
      "Requirement already satisfied: joblib>=1.2.0 in c:\\users\\jlpar\\downloads\\carkmeans\\venv\\lib\\site-packages (from scikit-learn) (1.4.2)\n",
      "Requirement already satisfied: threadpoolctl>=3.1.0 in c:\\users\\jlpar\\downloads\\carkmeans\\venv\\lib\\site-packages (from scikit-learn) (3.5.0)\n"
     ]
    },
    {
     "name": "stderr",
     "output_type": "stream",
     "text": [
      "\n",
      "[notice] A new release of pip is available: 24.0 -> 24.2\n",
      "[notice] To update, run: python.exe -m pip install --upgrade pip\n"
     ]
    },
    {
     "name": "stdout",
     "output_type": "stream",
     "text": [
      "Requirement already satisfied: numpy in c:\\users\\jlpar\\downloads\\carkmeans\\venv\\lib\\site-packages (2.1.1)"
     ]
    },
    {
     "name": "stderr",
     "output_type": "stream",
     "text": [
      "\n",
      "[notice] A new release of pip is available: 24.0 -> 24.2\n",
      "[notice] To update, run: python.exe -m pip install --upgrade pip\n"
     ]
    },
    {
     "name": "stdout",
     "output_type": "stream",
     "text": [
      "\n",
      "Requirement already satisfied: streamlit in c:\\users\\jlpar\\downloads\\carkmeans\\venv\\lib\\site-packages (1.38.0)"
     ]
    },
    {
     "name": "stderr",
     "output_type": "stream",
     "text": [
      "\n",
      "[notice] A new release of pip is available: 24.0 -> 24.2\n",
      "[notice] To update, run: python.exe -m pip install --upgrade pip\n"
     ]
    },
    {
     "name": "stdout",
     "output_type": "stream",
     "text": [
      "\n",
      "Requirement already satisfied: altair<6,>=4.0 in c:\\users\\jlpar\\downloads\\carkmeans\\venv\\lib\\site-packages (from streamlit) (5.4.1)\n",
      "Requirement already satisfied: blinker<2,>=1.0.0 in c:\\users\\jlpar\\downloads\\carkmeans\\venv\\lib\\site-packages (from streamlit) (1.8.2)\n",
      "Requirement already satisfied: cachetools<6,>=4.0 in c:\\users\\jlpar\\downloads\\carkmeans\\venv\\lib\\site-packages (from streamlit) (5.5.0)\n",
      "Requirement already satisfied: click<9,>=7.0 in c:\\users\\jlpar\\downloads\\carkmeans\\venv\\lib\\site-packages (from streamlit) (8.1.7)\n",
      "Requirement already satisfied: numpy<3,>=1.20 in c:\\users\\jlpar\\downloads\\carkmeans\\venv\\lib\\site-packages (from streamlit) (2.1.1)\n",
      "Requirement already satisfied: packaging<25,>=20 in c:\\users\\jlpar\\downloads\\carkmeans\\venv\\lib\\site-packages (from streamlit) (24.1)\n",
      "Requirement already satisfied: pandas<3,>=1.3.0 in c:\\users\\jlpar\\downloads\\carkmeans\\venv\\lib\\site-packages (from streamlit) (2.2.2)\n",
      "Requirement already satisfied: pillow<11,>=7.1.0 in c:\\users\\jlpar\\downloads\\carkmeans\\venv\\lib\\site-packages (from streamlit) (10.4.0)\n",
      "Requirement already satisfied: protobuf<6,>=3.20 in c:\\users\\jlpar\\downloads\\carkmeans\\venv\\lib\\site-packages (from streamlit) (5.28.0)\n",
      "Requirement already satisfied: pyarrow>=7.0 in c:\\users\\jlpar\\downloads\\carkmeans\\venv\\lib\\site-packages (from streamlit) (17.0.0)\n",
      "Requirement already satisfied: requests<3,>=2.27 in c:\\users\\jlpar\\downloads\\carkmeans\\venv\\lib\\site-packages (from streamlit) (2.32.3)\n",
      "Requirement already satisfied: rich<14,>=10.14.0 in c:\\users\\jlpar\\downloads\\carkmeans\\venv\\lib\\site-packages (from streamlit) (13.8.0)\n",
      "Requirement already satisfied: tenacity<9,>=8.1.0 in c:\\users\\jlpar\\downloads\\carkmeans\\venv\\lib\\site-packages (from streamlit) (8.5.0)\n",
      "Requirement already satisfied: toml<2,>=0.10.1 in c:\\users\\jlpar\\downloads\\carkmeans\\venv\\lib\\site-packages (from streamlit) (0.10.2)\n",
      "Requirement already satisfied: typing-extensions<5,>=4.3.0 in c:\\users\\jlpar\\downloads\\carkmeans\\venv\\lib\\site-packages (from streamlit) (4.12.2)\n",
      "Requirement already satisfied: gitpython!=3.1.19,<4,>=3.0.7 in c:\\users\\jlpar\\downloads\\carkmeans\\venv\\lib\\site-packages (from streamlit) (3.1.43)\n",
      "Requirement already satisfied: pydeck<1,>=0.8.0b4 in c:\\users\\jlpar\\downloads\\carkmeans\\venv\\lib\\site-packages (from streamlit) (0.9.1)\n",
      "Requirement already satisfied: tornado<7,>=6.0.3 in c:\\users\\jlpar\\downloads\\carkmeans\\venv\\lib\\site-packages (from streamlit) (6.4.1)\n",
      "Requirement already satisfied: watchdog<5,>=2.1.5 in c:\\users\\jlpar\\downloads\\carkmeans\\venv\\lib\\site-packages (from streamlit) (4.0.2)\n",
      "Requirement already satisfied: jinja2 in c:\\users\\jlpar\\downloads\\carkmeans\\venv\\lib\\site-packages (from altair<6,>=4.0->streamlit) (3.1.4)\n",
      "Requirement already satisfied: jsonschema>=3.0 in c:\\users\\jlpar\\downloads\\carkmeans\\venv\\lib\\site-packages (from altair<6,>=4.0->streamlit) (4.23.0)\n",
      "Requirement already satisfied: narwhals>=1.5.2 in c:\\users\\jlpar\\downloads\\carkmeans\\venv\\lib\\site-packages (from altair<6,>=4.0->streamlit) (1.6.2)\n",
      "Requirement already satisfied: colorama in c:\\users\\jlpar\\downloads\\carkmeans\\venv\\lib\\site-packages (from click<9,>=7.0->streamlit) (0.4.6)\n",
      "Requirement already satisfied: gitdb<5,>=4.0.1 in c:\\users\\jlpar\\downloads\\carkmeans\\venv\\lib\\site-packages (from gitpython!=3.1.19,<4,>=3.0.7->streamlit) (4.0.11)\n",
      "Requirement already satisfied: python-dateutil>=2.8.2 in c:\\users\\jlpar\\downloads\\carkmeans\\venv\\lib\\site-packages (from pandas<3,>=1.3.0->streamlit) (2.9.0.post0)\n",
      "Requirement already satisfied: pytz>=2020.1 in c:\\users\\jlpar\\downloads\\carkmeans\\venv\\lib\\site-packages (from pandas<3,>=1.3.0->streamlit) (2024.1)\n",
      "Requirement already satisfied: tzdata>=2022.7 in c:\\users\\jlpar\\downloads\\carkmeans\\venv\\lib\\site-packages (from pandas<3,>=1.3.0->streamlit) (2024.1)\n",
      "Requirement already satisfied: charset-normalizer<4,>=2 in c:\\users\\jlpar\\downloads\\carkmeans\\venv\\lib\\site-packages (from requests<3,>=2.27->streamlit) (3.3.2)\n",
      "Requirement already satisfied: idna<4,>=2.5 in c:\\users\\jlpar\\downloads\\carkmeans\\venv\\lib\\site-packages (from requests<3,>=2.27->streamlit) (3.8)\n",
      "Requirement already satisfied: urllib3<3,>=1.21.1 in c:\\users\\jlpar\\downloads\\carkmeans\\venv\\lib\\site-packages (from requests<3,>=2.27->streamlit) (2.2.2)\n",
      "Requirement already satisfied: certifi>=2017.4.17 in c:\\users\\jlpar\\downloads\\carkmeans\\venv\\lib\\site-packages (from requests<3,>=2.27->streamlit) (2024.8.30)\n",
      "Requirement already satisfied: markdown-it-py>=2.2.0 in c:\\users\\jlpar\\downloads\\carkmeans\\venv\\lib\\site-packages (from rich<14,>=10.14.0->streamlit) (3.0.0)\n",
      "Requirement already satisfied: pygments<3.0.0,>=2.13.0 in c:\\users\\jlpar\\downloads\\carkmeans\\venv\\lib\\site-packages (from rich<14,>=10.14.0->streamlit) (2.18.0)\n",
      "Requirement already satisfied: smmap<6,>=3.0.1 in c:\\users\\jlpar\\downloads\\carkmeans\\venv\\lib\\site-packages (from gitdb<5,>=4.0.1->gitpython!=3.1.19,<4,>=3.0.7->streamlit) (5.0.1)\n",
      "Requirement already satisfied: MarkupSafe>=2.0 in c:\\users\\jlpar\\downloads\\carkmeans\\venv\\lib\\site-packages (from jinja2->altair<6,>=4.0->streamlit) (2.1.5)\n",
      "Requirement already satisfied: attrs>=22.2.0 in c:\\users\\jlpar\\downloads\\carkmeans\\venv\\lib\\site-packages (from jsonschema>=3.0->altair<6,>=4.0->streamlit) (24.2.0)\n",
      "Requirement already satisfied: jsonschema-specifications>=2023.03.6 in c:\\users\\jlpar\\downloads\\carkmeans\\venv\\lib\\site-packages (from jsonschema>=3.0->altair<6,>=4.0->streamlit) (2023.12.1)\n",
      "Requirement already satisfied: referencing>=0.28.4 in c:\\users\\jlpar\\downloads\\carkmeans\\venv\\lib\\site-packages (from jsonschema>=3.0->altair<6,>=4.0->streamlit) (0.35.1)\n",
      "Requirement already satisfied: rpds-py>=0.7.1 in c:\\users\\jlpar\\downloads\\carkmeans\\venv\\lib\\site-packages (from jsonschema>=3.0->altair<6,>=4.0->streamlit) (0.20.0)\n",
      "Requirement already satisfied: mdurl~=0.1 in c:\\users\\jlpar\\downloads\\carkmeans\\venv\\lib\\site-packages (from markdown-it-py>=2.2.0->rich<14,>=10.14.0->streamlit) (0.1.2)\n",
      "Requirement already satisfied: six>=1.5 in c:\\users\\jlpar\\downloads\\carkmeans\\venv\\lib\\site-packages (from python-dateutil>=2.8.2->pandas<3,>=1.3.0->streamlit) (1.16.0)\n",
      "Requirement already satisfied: nbformat in c:\\users\\jlpar\\downloads\\carkmeans\\venv\\lib\\site-packages (5.10.4)"
     ]
    },
    {
     "name": "stderr",
     "output_type": "stream",
     "text": [
      "\n",
      "[notice] A new release of pip is available: 24.0 -> 24.2\n",
      "[notice] To update, run: python.exe -m pip install --upgrade pip\n"
     ]
    },
    {
     "name": "stdout",
     "output_type": "stream",
     "text": [
      "\n",
      "Requirement already satisfied: fastjsonschema>=2.15 in c:\\users\\jlpar\\downloads\\carkmeans\\venv\\lib\\site-packages (from nbformat) (2.20.0)\n",
      "Requirement already satisfied: jsonschema>=2.6 in c:\\users\\jlpar\\downloads\\carkmeans\\venv\\lib\\site-packages (from nbformat) (4.23.0)\n",
      "Requirement already satisfied: jupyter-core!=5.0.*,>=4.12 in c:\\users\\jlpar\\downloads\\carkmeans\\venv\\lib\\site-packages (from nbformat) (5.7.2)\n",
      "Requirement already satisfied: traitlets>=5.1 in c:\\users\\jlpar\\downloads\\carkmeans\\venv\\lib\\site-packages (from nbformat) (5.14.3)\n",
      "Requirement already satisfied: attrs>=22.2.0 in c:\\users\\jlpar\\downloads\\carkmeans\\venv\\lib\\site-packages (from jsonschema>=2.6->nbformat) (24.2.0)\n",
      "Requirement already satisfied: jsonschema-specifications>=2023.03.6 in c:\\users\\jlpar\\downloads\\carkmeans\\venv\\lib\\site-packages (from jsonschema>=2.6->nbformat) (2023.12.1)\n",
      "Requirement already satisfied: referencing>=0.28.4 in c:\\users\\jlpar\\downloads\\carkmeans\\venv\\lib\\site-packages (from jsonschema>=2.6->nbformat) (0.35.1)\n",
      "Requirement already satisfied: rpds-py>=0.7.1 in c:\\users\\jlpar\\downloads\\carkmeans\\venv\\lib\\site-packages (from jsonschema>=2.6->nbformat) (0.20.0)\n",
      "Requirement already satisfied: platformdirs>=2.5 in c:\\users\\jlpar\\downloads\\carkmeans\\venv\\lib\\site-packages (from jupyter-core!=5.0.*,>=4.12->nbformat) (4.2.2)\n",
      "Requirement already satisfied: pywin32>=300 in c:\\users\\jlpar\\downloads\\carkmeans\\venv\\lib\\site-packages (from jupyter-core!=5.0.*,>=4.12->nbformat) (306)\n",
      "Requirement already satisfied: jupyter in c:\\users\\jlpar\\downloads\\carkmeans\\venv\\lib\\site-packages (1.1.1)\n",
      "Requirement already satisfied: notebook in c:\\users\\jlpar\\downloads\\carkmeans\\venv\\lib\\site-packages (from jupyter) (7.2.2)\n",
      "Requirement already satisfied: jupyter-console in c:\\users\\jlpar\\downloads\\carkmeans\\venv\\lib\\site-packages (from jupyter) (6.6.3)\n",
      "Requirement already satisfied: nbconvert in c:\\users\\jlpar\\downloads\\carkmeans\\venv\\lib\\site-packages (from jupyter) (7.16.4)\n",
      "Requirement already satisfied: ipykernel in c:\\users\\jlpar\\downloads\\carkmeans\\venv\\lib\\site-packages (from jupyter) (6.29.5)\n",
      "Requirement already satisfied: ipywidgets in c:\\users\\jlpar\\downloads\\carkmeans\\venv\\lib\\site-packages (from jupyter) (8.1.5)\n",
      "Requirement already satisfied: jupyterlab in c:\\users\\jlpar\\downloads\\carkmeans\\venv\\lib\\site-packages (from jupyter) (4.2.5)\n",
      "Requirement already satisfied: comm>=0.1.1 in c:\\users\\jlpar\\downloads\\carkmeans\\venv\\lib\\site-packages (from ipykernel->jupyter) (0.2.2)\n",
      "Requirement already satisfied: debugpy>=1.6.5 in c:\\users\\jlpar\\downloads\\carkmeans\\venv\\lib\\site-packages (from ipykernel->jupyter) (1.8.5)\n",
      "Requirement already satisfied: ipython>=7.23.1 in c:\\users\\jlpar\\downloads\\carkmeans\\venv\\lib\\site-packages (from ipykernel->jupyter) (8.27.0)\n",
      "Requirement already satisfied: jupyter-client>=6.1.12 in c:\\users\\jlpar\\downloads\\carkmeans\\venv\\lib\\site-packages (from ipykernel->jupyter) (8.6.2)\n",
      "Requirement already satisfied: jupyter-core!=5.0.*,>=4.12 in c:\\users\\jlpar\\downloads\\carkmeans\\venv\\lib\\site-packages (from ipykernel->jupyter) (5.7.2)\n",
      "Requirement already satisfied: matplotlib-inline>=0.1 in c:\\users\\jlpar\\downloads\\carkmeans\\venv\\lib\\site-packages (from ipykernel->jupyter) (0.1.7)\n",
      "Requirement already satisfied: nest-asyncio in c:\\users\\jlpar\\downloads\\carkmeans\\venv\\lib\\site-packages (from ipykernel->jupyter) (1.6.0)\n",
      "Requirement already satisfied: packaging in c:\\users\\jlpar\\downloads\\carkmeans\\venv\\lib\\site-packages (from ipykernel->jupyter) (24.1)\n",
      "Requirement already satisfied: psutil in c:\\users\\jlpar\\downloads\\carkmeans\\venv\\lib\\site-packages (from ipykernel->jupyter) (6.0.0)\n",
      "Requirement already satisfied: pyzmq>=24 in c:\\users\\jlpar\\downloads\\carkmeans\\venv\\lib\\site-packages (from ipykernel->jupyter) (26.2.0)\n",
      "Requirement already satisfied: tornado>=6.1 in c:\\users\\jlpar\\downloads\\carkmeans\\venv\\lib\\site-packages (from ipykernel->jupyter) (6.4.1)\n",
      "Requirement already satisfied: traitlets>=5.4.0 in c:\\users\\jlpar\\downloads\\carkmeans\\venv\\lib\\site-packages (from ipykernel->jupyter) (5.14.3)\n",
      "Requirement already satisfied: widgetsnbextension~=4.0.12 in c:\\users\\jlpar\\downloads\\carkmeans\\venv\\lib\\site-packages (from ipywidgets->jupyter) (4.0.13)\n",
      "Requirement already satisfied: jupyterlab-widgets~=3.0.12 in c:\\users\\jlpar\\downloads\\carkmeans\\venv\\lib\\site-packages (from ipywidgets->jupyter) (3.0.13)\n",
      "Requirement already satisfied: prompt-toolkit>=3.0.30 in c:\\users\\jlpar\\downloads\\carkmeans\\venv\\lib\\site-packages (from jupyter-console->jupyter) (3.0.47)\n",
      "Requirement already satisfied: pygments in c:\\users\\jlpar\\downloads\\carkmeans\\venv\\lib\\site-packages (from jupyter-console->jupyter) (2.18.0)\n",
      "Requirement already satisfied: async-lru>=1.0.0 in c:\\users\\jlpar\\downloads\\carkmeans\\venv\\lib\\site-packages (from jupyterlab->jupyter) (2.0.4)\n",
      "Requirement already satisfied: httpx>=0.25.0 in c:\\users\\jlpar\\downloads\\carkmeans\\venv\\lib\\site-packages (from jupyterlab->jupyter) (0.27.2)\n",
      "Requirement already satisfied: jinja2>=3.0.3 in c:\\users\\jlpar\\downloads\\carkmeans\\venv\\lib\\site-packages (from jupyterlab->jupyter) (3.1.4)\n",
      "Requirement already satisfied: jupyter-lsp>=2.0.0 in c:\\users\\jlpar\\downloads\\carkmeans\\venv\\lib\\site-packages (from jupyterlab->jupyter) (2.2.5)\n",
      "Requirement already satisfied: jupyter-server<3,>=2.4.0 in c:\\users\\jlpar\\downloads\\carkmeans\\venv\\lib\\site-packages (from jupyterlab->jupyter) (2.14.2)\n",
      "Requirement already satisfied: jupyterlab-server<3,>=2.27.1 in c:\\users\\jlpar\\downloads\\carkmeans\\venv\\lib\\site-packages (from jupyterlab->jupyter) (2.27.3)\n",
      "Requirement already satisfied: notebook-shim>=0.2 in c:\\users\\jlpar\\downloads\\carkmeans\\venv\\lib\\site-packages (from jupyterlab->jupyter) (0.2.4)\n",
      "Requirement already satisfied: setuptools>=40.1.0 in c:\\users\\jlpar\\downloads\\carkmeans\\venv\\lib\\site-packages (from jupyterlab->jupyter) (65.5.0)\n",
      "Requirement already satisfied: beautifulsoup4 in c:\\users\\jlpar\\downloads\\carkmeans\\venv\\lib\\site-packages (from nbconvert->jupyter) (4.12.3)\n",
      "Requirement already satisfied: bleach!=5.0.0 in c:\\users\\jlpar\\downloads\\carkmeans\\venv\\lib\\site-packages (from nbconvert->jupyter) (6.1.0)\n",
      "Requirement already satisfied: defusedxml in c:\\users\\jlpar\\downloads\\carkmeans\\venv\\lib\\site-packages (from nbconvert->jupyter) (0.7.1)\n",
      "Requirement already satisfied: jupyterlab-pygments in c:\\users\\jlpar\\downloads\\carkmeans\\venv\\lib\\site-packages (from nbconvert->jupyter) (0.3.0)\n",
      "Requirement already satisfied: markupsafe>=2.0 in c:\\users\\jlpar\\downloads\\carkmeans\\venv\\lib\\site-packages (from nbconvert->jupyter) (2.1.5)\n",
      "Requirement already satisfied: mistune<4,>=2.0.3 in c:\\users\\jlpar\\downloads\\carkmeans\\venv\\lib\\site-packages (from nbconvert->jupyter) (3.0.2)\n",
      "Requirement already satisfied: nbclient>=0.5.0 in c:\\users\\jlpar\\downloads\\carkmeans\\venv\\lib\\site-packages (from nbconvert->jupyter) (0.10.0)\n",
      "Requirement already satisfied: nbformat>=5.7 in c:\\users\\jlpar\\downloads\\carkmeans\\venv\\lib\\site-packages (from nbconvert->jupyter) (5.10.4)\n",
      "Requirement already satisfied: pandocfilters>=1.4.1 in c:\\users\\jlpar\\downloads\\carkmeans\\venv\\lib\\site-packages (from nbconvert->jupyter) (1.5.1)\n",
      "Requirement already satisfied: tinycss2 in c:\\users\\jlpar\\downloads\\carkmeans\\venv\\lib\\site-packages (from nbconvert->jupyter) (1.3.0)\n",
      "Requirement already satisfied: six>=1.9.0 in c:\\users\\jlpar\\downloads\\carkmeans\\venv\\lib\\site-packages (from bleach!=5.0.0->nbconvert->jupyter) (1.16.0)\n",
      "Requirement already satisfied: webencodings in c:\\users\\jlpar\\downloads\\carkmeans\\venv\\lib\\site-packages (from bleach!=5.0.0->nbconvert->jupyter) (0.5.1)\n",
      "Requirement already satisfied: anyio in c:\\users\\jlpar\\downloads\\carkmeans\\venv\\lib\\site-packages (from httpx>=0.25.0->jupyterlab->jupyter) (4.4.0)\n",
      "Requirement already satisfied: certifi in c:\\users\\jlpar\\downloads\\carkmeans\\venv\\lib\\site-packages (from httpx>=0.25.0->jupyterlab->jupyter) (2024.8.30)\n",
      "Requirement already satisfied: httpcore==1.* in c:\\users\\jlpar\\downloads\\carkmeans\\venv\\lib\\site-packages (from httpx>=0.25.0->jupyterlab->jupyter) (1.0.5)\n",
      "Requirement already satisfied: idna in c:\\users\\jlpar\\downloads\\carkmeans\\venv\\lib\\site-packages (from httpx>=0.25.0->jupyterlab->jupyter) (3.8)\n",
      "Requirement already satisfied: sniffio in c:\\users\\jlpar\\downloads\\carkmeans\\venv\\lib\\site-packages (from httpx>=0.25.0->jupyterlab->jupyter) (1.3.1)\n",
      "Requirement already satisfied: h11<0.15,>=0.13 in c:\\users\\jlpar\\downloads\\carkmeans\\venv\\lib\\site-packages (from httpcore==1.*->httpx>=0.25.0->jupyterlab->jupyter) (0.14.0)\n",
      "Requirement already satisfied: decorator in c:\\users\\jlpar\\downloads\\carkmeans\\venv\\lib\\site-packages (from ipython>=7.23.1->ipykernel->jupyter) (5.1.1)\n",
      "Requirement already satisfied: jedi>=0.16 in c:\\users\\jlpar\\downloads\\carkmeans\\venv\\lib\\site-packages (from ipython>=7.23.1->ipykernel->jupyter) (0.19.1)\n",
      "Requirement already satisfied: stack-data in c:\\users\\jlpar\\downloads\\carkmeans\\venv\\lib\\site-packages (from ipython>=7.23.1->ipykernel->jupyter) (0.6.3)\n",
      "Requirement already satisfied: typing-extensions>=4.6 in c:\\users\\jlpar\\downloads\\carkmeans\\venv\\lib\\site-packages (from ipython>=7.23.1->ipykernel->jupyter) (4.12.2)\n",
      "Requirement already satisfied: colorama in c:\\users\\jlpar\\downloads\\carkmeans\\venv\\lib\\site-packages (from ipython>=7.23.1->ipykernel->jupyter) (0.4.6)\n",
      "Requirement already satisfied: python-dateutil>=2.8.2 in c:\\users\\jlpar\\downloads\\carkmeans\\venv\\lib\\site-packages (from jupyter-client>=6.1.12->ipykernel->jupyter) (2.9.0.post0)\n",
      "Requirement already satisfied: platformdirs>=2.5 in c:\\users\\jlpar\\downloads\\carkmeans\\venv\\lib\\site-packages (from jupyter-core!=5.0.*,>=4.12->ipykernel->jupyter) (4.2.2)\n",
      "Requirement already satisfied: pywin32>=300 in c:\\users\\jlpar\\downloads\\carkmeans\\venv\\lib\\site-packages (from jupyter-core!=5.0.*,>=4.12->ipykernel->jupyter) (306)\n",
      "Requirement already satisfied: argon2-cffi>=21.1 in c:\\users\\jlpar\\downloads\\carkmeans\\venv\\lib\\site-packages (from jupyter-server<3,>=2.4.0->jupyterlab->jupyter) (23.1.0)\n",
      "Requirement already satisfied: jupyter-events>=0.9.0 in c:\\users\\jlpar\\downloads\\carkmeans\\venv\\lib\\site-packages (from jupyter-server<3,>=2.4.0->jupyterlab->jupyter) (0.10.0)\n",
      "Requirement already satisfied: jupyter-server-terminals>=0.4.4 in c:\\users\\jlpar\\downloads\\carkmeans\\venv\\lib\\site-packages (from jupyter-server<3,>=2.4.0->jupyterlab->jupyter) (0.5.3)\n",
      "Requirement already satisfied: overrides>=5.0 in c:\\users\\jlpar\\downloads\\carkmeans\\venv\\lib\\site-packages (from jupyter-server<3,>=2.4.0->jupyterlab->jupyter) (7.7.0)\n",
      "Requirement already satisfied: prometheus-client>=0.9 in c:\\users\\jlpar\\downloads\\carkmeans\\venv\\lib\\site-packages (from jupyter-server<3,>=2.4.0->jupyterlab->jupyter) (0.20.0)\n",
      "Requirement already satisfied: pywinpty>=2.0.1 in c:\\users\\jlpar\\downloads\\carkmeans\\venv\\lib\\site-packages (from jupyter-server<3,>=2.4.0->jupyterlab->jupyter) (2.0.13)\n",
      "Requirement already satisfied: send2trash>=1.8.2 in c:\\users\\jlpar\\downloads\\carkmeans\\venv\\lib\\site-packages (from jupyter-server<3,>=2.4.0->jupyterlab->jupyter) (1.8.3)\n",
      "Requirement already satisfied: terminado>=0.8.3 in c:\\users\\jlpar\\downloads\\carkmeans\\venv\\lib\\site-packages (from jupyter-server<3,>=2.4.0->jupyterlab->jupyter) (0.18.1)\n",
      "Requirement already satisfied: websocket-client>=1.7 in c:\\users\\jlpar\\downloads\\carkmeans\\venv\\lib\\site-packages (from jupyter-server<3,>=2.4.0->jupyterlab->jupyter) (1.8.0)\n",
      "Requirement already satisfied: babel>=2.10 in c:\\users\\jlpar\\downloads\\carkmeans\\venv\\lib\\site-packages (from jupyterlab-server<3,>=2.27.1->jupyterlab->jupyter) (2.16.0)\n",
      "Requirement already satisfied: json5>=0.9.0 in c:\\users\\jlpar\\downloads\\carkmeans\\venv\\lib\\site-packages (from jupyterlab-server<3,>=2.27.1->jupyterlab->jupyter) (0.9.25)\n",
      "Requirement already satisfied: jsonschema>=4.18.0 in c:\\users\\jlpar\\downloads\\carkmeans\\venv\\lib\\site-packages (from jupyterlab-server<3,>=2.27.1->jupyterlab->jupyter) (4.23.0)\n",
      "Requirement already satisfied: requests>=2.31 in c:\\users\\jlpar\\downloads\\carkmeans\\venv\\lib\\site-packages (from jupyterlab-server<3,>=2.27.1->jupyterlab->jupyter) (2.32.3)\n",
      "Requirement already satisfied: fastjsonschema>=2.15 in c:\\users\\jlpar\\downloads\\carkmeans\\venv\\lib\\site-packages (from nbformat>=5.7->nbconvert->jupyter) (2.20.0)\n",
      "Requirement already satisfied: wcwidth in c:\\users\\jlpar\\downloads\\carkmeans\\venv\\lib\\site-packages (from prompt-toolkit>=3.0.30->jupyter-console->jupyter) (0.2.13)\n",
      "Requirement already satisfied: soupsieve>1.2 in c:\\users\\jlpar\\downloads\\carkmeans\\venv\\lib\\site-packages (from beautifulsoup4->nbconvert->jupyter) (2.6)\n",
      "Requirement already satisfied: argon2-cffi-bindings in c:\\users\\jlpar\\downloads\\carkmeans\\venv\\lib\\site-packages (from argon2-cffi>=21.1->jupyter-server<3,>=2.4.0->jupyterlab->jupyter) (21.2.0)\n",
      "Requirement already satisfied: parso<0.9.0,>=0.8.3 in c:\\users\\jlpar\\downloads\\carkmeans\\venv\\lib\\site-packages (from jedi>=0.16->ipython>=7.23.1->ipykernel->jupyter) (0.8.4)\n",
      "Requirement already satisfied: attrs>=22.2.0 in c:\\users\\jlpar\\downloads\\carkmeans\\venv\\lib\\site-packages (from jsonschema>=4.18.0->jupyterlab-server<3,>=2.27.1->jupyterlab->jupyter) (24.2.0)\n",
      "Requirement already satisfied: jsonschema-specifications>=2023.03.6 in c:\\users\\jlpar\\downloads\\carkmeans\\venv\\lib\\site-packages (from jsonschema>=4.18.0->jupyterlab-server<3,>=2.27.1->jupyterlab->jupyter) (2023.12.1)\n",
      "Requirement already satisfied: referencing>=0.28.4 in c:\\users\\jlpar\\downloads\\carkmeans\\venv\\lib\\site-packages (from jsonschema>=4.18.0->jupyterlab-server<3,>=2.27.1->jupyterlab->jupyter) (0.35.1)\n",
      "Requirement already satisfied: rpds-py>=0.7.1 in c:\\users\\jlpar\\downloads\\carkmeans\\venv\\lib\\site-packages (from jsonschema>=4.18.0->jupyterlab-server<3,>=2.27.1->jupyterlab->jupyter) (0.20.0)\n",
      "Requirement already satisfied: python-json-logger>=2.0.4 in c:\\users\\jlpar\\downloads\\carkmeans\\venv\\lib\\site-packages (from jupyter-events>=0.9.0->jupyter-server<3,>=2.4.0->jupyterlab->jupyter) (2.0.7)\n",
      "Requirement already satisfied: pyyaml>=5.3 in c:\\users\\jlpar\\downloads\\carkmeans\\venv\\lib\\site-packages (from jupyter-events>=0.9.0->jupyter-server<3,>=2.4.0->jupyterlab->jupyter) (6.0.2)\n",
      "Requirement already satisfied: rfc3339-validator in c:\\users\\jlpar\\downloads\\carkmeans\\venv\\lib\\site-packages (from jupyter-events>=0.9.0->jupyter-server<3,>=2.4.0->jupyterlab->jupyter) (0.1.4)\n",
      "Requirement already satisfied: rfc3986-validator>=0.1.1 in c:\\users\\jlpar\\downloads\\carkmeans\\venv\\lib\\site-packages (from jupyter-events>=0.9.0->jupyter-server<3,>=2.4.0->jupyterlab->jupyter) (0.1.1)\n",
      "Requirement already satisfied: charset-normalizer<4,>=2 in c:\\users\\jlpar\\downloads\\carkmeans\\venv\\lib\\site-packages (from requests>=2.31->jupyterlab-server<3,>=2.27.1->jupyterlab->jupyter) (3.3.2)\n",
      "Requirement already satisfied: urllib3<3,>=1.21.1 in c:\\users\\jlpar\\downloads\\carkmeans\\venv\\lib\\site-packages (from requests>=2.31->jupyterlab-server<3,>=2.27.1->jupyterlab->jupyter) (2.2.2)\n",
      "Requirement already satisfied: executing>=1.2.0 in c:\\users\\jlpar\\downloads\\carkmeans\\venv\\lib\\site-packages (from stack-data->ipython>=7.23.1->ipykernel->jupyter) (2.1.0)\n",
      "Requirement already satisfied: asttokens>=2.1.0 in c:\\users\\jlpar\\downloads\\carkmeans\\venv\\lib\\site-packages (from stack-data->ipython>=7.23.1->ipykernel->jupyter) (2.4.1)\n",
      "Requirement already satisfied: pure-eval in c:\\users\\jlpar\\downloads\\carkmeans\\venv\\lib\\site-packages (from stack-data->ipython>=7.23.1->ipykernel->jupyter) (0.2.3)\n",
      "Requirement already satisfied: fqdn in c:\\users\\jlpar\\downloads\\carkmeans\\venv\\lib\\site-packages (from jsonschema[format-nongpl]>=4.18.0->jupyter-events>=0.9.0->jupyter-server<3,>=2.4.0->jupyterlab->jupyter) (1.5.1)\n",
      "Requirement already satisfied: isoduration in c:\\users\\jlpar\\downloads\\carkmeans\\venv\\lib\\site-packages (from jsonschema[format-nongpl]>=4.18.0->jupyter-events>=0.9.0->jupyter-server<3,>=2.4.0->jupyterlab->jupyter) (20.11.0)\n",
      "Requirement already satisfied: jsonpointer>1.13 in c:\\users\\jlpar\\downloads\\carkmeans\\venv\\lib\\site-packages (from jsonschema[format-nongpl]>=4.18.0->jupyter-events>=0.9.0->jupyter-server<3,>=2.4.0->jupyterlab->jupyter) (3.0.0)\n",
      "Requirement already satisfied: uri-template in c:\\users\\jlpar\\downloads\\carkmeans\\venv\\lib\\site-packages (from jsonschema[format-nongpl]>=4.18.0->jupyter-events>=0.9.0->jupyter-server<3,>=2.4.0->jupyterlab->jupyter) (1.3.0)\n",
      "Requirement already satisfied: webcolors>=24.6.0 in c:\\users\\jlpar\\downloads\\carkmeans\\venv\\lib\\site-packages (from jsonschema[format-nongpl]>=4.18.0->jupyter-events>=0.9.0->jupyter-server<3,>=2.4.0->jupyterlab->jupyter) (24.8.0)\n",
      "Requirement already satisfied: cffi>=1.0.1 in c:\\users\\jlpar\\downloads\\carkmeans\\venv\\lib\\site-packages (from argon2-cffi-bindings->argon2-cffi>=21.1->jupyter-server<3,>=2.4.0->jupyterlab->jupyter) (1.17.0)\n",
      "Requirement already satisfied: pycparser in c:\\users\\jlpar\\downloads\\carkmeans\\venv\\lib\\site-packages (from cffi>=1.0.1->argon2-cffi-bindings->argon2-cffi>=21.1->jupyter-server<3,>=2.4.0->jupyterlab->jupyter) (2.22)\n",
      "Requirement already satisfied: arrow>=0.15.0 in c:\\users\\jlpar\\downloads\\carkmeans\\venv\\lib\\site-packages (from isoduration->jsonschema[format-nongpl]>=4.18.0->jupyter-events>=0.9.0->jupyter-server<3,>=2.4.0->jupyterlab->jupyter) (1.3.0)\n",
      "Requirement already satisfied: types-python-dateutil>=2.8.10 in c:\\users\\jlpar\\downloads\\carkmeans\\venv\\lib\\site-packages (from arrow>=0.15.0->isoduration->jsonschema[format-nongpl]>=4.18.0->jupyter-events>=0.9.0->jupyter-server<3,>=2.4.0->jupyterlab->jupyter) (2.9.0.20240821)\n"
     ]
    },
    {
     "name": "stderr",
     "output_type": "stream",
     "text": [
      "\n",
      "[notice] A new release of pip is available: 24.0 -> 24.2\n",
      "[notice] To update, run: python.exe -m pip install --upgrade pip\n"
     ]
    }
   ],
   "source": [
    "!pip install pandas\n",
    "!pip install matplotlib\n",
    "!pip install plotly.express\n",
    "!pip install scikit-learn\n",
    "!pip install numpy\n",
    "!pip install streamlit\n",
    "!pip install nbformat\n",
    "!pip install jupyter"
   ]
  },
  {
   "cell_type": "code",
   "execution_count": 2,
   "metadata": {},
   "outputs": [],
   "source": [
    "import pandas as pd\n",
    "import matplotlib.pyplot as plt\n",
    "import plotly.graph_objects as go\n",
    "import plotly.express as px\n",
    "import numpy as np\n",
    "from sklearn.pipeline import Pipeline\n",
    "from sklearn.preprocessing import StandardScaler\n",
    "from sklearn.decomposition import PCA\n",
    "from sklearn.cluster import KMeans\n",
    "import streamlit as st"
   ]
  },
  {
   "cell_type": "code",
   "execution_count": 3,
   "metadata": {},
   "outputs": [
    {
     "data": {
      "text/html": [
       "<div>\n",
       "<style scoped>\n",
       "    .dataframe tbody tr th:only-of-type {\n",
       "        vertical-align: middle;\n",
       "    }\n",
       "\n",
       "    .dataframe tbody tr th {\n",
       "        vertical-align: top;\n",
       "    }\n",
       "\n",
       "    .dataframe thead th {\n",
       "        text-align: right;\n",
       "    }\n",
       "</style>\n",
       "<table border=\"1\" class=\"dataframe\">\n",
       "  <thead>\n",
       "    <tr style=\"text-align: right;\">\n",
       "      <th></th>\n",
       "      <th>Make</th>\n",
       "      <th>Model</th>\n",
       "      <th>Year</th>\n",
       "      <th>Engine Fuel Type</th>\n",
       "      <th>Engine HP</th>\n",
       "      <th>Engine Cylinders</th>\n",
       "      <th>Transmission Type</th>\n",
       "      <th>Driven_Wheels</th>\n",
       "      <th>Number of Doors</th>\n",
       "      <th>Market Category</th>\n",
       "      <th>Vehicle Size</th>\n",
       "      <th>Vehicle Style</th>\n",
       "      <th>highway MPG</th>\n",
       "      <th>city mpg</th>\n",
       "      <th>Popularity</th>\n",
       "      <th>MSRP</th>\n",
       "    </tr>\n",
       "  </thead>\n",
       "  <tbody>\n",
       "    <tr>\n",
       "      <th>0</th>\n",
       "      <td>BMW</td>\n",
       "      <td>1 Series M</td>\n",
       "      <td>2011</td>\n",
       "      <td>premium unleaded (required)</td>\n",
       "      <td>335.0</td>\n",
       "      <td>6.0</td>\n",
       "      <td>MANUAL</td>\n",
       "      <td>rear wheel drive</td>\n",
       "      <td>2.0</td>\n",
       "      <td>Factory Tuner,Luxury,High-Performance</td>\n",
       "      <td>Compact</td>\n",
       "      <td>Coupe</td>\n",
       "      <td>26</td>\n",
       "      <td>19</td>\n",
       "      <td>3916</td>\n",
       "      <td>46135</td>\n",
       "    </tr>\n",
       "    <tr>\n",
       "      <th>1</th>\n",
       "      <td>BMW</td>\n",
       "      <td>1 Series</td>\n",
       "      <td>2011</td>\n",
       "      <td>premium unleaded (required)</td>\n",
       "      <td>300.0</td>\n",
       "      <td>6.0</td>\n",
       "      <td>MANUAL</td>\n",
       "      <td>rear wheel drive</td>\n",
       "      <td>2.0</td>\n",
       "      <td>Luxury,Performance</td>\n",
       "      <td>Compact</td>\n",
       "      <td>Convertible</td>\n",
       "      <td>28</td>\n",
       "      <td>19</td>\n",
       "      <td>3916</td>\n",
       "      <td>40650</td>\n",
       "    </tr>\n",
       "    <tr>\n",
       "      <th>2</th>\n",
       "      <td>BMW</td>\n",
       "      <td>1 Series</td>\n",
       "      <td>2011</td>\n",
       "      <td>premium unleaded (required)</td>\n",
       "      <td>300.0</td>\n",
       "      <td>6.0</td>\n",
       "      <td>MANUAL</td>\n",
       "      <td>rear wheel drive</td>\n",
       "      <td>2.0</td>\n",
       "      <td>Luxury,High-Performance</td>\n",
       "      <td>Compact</td>\n",
       "      <td>Coupe</td>\n",
       "      <td>28</td>\n",
       "      <td>20</td>\n",
       "      <td>3916</td>\n",
       "      <td>36350</td>\n",
       "    </tr>\n",
       "    <tr>\n",
       "      <th>3</th>\n",
       "      <td>BMW</td>\n",
       "      <td>1 Series</td>\n",
       "      <td>2011</td>\n",
       "      <td>premium unleaded (required)</td>\n",
       "      <td>230.0</td>\n",
       "      <td>6.0</td>\n",
       "      <td>MANUAL</td>\n",
       "      <td>rear wheel drive</td>\n",
       "      <td>2.0</td>\n",
       "      <td>Luxury,Performance</td>\n",
       "      <td>Compact</td>\n",
       "      <td>Coupe</td>\n",
       "      <td>28</td>\n",
       "      <td>18</td>\n",
       "      <td>3916</td>\n",
       "      <td>29450</td>\n",
       "    </tr>\n",
       "    <tr>\n",
       "      <th>4</th>\n",
       "      <td>BMW</td>\n",
       "      <td>1 Series</td>\n",
       "      <td>2011</td>\n",
       "      <td>premium unleaded (required)</td>\n",
       "      <td>230.0</td>\n",
       "      <td>6.0</td>\n",
       "      <td>MANUAL</td>\n",
       "      <td>rear wheel drive</td>\n",
       "      <td>2.0</td>\n",
       "      <td>Luxury</td>\n",
       "      <td>Compact</td>\n",
       "      <td>Convertible</td>\n",
       "      <td>28</td>\n",
       "      <td>18</td>\n",
       "      <td>3916</td>\n",
       "      <td>34500</td>\n",
       "    </tr>\n",
       "  </tbody>\n",
       "</table>\n",
       "</div>"
      ],
      "text/plain": [
       "  Make       Model  Year             Engine Fuel Type  Engine HP  \\\n",
       "0  BMW  1 Series M  2011  premium unleaded (required)      335.0   \n",
       "1  BMW    1 Series  2011  premium unleaded (required)      300.0   \n",
       "2  BMW    1 Series  2011  premium unleaded (required)      300.0   \n",
       "3  BMW    1 Series  2011  premium unleaded (required)      230.0   \n",
       "4  BMW    1 Series  2011  premium unleaded (required)      230.0   \n",
       "\n",
       "   Engine Cylinders Transmission Type     Driven_Wheels  Number of Doors  \\\n",
       "0               6.0            MANUAL  rear wheel drive              2.0   \n",
       "1               6.0            MANUAL  rear wheel drive              2.0   \n",
       "2               6.0            MANUAL  rear wheel drive              2.0   \n",
       "3               6.0            MANUAL  rear wheel drive              2.0   \n",
       "4               6.0            MANUAL  rear wheel drive              2.0   \n",
       "\n",
       "                         Market Category Vehicle Size Vehicle Style  \\\n",
       "0  Factory Tuner,Luxury,High-Performance      Compact         Coupe   \n",
       "1                     Luxury,Performance      Compact   Convertible   \n",
       "2                Luxury,High-Performance      Compact         Coupe   \n",
       "3                     Luxury,Performance      Compact         Coupe   \n",
       "4                                 Luxury      Compact   Convertible   \n",
       "\n",
       "   highway MPG  city mpg  Popularity   MSRP  \n",
       "0           26        19        3916  46135  \n",
       "1           28        19        3916  40650  \n",
       "2           28        20        3916  36350  \n",
       "3           28        18        3916  29450  \n",
       "4           28        18        3916  34500  "
      ]
     },
     "execution_count": 3,
     "metadata": {},
     "output_type": "execute_result"
    }
   ],
   "source": [
    "data = pd.read_csv('data.csv')\n",
    "data.head()"
   ]
  },
  {
   "cell_type": "code",
   "execution_count": 4,
   "metadata": {},
   "outputs": [],
   "source": [
    "data0 = data.dropna() #dados sem nulos"
   ]
  },
  {
   "cell_type": "code",
   "execution_count": 5,
   "metadata": {},
   "outputs": [
    {
     "name": "stderr",
     "output_type": "stream",
     "text": [
      "C:\\Users\\jlpar\\AppData\\Local\\Temp\\ipykernel_15192\\3646304218.py:1: SettingWithCopyWarning: \n",
      "A value is trying to be set on a copy of a slice from a DataFrame.\n",
      "Try using .loc[row_indexer,col_indexer] = value instead\n",
      "\n",
      "See the caveats in the documentation: https://pandas.pydata.org/pandas-docs/stable/user_guide/indexing.html#returning-a-view-versus-a-copy\n",
      "  data0['Engine Cylinders'] = data0.iloc[:,5].astype(int) # parâmetros da função: iloc[qtd de linhas, posição da coluna]\n",
      "C:\\Users\\jlpar\\AppData\\Local\\Temp\\ipykernel_15192\\3646304218.py:2: SettingWithCopyWarning: \n",
      "A value is trying to be set on a copy of a slice from a DataFrame.\n",
      "Try using .loc[row_indexer,col_indexer] = value instead\n",
      "\n",
      "See the caveats in the documentation: https://pandas.pydata.org/pandas-docs/stable/user_guide/indexing.html#returning-a-view-versus-a-copy\n",
      "  data0['Number of Doors'] = data0.iloc[:, 8].astype(int)\n"
     ]
    }
   ],
   "source": [
    "data0['Engine Cylinders'] = data0.iloc[:,5].astype(int) # parâmetros da função: iloc[qtd de linhas, posição da coluna]\n",
    "data0['Number of Doors'] = data0.iloc[:, 8].astype(int)"
   ]
  },
  {
   "cell_type": "code",
   "execution_count": 6,
   "metadata": {},
   "outputs": [
    {
     "name": "stderr",
     "output_type": "stream",
     "text": [
      "C:\\Users\\jlpar\\AppData\\Local\\Temp\\ipykernel_15192\\1738942323.py:1: SettingWithCopyWarning: \n",
      "A value is trying to be set on a copy of a slice from a DataFrame.\n",
      "Try using .loc[row_indexer,col_indexer] = value instead\n",
      "\n",
      "See the caveats in the documentation: https://pandas.pydata.org/pandas-docs/stable/user_guide/indexing.html#returning-a-view-versus-a-copy\n",
      "  data0['Car'] = (data0['Make'] + ' ' + data0['Model'])\n",
      "C:\\Users\\jlpar\\AppData\\Local\\Temp\\ipykernel_15192\\1738942323.py:2: SettingWithCopyWarning: \n",
      "A value is trying to be set on a copy of a slice from a DataFrame\n",
      "\n",
      "See the caveats in the documentation: https://pandas.pydata.org/pandas-docs/stable/user_guide/indexing.html#returning-a-view-versus-a-copy\n",
      "  data0.drop(['Make', 'Model'], axis=1, inplace=True)\n"
     ]
    }
   ],
   "source": [
    "data0['Car'] = (data0['Make'] + ' ' + data0['Model'])\n",
    "data0.drop(['Make', 'Model'], axis=1, inplace=True)"
   ]
  },
  {
   "cell_type": "code",
   "execution_count": 7,
   "metadata": {},
   "outputs": [
    {
     "data": {
      "text/html": [
       "<div>\n",
       "<style scoped>\n",
       "    .dataframe tbody tr th:only-of-type {\n",
       "        vertical-align: middle;\n",
       "    }\n",
       "\n",
       "    .dataframe tbody tr th {\n",
       "        vertical-align: top;\n",
       "    }\n",
       "\n",
       "    .dataframe thead th {\n",
       "        text-align: right;\n",
       "    }\n",
       "</style>\n",
       "<table border=\"1\" class=\"dataframe\">\n",
       "  <thead>\n",
       "    <tr style=\"text-align: right;\">\n",
       "      <th></th>\n",
       "      <th>Car</th>\n",
       "      <th>Year</th>\n",
       "      <th>Engine Fuel Type</th>\n",
       "      <th>Engine HP</th>\n",
       "      <th>Engine Cylinders</th>\n",
       "      <th>Transmission Type</th>\n",
       "      <th>Driven_Wheels</th>\n",
       "      <th>Number of Doors</th>\n",
       "      <th>Market Category</th>\n",
       "      <th>Vehicle Size</th>\n",
       "      <th>Vehicle Style</th>\n",
       "      <th>highway MPG</th>\n",
       "      <th>city mpg</th>\n",
       "      <th>Popularity</th>\n",
       "      <th>MSRP</th>\n",
       "    </tr>\n",
       "  </thead>\n",
       "  <tbody>\n",
       "    <tr>\n",
       "      <th>0</th>\n",
       "      <td>BMW 1 Series M</td>\n",
       "      <td>2011</td>\n",
       "      <td>premium unleaded (required)</td>\n",
       "      <td>335.0</td>\n",
       "      <td>6</td>\n",
       "      <td>MANUAL</td>\n",
       "      <td>rear wheel drive</td>\n",
       "      <td>2</td>\n",
       "      <td>Factory Tuner,Luxury,High-Performance</td>\n",
       "      <td>Compact</td>\n",
       "      <td>Coupe</td>\n",
       "      <td>26</td>\n",
       "      <td>19</td>\n",
       "      <td>3916</td>\n",
       "      <td>46135</td>\n",
       "    </tr>\n",
       "    <tr>\n",
       "      <th>1</th>\n",
       "      <td>BMW 1 Series</td>\n",
       "      <td>2011</td>\n",
       "      <td>premium unleaded (required)</td>\n",
       "      <td>300.0</td>\n",
       "      <td>6</td>\n",
       "      <td>MANUAL</td>\n",
       "      <td>rear wheel drive</td>\n",
       "      <td>2</td>\n",
       "      <td>Luxury,Performance</td>\n",
       "      <td>Compact</td>\n",
       "      <td>Convertible</td>\n",
       "      <td>28</td>\n",
       "      <td>19</td>\n",
       "      <td>3916</td>\n",
       "      <td>40650</td>\n",
       "    </tr>\n",
       "    <tr>\n",
       "      <th>2</th>\n",
       "      <td>BMW 1 Series</td>\n",
       "      <td>2011</td>\n",
       "      <td>premium unleaded (required)</td>\n",
       "      <td>300.0</td>\n",
       "      <td>6</td>\n",
       "      <td>MANUAL</td>\n",
       "      <td>rear wheel drive</td>\n",
       "      <td>2</td>\n",
       "      <td>Luxury,High-Performance</td>\n",
       "      <td>Compact</td>\n",
       "      <td>Coupe</td>\n",
       "      <td>28</td>\n",
       "      <td>20</td>\n",
       "      <td>3916</td>\n",
       "      <td>36350</td>\n",
       "    </tr>\n",
       "    <tr>\n",
       "      <th>3</th>\n",
       "      <td>BMW 1 Series</td>\n",
       "      <td>2011</td>\n",
       "      <td>premium unleaded (required)</td>\n",
       "      <td>230.0</td>\n",
       "      <td>6</td>\n",
       "      <td>MANUAL</td>\n",
       "      <td>rear wheel drive</td>\n",
       "      <td>2</td>\n",
       "      <td>Luxury,Performance</td>\n",
       "      <td>Compact</td>\n",
       "      <td>Coupe</td>\n",
       "      <td>28</td>\n",
       "      <td>18</td>\n",
       "      <td>3916</td>\n",
       "      <td>29450</td>\n",
       "    </tr>\n",
       "    <tr>\n",
       "      <th>4</th>\n",
       "      <td>BMW 1 Series</td>\n",
       "      <td>2011</td>\n",
       "      <td>premium unleaded (required)</td>\n",
       "      <td>230.0</td>\n",
       "      <td>6</td>\n",
       "      <td>MANUAL</td>\n",
       "      <td>rear wheel drive</td>\n",
       "      <td>2</td>\n",
       "      <td>Luxury</td>\n",
       "      <td>Compact</td>\n",
       "      <td>Convertible</td>\n",
       "      <td>28</td>\n",
       "      <td>18</td>\n",
       "      <td>3916</td>\n",
       "      <td>34500</td>\n",
       "    </tr>\n",
       "  </tbody>\n",
       "</table>\n",
       "</div>"
      ],
      "text/plain": [
       "              Car  Year             Engine Fuel Type  Engine HP  \\\n",
       "0  BMW 1 Series M  2011  premium unleaded (required)      335.0   \n",
       "1    BMW 1 Series  2011  premium unleaded (required)      300.0   \n",
       "2    BMW 1 Series  2011  premium unleaded (required)      300.0   \n",
       "3    BMW 1 Series  2011  premium unleaded (required)      230.0   \n",
       "4    BMW 1 Series  2011  premium unleaded (required)      230.0   \n",
       "\n",
       "   Engine Cylinders Transmission Type     Driven_Wheels  Number of Doors  \\\n",
       "0                 6            MANUAL  rear wheel drive                2   \n",
       "1                 6            MANUAL  rear wheel drive                2   \n",
       "2                 6            MANUAL  rear wheel drive                2   \n",
       "3                 6            MANUAL  rear wheel drive                2   \n",
       "4                 6            MANUAL  rear wheel drive                2   \n",
       "\n",
       "                         Market Category Vehicle Size Vehicle Style  \\\n",
       "0  Factory Tuner,Luxury,High-Performance      Compact         Coupe   \n",
       "1                     Luxury,Performance      Compact   Convertible   \n",
       "2                Luxury,High-Performance      Compact         Coupe   \n",
       "3                     Luxury,Performance      Compact         Coupe   \n",
       "4                                 Luxury      Compact   Convertible   \n",
       "\n",
       "   highway MPG  city mpg  Popularity   MSRP  \n",
       "0           26        19        3916  46135  \n",
       "1           28        19        3916  40650  \n",
       "2           28        20        3916  36350  \n",
       "3           28        18        3916  29450  \n",
       "4           28        18        3916  34500  "
      ]
     },
     "execution_count": 7,
     "metadata": {},
     "output_type": "execute_result"
    }
   ],
   "source": [
    "data0 = data0[['Car', 'Year', 'Engine Fuel Type', 'Engine HP', 'Engine Cylinders',\n",
    "       'Transmission Type', 'Driven_Wheels', 'Number of Doors',\n",
    "       'Market Category', 'Vehicle Size', 'Vehicle Style', 'highway MPG',\n",
    "       'city mpg', 'Popularity', 'MSRP']]\n",
    "data0.head()"
   ]
  },
  {
   "cell_type": "code",
   "execution_count": 129,
   "metadata": {},
   "outputs": [
    {
     "data": {
      "text/plain": [
       "Engine Fuel Type\n",
       "regular unleaded                                3507\n",
       "premium unleaded (required)                     1973\n",
       "premium unleaded (recommended)                  1477\n",
       "flex-fuel (unleaded/E85)                         881\n",
       "diesel                                           153\n",
       "flex-fuel (premium unleaded required/E85)         54\n",
       "flex-fuel (premium unleaded recommended/E85)      26\n",
       "electric                                          13\n",
       "Name: count, dtype: int64"
      ]
     },
     "execution_count": 129,
     "metadata": {},
     "output_type": "execute_result"
    }
   ],
   "source": [
    "data0['Engine Fuel Type'].value_counts()"
   ]
  },
  {
   "cell_type": "code",
   "execution_count": 8,
   "metadata": {},
   "outputs": [],
   "source": [
    "data0.to_csv('data0.csv', index=False)"
   ]
  },
  {
   "cell_type": "code",
   "execution_count": 9,
   "metadata": {},
   "outputs": [
    {
     "data": {
      "text/html": [
       "<div>\n",
       "<style scoped>\n",
       "    .dataframe tbody tr th:only-of-type {\n",
       "        vertical-align: middle;\n",
       "    }\n",
       "\n",
       "    .dataframe tbody tr th {\n",
       "        vertical-align: top;\n",
       "    }\n",
       "\n",
       "    .dataframe thead th {\n",
       "        text-align: right;\n",
       "    }\n",
       "</style>\n",
       "<table border=\"1\" class=\"dataframe\">\n",
       "  <thead>\n",
       "    <tr style=\"text-align: right;\">\n",
       "      <th></th>\n",
       "      <th>Year</th>\n",
       "      <th>Engine HP</th>\n",
       "      <th>Engine Cylinders</th>\n",
       "      <th>Number of Doors</th>\n",
       "      <th>highway MPG</th>\n",
       "      <th>city mpg</th>\n",
       "      <th>Popularity</th>\n",
       "      <th>MSRP</th>\n",
       "    </tr>\n",
       "  </thead>\n",
       "  <tbody>\n",
       "    <tr>\n",
       "      <th>0</th>\n",
       "      <td>2011</td>\n",
       "      <td>335.0</td>\n",
       "      <td>6</td>\n",
       "      <td>2</td>\n",
       "      <td>26</td>\n",
       "      <td>19</td>\n",
       "      <td>3916</td>\n",
       "      <td>46135</td>\n",
       "    </tr>\n",
       "    <tr>\n",
       "      <th>1</th>\n",
       "      <td>2011</td>\n",
       "      <td>300.0</td>\n",
       "      <td>6</td>\n",
       "      <td>2</td>\n",
       "      <td>28</td>\n",
       "      <td>19</td>\n",
       "      <td>3916</td>\n",
       "      <td>40650</td>\n",
       "    </tr>\n",
       "    <tr>\n",
       "      <th>2</th>\n",
       "      <td>2011</td>\n",
       "      <td>300.0</td>\n",
       "      <td>6</td>\n",
       "      <td>2</td>\n",
       "      <td>28</td>\n",
       "      <td>20</td>\n",
       "      <td>3916</td>\n",
       "      <td>36350</td>\n",
       "    </tr>\n",
       "  </tbody>\n",
       "</table>\n",
       "</div>"
      ],
      "text/plain": [
       "   Year  Engine HP  Engine Cylinders  Number of Doors  highway MPG  city mpg  \\\n",
       "0  2011      335.0                 6                2           26        19   \n",
       "1  2011      300.0                 6                2           28        19   \n",
       "2  2011      300.0                 6                2           28        20   \n",
       "\n",
       "   Popularity   MSRP  \n",
       "0        3916  46135  \n",
       "1        3916  40650  \n",
       "2        3916  36350  "
      ]
     },
     "execution_count": 9,
     "metadata": {},
     "output_type": "execute_result"
    }
   ],
   "source": [
    "data1 = data0[['Year', 'Engine HP', 'Engine Cylinders', 'Number of Doors', 'highway MPG', 'city mpg', 'Popularity', 'MSRP']]\n",
    "data1.head(3)"
   ]
  },
  {
   "cell_type": "code",
   "execution_count": 10,
   "metadata": {},
   "outputs": [],
   "source": [
    "data1.to_csv('data1.csv', index=False)"
   ]
  },
  {
   "cell_type": "code",
   "execution_count": 127,
   "metadata": {},
   "outputs": [
    {
     "data": {
      "application/vnd.plotly.v1+json": {
       "config": {
        "plotlyServerURL": "https://plot.ly"
       },
       "data": [
        {
         "coloraxis": "coloraxis",
         "hovertemplate": "x: %{x}<br>y: %{y}<br>color: %{z}<extra></extra>",
         "name": "0",
         "texttemplate": "%{z}",
         "type": "heatmap",
         "x": [
          "Year",
          "Engine HP",
          "Engine Cylinders",
          "Number of Doors",
          "highway MPG",
          "city mpg",
          "Popularity",
          "MSRP",
          "cluster_pca"
         ],
         "xaxis": "x",
         "y": [
          "Year",
          "Engine HP",
          "Engine Cylinders",
          "Number of Doors",
          "highway MPG",
          "city mpg",
          "Popularity",
          "MSRP",
          "cluster_pca"
         ],
         "yaxis": "y",
         "z": [
          [
           1,
           0.24,
           -0.05,
           0.18,
           0.22,
           0.18,
           0.12,
           0.13,
           -0.31
          ],
          [
           0.24,
           1,
           0.81,
           -0.2,
           -0.47,
           -0.51,
           0.04,
           0.66,
           0.03
          ],
          [
           -0.05,
           0.81,
           1,
           -0.18,
           -0.6,
           -0.62,
           0.01,
           0.59,
           0.12
          ],
          [
           0.18,
           -0.2,
           -0.18,
           1,
           0.1,
           0.14,
           -0.04,
           -0.18,
           -0.09
          ],
          [
           0.22,
           -0.47,
           -0.6,
           0.1,
           1,
           0.82,
           0.03,
           -0.26,
           -0.11
          ],
          [
           0.18,
           -0.51,
           -0.62,
           0.14,
           0.82,
           1,
           0.04,
           -0.27,
           -0.08
          ],
          [
           0.12,
           0.04,
           0.01,
           -0.04,
           0.03,
           0.04,
           1,
           -0.05,
           -0.07
          ],
          [
           0.13,
           0.66,
           0.59,
           -0.18,
           -0.26,
           -0.27,
           -0.05,
           1,
           -0.05
          ],
          [
           -0.31,
           0.03,
           0.12,
           -0.09,
           -0.11,
           -0.08,
           -0.07,
           -0.05,
           1
          ]
         ]
        }
       ],
       "layout": {
        "coloraxis": {
         "colorscale": [
          [
           0,
           "#0d0887"
          ],
          [
           0.1111111111111111,
           "#46039f"
          ],
          [
           0.2222222222222222,
           "#7201a8"
          ],
          [
           0.3333333333333333,
           "#9c179e"
          ],
          [
           0.4444444444444444,
           "#bd3786"
          ],
          [
           0.5555555555555556,
           "#d8576b"
          ],
          [
           0.6666666666666666,
           "#ed7953"
          ],
          [
           0.7777777777777778,
           "#fb9f3a"
          ],
          [
           0.8888888888888888,
           "#fdca26"
          ],
          [
           1,
           "#f0f921"
          ]
         ]
        },
        "margin": {
         "t": 60
        },
        "template": {
         "data": {
          "candlestick": [
           {
            "decreasing": {
             "line": {
              "color": "#000033"
             }
            },
            "increasing": {
             "line": {
              "color": "#000032"
             }
            },
            "type": "candlestick"
           }
          ],
          "contour": [
           {
            "colorscale": [
             [
              0,
              "#000011"
             ],
             [
              0.1111111111111111,
              "#000012"
             ],
             [
              0.2222222222222222,
              "#000013"
             ],
             [
              0.3333333333333333,
              "#000014"
             ],
             [
              0.4444444444444444,
              "#000015"
             ],
             [
              0.5555555555555556,
              "#000016"
             ],
             [
              0.6666666666666666,
              "#000017"
             ],
             [
              0.7777777777777778,
              "#000018"
             ],
             [
              0.8888888888888888,
              "#000019"
             ],
             [
              1,
              "#000020"
             ]
            ],
            "type": "contour"
           }
          ],
          "contourcarpet": [
           {
            "colorscale": [
             [
              0,
              "#000011"
             ],
             [
              0.1111111111111111,
              "#000012"
             ],
             [
              0.2222222222222222,
              "#000013"
             ],
             [
              0.3333333333333333,
              "#000014"
             ],
             [
              0.4444444444444444,
              "#000015"
             ],
             [
              0.5555555555555556,
              "#000016"
             ],
             [
              0.6666666666666666,
              "#000017"
             ],
             [
              0.7777777777777778,
              "#000018"
             ],
             [
              0.8888888888888888,
              "#000019"
             ],
             [
              1,
              "#000020"
             ]
            ],
            "type": "contourcarpet"
           }
          ],
          "heatmap": [
           {
            "colorscale": [
             [
              0,
              "#000011"
             ],
             [
              0.1111111111111111,
              "#000012"
             ],
             [
              0.2222222222222222,
              "#000013"
             ],
             [
              0.3333333333333333,
              "#000014"
             ],
             [
              0.4444444444444444,
              "#000015"
             ],
             [
              0.5555555555555556,
              "#000016"
             ],
             [
              0.6666666666666666,
              "#000017"
             ],
             [
              0.7777777777777778,
              "#000018"
             ],
             [
              0.8888888888888888,
              "#000019"
             ],
             [
              1,
              "#000020"
             ]
            ],
            "type": "heatmap"
           }
          ],
          "histogram2d": [
           {
            "colorscale": [
             [
              0,
              "#000011"
             ],
             [
              0.1111111111111111,
              "#000012"
             ],
             [
              0.2222222222222222,
              "#000013"
             ],
             [
              0.3333333333333333,
              "#000014"
             ],
             [
              0.4444444444444444,
              "#000015"
             ],
             [
              0.5555555555555556,
              "#000016"
             ],
             [
              0.6666666666666666,
              "#000017"
             ],
             [
              0.7777777777777778,
              "#000018"
             ],
             [
              0.8888888888888888,
              "#000019"
             ],
             [
              1,
              "#000020"
             ]
            ],
            "type": "histogram2d"
           }
          ],
          "icicle": [
           {
            "textfont": {
             "color": "white"
            },
            "type": "icicle"
           }
          ],
          "sankey": [
           {
            "textfont": {
             "color": "#000036"
            },
            "type": "sankey"
           }
          ],
          "scatter": [
           {
            "marker": {
             "line": {
              "width": 0
             }
            },
            "type": "scatter"
           }
          ],
          "table": [
           {
            "cells": {
             "fill": {
              "color": "#000038"
             },
             "font": {
              "color": "#000037"
             },
             "line": {
              "color": "#000039"
             }
            },
            "header": {
             "fill": {
              "color": "#000040"
             },
             "font": {
              "color": "#000036"
             },
             "line": {
              "color": "#000039"
             }
            },
            "type": "table"
           }
          ],
          "waterfall": [
           {
            "connector": {
             "line": {
              "color": "#000036",
              "width": 2
             }
            },
            "decreasing": {
             "marker": {
              "color": "#000033"
             }
            },
            "increasing": {
             "marker": {
              "color": "#000032"
             }
            },
            "totals": {
             "marker": {
              "color": "#000034"
             }
            },
            "type": "waterfall"
           }
          ]
         },
         "layout": {
          "coloraxis": {
           "colorscale": [
            [
             0,
             "#000011"
            ],
            [
             0.1111111111111111,
             "#000012"
            ],
            [
             0.2222222222222222,
             "#000013"
            ],
            [
             0.3333333333333333,
             "#000014"
            ],
            [
             0.4444444444444444,
             "#000015"
            ],
            [
             0.5555555555555556,
             "#000016"
            ],
            [
             0.6666666666666666,
             "#000017"
            ],
            [
             0.7777777777777778,
             "#000018"
            ],
            [
             0.8888888888888888,
             "#000019"
            ],
            [
             1,
             "#000020"
            ]
           ]
          },
          "colorscale": {
           "diverging": [
            [
             0,
             "#000021"
            ],
            [
             0.1,
             "#000022"
            ],
            [
             0.2,
             "#000023"
            ],
            [
             0.3,
             "#000024"
            ],
            [
             0.4,
             "#000025"
            ],
            [
             0.5,
             "#000026"
            ],
            [
             0.6,
             "#000027"
            ],
            [
             0.7,
             "#000028"
            ],
            [
             0.8,
             "#000029"
            ],
            [
             0.9,
             "#000030"
            ],
            [
             1,
             "#000031"
            ]
           ],
           "sequential": [
            [
             0,
             "#000011"
            ],
            [
             0.1111111111111111,
             "#000012"
            ],
            [
             0.2222222222222222,
             "#000013"
            ],
            [
             0.3333333333333333,
             "#000014"
            ],
            [
             0.4444444444444444,
             "#000015"
            ],
            [
             0.5555555555555556,
             "#000016"
            ],
            [
             0.6666666666666666,
             "#000017"
            ],
            [
             0.7777777777777778,
             "#000018"
            ],
            [
             0.8888888888888888,
             "#000019"
            ],
            [
             1,
             "#000020"
            ]
           ],
           "sequentialminus": [
            [
             0,
             "#000011"
            ],
            [
             0.1111111111111111,
             "#000012"
            ],
            [
             0.2222222222222222,
             "#000013"
            ],
            [
             0.3333333333333333,
             "#000014"
            ],
            [
             0.4444444444444444,
             "#000015"
            ],
            [
             0.5555555555555556,
             "#000016"
            ],
            [
             0.6666666666666666,
             "#000017"
            ],
            [
             0.7777777777777778,
             "#000018"
            ],
            [
             0.8888888888888888,
             "#000019"
            ],
            [
             1,
             "#000020"
            ]
           ]
          },
          "colorway": [
           "#000001",
           "#000002",
           "#000003",
           "#000004",
           "#000005",
           "#000006",
           "#000007",
           "#000008",
           "#000009",
           "#000010"
          ]
         }
        },
        "xaxis": {
         "anchor": "y",
         "constrain": "domain",
         "domain": [
          0,
          1
         ],
         "scaleanchor": "y"
        },
        "yaxis": {
         "anchor": "x",
         "autorange": "reversed",
         "constrain": "domain",
         "domain": [
          0,
          1
         ]
        }
       }
      }
     },
     "metadata": {},
     "output_type": "display_data"
    }
   ],
   "source": [
    "fig = px.imshow(data1.corr().round(2), color_continuous_scale='plasma', text_auto=True)\n",
    "fig.show()"
   ]
  },
  {
   "cell_type": "code",
   "execution_count": 12,
   "metadata": {},
   "outputs": [],
   "source": [
    "SEED = 12345\n",
    "np.random.seed(SEED)\n",
    "\n",
    "pca_pipeline = Pipeline([('scaler', StandardScaler()), ('PCA', PCA(n_components=2, random_state=SEED))])"
   ]
  },
  {
   "cell_type": "code",
   "execution_count": 13,
   "metadata": {},
   "outputs": [],
   "source": [
    "data1_embedding_pca = pca_pipeline.fit_transform(data1)\n",
    "projection = pd.DataFrame(columns=['x', 'y'], data=data1_embedding_pca)"
   ]
  },
  {
   "cell_type": "code",
   "execution_count": 14,
   "metadata": {},
   "outputs": [
    {
     "data": {
      "text/html": [
       "<div>\n",
       "<style scoped>\n",
       "    .dataframe tbody tr th:only-of-type {\n",
       "        vertical-align: middle;\n",
       "    }\n",
       "\n",
       "    .dataframe tbody tr th {\n",
       "        vertical-align: top;\n",
       "    }\n",
       "\n",
       "    .dataframe thead th {\n",
       "        text-align: right;\n",
       "    }\n",
       "</style>\n",
       "<table border=\"1\" class=\"dataframe\">\n",
       "  <thead>\n",
       "    <tr style=\"text-align: right;\">\n",
       "      <th></th>\n",
       "      <th>x</th>\n",
       "      <th>y</th>\n",
       "    </tr>\n",
       "  </thead>\n",
       "  <tbody>\n",
       "    <tr>\n",
       "      <th>0</th>\n",
       "      <td>0.585254</td>\n",
       "      <td>0.161046</td>\n",
       "    </tr>\n",
       "    <tr>\n",
       "      <th>1</th>\n",
       "      <td>0.302880</td>\n",
       "      <td>0.121462</td>\n",
       "    </tr>\n",
       "  </tbody>\n",
       "</table>\n",
       "</div>"
      ],
      "text/plain": [
       "          x         y\n",
       "0  0.585254  0.161046\n",
       "1  0.302880  0.121462"
      ]
     },
     "execution_count": 14,
     "metadata": {},
     "output_type": "execute_result"
    }
   ],
   "source": [
    "projection.head(2)"
   ]
  },
  {
   "cell_type": "code",
   "execution_count": 15,
   "metadata": {},
   "outputs": [
    {
     "name": "stdout",
     "output_type": "stream",
     "text": [
      "Initialization complete\n",
      "Iteration 0, inertia 15141.696551517505.\n",
      "Iteration 1, inertia 12406.803607743595.\n",
      "Iteration 2, inertia 12067.32061004423.\n",
      "Iteration 3, inertia 11978.683509492515.\n",
      "Iteration 4, inertia 11886.731284014862.\n",
      "Iteration 5, inertia 11813.490985531605.\n",
      "Iteration 6, inertia 11728.679227248898.\n",
      "Iteration 7, inertia 11648.522121218157.\n",
      "Iteration 8, inertia 11609.754098654656.\n",
      "Iteration 9, inertia 11602.055404793507.\n",
      "Iteration 10, inertia 11600.425242769808.\n",
      "Iteration 11, inertia 11599.887187635864.\n",
      "Converged at iteration 11: center shift 0.00014676302822039304 within tolerance 0.00023736634438564807.\n"
     ]
    },
    {
     "name": "stderr",
     "output_type": "stream",
     "text": [
      "C:\\Users\\jlpar\\AppData\\Local\\Temp\\ipykernel_15192\\400345270.py:3: SettingWithCopyWarning:\n",
      "\n",
      "\n",
      "A value is trying to be set on a copy of a slice from a DataFrame.\n",
      "Try using .loc[row_indexer,col_indexer] = value instead\n",
      "\n",
      "See the caveats in the documentation: https://pandas.pydata.org/pandas-docs/stable/user_guide/indexing.html#returning-a-view-versus-a-copy\n",
      "\n"
     ]
    }
   ],
   "source": [
    "kmeans_pca = KMeans(n_clusters=5, verbose=True, random_state=SEED)\n",
    "kmeans_pca.fit(projection)\n",
    "data1['cluster_pca'] = kmeans_pca.predict(projection) # define a \"localização\" do cluster de cada linha do dataset\n",
    "projection['cluster_pca'] = kmeans_pca.predict(projection)"
   ]
  },
  {
   "cell_type": "code",
   "execution_count": 16,
   "metadata": {},
   "outputs": [
    {
     "data": {
      "text/html": [
       "<div>\n",
       "<style scoped>\n",
       "    .dataframe tbody tr th:only-of-type {\n",
       "        vertical-align: middle;\n",
       "    }\n",
       "\n",
       "    .dataframe tbody tr th {\n",
       "        vertical-align: top;\n",
       "    }\n",
       "\n",
       "    .dataframe thead th {\n",
       "        text-align: right;\n",
       "    }\n",
       "</style>\n",
       "<table border=\"1\" class=\"dataframe\">\n",
       "  <thead>\n",
       "    <tr style=\"text-align: right;\">\n",
       "      <th></th>\n",
       "      <th>x</th>\n",
       "      <th>y</th>\n",
       "      <th>cluster_pca</th>\n",
       "    </tr>\n",
       "  </thead>\n",
       "  <tbody>\n",
       "    <tr>\n",
       "      <th>0</th>\n",
       "      <td>0.585254</td>\n",
       "      <td>0.161046</td>\n",
       "      <td>0</td>\n",
       "    </tr>\n",
       "    <tr>\n",
       "      <th>1</th>\n",
       "      <td>0.302880</td>\n",
       "      <td>0.121462</td>\n",
       "      <td>0</td>\n",
       "    </tr>\n",
       "  </tbody>\n",
       "</table>\n",
       "</div>"
      ],
      "text/plain": [
       "          x         y  cluster_pca\n",
       "0  0.585254  0.161046            0\n",
       "1  0.302880  0.121462            0"
      ]
     },
     "execution_count": 16,
     "metadata": {},
     "output_type": "execute_result"
    }
   ],
   "source": [
    "projection.head(2)"
   ]
  },
  {
   "cell_type": "code",
   "execution_count": 17,
   "metadata": {},
   "outputs": [],
   "source": [
    "projection = projection.merge(data0[['Car', 'Year']], left_index=True, right_index=True)"
   ]
  },
  {
   "cell_type": "code",
   "execution_count": 112,
   "metadata": {},
   "outputs": [
    {
     "data": {
      "application/vnd.plotly.v1+json": {
       "config": {
        "plotlyServerURL": "https://plot.ly"
       },
       "data": [
        {
         "alignmentgroup": "True",
         "boxpoints": "all",
         "customdata": [
          [
           "BMW 1 Series M",
           2011
          ],
          [
           "BMW 1 Series",
           2011
          ],
          [
           "BMW 1 Series",
           2011
          ],
          [
           "BMW 1 Series",
           2011
          ],
          [
           "BMW 1 Series",
           2011
          ],
          [
           "BMW 1 Series",
           2012
          ],
          [
           "BMW 1 Series",
           2012
          ],
          [
           "BMW 1 Series",
           2012
          ],
          [
           "BMW 1 Series",
           2012
          ],
          [
           "BMW 1 Series",
           2013
          ],
          [
           "BMW 1 Series",
           2013
          ],
          [
           "BMW 1 Series",
           2013
          ],
          [
           "BMW 1 Series",
           2013
          ],
          [
           "BMW 1 Series",
           2013
          ],
          [
           "BMW 1 Series",
           2013
          ],
          [
           "BMW 1 Series",
           2013
          ],
          [
           "BMW 1 Series",
           2013
          ],
          [
           "BMW 2 Series",
           2016
          ],
          [
           "BMW 2 Series",
           2016
          ],
          [
           "BMW 2 Series",
           2016
          ],
          [
           "BMW 2 Series",
           2016
          ],
          [
           "BMW 2 Series",
           2017
          ],
          [
           "BMW 2 Series",
           2017
          ],
          [
           "BMW 2 Series",
           2017
          ],
          [
           "BMW 2 Series",
           2017
          ],
          [
           "Chrysler 200",
           2015
          ],
          [
           "Chrysler 200",
           2015
          ],
          [
           "Chrysler 200",
           2016
          ],
          [
           "Chrysler 200",
           2016
          ],
          [
           "Chrysler 200",
           2017
          ],
          [
           "Chrysler 200",
           2017
          ],
          [
           "Chrysler 200",
           2017
          ],
          [
           "Mazda 2",
           2013
          ],
          [
           "Mazda 2",
           2014
          ],
          [
           "Mazda 2",
           2014
          ],
          [
           "BMW 3 Series Gran Turismo",
           2016
          ],
          [
           "BMW 3 Series",
           2015
          ],
          [
           "BMW 3 Series",
           2017
          ],
          [
           "BMW 3 Series",
           2017
          ],
          [
           "Mitsubishi 3000GT",
           1998
          ],
          [
           "Mitsubishi 3000GT",
           1998
          ],
          [
           "Mitsubishi 3000GT",
           1998
          ],
          [
           "Mitsubishi 3000GT",
           1999
          ],
          [
           "Mitsubishi 3000GT",
           1999
          ],
          [
           "Mitsubishi 3000GT",
           1999
          ],
          [
           "Chrysler 300M",
           2002
          ],
          [
           "Chrysler 300M",
           2002
          ],
          [
           "Chrysler 300M",
           2003
          ],
          [
           "Chrysler 300M",
           2003
          ],
          [
           "Chrysler 300M",
           2004
          ],
          [
           "Chrysler 300M",
           2004
          ],
          [
           "Nissan 300ZX",
           1994
          ],
          [
           "Nissan 300ZX",
           1994
          ],
          [
           "Nissan 300ZX",
           1994
          ],
          [
           "Nissan 300ZX",
           1994
          ],
          [
           "Nissan 300ZX",
           1995
          ],
          [
           "Nissan 300ZX",
           1995
          ],
          [
           "Nissan 300ZX",
           1995
          ],
          [
           "Nissan 300ZX",
           1995
          ],
          [
           "Nissan 300ZX",
           1996
          ],
          [
           "Nissan 300ZX",
           1996
          ],
          [
           "Nissan 300ZX",
           1996
          ],
          [
           "Nissan 300ZX",
           1996
          ],
          [
           "Mazda 323",
           1992
          ],
          [
           "Mazda 323",
           1992
          ],
          [
           "Mazda 323",
           1993
          ],
          [
           "Mazda 323",
           1993
          ],
          [
           "Mazda 323",
           1994
          ],
          [
           "Mercedes-Benz 350-Class",
           1990
          ],
          [
           "Mercedes-Benz 350-Class",
           1990
          ],
          [
           "Mercedes-Benz 350-Class",
           1991
          ],
          [
           "Mercedes-Benz 350-Class",
           1991
          ],
          [
           "Nissan 350Z",
           2007
          ],
          [
           "Nissan 350Z",
           2007
          ],
          [
           "Nissan 350Z",
           2007
          ],
          [
           "Nissan 350Z",
           2007
          ],
          [
           "Nissan 350Z",
           2007
          ],
          [
           "Nissan 350Z",
           2007
          ],
          [
           "Nissan 350Z",
           2007
          ],
          [
           "Nissan 350Z",
           2008
          ],
          [
           "Nissan 350Z",
           2008
          ],
          [
           "Nissan 350Z",
           2008
          ],
          [
           "Nissan 350Z",
           2008
          ],
          [
           "Nissan 350Z",
           2008
          ],
          [
           "Nissan 350Z",
           2008
          ],
          [
           "Nissan 350Z",
           2008
          ],
          [
           "Nissan 350Z",
           2008
          ],
          [
           "Nissan 350Z",
           2009
          ],
          [
           "Nissan 350Z",
           2009
          ],
          [
           "Nissan 350Z",
           2009
          ],
          [
           "Nissan 350Z",
           2009
          ],
          [
           "Nissan 350Z",
           2009
          ],
          [
           "Nissan 350Z",
           2009
          ],
          [
           "Ferrari 360",
           2002
          ],
          [
           "Ferrari 360",
           2002
          ],
          [
           "Ferrari 360",
           2002
          ],
          [
           "Ferrari 360",
           2002
          ],
          [
           "Ferrari 360",
           2003
          ],
          [
           "Ferrari 360",
           2003
          ],
          [
           "Ferrari 360",
           2003
          ],
          [
           "Ferrari 360",
           2003
          ],
          [
           "Ferrari 360",
           2004
          ],
          [
           "Ferrari 360",
           2004
          ],
          [
           "Ferrari 360",
           2004
          ],
          [
           "Ferrari 360",
           2004
          ],
          [
           "Ferrari 360",
           2004
          ],
          [
           "Nissan 370Z",
           2015
          ],
          [
           "Nissan 370Z",
           2015
          ],
          [
           "Nissan 370Z",
           2015
          ],
          [
           "Nissan 370Z",
           2015
          ],
          [
           "Nissan 370Z",
           2015
          ],
          [
           "Nissan 370Z",
           2015
          ],
          [
           "Nissan 370Z",
           2015
          ],
          [
           "Nissan 370Z",
           2015
          ],
          [
           "Nissan 370Z",
           2015
          ],
          [
           "Nissan 370Z",
           2015
          ],
          [
           "Nissan 370Z",
           2015
          ],
          [
           "Nissan 370Z",
           2015
          ],
          [
           "Nissan 370Z",
           2015
          ],
          [
           "Nissan 370Z",
           2015
          ],
          [
           "Nissan 370Z",
           2015
          ],
          [
           "Nissan 370Z",
           2015
          ],
          [
           "Nissan 370Z",
           2015
          ],
          [
           "Nissan 370Z",
           2016
          ],
          [
           "Nissan 370Z",
           2016
          ],
          [
           "Nissan 370Z",
           2016
          ],
          [
           "Nissan 370Z",
           2016
          ],
          [
           "Nissan 370Z",
           2016
          ],
          [
           "Nissan 370Z",
           2016
          ],
          [
           "Nissan 370Z",
           2016
          ],
          [
           "Mazda 3",
           2015
          ],
          [
           "Mazda 3",
           2015
          ],
          [
           "Mazda 3",
           2015
          ],
          [
           "Mazda 3",
           2015
          ],
          [
           "Mazda 3",
           2015
          ],
          [
           "Mazda 3",
           2016
          ],
          [
           "Mazda 3",
           2016
          ],
          [
           "Mazda 3",
           2017
          ],
          [
           "Mazda 3",
           2017
          ],
          [
           "Mazda 3",
           2017
          ],
          [
           "Mazda 3",
           2017
          ],
          [
           "BMW 4 Series",
           2015
          ],
          [
           "BMW 4 Series",
           2015
          ],
          [
           "BMW 4 Series",
           2015
          ],
          [
           "BMW 4 Series",
           2016
          ],
          [
           "BMW 4 Series",
           2016
          ],
          [
           "BMW 4 Series",
           2016
          ],
          [
           "BMW 4 Series",
           2016
          ],
          [
           "BMW 4 Series",
           2016
          ],
          [
           "BMW 4 Series",
           2016
          ],
          [
           "BMW 4 Series",
           2016
          ],
          [
           "BMW 4 Series",
           2016
          ],
          [
           "BMW 4 Series",
           2016
          ],
          [
           "BMW 4 Series",
           2017
          ],
          [
           "BMW 4 Series",
           2017
          ],
          [
           "BMW 4 Series",
           2017
          ],
          [
           "Mercedes-Benz 400-Class",
           1992
          ],
          [
           "Mercedes-Benz 400-Class",
           1993
          ],
          [
           "Mercedes-Benz 420-Class",
           1990
          ],
          [
           "BMW 5 Series",
           2016
          ],
          [
           "BMW 5 Series",
           2016
          ],
          [
           "BMW 5 Series",
           2016
          ],
          [
           "Mercedes-Benz 500-Class",
           1991
          ],
          [
           "Mercedes-Benz 500-Class",
           1992
          ],
          [
           "Mercedes-Benz 500-Class",
           1992
          ],
          [
           "Mercedes-Benz 500-Class",
           1992
          ],
          [
           "Mercedes-Benz 500-Class",
           1993
          ],
          [
           "Mercedes-Benz 500-Class",
           1993
          ],
          [
           "Mercedes-Benz 500-Class",
           1993
          ],
          [
           "Mercedes-Benz 500-Class",
           1993
          ],
          [
           "FIAT 500",
           2015
          ],
          [
           "FIAT 500",
           2015
          ],
          [
           "FIAT 500",
           2015
          ],
          [
           "FIAT 500",
           2015
          ],
          [
           "FIAT 500",
           2015
          ],
          [
           "FIAT 500",
           2015
          ],
          [
           "FIAT 500",
           2016
          ],
          [
           "FIAT 500",
           2016
          ],
          [
           "FIAT 500",
           2016
          ],
          [
           "FIAT 500",
           2016
          ],
          [
           "FIAT 500",
           2016
          ],
          [
           "FIAT 500",
           2016
          ],
          [
           "FIAT 500X",
           2016
          ],
          [
           "FIAT 500X",
           2016
          ],
          [
           "FIAT 500X",
           2016
          ],
          [
           "FIAT 500X",
           2016
          ],
          [
           "FIAT 500X",
           2016
          ],
          [
           "FIAT 500X",
           2016
          ],
          [
           "FIAT 500X",
           2016
          ],
          [
           "FIAT 500X",
           2016
          ],
          [
           "FIAT 500X",
           2017
          ],
          [
           "FIAT 500X",
           2017
          ],
          [
           "FIAT 500X",
           2017
          ],
          [
           "FIAT 500X",
           2017
          ],
          [
           "FIAT 500X",
           2017
          ],
          [
           "FIAT 500X",
           2017
          ],
          [
           "Ferrari 612 Scaglietti",
           2010
          ],
          [
           "BMW 7 Series",
           2015
          ],
          [
           "BMW 7 Series",
           2015
          ],
          [
           "BMW 7 Series",
           2016
          ],
          [
           "BMW 7 Series",
           2016
          ],
          [
           "BMW 7 Series",
           2017
          ],
          [
           "BMW 7 Series",
           2017
          ],
          [
           "BMW 7 Series",
           2017
          ],
          [
           "Porsche 718 Cayman",
           2017
          ],
          [
           "Porsche 718 Cayman",
           2017
          ],
          [
           "Volvo 850",
           1996
          ],
          [
           "Volvo 850",
           1996
          ],
          [
           "Volvo 850",
           1996
          ],
          [
           "Volvo 850",
           1996
          ],
          [
           "Volvo 850",
           1996
          ],
          [
           "Volvo 850",
           1996
          ],
          [
           "Volvo 850",
           1996
          ],
          [
           "Volvo 850",
           1996
          ],
          [
           "Volvo 850",
           1997
          ],
          [
           "Volvo 850",
           1997
          ],
          [
           "Volvo 850",
           1997
          ],
          [
           "Volvo 850",
           1997
          ],
          [
           "Volvo 850",
           1997
          ],
          [
           "Toyota 86",
           2017
          ],
          [
           "Toyota 86",
           2017
          ],
          [
           "Saab 9-2X",
           2005
          ],
          [
           "Saab 9-2X",
           2005
          ],
          [
           "Saab 9-2X",
           2006
          ],
          [
           "Saab 9-2X",
           2006
          ],
          [
           "Saab 9-3 Griffin",
           2012
          ],
          [
           "Saab 9-3 Griffin",
           2012
          ],
          [
           "Saab 9-3 Griffin",
           2012
          ],
          [
           "Saab 9-3 Griffin",
           2012
          ],
          [
           "Saab 9-3 Griffin",
           2012
          ],
          [
           "Saab 9-3 Griffin",
           2012
          ],
          [
           "Saab 9-3 Griffin",
           2012
          ],
          [
           "Saab 9-3 Griffin",
           2012
          ],
          [
           "Saab 9-3 Griffin",
           2012
          ],
          [
           "Saab 9-3 Griffin",
           2012
          ],
          [
           "Saab 9-3 Griffin",
           2012
          ],
          [
           "Saab 9-3 Griffin",
           2012
          ],
          [
           "Saab 9-3 Griffin",
           2012
          ],
          [
           "Saab 9-3 Griffin",
           2012
          ],
          [
           "Saab 9-3",
           2009
          ],
          [
           "Saab 9-3",
           2009
          ],
          [
           "Saab 9-3",
           2009
          ],
          [
           "Saab 9-3",
           2009
          ],
          [
           "Saab 9-3",
           2009
          ],
          [
           "Saab 9-3",
           2009
          ],
          [
           "Saab 9-3",
           2009
          ],
          [
           "Saab 9-3",
           2009
          ],
          [
           "Saab 9-3",
           2009
          ],
          [
           "Saab 9-3",
           2009
          ],
          [
           "Saab 9-3",
           2010
          ],
          [
           "Saab 9-3",
           2010
          ],
          [
           "Porsche 911",
           2016
          ],
          [
           "Porsche 911",
           2016
          ],
          [
           "Porsche 911",
           2016
          ],
          [
           "Porsche 911",
           2016
          ],
          [
           "Porsche 911",
           2017
          ],
          [
           "Porsche 911",
           2017
          ],
          [
           "Porsche 911",
           2017
          ],
          [
           "Porsche 911",
           2017
          ],
          [
           "Porsche 911",
           2017
          ],
          [
           "Porsche 928",
           1993
          ],
          [
           "Porsche 928",
           1994
          ],
          [
           "Volvo 940",
           1993
          ],
          [
           "Volvo 940",
           1993
          ],
          [
           "Volvo 940",
           1993
          ],
          [
           "Volvo 940",
           1994
          ],
          [
           "Volvo 940",
           1994
          ],
          [
           "Volvo 940",
           1994
          ],
          [
           "Volvo 940",
           1994
          ],
          [
           "Volvo 940",
           1995
          ],
          [
           "Volvo 940",
           1995
          ],
          [
           "Volvo 940",
           1995
          ],
          [
           "Volvo 940",
           1995
          ],
          [
           "Porsche 944",
           1990
          ],
          [
           "Porsche 944",
           1990
          ],
          [
           "Porsche 944",
           1991
          ],
          [
           "Porsche 944",
           1991
          ],
          [
           "Volvo 960",
           1995
          ],
          [
           "Volvo 960",
           1995
          ],
          [
           "Volvo 960",
           1996
          ],
          [
           "Volvo 960",
           1996
          ],
          [
           "Volvo 960",
           1997
          ],
          [
           "Volvo 960",
           1997
          ],
          [
           "Porsche 968",
           1993
          ],
          [
           "Porsche 968",
           1993
          ],
          [
           "Porsche 968",
           1994
          ],
          [
           "Porsche 968",
           1994
          ],
          [
           "Porsche 968",
           1995
          ],
          [
           "Porsche 968",
           1995
          ],
          [
           "Audi A3",
           2015
          ],
          [
           "Audi A3",
           2015
          ],
          [
           "Audi A3",
           2015
          ],
          [
           "Audi A3",
           2015
          ],
          [
           "Audi A3",
           2015
          ],
          [
           "Audi A3",
           2015
          ],
          [
           "Audi A3",
           2015
          ],
          [
           "Audi A3",
           2015
          ],
          [
           "Audi A3",
           2016
          ],
          [
           "Audi A3",
           2016
          ],
          [
           "Audi A3",
           2016
          ],
          [
           "Audi A3",
           2016
          ],
          [
           "Audi A3",
           2016
          ],
          [
           "Audi A3",
           2016
          ],
          [
           "Audi A3",
           2016
          ],
          [
           "Audi A3",
           2016
          ],
          [
           "Audi A3",
           2016
          ],
          [
           "Audi A3",
           2017
          ],
          [
           "Audi A3",
           2017
          ],
          [
           "Audi A4 allroad",
           2017
          ],
          [
           "Audi A4 allroad",
           2017
          ],
          [
           "Audi A4 allroad",
           2017
          ],
          [
           "Audi A4",
           2015
          ],
          [
           "Audi A4",
           2015
          ],
          [
           "Audi A4",
           2015
          ],
          [
           "Audi A4",
           2015
          ],
          [
           "Audi A4",
           2015
          ],
          [
           "Audi A4",
           2015
          ],
          [
           "Audi A4",
           2015
          ],
          [
           "Audi A4",
           2016
          ],
          [
           "Audi A4",
           2016
          ],
          [
           "Audi A4",
           2016
          ],
          [
           "Audi A4",
           2016
          ],
          [
           "Audi A4",
           2016
          ],
          [
           "Audi A4",
           2016
          ],
          [
           "Audi A4",
           2017
          ],
          [
           "Audi A4",
           2017
          ],
          [
           "Audi A4",
           2017
          ],
          [
           "Audi A4",
           2017
          ],
          [
           "Audi A5",
           2016
          ],
          [
           "Audi A7",
           2017
          ],
          [
           "Audi A8",
           2016
          ],
          [
           "Audi A8",
           2016
          ],
          [
           "Audi A8",
           2016
          ],
          [
           "Audi A8",
           2016
          ],
          [
           "Audi A8",
           2017
          ],
          [
           "GMC Acadia",
           2015
          ],
          [
           "GMC Acadia",
           2016
          ],
          [
           "GMC Acadia",
           2016
          ],
          [
           "GMC Acadia",
           2016
          ],
          [
           "GMC Acadia",
           2016
          ],
          [
           "GMC Acadia",
           2017
          ],
          [
           "GMC Acadia",
           2017
          ],
          [
           "GMC Acadia",
           2017
          ],
          [
           "GMC Acadia",
           2017
          ],
          [
           "GMC Acadia",
           2017
          ],
          [
           "GMC Acadia",
           2017
          ],
          [
           "GMC Acadia",
           2017
          ],
          [
           "Hyundai Accent",
           2014
          ],
          [
           "Hyundai Accent",
           2014
          ],
          [
           "Hyundai Accent",
           2015
          ],
          [
           "Hyundai Accent",
           2016
          ],
          [
           "Honda Accord Crosstour",
           2010
          ],
          [
           "Honda Accord Crosstour",
           2010
          ],
          [
           "Honda Accord Crosstour",
           2010
          ],
          [
           "Honda Accord Crosstour",
           2010
          ],
          [
           "Honda Accord Crosstour",
           2010
          ],
          [
           "Honda Accord Crosstour",
           2011
          ],
          [
           "Honda Accord Hybrid",
           2014
          ],
          [
           "Honda Accord Hybrid",
           2015
          ],
          [
           "Honda Accord Hybrid",
           2015
          ],
          [
           "Honda Accord Hybrid",
           2015
          ],
          [
           "Honda Accord",
           2015
          ],
          [
           "Honda Accord",
           2016
          ],
          [
           "Honda Accord",
           2016
          ],
          [
           "Honda Accord",
           2017
          ],
          [
           "Honda Accord",
           2017
          ],
          [
           "Cadillac ATS Coupe",
           2017
          ],
          [
           "Cadillac ATS-V",
           2016
          ],
          [
           "Cadillac ATS-V",
           2016
          ],
          [
           "Cadillac ATS-V",
           2017
          ],
          [
           "Cadillac ATS-V",
           2017
          ],
          [
           "Cadillac ATS",
           2015
          ],
          [
           "Cadillac ATS",
           2015
          ],
          [
           "Cadillac ATS",
           2015
          ],
          [
           "Cadillac ATS",
           2015
          ],
          [
           "Cadillac ATS",
           2015
          ],
          [
           "Cadillac ATS",
           2015
          ],
          [
           "Cadillac ATS",
           2015
          ],
          [
           "Cadillac ATS",
           2015
          ],
          [
           "Cadillac ATS",
           2015
          ],
          [
           "Cadillac ATS",
           2017
          ],
          [
           "Cadillac ATS",
           2017
          ],
          [
           "Cadillac ATS",
           2017
          ],
          [
           "Oldsmobile Aurora",
           2002
          ],
          [
           "Chevrolet Avalanche",
           2010
          ],
          [
           "Chevrolet Avalanche",
           2011
          ],
          [
           "Chevrolet Avalanche",
           2011
          ],
          [
           "Chevrolet Avalanche",
           2012
          ],
          [
           "Chevrolet Avalanche",
           2012
          ],
          [
           "Chevrolet Avalanche",
           2012
          ],
          [
           "Toyota Avalon Hybrid",
           2016
          ],
          [
           "Toyota Avalon",
           2016
          ],
          [
           "Toyota Avalon",
           2017
          ],
          [
           "Toyota Avalon",
           2017
          ],
          [
           "Dodge Avenger",
           2012
          ],
          [
           "Dodge Avenger",
           2013
          ],
          [
           "Dodge Avenger",
           2013
          ],
          [
           "Lamborghini Aventador",
           2014
          ],
          [
           "Lamborghini Aventador",
           2014
          ],
          [
           "Lamborghini Aventador",
           2015
          ],
          [
           "Lamborghini Aventador",
           2015
          ],
          [
           "Lamborghini Aventador",
           2015
          ],
          [
           "Lamborghini Aventador",
           2015
          ],
          [
           "Lamborghini Aventador",
           2016
          ],
          [
           "Lamborghini Aventador",
           2016
          ],
          [
           "Chevrolet Aveo",
           2009
          ],
          [
           "Chevrolet Aveo",
           2009
          ],
          [
           "Chevrolet Aveo",
           2010
          ],
          [
           "Chevrolet Aveo",
           2010
          ],
          [
           "Chevrolet Aveo",
           2011
          ],
          [
           "Chevrolet Aveo",
           2011
          ],
          [
           "Lincoln Aviator",
           2003
          ],
          [
           "Lincoln Aviator",
           2003
          ],
          [
           "Lincoln Aviator",
           2003
          ],
          [
           "Lincoln Aviator",
           2004
          ],
          [
           "Lincoln Aviator",
           2004
          ],
          [
           "Lincoln Aviator",
           2005
          ],
          [
           "Bentley Azure",
           2007
          ],
          [
           "Bentley Azure",
           2008
          ],
          [
           "Bentley Azure",
           2009
          ],
          [
           "Mercedes-Benz B-Class Electric Drive",
           2015
          ],
          [
           "Mercedes-Benz B-Class Electric Drive",
           2017
          ],
          [
           "Mazda B-Series Pickup",
           2000
          ],
          [
           "Mazda B-Series Pickup",
           2000
          ],
          [
           "Mazda B-Series Pickup",
           2000
          ],
          [
           "Mazda B-Series Pickup",
           2000
          ],
          [
           "Mazda B-Series Pickup",
           2000
          ],
          [
           "Subaru Baja",
           2004
          ],
          [
           "Subaru Baja",
           2004
          ],
          [
           "Subaru Baja",
           2004
          ],
          [
           "Subaru Baja",
           2005
          ],
          [
           "Subaru Baja",
           2005
          ],
          [
           "Subaru Baja",
           2005
          ],
          [
           "Subaru Baja",
           2005
          ],
          [
           "Subaru Baja",
           2006
          ],
          [
           "Subaru Baja",
           2006
          ],
          [
           "Subaru Baja",
           2006
          ],
          [
           "Subaru Baja",
           2006
          ],
          [
           "Volkswagen Beetle Convertible",
           2014
          ],
          [
           "Volkswagen Beetle Convertible",
           2014
          ],
          [
           "Volkswagen Beetle Convertible",
           2014
          ],
          [
           "Volkswagen Beetle Convertible",
           2014
          ],
          [
           "Volkswagen Beetle Convertible",
           2014
          ],
          [
           "Volkswagen Beetle Convertible",
           2014
          ],
          [
           "Volkswagen Beetle Convertible",
           2014
          ],
          [
           "Volkswagen Beetle Convertible",
           2014
          ],
          [
           "Volkswagen Beetle Convertible",
           2014
          ],
          [
           "Volkswagen Beetle Convertible",
           2014
          ],
          [
           "Volkswagen Beetle Convertible",
           2014
          ],
          [
           "Volkswagen Beetle Convertible",
           2014
          ],
          [
           "Volkswagen Beetle Convertible",
           2014
          ],
          [
           "Volkswagen Beetle Convertible",
           2015
          ],
          [
           "Volkswagen Beetle Convertible",
           2015
          ],
          [
           "Volkswagen Beetle Convertible",
           2015
          ],
          [
           "Volkswagen Beetle Convertible",
           2015
          ],
          [
           "Volkswagen Beetle Convertible",
           2015
          ],
          [
           "Volkswagen Beetle Convertible",
           2016
          ],
          [
           "Volkswagen Beetle",
           2015
          ],
          [
           "Volkswagen Beetle",
           2015
          ],
          [
           "Volkswagen Beetle",
           2015
          ],
          [
           "Volkswagen Beetle",
           2015
          ],
          [
           "Volkswagen Beetle",
           2015
          ],
          [
           "Volkswagen Beetle",
           2015
          ],
          [
           "Volkswagen Beetle",
           2015
          ],
          [
           "Volkswagen Beetle",
           2015
          ],
          [
           "Volkswagen Beetle",
           2015
          ],
          [
           "Volkswagen Beetle",
           2015
          ],
          [
           "Volkswagen Beetle",
           2015
          ],
          [
           "Volkswagen Beetle",
           2015
          ],
          [
           "Volkswagen Beetle",
           2015
          ],
          [
           "Volkswagen Beetle",
           2015
          ],
          [
           "Volkswagen Beetle",
           2015
          ],
          [
           "Volkswagen Beetle",
           2015
          ],
          [
           "Volkswagen Beetle",
           2015
          ],
          [
           "Volkswagen Beetle",
           2015
          ],
          [
           "Volkswagen Beetle",
           2015
          ],
          [
           "Volkswagen Beetle",
           2015
          ],
          [
           "Volkswagen Beetle",
           2016
          ],
          [
           "Volkswagen Beetle",
           2016
          ],
          [
           "Volkswagen Beetle",
           2016
          ],
          [
           "Volkswagen Beetle",
           2016
          ],
          [
           "Volkswagen Beetle",
           2016
          ],
          [
           "Volkswagen Beetle",
           2016
          ],
          [
           "Volkswagen Beetle",
           2016
          ],
          [
           "Volkswagen Beetle",
           2016
          ],
          [
           "Volkswagen Beetle",
           2016
          ],
          [
           "Volkswagen Beetle",
           2016
          ],
          [
           "Porsche Boxster",
           2015
          ],
          [
           "Porsche Boxster",
           2015
          ],
          [
           "Porsche Boxster",
           2015
          ],
          [
           "Porsche Boxster",
           2016
          ],
          [
           "Bentley Brooklands",
           2009
          ],
          [
           "Cadillac Brougham",
           1990
          ],
          [
           "Cadillac Brougham",
           1991
          ],
          [
           "Subaru BRZ",
           2015
          ],
          [
           "Subaru BRZ",
           2015
          ],
          [
           "Subaru BRZ",
           2015
          ],
          [
           "Subaru BRZ",
           2016
          ],
          [
           "Subaru BRZ",
           2016
          ],
          [
           "Subaru BRZ",
           2016
          ],
          [
           "Subaru BRZ",
           2017
          ],
          [
           "Subaru BRZ",
           2017
          ],
          [
           "Subaru BRZ",
           2017
          ],
          [
           "Mercedes-Benz C-Class",
           2015
          ],
          [
           "Mercedes-Benz C-Class",
           2015
          ],
          [
           "Mercedes-Benz C-Class",
           2015
          ],
          [
           "Mercedes-Benz C-Class",
           2015
          ],
          [
           "Mercedes-Benz C-Class",
           2015
          ],
          [
           "Mercedes-Benz C-Class",
           2015
          ],
          [
           "Mercedes-Benz C-Class",
           2015
          ],
          [
           "Mercedes-Benz C-Class",
           2015
          ],
          [
           "Mercedes-Benz C-Class",
           2015
          ],
          [
           "Mercedes-Benz C-Class",
           2015
          ],
          [
           "Mercedes-Benz C-Class",
           2016
          ],
          [
           "Mercedes-Benz C-Class",
           2016
          ],
          [
           "Mercedes-Benz C-Class",
           2016
          ],
          [
           "Mercedes-Benz C-Class",
           2016
          ],
          [
           "Mercedes-Benz C-Class",
           2016
          ],
          [
           "Mercedes-Benz C-Class",
           2016
          ],
          [
           "Mercedes-Benz C-Class",
           2017
          ],
          [
           "Mercedes-Benz C-Class",
           2017
          ],
          [
           "Mercedes-Benz C-Class",
           2017
          ],
          [
           "Mercedes-Benz C-Class",
           2017
          ],
          [
           "Mercedes-Benz C-Class",
           2017
          ],
          [
           "Kia Cadenza",
           2016
          ],
          [
           "Ferrari California T",
           2015
          ],
          [
           "Ferrari California",
           2012
          ],
          [
           "Ferrari California",
           2013
          ],
          [
           "Ferrari California",
           2014
          ],
          [
           "Chevrolet Camaro",
           2015
          ],
          [
           "Chevrolet Camaro",
           2015
          ],
          [
           "Chevrolet Camaro",
           2015
          ],
          [
           "Chevrolet Camaro",
           2015
          ],
          [
           "Chevrolet Camaro",
           2015
          ],
          [
           "Chevrolet Camaro",
           2016
          ],
          [
           "Chevrolet Camaro",
           2016
          ],
          [
           "Chevrolet Camaro",
           2016
          ],
          [
           "Chevrolet Camaro",
           2017
          ],
          [
           "Chevrolet Camaro",
           2017
          ],
          [
           "Chevrolet Camaro",
           2017
          ],
          [
           "Chevrolet Camaro",
           2017
          ],
          [
           "Toyota Camry Hybrid",
           2015
          ],
          [
           "Toyota Camry Hybrid",
           2015
          ],
          [
           "Toyota Camry Hybrid",
           2016
          ],
          [
           "Toyota Camry Hybrid",
           2016
          ],
          [
           "Toyota Camry Hybrid",
           2016
          ],
          [
           "Toyota Camry Hybrid",
           2017
          ],
          [
           "Toyota Camry Hybrid",
           2017
          ],
          [
           "Toyota Camry",
           2015
          ],
          [
           "Toyota Camry",
           2016
          ],
          [
           "Toyota Camry",
           2017
          ],
          [
           "GMC Canyon",
           2016
          ],
          [
           "GMC Canyon",
           2016
          ],
          [
           "GMC Canyon",
           2016
          ],
          [
           "Porsche Cayenne",
           2015
          ],
          [
           "Porsche Cayenne",
           2015
          ],
          [
           "Porsche Cayenne",
           2015
          ],
          [
           "Porsche Cayenne",
           2016
          ],
          [
           "Porsche Cayenne",
           2016
          ],
          [
           "Porsche Cayenne",
           2016
          ],
          [
           "Porsche Cayenne",
           2016
          ],
          [
           "Porsche Cayenne",
           2016
          ],
          [
           "Porsche Cayenne",
           2016
          ],
          [
           "Porsche Cayenne",
           2017
          ],
          [
           "Volkswagen CC",
           2016
          ],
          [
           "Volkswagen CC",
           2016
          ],
          [
           "Volkswagen CC",
           2016
          ],
          [
           "Volkswagen CC",
           2016
          ],
          [
           "Volkswagen CC",
           2016
          ],
          [
           "Volkswagen CC",
           2016
          ],
          [
           "Volkswagen CC",
           2016
          ],
          [
           "Volkswagen CC",
           2016
          ],
          [
           "Volkswagen CC",
           2016
          ],
          [
           "Volkswagen CC",
           2016
          ],
          [
           "Volkswagen CC",
           2017
          ],
          [
           "Dodge Challenger",
           2017
          ],
          [
           "Dodge Challenger",
           2017
          ],
          [
           "Dodge Challenger",
           2017
          ],
          [
           "Dodge Challenger",
           2017
          ],
          [
           "Dodge Challenger",
           2017
          ],
          [
           "Dodge Challenger",
           2017
          ],
          [
           "Dodge Challenger",
           2017
          ],
          [
           "Dodge Challenger",
           2017
          ],
          [
           "Dodge Challenger",
           2017
          ],
          [
           "Dodge Charger",
           2015
          ],
          [
           "Dodge Charger",
           2017
          ],
          [
           "Dodge Charger",
           2017
          ],
          [
           "Dodge Charger",
           2017
          ],
          [
           "Dodge Charger",
           2017
          ],
          [
           "Honda Civic CRX",
           1990
          ],
          [
           "Honda Civic CRX",
           1990
          ],
          [
           "Honda Civic CRX",
           1990
          ],
          [
           "Honda Civic CRX",
           1991
          ],
          [
           "Honda Civic CRX",
           1991
          ],
          [
           "Honda Civic CRX",
           1991
          ],
          [
           "Honda Civic del Sol",
           1995
          ],
          [
           "Honda Civic del Sol",
           1996
          ],
          [
           "Honda Civic del Sol",
           1997
          ],
          [
           "Honda Civic",
           2015
          ],
          [
           "Honda Civic",
           2015
          ],
          [
           "Honda Civic",
           2015
          ],
          [
           "Honda Civic",
           2015
          ],
          [
           "Honda Civic",
           2015
          ],
          [
           "Honda Civic",
           2015
          ],
          [
           "Honda Civic",
           2015
          ],
          [
           "Honda Civic",
           2015
          ],
          [
           "Honda Civic",
           2017
          ],
          [
           "Honda Civic",
           2017
          ],
          [
           "Honda Civic",
           2017
          ],
          [
           "Honda Civic",
           2017
          ],
          [
           "Honda Civic",
           2017
          ],
          [
           "Honda Civic",
           2017
          ],
          [
           "Honda Civic",
           2017
          ],
          [
           "Honda Civic",
           2017
          ],
          [
           "Honda Civic",
           2017
          ],
          [
           "Honda Civic",
           2017
          ],
          [
           "Honda Civic",
           2017
          ],
          [
           "Honda Civic",
           2017
          ],
          [
           "Honda Civic",
           2017
          ],
          [
           "Honda Civic",
           2017
          ],
          [
           "Mercedes-Benz CLS-Class",
           2015
          ],
          [
           "Mercedes-Benz CLS-Class",
           2016
          ],
          [
           "Mercedes-Benz CLS-Class",
           2016
          ],
          [
           "Mercedes-Benz CLS-Class",
           2016
          ],
          [
           "Mercedes-Benz CLS-Class",
           2016
          ],
          [
           "Mercedes-Benz CLS-Class",
           2016
          ],
          [
           "Mercedes-Benz CLS-Class",
           2017
          ],
          [
           "Mercedes-Benz CLS-Class",
           2017
          ],
          [
           "Mercedes-Benz CLS-Class",
           2017
          ],
          [
           "Chevrolet Cobalt",
           2008
          ],
          [
           "Dodge Colt",
           1992
          ],
          [
           "Dodge Colt",
           1992
          ],
          [
           "Chrysler Concorde",
           2002
          ],
          [
           "Chrysler Concorde",
           2003
          ],
          [
           "Chrysler Concorde",
           2004
          ],
          [
           "Bentley Continental Flying Spur Speed",
           2011
          ],
          [
           "Bentley Continental Flying Spur Speed",
           2012
          ],
          [
           "Bentley Continental Flying Spur Speed",
           2013
          ],
          [
           "Bentley Continental Flying Spur",
           2011
          ],
          [
           "Bentley Continental Flying Spur",
           2012
          ],
          [
           "Bentley Continental Flying Spur",
           2013
          ],
          [
           "Bentley Continental GT Speed Convertible",
           2014
          ],
          [
           "Bentley Continental GT Speed",
           2010
          ],
          [
           "Bentley Continental GT Speed",
           2014
          ],
          [
           "Bentley Continental GT3-R",
           2015
          ],
          [
           "Bentley Continental GT",
           2014
          ],
          [
           "Bentley Continental GT",
           2014
          ],
          [
           "Bentley Continental GT",
           2014
          ],
          [
           "Bentley Continental GT",
           2015
          ],
          [
           "Bentley Continental GT",
           2015
          ],
          [
           "Bentley Continental GT",
           2015
          ],
          [
           "Bentley Continental GT",
           2015
          ],
          [
           "Bentley Continental GT",
           2015
          ],
          [
           "Bentley Continental GT",
           2015
          ],
          [
           "Bentley Continental GT",
           2015
          ],
          [
           "Bentley Continental GT",
           2015
          ],
          [
           "Bentley Continental GT",
           2016
          ],
          [
           "Bentley Continental GT",
           2016
          ],
          [
           "Bentley Continental GT",
           2016
          ],
          [
           "Bentley Continental GT",
           2016
          ],
          [
           "Bentley Continental GT",
           2016
          ],
          [
           "Bentley Continental GT",
           2016
          ],
          [
           "Bentley Continental GT",
           2016
          ],
          [
           "Bentley Continental GT",
           2016
          ],
          [
           "Bentley Continental GTC Speed",
           2010
          ],
          [
           "Bentley Continental GTC Speed",
           2011
          ],
          [
           "Bentley Continental GTC",
           2012
          ],
          [
           "Bentley Continental GTC",
           2013
          ],
          [
           "Bentley Continental GTC",
           2013
          ],
          [
           "Bentley Continental GTC",
           2014
          ],
          [
           "Bentley Continental GTC",
           2014
          ],
          [
           "Bentley Continental GTC",
           2014
          ],
          [
           "Bentley Continental Supersports Convertible",
           2011
          ],
          [
           "Bentley Continental Supersports Convertible",
           2012
          ],
          [
           "Bentley Continental Supersports",
           2010
          ],
          [
           "Bentley Continental Supersports",
           2011
          ],
          [
           "Bentley Continental Supersports",
           2012
          ],
          [
           "Bentley Continental",
           2001
          ],
          [
           "Bentley Continental",
           2001
          ],
          [
           "Bentley Continental",
           2001
          ],
          [
           "Bentley Continental",
           2001
          ],
          [
           "Bentley Continental",
           2003
          ],
          [
           "Bentley Continental",
           2003
          ],
          [
           "Lincoln Continental",
           2001
          ],
          [
           "Lincoln Continental",
           2002
          ],
          [
           "Lincoln Continental",
           2002
          ],
          [
           "Lincoln Continental",
           2002
          ],
          [
           "Lincoln Continental",
           2002
          ],
          [
           "Lincoln Continental",
           2017
          ],
          [
           "Lincoln Continental",
           2017
          ],
          [
           "Lincoln Continental",
           2017
          ],
          [
           "Lincoln Continental",
           2017
          ],
          [
           "Ford Contour SVT",
           1998
          ],
          [
           "Ford Contour SVT",
           1999
          ],
          [
           "Ford Contour SVT",
           2000
          ],
          [
           "Volkswagen Corrado",
           1992
          ],
          [
           "Volkswagen Corrado",
           1992
          ],
          [
           "Volkswagen Corrado",
           1993
          ],
          [
           "Volkswagen Corrado",
           1994
          ],
          [
           "Chevrolet Corvette",
           2015
          ],
          [
           "Chevrolet Corvette",
           2015
          ],
          [
           "Chevrolet Corvette",
           2015
          ],
          [
           "Chevrolet Corvette",
           2015
          ],
          [
           "Chevrolet Corvette",
           2015
          ],
          [
           "Chevrolet Corvette",
           2015
          ],
          [
           "Chevrolet Corvette",
           2015
          ],
          [
           "Chevrolet Corvette",
           2015
          ],
          [
           "Chevrolet Corvette",
           2015
          ],
          [
           "Chevrolet Corvette",
           2015
          ],
          [
           "Chevrolet Corvette",
           2015
          ],
          [
           "Chevrolet Corvette",
           2015
          ],
          [
           "Chevrolet Corvette",
           2015
          ],
          [
           "Chevrolet Corvette",
           2015
          ],
          [
           "Chevrolet Corvette",
           2015
          ],
          [
           "Chevrolet Corvette",
           2015
          ],
          [
           "Chevrolet Corvette",
           2016
          ],
          [
           "Chevrolet Corvette",
           2016
          ],
          [
           "Chevrolet Corvette",
           2016
          ],
          [
           "Chevrolet Corvette",
           2016
          ],
          [
           "Chevrolet Corvette",
           2016
          ],
          [
           "Chevrolet Corvette",
           2016
          ],
          [
           "Chevrolet Corvette",
           2016
          ],
          [
           "Chevrolet Corvette",
           2016
          ],
          [
           "Chevrolet Corvette",
           2016
          ],
          [
           "Chevrolet Corvette",
           2016
          ],
          [
           "Chevrolet Corvette",
           2016
          ],
          [
           "Chevrolet Corvette",
           2016
          ],
          [
           "Chevrolet Corvette",
           2016
          ],
          [
           "Chevrolet Corvette",
           2016
          ],
          [
           "Chevrolet Corvette",
           2016
          ],
          [
           "Chevrolet Corvette",
           2016
          ],
          [
           "Chevrolet Corvette",
           2016
          ],
          [
           "Chevrolet Corvette",
           2016
          ],
          [
           "Chevrolet Corvette",
           2017
          ],
          [
           "Chevrolet Corvette",
           2017
          ],
          [
           "Chevrolet Corvette",
           2017
          ],
          [
           "Chevrolet Corvette",
           2017
          ],
          [
           "Chevrolet Corvette",
           2017
          ],
          [
           "Chevrolet Corvette",
           2017
          ],
          [
           "Chevrolet Corvette",
           2017
          ],
          [
           "Chevrolet Corvette",
           2017
          ],
          [
           "Chevrolet Corvette",
           2017
          ],
          [
           "Chevrolet Corvette",
           2017
          ],
          [
           "Chevrolet Corvette",
           2017
          ],
          [
           "Chevrolet Corvette",
           2017
          ],
          [
           "Chevrolet Corvette",
           2017
          ],
          [
           "Chevrolet Corvette",
           2017
          ],
          [
           "Chevrolet Corvette",
           2017
          ],
          [
           "Chevrolet Corvette",
           2017
          ],
          [
           "Chevrolet Corvette",
           2017
          ],
          [
           "Chevrolet Corvette",
           2017
          ],
          [
           "Chevrolet Corvette",
           2017
          ],
          [
           "Chevrolet Corvette",
           2017
          ],
          [
           "Chevrolet Corvette",
           2017
          ],
          [
           "Honda CR-V",
           2014
          ],
          [
           "Honda CR-V",
           2014
          ],
          [
           "Honda CR-V",
           2014
          ],
          [
           "Honda CR-V",
           2014
          ],
          [
           "Honda CR-V",
           2014
          ],
          [
           "Honda CR-V",
           2014
          ],
          [
           "Honda CR-V",
           2015
          ],
          [
           "Honda CR-V",
           2015
          ],
          [
           "Honda CR-V",
           2015
          ],
          [
           "Honda CR-V",
           2015
          ],
          [
           "Honda CR-V",
           2015
          ],
          [
           "Honda CR-V",
           2015
          ],
          [
           "Honda CR-V",
           2015
          ],
          [
           "Honda CR-V",
           2015
          ],
          [
           "Honda CR-V",
           2015
          ],
          [
           "Honda CR-V",
           2015
          ],
          [
           "Honda CR-V",
           2016
          ],
          [
           "Honda CR-V",
           2016
          ],
          [
           "Honda CR-V",
           2016
          ],
          [
           "Honda CR-V",
           2016
          ],
          [
           "Honda CR-V",
           2016
          ],
          [
           "Honda CR-V",
           2016
          ],
          [
           "Honda CR-V",
           2016
          ],
          [
           "Honda CR-V",
           2016
          ],
          [
           "Honda CR-V",
           2016
          ],
          [
           "Honda CR-V",
           2016
          ],
          [
           "Honda CR-Z",
           2014
          ],
          [
           "Honda CR-Z",
           2014
          ],
          [
           "Honda CR-Z",
           2014
          ],
          [
           "Honda CR-Z",
           2014
          ],
          [
           "Honda CR-Z",
           2014
          ],
          [
           "Honda CR-Z",
           2014
          ],
          [
           "Honda CR-Z",
           2015
          ],
          [
           "Honda CR-Z",
           2015
          ],
          [
           "Honda CR-Z",
           2015
          ],
          [
           "Honda CR-Z",
           2015
          ],
          [
           "Honda CR-Z",
           2015
          ],
          [
           "Honda CR-Z",
           2015
          ],
          [
           "Honda CR-Z",
           2016
          ],
          [
           "Honda CR-Z",
           2016
          ],
          [
           "Honda CR-Z",
           2016
          ],
          [
           "Honda CR-Z",
           2016
          ],
          [
           "Honda CR-Z",
           2016
          ],
          [
           "Honda CR-Z",
           2016
          ],
          [
           "Chrysler Crossfire",
           2006
          ],
          [
           "Chrysler Crossfire",
           2006
          ],
          [
           "Chrysler Crossfire",
           2006
          ],
          [
           "Chrysler Crossfire",
           2006
          ],
          [
           "Chrysler Crossfire",
           2006
          ],
          [
           "Chrysler Crossfire",
           2006
          ],
          [
           "Chrysler Crossfire",
           2007
          ],
          [
           "Chrysler Crossfire",
           2007
          ],
          [
           "Chrysler Crossfire",
           2007
          ],
          [
           "Chrysler Crossfire",
           2007
          ],
          [
           "Chrysler Crossfire",
           2008
          ],
          [
           "Chrysler Crossfire",
           2008
          ],
          [
           "Honda Crosstour",
           2013
          ],
          [
           "Honda Crosstour",
           2013
          ],
          [
           "Honda Crosstour",
           2013
          ],
          [
           "Honda Crosstour",
           2013
          ],
          [
           "Honda Crosstour",
           2013
          ],
          [
           "Honda Crosstour",
           2013
          ],
          [
           "Honda Crosstour",
           2013
          ],
          [
           "Honda Crosstour",
           2013
          ],
          [
           "Honda Crosstour",
           2014
          ],
          [
           "Honda Crosstour",
           2014
          ],
          [
           "Honda Crosstour",
           2014
          ],
          [
           "Honda Crosstour",
           2014
          ],
          [
           "Honda Crosstour",
           2014
          ],
          [
           "Honda Crosstour",
           2014
          ],
          [
           "Honda Crosstour",
           2014
          ],
          [
           "Honda Crosstour",
           2014
          ],
          [
           "Honda Crosstour",
           2015
          ],
          [
           "Honda Crosstour",
           2015
          ],
          [
           "Honda Crosstour",
           2015
          ],
          [
           "Honda Crosstour",
           2015
          ],
          [
           "Honda Crosstour",
           2015
          ],
          [
           "Honda Crosstour",
           2015
          ],
          [
           "Honda Crosstour",
           2015
          ],
          [
           "Honda Crosstour",
           2015
          ],
          [
           "Subaru Crosstrek",
           2016
          ],
          [
           "Subaru Crosstrek",
           2016
          ],
          [
           "Subaru Crosstrek",
           2016
          ],
          [
           "Subaru Crosstrek",
           2016
          ],
          [
           "Subaru Crosstrek",
           2016
          ],
          [
           "Subaru Crosstrek",
           2016
          ],
          [
           "Subaru Crosstrek",
           2017
          ],
          [
           "Subaru Crosstrek",
           2017
          ],
          [
           "Subaru Crosstrek",
           2017
          ],
          [
           "Subaru Crosstrek",
           2017
          ],
          [
           "Ford Crown Victoria",
           2009
          ],
          [
           "Ford Crown Victoria",
           2010
          ],
          [
           "Ford Crown Victoria",
           2011
          ],
          [
           "Chevrolet Cruze",
           2015
          ],
          [
           "Chevrolet Cruze",
           2017
          ],
          [
           "Chevrolet Cruze",
           2017
          ],
          [
           "Chevrolet Cruze",
           2017
          ],
          [
           "Lexus CT 200h",
           2015
          ],
          [
           "Lexus CT 200h",
           2016
          ],
          [
           "Lexus CT 200h",
           2017
          ],
          [
           "Cadillac CT6",
           2016
          ],
          [
           "Cadillac CT6",
           2016
          ],
          [
           "Cadillac CT6",
           2016
          ],
          [
           "Cadillac CT6",
           2016
          ],
          [
           "Cadillac CT6",
           2016
          ],
          [
           "Cadillac CT6",
           2016
          ],
          [
           "Cadillac CT6",
           2016
          ],
          [
           "Cadillac CT6",
           2016
          ],
          [
           "Cadillac CTS",
           2015
          ],
          [
           "Cadillac CTS",
           2015
          ],
          [
           "Cadillac CTS",
           2015
          ],
          [
           "Cadillac CTS",
           2015
          ],
          [
           "Cadillac CTS",
           2016
          ],
          [
           "Cadillac CTS",
           2016
          ],
          [
           "Cadillac CTS",
           2016
          ],
          [
           "Cadillac CTS",
           2016
          ],
          [
           "Cadillac CTS",
           2016
          ],
          [
           "Cadillac CTS",
           2016
          ],
          [
           "Cadillac CTS",
           2016
          ],
          [
           "Cadillac CTS",
           2016
          ],
          [
           "Cadillac CTS",
           2016
          ],
          [
           "Cadillac CTS",
           2016
          ],
          [
           "Cadillac CTS",
           2016
          ],
          [
           "Cadillac CTS",
           2016
          ],
          [
           "Cadillac CTS",
           2016
          ],
          [
           "Cadillac CTS",
           2016
          ],
          [
           "Cadillac CTS",
           2017
          ],
          [
           "Mazda CX-5",
           2015
          ],
          [
           "Mazda CX-5",
           2015
          ],
          [
           "Mazda CX-5",
           2015
          ],
          [
           "Mazda CX-5",
           2015
          ],
          [
           "Mazda CX-5",
           2015
          ],
          [
           "Mazda CX-5",
           2015
          ],
          [
           "Mazda CX-5",
           2015
          ],
          [
           "Mazda CX-5",
           2016
          ],
          [
           "Mazda CX-5",
           2016
          ],
          [
           "Mazda CX-5",
           2016
          ],
          [
           "Mazda CX-5",
           2016
          ],
          [
           "Mazda CX-5",
           2016
          ],
          [
           "Mazda CX-5",
           2016
          ],
          [
           "Mazda CX-5",
           2016
          ],
          [
           "Mazda CX-5",
           2016
          ],
          [
           "Mazda CX-5",
           2016
          ],
          [
           "Mazda CX-7",
           2012
          ],
          [
           "Mazda CX-7",
           2012
          ],
          [
           "Mazda CX-7",
           2012
          ],
          [
           "Mazda CX-9",
           2014
          ],
          [
           "Mazda CX-9",
           2014
          ],
          [
           "Mazda CX-9",
           2014
          ],
          [
           "Mazda CX-9",
           2014
          ],
          [
           "Mazda CX-9",
           2014
          ],
          [
           "Mazda CX-9",
           2014
          ],
          [
           "Mazda CX-9",
           2015
          ],
          [
           "Mazda CX-9",
           2015
          ],
          [
           "Mazda CX-9",
           2015
          ],
          [
           "Mazda CX-9",
           2015
          ],
          [
           "Mazda CX-9",
           2015
          ],
          [
           "Mazda CX-9",
           2015
          ],
          [
           "Mazda CX-9",
           2016
          ],
          [
           "Mazda CX-9",
           2016
          ],
          [
           "Mazda CX-9",
           2016
          ],
          [
           "Mazda CX-9",
           2016
          ],
          [
           "Mazda CX-9",
           2016
          ],
          [
           "Dodge Dakota",
           2009
          ],
          [
           "Dodge Dakota",
           2009
          ],
          [
           "Dodge Dakota",
           2009
          ],
          [
           "Dodge Dakota",
           2009
          ],
          [
           "Dodge Dakota",
           2009
          ],
          [
           "Dodge Dakota",
           2009
          ],
          [
           "Dodge Dakota",
           2009
          ],
          [
           "Dodge Dakota",
           2009
          ],
          [
           "Dodge Dakota",
           2009
          ],
          [
           "Dodge Dakota",
           2009
          ],
          [
           "Dodge Dakota",
           2009
          ],
          [
           "Dodge Dakota",
           2009
          ],
          [
           "Dodge Dakota",
           2009
          ],
          [
           "Dodge Dakota",
           2009
          ],
          [
           "Dodge Dakota",
           2009
          ],
          [
           "Dodge Dakota",
           2009
          ],
          [
           "Dodge Dakota",
           2009
          ],
          [
           "Dodge Dakota",
           2009
          ],
          [
           "Dodge Dakota",
           2010
          ],
          [
           "Rolls-Royce Dawn",
           2016
          ],
          [
           "Dodge Daytona",
           1991
          ],
          [
           "Dodge Daytona",
           1991
          ],
          [
           "Dodge Daytona",
           1991
          ],
          [
           "Dodge Daytona",
           1991
          ],
          [
           "Dodge Daytona",
           1991
          ],
          [
           "Dodge Daytona",
           1991
          ],
          [
           "Dodge Daytona",
           1992
          ],
          [
           "Dodge Daytona",
           1992
          ],
          [
           "Dodge Daytona",
           1992
          ],
          [
           "Dodge Daytona",
           1992
          ],
          [
           "Dodge Daytona",
           1993
          ],
          [
           "Dodge Daytona",
           1993
          ],
          [
           "Dodge Daytona",
           1993
          ],
          [
           "Dodge Daytona",
           1993
          ],
          [
           "Aston Martin DB7",
           2003
          ],
          [
           "Aston Martin DB9 GT",
           2016
          ],
          [
           "Aston Martin DB9",
           2015
          ],
          [
           "Aston Martin DBS",
           2010
          ],
          [
           "Aston Martin DBS",
           2010
          ],
          [
           "Aston Martin DBS",
           2010
          ],
          [
           "Aston Martin DBS",
           2010
          ],
          [
           "Aston Martin DBS",
           2011
          ],
          [
           "Aston Martin DBS",
           2011
          ],
          [
           "Aston Martin DBS",
           2011
          ],
          [
           "Land Rover Discovery Series II",
           2000
          ],
          [
           "Land Rover Discovery Series II",
           2001
          ],
          [
           "Land Rover Discovery Series II",
           2001
          ],
          [
           "Land Rover Discovery Series II",
           2001
          ],
          [
           "Land Rover Discovery Series II",
           2002
          ],
          [
           "Land Rover Discovery Series II",
           2002
          ],
          [
           "Land Rover Discovery Sport",
           2015
          ],
          [
           "Land Rover Discovery Sport",
           2015
          ],
          [
           "Land Rover Discovery Sport",
           2015
          ],
          [
           "Land Rover Discovery Sport",
           2016
          ],
          [
           "Land Rover Discovery Sport",
           2016
          ],
          [
           "Land Rover Discovery Sport",
           2016
          ],
          [
           "Land Rover Discovery Sport",
           2017
          ],
          [
           "Land Rover Discovery Sport",
           2017
          ],
          [
           "Land Rover Discovery Sport",
           2017
          ],
          [
           "Land Rover Discovery",
           2003
          ],
          [
           "Land Rover Discovery",
           2003
          ],
          [
           "Land Rover Discovery",
           2003
          ],
          [
           "Land Rover Discovery",
           2004
          ],
          [
           "Land Rover Discovery",
           2004
          ],
          [
           "Land Rover Discovery",
           2004
          ],
          [
           "Cadillac DTS",
           2009
          ],
          [
           "Cadillac DTS",
           2009
          ],
          [
           "Cadillac DTS",
           2009
          ],
          [
           "Cadillac DTS",
           2009
          ],
          [
           "Cadillac DTS",
           2009
          ],
          [
           "Cadillac DTS",
           2009
          ],
          [
           "Dodge Durango",
           2015
          ],
          [
           "Dodge Durango",
           2015
          ],
          [
           "Dodge Durango",
           2015
          ],
          [
           "Dodge Durango",
           2015
          ],
          [
           "Dodge Durango",
           2016
          ],
          [
           "Dodge Durango",
           2016
          ],
          [
           "Dodge Durango",
           2016
          ],
          [
           "Dodge Durango",
           2016
          ],
          [
           "Dodge Durango",
           2016
          ],
          [
           "Dodge Durango",
           2017
          ],
          [
           "Dodge Durango",
           2017
          ],
          [
           "Mercedes-Benz E-Class",
           2015
          ],
          [
           "Mercedes-Benz E-Class",
           2015
          ],
          [
           "Mercedes-Benz E-Class",
           2015
          ],
          [
           "Mercedes-Benz E-Class",
           2015
          ],
          [
           "Mercedes-Benz E-Class",
           2015
          ],
          [
           "Mercedes-Benz E-Class",
           2015
          ],
          [
           "Mercedes-Benz E-Class",
           2015
          ],
          [
           "Mitsubishi Eclipse",
           2011
          ],
          [
           "Mitsubishi Eclipse",
           2011
          ],
          [
           "Mitsubishi Eclipse",
           2012
          ],
          [
           "Mitsubishi Eclipse",
           2012
          ],
          [
           "Mitsubishi Eclipse",
           2012
          ],
          [
           "Mitsubishi Eclipse",
           2012
          ],
          [
           "Mitsubishi Eclipse",
           2012
          ],
          [
           "Ford Edge",
           2015
          ],
          [
           "Ford Edge",
           2015
          ],
          [
           "Ford Edge",
           2015
          ],
          [
           "Ford Edge",
           2015
          ],
          [
           "Ford Edge",
           2015
          ],
          [
           "Ford Edge",
           2015
          ],
          [
           "Ford Edge",
           2015
          ],
          [
           "Ford Edge",
           2015
          ],
          [
           "Hyundai Elantra Touring",
           2012
          ],
          [
           "Hyundai Elantra Touring",
           2012
          ],
          [
           "Hyundai Elantra Touring",
           2012
          ],
          [
           "Hyundai Elantra",
           2016
          ],
          [
           "Hyundai Elantra",
           2016
          ],
          [
           "Mitsubishi Endeavor",
           2008
          ],
          [
           "Mitsubishi Endeavor",
           2008
          ],
          [
           "Mitsubishi Endeavor",
           2008
          ],
          [
           "Mitsubishi Endeavor",
           2010
          ],
          [
           "Mitsubishi Endeavor",
           2010
          ],
          [
           "Mitsubishi Endeavor",
           2010
          ],
          [
           "Mitsubishi Endeavor",
           2011
          ],
          [
           "Mitsubishi Endeavor",
           2011
          ],
          [
           "Mitsubishi Endeavor",
           2011
          ],
          [
           "Buick Envision",
           2017
          ],
          [
           "Buick Envision",
           2017
          ],
          [
           "Ferrari Enzo",
           2003
          ],
          [
           "Lexus ES 330",
           2004
          ],
          [
           "Lexus ES 330",
           2005
          ],
          [
           "Lexus ES 330",
           2006
          ],
          [
           "Lexus ES 350",
           2015
          ],
          [
           "Lexus ES 350",
           2015
          ],
          [
           "Lexus ES 350",
           2016
          ],
          [
           "Lexus ES 350",
           2017
          ],
          [
           "Cadillac Escalade ESV",
           2015
          ],
          [
           "Cadillac Escalade ESV",
           2015
          ],
          [
           "Cadillac Escalade ESV",
           2015
          ],
          [
           "Cadillac Escalade ESV",
           2015
          ],
          [
           "Cadillac Escalade ESV",
           2015
          ],
          [
           "Cadillac Escalade ESV",
           2015
          ],
          [
           "Cadillac Escalade ESV",
           2015
          ],
          [
           "Cadillac Escalade ESV",
           2015
          ],
          [
           "Cadillac Escalade ESV",
           2015
          ],
          [
           "Cadillac Escalade ESV",
           2015
          ],
          [
           "Cadillac Escalade ESV",
           2016
          ],
          [
           "Cadillac Escalade ESV",
           2016
          ],
          [
           "Cadillac Escalade ESV",
           2017
          ],
          [
           "Ford Escape",
           2016
          ],
          [
           "Ford Escape",
           2016
          ],
          [
           "Ford Escape",
           2016
          ],
          [
           "Ford Escape",
           2016
          ],
          [
           "Lotus Esprit",
           2002
          ],
          [
           "Lotus Esprit",
           2003
          ],
          [
           "Lotus Esprit",
           2004
          ],
          [
           "Ford Explorer Sport Trac",
           2009
          ],
          [
           "Ford Explorer",
           2016
          ],
          [
           "Ford Explorer",
           2016
          ],
          [
           "Ford Explorer",
           2016
          ],
          [
           "Ford Explorer",
           2016
          ],
          [
           "Ford Explorer",
           2016
          ],
          [
           "Ford Explorer",
           2016
          ],
          [
           "Ford Explorer",
           2016
          ],
          [
           "Ford Explorer",
           2017
          ],
          [
           "Ford Explorer",
           2017
          ],
          [
           "Ford Explorer",
           2017
          ],
          [
           "Ford Explorer",
           2017
          ],
          [
           "Ford Explorer",
           2017
          ],
          [
           "Ford Explorer",
           2017
          ],
          [
           "Mitsubishi Expo",
           1993
          ],
          [
           "Mitsubishi Expo",
           1993
          ],
          [
           "Mitsubishi Expo",
           1993
          ],
          [
           "Mitsubishi Expo",
           1993
          ],
          [
           "Mitsubishi Expo",
           1993
          ],
          [
           "Mitsubishi Expo",
           1993
          ],
          [
           "Mitsubishi Expo",
           1993
          ],
          [
           "Mitsubishi Expo",
           1994
          ],
          [
           "Mitsubishi Expo",
           1994
          ],
          [
           "Mitsubishi Expo",
           1994
          ],
          [
           "Mitsubishi Expo",
           1994
          ],
          [
           "Mitsubishi Expo",
           1994
          ],
          [
           "Mitsubishi Expo",
           1995
          ],
          [
           "Mitsubishi Expo",
           1995
          ],
          [
           "Chevrolet Express Cargo",
           2014
          ],
          [
           "Chevrolet Express Cargo",
           2014
          ],
          [
           "Chevrolet Express",
           2014
          ],
          [
           "Chevrolet Express",
           2014
          ],
          [
           "Chevrolet Express",
           2014
          ],
          [
           "Chevrolet Express",
           2015
          ],
          [
           "Chevrolet Express",
           2016
          ],
          [
           "Chevrolet Express",
           2016
          ],
          [
           "Ford F-150",
           2015
          ],
          [
           "Ford F-150",
           2015
          ],
          [
           "Ford F-150",
           2015
          ],
          [
           "Ford F-150",
           2015
          ],
          [
           "Ford F-150",
           2015
          ],
          [
           "Ford F-150",
           2015
          ],
          [
           "Ford F-150",
           2015
          ],
          [
           "Ford F-150",
           2015
          ],
          [
           "Ford F-150",
           2015
          ],
          [
           "Ford F-150",
           2015
          ],
          [
           "Ford F-150",
           2015
          ],
          [
           "Ford F-150",
           2015
          ],
          [
           "Ford F-150",
           2015
          ],
          [
           "Ford F-150",
           2015
          ],
          [
           "Ford F-150",
           2015
          ],
          [
           "Ford F-150",
           2015
          ],
          [
           "Ford F-150",
           2015
          ],
          [
           "Ford F-150",
           2015
          ],
          [
           "Ford F-150",
           2015
          ],
          [
           "Ford F-150",
           2015
          ],
          [
           "Ford F-150",
           2015
          ],
          [
           "Ford F-150",
           2015
          ],
          [
           "Ford F-150",
           2015
          ],
          [
           "Ford F-150",
           2015
          ],
          [
           "Ford F-150",
           2015
          ],
          [
           "Ford F-150",
           2015
          ],
          [
           "Ford F-150",
           2015
          ],
          [
           "Ford F-150",
           2016
          ],
          [
           "Ford F-150",
           2016
          ],
          [
           "Ford F-150",
           2016
          ],
          [
           "Ford F-150",
           2016
          ],
          [
           "Ford F-150",
           2016
          ],
          [
           "Ford F-150",
           2016
          ],
          [
           "Ford F-150",
           2016
          ],
          [
           "Ford F-150",
           2016
          ],
          [
           "Ford F-150",
           2016
          ],
          [
           "Ford F-150",
           2016
          ],
          [
           "Ford F-150",
           2016
          ],
          [
           "Ford F-150",
           2016
          ],
          [
           "Ford F-150",
           2016
          ],
          [
           "Ford F-150",
           2016
          ],
          [
           "Ford F-150",
           2016
          ],
          [
           "Ford F-150",
           2016
          ],
          [
           "Ford F-150",
           2016
          ],
          [
           "Ford F-150",
           2016
          ],
          [
           "Ford F-150",
           2016
          ],
          [
           "Ford F-150",
           2016
          ],
          [
           "Ford F-150",
           2016
          ],
          [
           "Ford F-150",
           2016
          ],
          [
           "Ford F-150",
           2016
          ],
          [
           "Ford F-150",
           2016
          ],
          [
           "Ford F-150",
           2017
          ],
          [
           "Ford F-150",
           2017
          ],
          [
           "Ford F-150",
           2017
          ],
          [
           "Ford F-150",
           2017
          ],
          [
           "Ford F-150",
           2017
          ],
          [
           "Ford F-150",
           2017
          ],
          [
           "Ford F-150",
           2017
          ],
          [
           "Ford F-150",
           2017
          ],
          [
           "Ford F-150",
           2017
          ],
          [
           "Ford F-150",
           2017
          ],
          [
           "Ford F-150",
           2017
          ],
          [
           "Ford F-150",
           2017
          ],
          [
           "Ford F-150",
           2017
          ],
          [
           "Ford F-150",
           2017
          ],
          [
           "Ford F-150",
           2017
          ],
          [
           "Ford F-150",
           2017
          ],
          [
           "Ford F-150",
           2017
          ],
          [
           "Ford F-150",
           2017
          ],
          [
           "Ford F-150",
           2017
          ],
          [
           "Ford F-150",
           2017
          ],
          [
           "Ford F-150",
           2017
          ],
          [
           "Ford F-150",
           2017
          ],
          [
           "Ford F-150",
           2017
          ],
          [
           "Ford F-150",
           2017
          ],
          [
           "Ford F-150",
           2017
          ],
          [
           "Ford F-150",
           2017
          ],
          [
           "Ford F-150",
           2017
          ],
          [
           "Ford F-150",
           2017
          ],
          [
           "Ford F-150",
           2017
          ],
          [
           "Ford F-150",
           2017
          ],
          [
           "Ford F-150",
           2017
          ],
          [
           "Ford Festiva",
           1992
          ],
          [
           "Ford Festiva",
           1992
          ],
          [
           "Ford Festiva",
           1993
          ],
          [
           "Ford Festiva",
           1993
          ],
          [
           "Ferrari FF",
           2014
          ],
          [
           "Ferrari FF",
           2015
          ],
          [
           "Pontiac Firebird",
           2001
          ],
          [
           "Pontiac Firebird",
           2001
          ],
          [
           "Pontiac Firebird",
           2001
          ],
          [
           "Pontiac Firebird",
           2002
          ],
          [
           "Pontiac Firebird",
           2002
          ],
          [
           "Pontiac Firebird",
           2002
          ],
          [
           "Pontiac Firebird",
           2002
          ],
          [
           "Honda Fit",
           2015
          ],
          [
           "Honda Fit",
           2015
          ],
          [
           "Honda Fit",
           2015
          ],
          [
           "Honda Fit",
           2015
          ],
          [
           "Honda Fit",
           2016
          ],
          [
           "Cadillac Fleetwood",
           1994
          ],
          [
           "Cadillac Fleetwood",
           1995
          ],
          [
           "Cadillac Fleetwood",
           1996
          ],
          [
           "Ford Flex",
           2015
          ],
          [
           "Ford Flex",
           2015
          ],
          [
           "Ford Flex",
           2015
          ],
          [
           "Ford Flex",
           2015
          ],
          [
           "Ford Flex",
           2015
          ],
          [
           "Ford Flex",
           2015
          ],
          [
           "Ford Flex",
           2016
          ],
          [
           "Ford Flex",
           2016
          ],
          [
           "Ford Flex",
           2016
          ],
          [
           "Bentley Flying Spur",
           2015
          ],
          [
           "Bentley Flying Spur",
           2016
          ],
          [
           "Bentley Flying Spur",
           2016
          ],
          [
           "Ford Focus RS",
           2017
          ],
          [
           "Ford Focus ST",
           2015
          ],
          [
           "Ford Focus ST",
           2016
          ],
          [
           "Ford Focus ST",
           2017
          ],
          [
           "Ford Focus",
           2015
          ],
          [
           "Ford Focus",
           2015
          ],
          [
           "Ford Focus",
           2015
          ],
          [
           "Subaru Forester",
           2015
          ],
          [
           "Subaru Forester",
           2015
          ],
          [
           "Subaru Forester",
           2015
          ],
          [
           "Subaru Forester",
           2015
          ],
          [
           "Subaru Forester",
           2015
          ],
          [
           "Subaru Forester",
           2015
          ],
          [
           "Subaru Forester",
           2015
          ],
          [
           "Subaru Forester",
           2015
          ],
          [
           "Subaru Forester",
           2016
          ],
          [
           "Subaru Forester",
           2016
          ],
          [
           "Subaru Forester",
           2016
          ],
          [
           "Subaru Forester",
           2016
          ],
          [
           "Subaru Forester",
           2016
          ],
          [
           "Subaru Forester",
           2016
          ],
          [
           "Subaru Forester",
           2016
          ],
          [
           "Subaru Forester",
           2016
          ],
          [
           "Kia Forte",
           2016
          ],
          [
           "Scion FR-S",
           2015
          ],
          [
           "Scion FR-S",
           2015
          ],
          [
           "Scion FR-S",
           2015
          ],
          [
           "Scion FR-S",
           2015
          ],
          [
           "Scion FR-S",
           2016
          ],
          [
           "Scion FR-S",
           2016
          ],
          [
           "Scion FR-S",
           2016
          ],
          [
           "Scion FR-S",
           2016
          ],
          [
           "Land Rover Freelander",
           2003
          ],
          [
           "Land Rover Freelander",
           2003
          ],
          [
           "Land Rover Freelander",
           2003
          ],
          [
           "Land Rover Freelander",
           2003
          ],
          [
           "Land Rover Freelander",
           2004
          ],
          [
           "Land Rover Freelander",
           2004
          ],
          [
           "Land Rover Freelander",
           2005
          ],
          [
           "Land Rover Freelander",
           2005
          ],
          [
           "Ford Freestyle",
           2007
          ],
          [
           "Ford Fusion Hybrid",
           2015
          ],
          [
           "Ford Fusion Hybrid",
           2015
          ],
          [
           "Ford Fusion Hybrid",
           2015
          ],
          [
           "Ford Fusion Hybrid",
           2016
          ],
          [
           "Infiniti FX45",
           2006
          ],
          [
           "Infiniti FX45",
           2007
          ],
          [
           "Infiniti FX45",
           2008
          ],
          [
           "Infiniti FX50",
           2009
          ],
          [
           "Infiniti FX50",
           2010
          ],
          [
           "Infiniti FX",
           2011
          ],
          [
           "Infiniti FX",
           2011
          ],
          [
           "Infiniti FX",
           2011
          ],
          [
           "Infiniti FX",
           2012
          ],
          [
           "Infiniti FX",
           2012
          ],
          [
           "Infiniti FX",
           2012
          ],
          [
           "Infiniti FX",
           2012
          ],
          [
           "Infiniti FX",
           2013
          ],
          [
           "Infiniti FX",
           2013
          ],
          [
           "Infiniti FX",
           2013
          ],
          [
           "Infiniti FX",
           2013
          ],
          [
           "Mercedes-Benz G-Class",
           2015
          ],
          [
           "Mercedes-Benz G-Class",
           2015
          ],
          [
           "Mercedes-Benz G-Class",
           2016
          ],
          [
           "Mercedes-Benz G-Class",
           2016
          ],
          [
           "Infiniti G Sedan",
           2013
          ],
          [
           "Infiniti G20",
           2001
          ],
          [
           "Infiniti G35",
           2006
          ],
          [
           "Infiniti G35",
           2006
          ],
          [
           "Infiniti G37",
           2009
          ],
          [
           "Infiniti G37",
           2009
          ],
          [
           "Pontiac G6",
           2009
          ],
          [
           "Pontiac G6",
           2009
          ],
          [
           "Pontiac G6",
           2009
          ],
          [
           "Pontiac G6",
           2009
          ],
          [
           "Genesis G80",
           2017
          ],
          [
           "Genesis G80",
           2017
          ],
          [
           "Pontiac G8",
           2008
          ],
          [
           "Pontiac G8",
           2009
          ],
          [
           "Lamborghini Gallardo",
           2012
          ],
          [
           "Lamborghini Gallardo",
           2013
          ],
          [
           "Lamborghini Gallardo",
           2013
          ],
          [
           "Lamborghini Gallardo",
           2014
          ],
          [
           "Lamborghini Gallardo",
           2014
          ],
          [
           "Lamborghini Gallardo",
           2014
          ],
          [
           "Lamborghini Gallardo",
           2014
          ],
          [
           "Lamborghini Gallardo",
           2014
          ],
          [
           "Lamborghini Gallardo",
           2014
          ],
          [
           "Lamborghini Gallardo",
           2014
          ],
          [
           "Lamborghini Gallardo",
           2014
          ],
          [
           "Lamborghini Gallardo",
           2014
          ],
          [
           "Lamborghini Gallardo",
           2014
          ],
          [
           "Lamborghini Gallardo",
           2014
          ],
          [
           "Lamborghini Gallardo",
           2014
          ],
          [
           "Lamborghini Gallardo",
           2014
          ],
          [
           "Hyundai Genesis Coupe",
           2014
          ],
          [
           "Hyundai Genesis Coupe",
           2014
          ],
          [
           "Hyundai Genesis Coupe",
           2014
          ],
          [
           "Hyundai Genesis Coupe",
           2014
          ],
          [
           "Hyundai Genesis Coupe",
           2014
          ],
          [
           "Hyundai Genesis Coupe",
           2014
          ],
          [
           "Hyundai Genesis Coupe",
           2014
          ],
          [
           "Hyundai Genesis Coupe",
           2014
          ],
          [
           "Hyundai Genesis Coupe",
           2015
          ],
          [
           "Hyundai Genesis Coupe",
           2015
          ],
          [
           "Hyundai Genesis Coupe",
           2015
          ],
          [
           "Hyundai Genesis Coupe",
           2015
          ],
          [
           "Hyundai Genesis Coupe",
           2015
          ],
          [
           "Hyundai Genesis Coupe",
           2016
          ],
          [
           "Hyundai Genesis Coupe",
           2016
          ],
          [
           "Hyundai Genesis Coupe",
           2016
          ],
          [
           "Hyundai Genesis Coupe",
           2016
          ],
          [
           "Hyundai Genesis",
           2014
          ],
          [
           "Hyundai Genesis",
           2015
          ],
          [
           "Hyundai Genesis",
           2016
          ],
          [
           "Maserati Ghibli",
           2015
          ],
          [
           "Rolls-Royce Ghost",
           2012
          ],
          [
           "Rolls-Royce Ghost",
           2013
          ],
          [
           "Rolls-Royce Ghost",
           2013
          ],
          [
           "Rolls-Royce Ghost",
           2014
          ],
          [
           "Rolls-Royce Ghost",
           2014
          ],
          [
           "Mercedes-Benz GL-Class",
           2014
          ],
          [
           "Mercedes-Benz GL-Class",
           2014
          ],
          [
           "Mercedes-Benz GL-Class",
           2014
          ],
          [
           "Mercedes-Benz GL-Class",
           2014
          ],
          [
           "Mercedes-Benz GL-Class",
           2015
          ],
          [
           "Mercedes-Benz GL-Class",
           2015
          ],
          [
           "Mercedes-Benz GL-Class",
           2015
          ],
          [
           "Mercedes-Benz GL-Class",
           2015
          ],
          [
           "Mercedes-Benz GL-Class",
           2016
          ],
          [
           "Mercedes-Benz GL-Class",
           2016
          ],
          [
           "Mercedes-Benz GL-Class",
           2016
          ],
          [
           "Mercedes-Benz GL-Class",
           2016
          ],
          [
           "Mercedes-Benz GLA-Class",
           2015
          ],
          [
           "Mercedes-Benz GLA-Class",
           2015
          ],
          [
           "Mercedes-Benz GLA-Class",
           2015
          ],
          [
           "Mercedes-Benz GLA-Class",
           2016
          ],
          [
           "Mercedes-Benz GLA-Class",
           2016
          ],
          [
           "Mercedes-Benz GLA-Class",
           2016
          ],
          [
           "Mercedes-Benz GLA-Class",
           2017
          ],
          [
           "Mercedes-Benz GLA-Class",
           2017
          ],
          [
           "Mercedes-Benz GLA-Class",
           2017
          ],
          [
           "Mercedes-Benz GLC-Class",
           2016
          ],
          [
           "Mercedes-Benz GLC-Class",
           2016
          ],
          [
           "Mercedes-Benz GLC-Class",
           2017
          ],
          [
           "Mercedes-Benz GLC-Class",
           2017
          ],
          [
           "Mercedes-Benz GLE-Class Coupe",
           2016
          ],
          [
           "Mercedes-Benz GLE-Class Coupe",
           2016
          ],
          [
           "Mercedes-Benz GLE-Class Coupe",
           2017
          ],
          [
           "Mercedes-Benz GLE-Class Coupe",
           2017
          ],
          [
           "Mercedes-Benz GLE-Class",
           2016
          ],
          [
           "Mercedes-Benz GLE-Class",
           2016
          ],
          [
           "Mercedes-Benz GLE-Class",
           2016
          ],
          [
           "Mercedes-Benz GLE-Class",
           2016
          ],
          [
           "Mercedes-Benz GLE-Class",
           2016
          ],
          [
           "Mercedes-Benz GLE-Class",
           2016
          ],
          [
           "Mercedes-Benz GLE-Class",
           2017
          ],
          [
           "Mercedes-Benz GLE-Class",
           2017
          ],
          [
           "Mercedes-Benz GLE-Class",
           2017
          ],
          [
           "Mercedes-Benz GLE-Class",
           2017
          ],
          [
           "Mercedes-Benz GLE-Class",
           2017
          ],
          [
           "Volkswagen GLI",
           2008
          ],
          [
           "Volkswagen GLI",
           2008
          ],
          [
           "Volkswagen GLI",
           2008
          ],
          [
           "Volkswagen Golf GTI",
           2017
          ],
          [
           "Volkswagen Golf GTI",
           2017
          ],
          [
           "Volkswagen Golf GTI",
           2017
          ],
          [
           "Volkswagen Golf GTI",
           2017
          ],
          [
           "Volkswagen Golf GTI",
           2017
          ],
          [
           "Volkswagen Golf R",
           2015
          ],
          [
           "Volkswagen Golf R",
           2015
          ],
          [
           "Volkswagen Golf R",
           2016
          ],
          [
           "Volkswagen Golf R",
           2016
          ],
          [
           "Volkswagen Golf R",
           2016
          ],
          [
           "Volkswagen Golf R",
           2017
          ],
          [
           "Volkswagen Golf SportWagen",
           2015
          ],
          [
           "Volkswagen Golf SportWagen",
           2015
          ],
          [
           "Volkswagen Golf SportWagen",
           2015
          ],
          [
           "Volkswagen Golf SportWagen",
           2015
          ],
          [
           "Volkswagen Golf",
           2015
          ],
          [
           "Volkswagen Golf",
           2015
          ],
          [
           "Volkswagen Golf",
           2015
          ],
          [
           "Volkswagen Golf",
           2015
          ],
          [
           "Volkswagen Golf",
           2016
          ],
          [
           "Volkswagen Golf",
           2016
          ],
          [
           "Volkswagen Golf",
           2016
          ],
          [
           "Volkswagen Golf",
           2017
          ],
          [
           "Volkswagen Golf",
           2017
          ],
          [
           "Dodge Grand Caravan",
           2015
          ],
          [
           "Dodge Grand Caravan",
           2015
          ],
          [
           "Dodge Grand Caravan",
           2015
          ],
          [
           "Dodge Grand Caravan",
           2015
          ],
          [
           "Dodge Grand Caravan",
           2016
          ],
          [
           "Dodge Grand Caravan",
           2016
          ],
          [
           "Dodge Grand Caravan",
           2016
          ],
          [
           "Pontiac Grand Prix",
           2006
          ],
          [
           "Pontiac Grand Prix",
           2008
          ],
          [
           "Suzuki Grand Vitara",
           2011
          ],
          [
           "Suzuki Grand Vitara",
           2011
          ],
          [
           "Suzuki Grand Vitara",
           2011
          ],
          [
           "Suzuki Grand Vitara",
           2011
          ],
          [
           "Suzuki Grand Vitara",
           2011
          ],
          [
           "Suzuki Grand Vitara",
           2012
          ],
          [
           "Suzuki Grand Vitara",
           2012
          ],
          [
           "Suzuki Grand Vitara",
           2012
          ],
          [
           "Suzuki Grand Vitara",
           2012
          ],
          [
           "Suzuki Grand Vitara",
           2012
          ],
          [
           "Suzuki Grand Vitara",
           2012
          ],
          [
           "Suzuki Grand Vitara",
           2012
          ],
          [
           "Suzuki Grand Vitara",
           2013
          ],
          [
           "Suzuki Grand Vitara",
           2013
          ],
          [
           "Suzuki Grand Vitara",
           2013
          ],
          [
           "Suzuki Grand Vitara",
           2013
          ],
          [
           "Suzuki Grand Vitara",
           2013
          ],
          [
           "Chrysler Grand Voyager",
           2000
          ],
          [
           "Plymouth Grand Voyager",
           1999
          ],
          [
           "Plymouth Grand Voyager",
           1999
          ],
          [
           "Maserati GranSport",
           2005
          ],
          [
           "Maserati GranSport",
           2006
          ],
          [
           "Maserati GranSport",
           2006
          ],
          [
           "Maserati GranTurismo Convertible",
           2014
          ],
          [
           "Maserati GranTurismo Convertible",
           2014
          ],
          [
           "Maserati GranTurismo Convertible",
           2016
          ],
          [
           "Maserati GranTurismo Convertible",
           2016
          ],
          [
           "Maserati GranTurismo",
           2014
          ],
          [
           "Maserati GranTurismo",
           2014
          ],
          [
           "Maserati GranTurismo",
           2015
          ],
          [
           "Maserati GranTurismo",
           2015
          ],
          [
           "Maserati GranTurismo",
           2015
          ],
          [
           "Maserati GranTurismo",
           2016
          ],
          [
           "Maserati GranTurismo",
           2016
          ],
          [
           "Maserati GranTurismo",
           2016
          ],
          [
           "Lexus GS 200t",
           2016
          ],
          [
           "Lexus GS 200t",
           2016
          ],
          [
           "Lexus GS 200t",
           2017
          ],
          [
           "Lexus GS 200t",
           2017
          ],
          [
           "Lexus GS 300",
           2005
          ],
          [
           "Lexus GS 300",
           2006
          ],
          [
           "Lexus GS 350",
           2015
          ],
          [
           "Lexus GS 350",
           2015
          ],
          [
           "Lexus GS 350",
           2016
          ],
          [
           "Lexus GS 350",
           2016
          ],
          [
           "Lexus GS 350",
           2016
          ],
          [
           "Lexus GS 350",
           2017
          ],
          [
           "Lexus GS 350",
           2017
          ],
          [
           "Lexus GS 350",
           2017
          ],
          [
           "Lexus GS 350",
           2017
          ],
          [
           "Lexus GS 400",
           1998
          ],
          [
           "Lexus GS 400",
           1999
          ],
          [
           "Lexus GS 400",
           2000
          ],
          [
           "Lexus GS 430",
           2005
          ],
          [
           "Lexus GS 430",
           2006
          ],
          [
           "Lexus GS 430",
           2007
          ],
          [
           "Lexus GS 450h",
           2014
          ],
          [
           "Lexus GS 450h",
           2015
          ],
          [
           "Lexus GS 450h",
           2016
          ],
          [
           "Lexus GS 460",
           2009
          ],
          [
           "Lexus GS 460",
           2010
          ],
          [
           "Lexus GS 460",
           2011
          ],
          [
           "Lexus GS F",
           2016
          ],
          [
           "Nissan GT-R",
           2015
          ],
          [
           "Nissan GT-R",
           2015
          ],
          [
           "Nissan GT-R",
           2015
          ],
          [
           "Nissan GT-R",
           2015
          ],
          [
           "Nissan GT-R",
           2016
          ],
          [
           "Volkswagen GTI",
           2013
          ],
          [
           "Volkswagen GTI",
           2013
          ],
          [
           "Volkswagen GTI",
           2013
          ],
          [
           "Volkswagen GTI",
           2013
          ],
          [
           "Volkswagen GTI",
           2013
          ],
          [
           "Volkswagen GTI",
           2013
          ],
          [
           "Volkswagen GTI",
           2013
          ],
          [
           "Volkswagen GTI",
           2013
          ],
          [
           "Volkswagen GTI",
           2013
          ],
          [
           "Volkswagen GTI",
           2013
          ],
          [
           "Volkswagen GTI",
           2013
          ],
          [
           "Volkswagen GTI",
           2013
          ],
          [
           "Volkswagen GTI",
           2013
          ],
          [
           "Volkswagen GTI",
           2013
          ],
          [
           "Volkswagen GTI",
           2013
          ],
          [
           "Volkswagen GTI",
           2013
          ],
          [
           "Volkswagen GTI",
           2013
          ],
          [
           "Volkswagen GTI",
           2013
          ],
          [
           "Volkswagen GTI",
           2013
          ],
          [
           "Volkswagen GTI",
           2013
          ],
          [
           "Volkswagen GTI",
           2013
          ],
          [
           "Volkswagen GTI",
           2013
          ],
          [
           "Volkswagen GTI",
           2013
          ],
          [
           "Volkswagen GTI",
           2014
          ],
          [
           "Volkswagen GTI",
           2014
          ],
          [
           "Volkswagen GTI",
           2014
          ],
          [
           "Pontiac GTO",
           2004
          ],
          [
           "Pontiac GTO",
           2005
          ],
          [
           "Pontiac GTO",
           2006
          ],
          [
           "Lexus GX 460",
           2015
          ],
          [
           "Lexus GX 460",
           2015
          ],
          [
           "Lexus GX 460",
           2016
          ],
          [
           "Lexus GX 460",
           2016
          ],
          [
           "Lexus GX 460",
           2017
          ],
          [
           "Lexus GX 470",
           2007
          ],
          [
           "Lexus GX 470",
           2009
          ],
          [
           "HUMMER H3",
           2008
          ],
          [
           "HUMMER H3",
           2008
          ],
          [
           "HUMMER H3",
           2008
          ],
          [
           "HUMMER H3",
           2009
          ],
          [
           "Chevrolet HHR",
           2010
          ],
          [
           "Chevrolet HHR",
           2011
          ],
          [
           "Toyota Highlander Hybrid",
           2015
          ],
          [
           "Toyota Highlander Hybrid",
           2015
          ],
          [
           "Toyota Highlander",
           2015
          ],
          [
           "Toyota Highlander",
           2015
          ],
          [
           "Toyota Highlander",
           2015
          ],
          [
           "Toyota Highlander",
           2015
          ],
          [
           "Toyota Highlander",
           2015
          ],
          [
           "Toyota Highlander",
           2016
          ],
          [
           "Toyota Highlander",
           2016
          ],
          [
           "Toyota Highlander",
           2016
          ],
          [
           "Toyota Highlander",
           2016
          ],
          [
           "Plymouth Horizon",
           1990
          ],
          [
           "Honda HR-V",
           2016
          ],
          [
           "Honda HR-V",
           2016
          ],
          [
           "Honda HR-V",
           2017
          ],
          [
           "Honda HR-V",
           2017
          ],
          [
           "Lexus HS 250h",
           2010
          ],
          [
           "Lexus HS 250h",
           2010
          ],
          [
           "Lexus HS 250h",
           2011
          ],
          [
           "Lamborghini Huracan",
           2015
          ],
          [
           "Infiniti I30",
           1999
          ],
          [
           "Infiniti I30",
           1999
          ],
          [
           "Chevrolet Impala Limited",
           2016
          ],
          [
           "Chevrolet Impala Limited",
           2016
          ],
          [
           "Chevrolet Impala",
           2015
          ],
          [
           "Chevrolet Impala",
           2015
          ],
          [
           "Chevrolet Impala",
           2016
          ],
          [
           "Chevrolet Impala",
           2016
          ],
          [
           "Chevrolet Impala",
           2017
          ],
          [
           "Subaru Impreza WRX",
           2013
          ],
          [
           "Subaru Impreza WRX",
           2013
          ],
          [
           "Subaru Impreza WRX",
           2013
          ],
          [
           "Subaru Impreza WRX",
           2013
          ],
          [
           "Subaru Impreza WRX",
           2013
          ],
          [
           "Subaru Impreza WRX",
           2013
          ],
          [
           "Subaru Impreza WRX",
           2013
          ],
          [
           "Subaru Impreza WRX",
           2013
          ],
          [
           "Subaru Impreza WRX",
           2013
          ],
          [
           "Subaru Impreza WRX",
           2014
          ],
          [
           "Subaru Impreza WRX",
           2014
          ],
          [
           "Subaru Impreza WRX",
           2014
          ],
          [
           "Honda Insight",
           2013
          ],
          [
           "Honda Insight",
           2013
          ],
          [
           "Honda Insight",
           2013
          ],
          [
           "Honda Insight",
           2013
          ],
          [
           "Honda Insight",
           2013
          ],
          [
           "Honda Insight",
           2013
          ],
          [
           "Honda Insight",
           2013
          ],
          [
           "Honda Insight",
           2014
          ],
          [
           "Honda Insight",
           2014
          ],
          [
           "Honda Insight",
           2014
          ],
          [
           "Honda Insight",
           2014
          ],
          [
           "Acura Integra",
           1999
          ],
          [
           "Acura Integra",
           1999
          ],
          [
           "Acura Integra",
           1999
          ],
          [
           "Acura Integra",
           1999
          ],
          [
           "Acura Integra",
           1999
          ],
          [
           "Acura Integra",
           1999
          ],
          [
           "Acura Integra",
           2000
          ],
          [
           "Acura Integra",
           2000
          ],
          [
           "Acura Integra",
           2000
          ],
          [
           "Acura Integra",
           2000
          ],
          [
           "Acura Integra",
           2000
          ],
          [
           "Acura Integra",
           2000
          ],
          [
           "Acura Integra",
           2000
          ],
          [
           "Scion iQ",
           2013
          ],
          [
           "Scion iQ",
           2014
          ],
          [
           "Scion iQ",
           2014
          ],
          [
           "Scion iQ",
           2015
          ],
          [
           "Lexus IS 200t",
           2017
          ],
          [
           "Lexus IS 250 C",
           2013
          ],
          [
           "Lexus IS 250 C",
           2014
          ],
          [
           "Lexus IS 250 C",
           2015
          ],
          [
           "Lexus IS 250",
           2013
          ],
          [
           "Lexus IS 250",
           2014
          ],
          [
           "Lexus IS 250",
           2014
          ],
          [
           "Volkswagen Jetta GLI",
           2013
          ],
          [
           "Volkswagen Jetta GLI",
           2013
          ],
          [
           "Volkswagen Jetta GLI",
           2013
          ],
          [
           "Volkswagen Jetta GLI",
           2013
          ],
          [
           "Volkswagen Jetta GLI",
           2013
          ],
          [
           "Volkswagen Jetta GLI",
           2013
          ],
          [
           "Volkswagen Jetta GLI",
           2013
          ],
          [
           "Volkswagen Jetta GLI",
           2013
          ],
          [
           "Volkswagen Jetta GLI",
           2013
          ],
          [
           "Volkswagen Jetta GLI",
           2013
          ],
          [
           "Volkswagen Jetta GLI",
           2013
          ],
          [
           "Volkswagen Jetta GLI",
           2013
          ],
          [
           "Volkswagen Jetta GLI",
           2013
          ],
          [
           "Volkswagen Jetta GLI",
           2013
          ],
          [
           "Volkswagen Jetta GLI",
           2013
          ],
          [
           "Volkswagen Jetta GLI",
           2013
          ],
          [
           "Volkswagen Jetta GLI",
           2013
          ],
          [
           "Volkswagen Jetta Hybrid",
           2014
          ],
          [
           "Volkswagen Jetta Hybrid",
           2014
          ],
          [
           "Volkswagen Jetta SportWagen",
           2012
          ],
          [
           "Volkswagen Jetta SportWagen",
           2012
          ],
          [
           "Volkswagen Jetta SportWagen",
           2013
          ],
          [
           "Volkswagen Jetta SportWagen",
           2014
          ],
          [
           "Volkswagen Jetta",
           2015
          ],
          [
           "Volkswagen Jetta",
           2015
          ],
          [
           "Volkswagen Jetta",
           2015
          ],
          [
           "Volkswagen Jetta",
           2015
          ],
          [
           "Volkswagen Jetta",
           2015
          ],
          [
           "Volkswagen Jetta",
           2015
          ],
          [
           "Volkswagen Jetta",
           2015
          ],
          [
           "Volkswagen Jetta",
           2015
          ],
          [
           "Volkswagen Jetta",
           2015
          ],
          [
           "Volkswagen Jetta",
           2015
          ],
          [
           "Volkswagen Jetta",
           2015
          ],
          [
           "Volkswagen Jetta",
           2015
          ],
          [
           "Volkswagen Jetta",
           2015
          ],
          [
           "Volkswagen Jetta",
           2016
          ],
          [
           "Volkswagen Jetta",
           2016
          ],
          [
           "Volkswagen Jetta",
           2016
          ],
          [
           "Dodge Journey",
           2015
          ],
          [
           "Dodge Journey",
           2015
          ],
          [
           "Dodge Journey",
           2015
          ],
          [
           "Dodge Journey",
           2016
          ],
          [
           "Dodge Journey",
           2016
          ],
          [
           "Dodge Journey",
           2016
          ],
          [
           "Dodge Journey",
           2016
          ],
          [
           "Dodge Journey",
           2016
          ],
          [
           "Dodge Journey",
           2016
          ],
          [
           "Dodge Journey",
           2016
          ],
          [
           "Dodge Journey",
           2016
          ],
          [
           "Dodge Journey",
           2017
          ],
          [
           "Dodge Journey",
           2017
          ],
          [
           "Dodge Journey",
           2017
          ],
          [
           "Dodge Journey",
           2017
          ],
          [
           "Dodge Journey",
           2017
          ],
          [
           "Dodge Journey",
           2017
          ],
          [
           "Dodge Journey",
           2017
          ],
          [
           "Dodge Journey",
           2017
          ],
          [
           "Dodge Journey",
           2017
          ],
          [
           "Dodge Journey",
           2017
          ],
          [
           "Nissan Juke",
           2015
          ],
          [
           "Nissan Juke",
           2015
          ],
          [
           "Nissan Juke",
           2015
          ],
          [
           "Nissan Juke",
           2015
          ],
          [
           "Nissan Juke",
           2015
          ],
          [
           "Nissan Juke",
           2015
          ],
          [
           "Nissan Juke",
           2015
          ],
          [
           "Nissan Juke",
           2015
          ],
          [
           "Nissan Juke",
           2015
          ],
          [
           "Nissan Juke",
           2015
          ],
          [
           "Nissan Juke",
           2016
          ],
          [
           "Nissan Juke",
           2016
          ],
          [
           "Nissan Juke",
           2016
          ],
          [
           "Nissan Juke",
           2016
          ],
          [
           "Nissan Juke",
           2016
          ],
          [
           "Nissan Juke",
           2016
          ],
          [
           "Nissan Juke",
           2016
          ],
          [
           "Nissan Juke",
           2016
          ],
          [
           "Nissan Juke",
           2016
          ],
          [
           "Nissan Juke",
           2016
          ],
          [
           "Nissan Juke",
           2017
          ],
          [
           "Nissan Juke",
           2017
          ],
          [
           "Nissan Juke",
           2017
          ],
          [
           "Nissan Juke",
           2017
          ],
          [
           "Nissan Juke",
           2017
          ],
          [
           "Nissan Juke",
           2017
          ],
          [
           "Nissan Juke",
           2017
          ],
          [
           "Nissan Juke",
           2017
          ],
          [
           "Nissan Juke",
           2017
          ],
          [
           "Nissan Juke",
           2017
          ],
          [
           "Subaru Justy",
           1992
          ],
          [
           "Subaru Justy",
           1993
          ],
          [
           "Subaru Justy",
           1994
          ],
          [
           "Subaru Justy",
           1994
          ],
          [
           "Buick LaCrosse",
           2016
          ],
          [
           "Buick LaCrosse",
           2017
          ],
          [
           "Buick LaCrosse",
           2017
          ],
          [
           "Buick LaCrosse",
           2017
          ],
          [
           "Buick LaCrosse",
           2017
          ],
          [
           "Mitsubishi Lancer Evolution",
           2013
          ],
          [
           "Mitsubishi Lancer Evolution",
           2014
          ],
          [
           "Mitsubishi Lancer Evolution",
           2015
          ],
          [
           "Mitsubishi Lancer Evolution",
           2015
          ],
          [
           "Mitsubishi Lancer Sportback",
           2012
          ],
          [
           "Mitsubishi Lancer Sportback",
           2012
          ],
          [
           "Mitsubishi Lancer Sportback",
           2013
          ],
          [
           "Mitsubishi Lancer Sportback",
           2013
          ],
          [
           "Mitsubishi Lancer Sportback",
           2014
          ],
          [
           "Toyota Land Cruiser",
           2015
          ],
          [
           "Toyota Land Cruiser",
           2016
          ],
          [
           "Toyota Land Cruiser",
           2017
          ],
          [
           "Maybach Landaulet",
           2011
          ],
          [
           "Maybach Landaulet",
           2012
          ],
          [
           "Plymouth Laser",
           1992
          ],
          [
           "Plymouth Laser",
           1992
          ],
          [
           "Plymouth Laser",
           1992
          ],
          [
           "Plymouth Laser",
           1992
          ],
          [
           "Plymouth Laser",
           1993
          ],
          [
           "Plymouth Laser",
           1993
          ],
          [
           "Plymouth Laser",
           1993
          ],
          [
           "Plymouth Laser",
           1993
          ],
          [
           "Plymouth Laser",
           1994
          ],
          [
           "Plymouth Laser",
           1994
          ],
          [
           "Plymouth Laser",
           1994
          ],
          [
           "Plymouth Laser",
           1994
          ],
          [
           "Subaru Legacy",
           2015
          ],
          [
           "Subaru Legacy",
           2016
          ],
          [
           "Subaru Legacy",
           2017
          ],
          [
           "Acura Legend",
           1993
          ],
          [
           "Acura Legend",
           1993
          ],
          [
           "Acura Legend",
           1993
          ],
          [
           "Acura Legend",
           1994
          ],
          [
           "Acura Legend",
           1994
          ],
          [
           "Acura Legend",
           1994
          ],
          [
           "Acura Legend",
           1994
          ],
          [
           "Acura Legend",
           1995
          ],
          [
           "Acura Legend",
           1995
          ],
          [
           "Acura Legend",
           1995
          ],
          [
           "Acura Legend",
           1995
          ],
          [
           "Maserati Levante",
           2017
          ],
          [
           "Lexus LFA",
           2012
          ],
          [
           "Chrysler LHS",
           2000
          ],
          [
           "Chrysler LHS",
           2001
          ],
          [
           "Land Rover LR2",
           2013
          ],
          [
           "Land Rover LR2",
           2013
          ],
          [
           "Land Rover LR2",
           2014
          ],
          [
           "Land Rover LR2",
           2014
          ],
          [
           "Land Rover LR2",
           2014
          ],
          [
           "Land Rover LR2",
           2015
          ],
          [
           "Land Rover LR2",
           2015
          ],
          [
           "Land Rover LR2",
           2015
          ],
          [
           "Land Rover LR3",
           2008
          ],
          [
           "Land Rover LR3",
           2008
          ],
          [
           "Land Rover LR3",
           2009
          ],
          [
           "Land Rover LR4",
           2014
          ],
          [
           "Land Rover LR4",
           2014
          ],
          [
           "Land Rover LR4",
           2014
          ],
          [
           "Land Rover LR4",
           2014
          ],
          [
           "Land Rover LR4",
           2015
          ],
          [
           "Land Rover LR4",
           2015
          ],
          [
           "Land Rover LR4",
           2015
          ],
          [
           "Land Rover LR4",
           2016
          ],
          [
           "Land Rover LR4",
           2016
          ],
          [
           "Land Rover LR4",
           2016
          ],
          [
           "Lexus LS 400",
           1998
          ],
          [
           "Lexus LS 400",
           1999
          ],
          [
           "Lexus LS 400",
           2000
          ],
          [
           "Lexus LS 430",
           2004
          ],
          [
           "Lexus LS 430",
           2005
          ],
          [
           "Lexus LS 430",
           2006
          ],
          [
           "Lexus LS 460",
           2015
          ],
          [
           "Lexus LS 460",
           2015
          ],
          [
           "Lexus LS 460",
           2015
          ],
          [
           "Lexus LS 460",
           2015
          ],
          [
           "Lexus LS 460",
           2015
          ],
          [
           "Lexus LS 460",
           2015
          ],
          [
           "Lexus LS 460",
           2016
          ],
          [
           "Lexus LS 460",
           2016
          ],
          [
           "Lexus LS 460",
           2016
          ],
          [
           "Lexus LS 460",
           2016
          ],
          [
           "Lexus LS 460",
           2017
          ],
          [
           "Lexus LS 460",
           2017
          ],
          [
           "Lexus LS 460",
           2017
          ],
          [
           "Lexus LS 460",
           2017
          ],
          [
           "Lexus LS 600h L",
           2014
          ],
          [
           "Lexus LS 600h L",
           2015
          ],
          [
           "Lexus LS 600h L",
           2016
          ],
          [
           "Lincoln LS",
           2004
          ],
          [
           "Lincoln LS",
           2004
          ],
          [
           "Lincoln LS",
           2004
          ],
          [
           "Lincoln LS",
           2004
          ],
          [
           "Lincoln LS",
           2004
          ],
          [
           "Lincoln LS",
           2005
          ],
          [
           "Lincoln LS",
           2005
          ],
          [
           "Lincoln LS",
           2005
          ],
          [
           "Lincoln LS",
           2005
          ],
          [
           "Lincoln LS",
           2005
          ],
          [
           "Lincoln LS",
           2006
          ],
          [
           "Buick Lucerne",
           2009
          ],
          [
           "Buick Lucerne",
           2009
          ],
          [
           "Buick Lucerne",
           2009
          ],
          [
           "Buick Lucerne",
           2009
          ],
          [
           "Buick Lucerne",
           2009
          ],
          [
           "Buick Lucerne",
           2009
          ],
          [
           "Buick Lucerne",
           2009
          ],
          [
           "Buick Lucerne",
           2009
          ],
          [
           "Buick Lucerne",
           2010
          ],
          [
           "Buick Lucerne",
           2010
          ],
          [
           "Buick Lucerne",
           2010
          ],
          [
           "Buick Lucerne",
           2010
          ],
          [
           "Buick Lucerne",
           2010
          ],
          [
           "Buick Lucerne",
           2010
          ],
          [
           "Buick Lucerne",
           2010
          ],
          [
           "Buick Lucerne",
           2010
          ],
          [
           "Buick Lucerne",
           2010
          ],
          [
           "Buick Lucerne",
           2011
          ],
          [
           "Buick Lucerne",
           2011
          ],
          [
           "Buick Lucerne",
           2011
          ],
          [
           "Buick Lucerne",
           2011
          ],
          [
           "Lexus LX 450",
           1996
          ],
          [
           "Lexus LX 450",
           1997
          ],
          [
           "Lexus LX 470",
           2005
          ],
          [
           "Lexus LX 470",
           2006
          ],
          [
           "Lexus LX 470",
           2007
          ],
          [
           "Lexus LX 570",
           2015
          ],
          [
           "Lexus LX 570",
           2016
          ],
          [
           "Lexus LX 570",
           2017
          ],
          [
           "Mercedes-Benz M-Class",
           2013
          ],
          [
           "Mercedes-Benz M-Class",
           2013
          ],
          [
           "Mercedes-Benz M-Class",
           2013
          ],
          [
           "Mercedes-Benz M-Class",
           2013
          ],
          [
           "Mercedes-Benz M-Class",
           2013
          ],
          [
           "Mercedes-Benz M-Class",
           2014
          ],
          [
           "Mercedes-Benz M-Class",
           2014
          ],
          [
           "Mercedes-Benz M-Class",
           2014
          ],
          [
           "Mercedes-Benz M-Class",
           2014
          ],
          [
           "Mercedes-Benz M-Class",
           2014
          ],
          [
           "Mercedes-Benz M-Class",
           2015
          ],
          [
           "Mercedes-Benz M-Class",
           2015
          ],
          [
           "Mercedes-Benz M-Class",
           2015
          ],
          [
           "Mercedes-Benz M-Class",
           2015
          ],
          [
           "BMW M2",
           2017
          ],
          [
           "Infiniti M30",
           1990
          ],
          [
           "Infiniti M30",
           1992
          ],
          [
           "Infiniti M35",
           2009
          ],
          [
           "Infiniti M35",
           2010
          ],
          [
           "Infiniti M37",
           2011
          ],
          [
           "BMW M3",
           2015
          ],
          [
           "BMW M3",
           2016
          ],
          [
           "Infiniti M45",
           2008
          ],
          [
           "Infiniti M45",
           2008
          ],
          [
           "Infiniti M45",
           2009
          ],
          [
           "Infiniti M45",
           2010
          ],
          [
           "Chevrolet Malibu",
           2017
          ],
          [
           "Chevrolet Malibu",
           2017
          ],
          [
           "Lincoln Mark LT",
           2006
          ],
          [
           "Lincoln Mark LT",
           2006
          ],
          [
           "Lincoln Mark LT",
           2007
          ],
          [
           "Lincoln Mark LT",
           2007
          ],
          [
           "Lincoln Mark LT",
           2007
          ],
          [
           "Lincoln Mark LT",
           2008
          ],
          [
           "Lincoln Mark LT",
           2008
          ],
          [
           "Lincoln Mark VIII",
           1996
          ],
          [
           "Lincoln Mark VIII",
           1997
          ],
          [
           "Lincoln Mark VIII",
           1998
          ],
          [
           "Lincoln Mark VII",
           1991
          ],
          [
           "Lincoln Mark VII",
           1991
          ],
          [
           "Lincoln Mark VII",
           1992
          ],
          [
           "Toyota Matrix",
           2011
          ],
          [
           "Toyota Matrix",
           2011
          ],
          [
           "Toyota Matrix",
           2011
          ],
          [
           "Toyota Matrix",
           2011
          ],
          [
           "Toyota Matrix",
           2012
          ],
          [
           "Acura MDX",
           2016
          ],
          [
           "Acura MDX",
           2016
          ],
          [
           "Acura MDX",
           2016
          ],
          [
           "Acura MDX",
           2016
          ],
          [
           "Acura MDX",
           2016
          ],
          [
           "Acura MDX",
           2016
          ],
          [
           "Acura MDX",
           2016
          ],
          [
           "Acura MDX",
           2016
          ],
          [
           "Acura MDX",
           2016
          ],
          [
           "Acura MDX",
           2016
          ],
          [
           "Acura MDX",
           2017
          ],
          [
           "Acura MDX",
           2017
          ],
          [
           "Acura MDX",
           2017
          ],
          [
           "Acura MDX",
           2017
          ],
          [
           "Acura MDX",
           2017
          ],
          [
           "Acura MDX",
           2017
          ],
          [
           "Acura MDX",
           2017
          ],
          [
           "Acura MDX",
           2017
          ],
          [
           "Acura MDX",
           2017
          ],
          [
           "Acura MDX",
           2017
          ],
          [
           "Mercedes-Benz Metris",
           2016
          ],
          [
           "Mercedes-Benz Metris",
           2016
          ],
          [
           "Chevrolet Metro",
           1999
          ],
          [
           "Chevrolet Metro",
           1999
          ],
          [
           "Chevrolet Metro",
           2000
          ],
          [
           "Chevrolet Metro",
           2000
          ],
          [
           "Infiniti M",
           2013
          ],
          [
           "Infiniti M",
           2013
          ],
          [
           "Infiniti M",
           2013
          ],
          [
           "Mitsubishi Mirage",
           2014
          ],
          [
           "Mitsubishi Mirage",
           2014
          ],
          [
           "Mitsubishi Mirage",
           2014
          ],
          [
           "Mitsubishi Mirage",
           2014
          ],
          [
           "Mitsubishi Mirage",
           2015
          ],
          [
           "Mitsubishi Mirage",
           2015
          ],
          [
           "Mitsubishi Mirage",
           2015
          ],
          [
           "Mitsubishi Mirage",
           2015
          ],
          [
           "Mitsubishi Mirage",
           2015
          ],
          [
           "Mitsubishi Mirage",
           2017
          ],
          [
           "Mitsubishi Mirage",
           2017
          ],
          [
           "Mitsubishi Mirage",
           2017
          ],
          [
           "Mitsubishi Mirage",
           2017
          ],
          [
           "Mitsubishi Mirage",
           2017
          ],
          [
           "Lincoln MKC",
           2015
          ],
          [
           "Lincoln MKC",
           2015
          ],
          [
           "Lincoln MKC",
           2015
          ],
          [
           "Lincoln MKC",
           2015
          ],
          [
           "Lincoln MKC",
           2016
          ],
          [
           "Lincoln MKC",
           2016
          ],
          [
           "Lincoln MKC",
           2016
          ],
          [
           "Lincoln MKC",
           2016
          ],
          [
           "Lincoln MKC",
           2016
          ],
          [
           "Lincoln MKC",
           2016
          ],
          [
           "Lincoln MKC",
           2016
          ],
          [
           "Lincoln MKZ",
           2017
          ],
          [
           "Lincoln MKZ",
           2017
          ],
          [
           "Lincoln MKZ",
           2017
          ],
          [
           "Lincoln MKZ",
           2017
          ],
          [
           "Lincoln MKZ",
           2017
          ],
          [
           "Lincoln MKZ",
           2017
          ],
          [
           "Mercedes-Benz ML55 AMG",
           2000
          ],
          [
           "Toyota MR2",
           1993
          ],
          [
           "Toyota MR2",
           1994
          ],
          [
           "Toyota MR2",
           1994
          ],
          [
           "Toyota MR2",
           1995
          ],
          [
           "Toyota MR2",
           1995
          ],
          [
           "Bentley Mulsanne",
           2014
          ],
          [
           "Bentley Mulsanne",
           2015
          ],
          [
           "Bentley Mulsanne",
           2016
          ],
          [
           "Ford Mustang SVT Cobra",
           1999
          ],
          [
           "Ford Mustang",
           2015
          ],
          [
           "Ford Mustang",
           2015
          ],
          [
           "Ford Mustang",
           2015
          ],
          [
           "Ford Mustang",
           2015
          ],
          [
           "Ford Mustang",
           2015
          ],
          [
           "Ford Mustang",
           2015
          ],
          [
           "Ford Mustang",
           2015
          ],
          [
           "Ford Mustang",
           2015
          ],
          [
           "Ford Mustang",
           2015
          ],
          [
           "Ford Mustang",
           2016
          ],
          [
           "Ford Mustang",
           2016
          ],
          [
           "Ford Mustang",
           2016
          ],
          [
           "Ford Mustang",
           2016
          ],
          [
           "Ford Mustang",
           2016
          ],
          [
           "Ford Mustang",
           2016
          ],
          [
           "Ford Mustang",
           2016
          ],
          [
           "Ford Mustang",
           2016
          ],
          [
           "Ford Mustang",
           2017
          ],
          [
           "Ford Mustang",
           2017
          ],
          [
           "Ford Mustang",
           2017
          ],
          [
           "Ford Mustang",
           2017
          ],
          [
           "Ford Mustang",
           2017
          ],
          [
           "Ford Mustang",
           2017
          ],
          [
           "Mazda MX-3",
           1993
          ],
          [
           "Mazda MX-3",
           1993
          ],
          [
           "Mazda MX-3",
           1993
          ],
          [
           "Mazda MX-3",
           1994
          ],
          [
           "Mazda MX-3",
           1994
          ],
          [
           "Mazda MX-3",
           1995
          ],
          [
           "Mazda MX-5 Miata",
           2014
          ],
          [
           "Mazda MX-5 Miata",
           2014
          ],
          [
           "Mazda MX-5 Miata",
           2014
          ],
          [
           "Mazda MX-5 Miata",
           2014
          ],
          [
           "Mazda MX-5 Miata",
           2014
          ],
          [
           "Mazda MX-5 Miata",
           2014
          ],
          [
           "Mazda MX-5 Miata",
           2014
          ],
          [
           "Mazda MX-5 Miata",
           2014
          ],
          [
           "Mazda MX-5 Miata",
           2014
          ],
          [
           "Mazda MX-5 Miata",
           2014
          ],
          [
           "Mazda MX-5 Miata",
           2015
          ],
          [
           "Mazda MX-5 Miata",
           2015
          ],
          [
           "Mazda MX-5 Miata",
           2015
          ],
          [
           "Mazda MX-5 Miata",
           2015
          ],
          [
           "Mazda MX-5 Miata",
           2015
          ],
          [
           "Mazda MX-5 Miata",
           2015
          ],
          [
           "Mazda MX-5 Miata",
           2015
          ],
          [
           "Mazda MX-5 Miata",
           2015
          ],
          [
           "Mazda MX-5 Miata",
           2015
          ],
          [
           "Mazda MX-5 Miata",
           2016
          ],
          [
           "Mazda MX-5 Miata",
           2016
          ],
          [
           "Lincoln Navigator",
           2015
          ],
          [
           "Lincoln Navigator",
           2015
          ],
          [
           "Lincoln Navigator",
           2015
          ],
          [
           "Lincoln Navigator",
           2015
          ],
          [
           "Lincoln Navigator",
           2016
          ],
          [
           "Lincoln Navigator",
           2016
          ],
          [
           "Lincoln Navigator",
           2016
          ],
          [
           "Lincoln Navigator",
           2016
          ],
          [
           "Lincoln Navigator",
           2016
          ],
          [
           "Lincoln Navigator",
           2016
          ],
          [
           "Lincoln Navigator",
           2016
          ],
          [
           "Lincoln Navigator",
           2016
          ],
          [
           "Lincoln Navigator",
           2017
          ],
          [
           "Lincoln Navigator",
           2017
          ],
          [
           "Lincoln Navigator",
           2017
          ],
          [
           "Lincoln Navigator",
           2017
          ],
          [
           "Lincoln Navigator",
           2017
          ],
          [
           "Lincoln Navigator",
           2017
          ],
          [
           "Lincoln Navigator",
           2017
          ],
          [
           "Lincoln Navigator",
           2017
          ],
          [
           "Dodge Neon",
           2003
          ],
          [
           "Dodge Neon",
           2004
          ],
          [
           "Dodge Neon",
           2005
          ],
          [
           "Volkswagen New Beetle",
           2008
          ],
          [
           "Volkswagen New Beetle",
           2008
          ],
          [
           "Volkswagen New Beetle",
           2008
          ],
          [
           "Volkswagen New Beetle",
           2008
          ],
          [
           "Volkswagen New Beetle",
           2008
          ],
          [
           "Volkswagen New Beetle",
           2008
          ],
          [
           "Volkswagen New Beetle",
           2008
          ],
          [
           "Volkswagen New Beetle",
           2008
          ],
          [
           "Volkswagen New Beetle",
           2008
          ],
          [
           "Volkswagen New Beetle",
           2008
          ],
          [
           "Volkswagen New Beetle",
           2009
          ],
          [
           "Volkswagen New Beetle",
           2009
          ],
          [
           "Volkswagen New Beetle",
           2009
          ],
          [
           "Volkswagen New Beetle",
           2009
          ],
          [
           "Volkswagen New Beetle",
           2010
          ],
          [
           "Volkswagen New Beetle",
           2010
          ],
          [
           "Volkswagen New Beetle",
           2010
          ],
          [
           "Volkswagen New Beetle",
           2010
          ],
          [
           "Volkswagen New Beetle",
           2010
          ],
          [
           "Volkswagen New Beetle",
           2010
          ],
          [
           "Volkswagen New Beetle",
           2010
          ],
          [
           "Volkswagen New Beetle",
           2010
          ],
          [
           "Dodge Nitro",
           2009
          ],
          [
           "Dodge Nitro",
           2009
          ],
          [
           "Dodge Nitro",
           2009
          ],
          [
           "Dodge Nitro",
           2009
          ],
          [
           "Dodge Nitro",
           2010
          ],
          [
           "Dodge Nitro",
           2010
          ],
          [
           "Dodge Nitro",
           2010
          ],
          [
           "Dodge Nitro",
           2010
          ],
          [
           "Dodge Nitro",
           2010
          ],
          [
           "Dodge Nitro",
           2010
          ],
          [
           "Dodge Nitro",
           2010
          ],
          [
           "Dodge Nitro",
           2010
          ],
          [
           "Dodge Nitro",
           2010
          ],
          [
           "Dodge Nitro",
           2010
          ],
          [
           "Dodge Nitro",
           2011
          ],
          [
           "Dodge Nitro",
           2011
          ],
          [
           "Dodge Nitro",
           2011
          ],
          [
           "Dodge Nitro",
           2011
          ],
          [
           "Dodge Nitro",
           2011
          ],
          [
           "Dodge Nitro",
           2011
          ],
          [
           "Dodge Nitro",
           2011
          ],
          [
           "Dodge Nitro",
           2011
          ],
          [
           "Dodge Nitro",
           2011
          ],
          [
           "Dodge Nitro",
           2011
          ],
          [
           "Acura NSX",
           2004
          ],
          [
           "Acura NSX",
           2004
          ],
          [
           "Acura NSX",
           2005
          ],
          [
           "Acura NSX",
           2005
          ],
          [
           "Acura NSX",
           2017
          ],
          [
           "Lexus NX 200t",
           2015
          ],
          [
           "Lexus NX 200t",
           2015
          ],
          [
           "Lexus NX 200t",
           2015
          ],
          [
           "Lexus NX 200t",
           2015
          ],
          [
           "Lexus NX 200t",
           2016
          ],
          [
           "Lexus NX 200t",
           2016
          ],
          [
           "Lexus NX 200t",
           2016
          ],
          [
           "Lexus NX 200t",
           2016
          ],
          [
           "Lexus NX 200t",
           2017
          ],
          [
           "Lexus NX 200t",
           2017
          ],
          [
           "Lexus NX 200t",
           2017
          ],
          [
           "Lexus NX 200t",
           2017
          ],
          [
           "Dodge Omni",
           1990
          ],
          [
           "Kia Optima",
           2014
          ],
          [
           "Kia Optima",
           2016
          ],
          [
           "Subaru Outback",
           2015
          ],
          [
           "Subaru Outback",
           2015
          ],
          [
           "Subaru Outback",
           2016
          ],
          [
           "Subaru Outback",
           2017
          ],
          [
           "Mitsubishi Outlander Sport",
           2015
          ],
          [
           "Mitsubishi Outlander Sport",
           2015
          ],
          [
           "Mitsubishi Outlander Sport",
           2016
          ],
          [
           "Mitsubishi Outlander Sport",
           2016
          ],
          [
           "Mitsubishi Outlander Sport",
           2016
          ],
          [
           "Mitsubishi Outlander Sport",
           2016
          ],
          [
           "Mitsubishi Outlander",
           2015
          ],
          [
           "Mitsubishi Outlander",
           2015
          ],
          [
           "Chrysler Pacifica",
           2008
          ],
          [
           "Chrysler Pacifica",
           2008
          ],
          [
           "Chrysler Pacifica",
           2008
          ],
          [
           "Chrysler Pacifica",
           2008
          ],
          [
           "Chrysler Pacifica",
           2017
          ],
          [
           "Porsche Panamera",
           2015
          ],
          [
           "Porsche Panamera",
           2015
          ],
          [
           "Porsche Panamera",
           2015
          ],
          [
           "Porsche Panamera",
           2015
          ],
          [
           "Porsche Panamera",
           2015
          ],
          [
           "Porsche Panamera",
           2015
          ],
          [
           "Porsche Panamera",
           2015
          ],
          [
           "Porsche Panamera",
           2015
          ],
          [
           "Porsche Panamera",
           2015
          ],
          [
           "Porsche Panamera",
           2015
          ],
          [
           "Porsche Panamera",
           2016
          ],
          [
           "Porsche Panamera",
           2016
          ],
          [
           "Porsche Panamera",
           2016
          ],
          [
           "Porsche Panamera",
           2016
          ],
          [
           "Porsche Panamera",
           2016
          ],
          [
           "Porsche Panamera",
           2016
          ],
          [
           "Porsche Panamera",
           2016
          ],
          [
           "Porsche Panamera",
           2016
          ],
          [
           "Porsche Panamera",
           2016
          ],
          [
           "Porsche Panamera",
           2016
          ],
          [
           "Porsche Panamera",
           2016
          ],
          [
           "Porsche Panamera",
           2016
          ],
          [
           "Buick Park Avenue",
           2003
          ],
          [
           "Buick Park Avenue",
           2004
          ],
          [
           "Buick Park Avenue",
           2005
          ],
          [
           "Rolls-Royce Park Ward",
           2001
          ],
          [
           "Rolls-Royce Park Ward",
           2002
          ],
          [
           "Volkswagen Passat",
           2015
          ],
          [
           "Volkswagen Passat",
           2015
          ],
          [
           "Volkswagen Passat",
           2015
          ],
          [
           "Nissan Pathfinder",
           2015
          ],
          [
           "Nissan Pathfinder",
           2015
          ],
          [
           "Nissan Pathfinder",
           2015
          ],
          [
           "Nissan Pathfinder",
           2016
          ],
          [
           "Nissan Pathfinder",
           2016
          ],
          [
           "Nissan Pathfinder",
           2016
          ],
          [
           "Honda Pilot",
           2016
          ],
          [
           "Honda Pilot",
           2016
          ],
          [
           "Honda Pilot",
           2016
          ],
          [
           "Honda Pilot",
           2016
          ],
          [
           "Honda Pilot",
           2016
          ],
          [
           "Honda Pilot",
           2016
          ],
          [
           "Honda Pilot",
           2016
          ],
          [
           "Honda Pilot",
           2016
          ],
          [
           "Honda Pilot",
           2016
          ],
          [
           "Honda Pilot",
           2016
          ],
          [
           "Honda Pilot",
           2016
          ],
          [
           "Honda Pilot",
           2017
          ],
          [
           "Honda Pilot",
           2017
          ],
          [
           "Honda Pilot",
           2017
          ],
          [
           "Honda Pilot",
           2017
          ],
          [
           "Honda Pilot",
           2017
          ],
          [
           "Honda Pilot",
           2017
          ],
          [
           "Honda Pilot",
           2017
          ],
          [
           "Honda Pilot",
           2017
          ],
          [
           "Honda Pilot",
           2017
          ],
          [
           "Honda Pilot",
           2017
          ],
          [
           "Mitsubishi Precis",
           1992
          ],
          [
           "Honda Prelude",
           1999
          ],
          [
           "Honda Prelude",
           1999
          ],
          [
           "Honda Prelude",
           2000
          ],
          [
           "Honda Prelude",
           2000
          ],
          [
           "Honda Prelude",
           2001
          ],
          [
           "Toyota Prius",
           2017
          ],
          [
           "Toyota Prius",
           2017
          ],
          [
           "Toyota Prius",
           2017
          ],
          [
           "Ford Probe",
           1995
          ],
          [
           "Ford Probe",
           1995
          ],
          [
           "Ford Probe",
           1996
          ],
          [
           "Ford Probe",
           1996
          ],
          [
           "Ford Probe",
           1997
          ],
          [
           "Plymouth Prowler",
           2000
          ],
          [
           "Audi Q3",
           2015
          ],
          [
           "Audi Q3",
           2015
          ],
          [
           "Audi Q3",
           2016
          ],
          [
           "Audi Q3",
           2017
          ],
          [
           "Audi Q3",
           2017
          ],
          [
           "Audi Q3",
           2017
          ],
          [
           "Audi Q3",
           2017
          ],
          [
           "Audi Q3",
           2017
          ],
          [
           "Infiniti Q40",
           2015
          ],
          [
           "Infiniti Q40",
           2015
          ],
          [
           "Infiniti Q45",
           2004
          ],
          [
           "Infiniti Q50",
           2015
          ],
          [
           "Infiniti Q50",
           2015
          ],
          [
           "Infiniti Q50",
           2015
          ],
          [
           "Infiniti Q50",
           2015
          ],
          [
           "Infiniti Q50",
           2015
          ],
          [
           "Infiniti Q50",
           2015
          ],
          [
           "Infiniti Q50",
           2015
          ],
          [
           "Infiniti Q50",
           2015
          ],
          [
           "Infiniti Q50",
           2015
          ],
          [
           "Infiniti Q50",
           2016
          ],
          [
           "Infiniti Q50",
           2016
          ],
          [
           "Infiniti Q50",
           2016
          ],
          [
           "Infiniti Q50",
           2016
          ],
          [
           "Infiniti Q50",
           2016
          ],
          [
           "Infiniti Q50",
           2017
          ],
          [
           "Infiniti Q50",
           2017
          ],
          [
           "Infiniti Q50",
           2017
          ],
          [
           "Infiniti Q50",
           2017
          ],
          [
           "Infiniti Q50",
           2017
          ],
          [
           "Infiniti Q50",
           2017
          ],
          [
           "Audi Q5",
           2015
          ],
          [
           "Audi Q5",
           2015
          ],
          [
           "Audi Q5",
           2015
          ],
          [
           "Audi Q5",
           2015
          ],
          [
           "Audi Q5",
           2016
          ],
          [
           "Audi Q5",
           2016
          ],
          [
           "Audi Q5",
           2016
          ],
          [
           "Audi Q5",
           2016
          ],
          [
           "Audi Q5",
           2016
          ],
          [
           "Audi Q5",
           2016
          ],
          [
           "Audi Q5",
           2017
          ],
          [
           "Audi Q5",
           2017
          ],
          [
           "Audi Q5",
           2017
          ],
          [
           "Infiniti Q60 Convertible",
           2015
          ],
          [
           "Infiniti Q60 Convertible",
           2015
          ],
          [
           "Infiniti Q60 Coupe",
           2015
          ],
          [
           "Infiniti Q60 Coupe",
           2015
          ],
          [
           "Infiniti Q60 Coupe",
           2017
          ],
          [
           "Infiniti Q60 Coupe",
           2017
          ],
          [
           "Infiniti Q60 Coupe",
           2017
          ],
          [
           "Infiniti Q60 Coupe",
           2017
          ],
          [
           "Infiniti Q60 Coupe",
           2017
          ],
          [
           "Infiniti Q70",
           2014
          ],
          [
           "Infiniti Q70",
           2014
          ],
          [
           "Infiniti Q70",
           2014
          ],
          [
           "Infiniti Q70",
           2015
          ],
          [
           "Infiniti Q70",
           2015
          ],
          [
           "Infiniti Q70",
           2015
          ],
          [
           "Infiniti Q70",
           2015
          ],
          [
           "Infiniti Q70",
           2015
          ],
          [
           "Infiniti Q70",
           2016
          ],
          [
           "Infiniti Q70",
           2016
          ],
          [
           "Infiniti Q70",
           2016
          ],
          [
           "Infiniti Q70",
           2016
          ],
          [
           "Audi Q7",
           2014
          ],
          [
           "Infiniti QX4",
           2003
          ],
          [
           "Infiniti QX4",
           2003
          ],
          [
           "Infiniti QX50",
           2015
          ],
          [
           "Infiniti QX50",
           2015
          ],
          [
           "Infiniti QX50",
           2015
          ],
          [
           "Infiniti QX50",
           2015
          ],
          [
           "Infiniti QX50",
           2016
          ],
          [
           "Infiniti QX56",
           2010
          ],
          [
           "Infiniti QX56",
           2010
          ],
          [
           "Infiniti QX56",
           2011
          ],
          [
           "Infiniti QX56",
           2011
          ],
          [
           "Infiniti QX60",
           2015
          ],
          [
           "Infiniti QX60",
           2015
          ],
          [
           "Infiniti QX60",
           2015
          ],
          [
           "Infiniti QX60",
           2015
          ],
          [
           "Infiniti QX60",
           2016
          ],
          [
           "Infiniti QX60",
           2016
          ],
          [
           "Infiniti QX60",
           2016
          ],
          [
           "Infiniti QX60",
           2016
          ],
          [
           "Infiniti QX60",
           2017
          ],
          [
           "Infiniti QX60",
           2017
          ],
          [
           "Infiniti QX70",
           2015
          ],
          [
           "Infiniti QX70",
           2015
          ],
          [
           "Infiniti QX70",
           2016
          ],
          [
           "Infiniti QX70",
           2016
          ],
          [
           "Infiniti QX70",
           2017
          ],
          [
           "Infiniti QX70",
           2017
          ],
          [
           "Infiniti QX80",
           2014
          ],
          [
           "Infiniti QX80",
           2014
          ],
          [
           "Infiniti QX80",
           2015
          ],
          [
           "Infiniti QX80",
           2015
          ],
          [
           "Infiniti QX80",
           2016
          ],
          [
           "Infiniti QX80",
           2016
          ],
          [
           "Infiniti QX80",
           2016
          ],
          [
           "Infiniti QX",
           2012
          ],
          [
           "Infiniti QX",
           2012
          ],
          [
           "Infiniti QX",
           2013
          ],
          [
           "Infiniti QX",
           2013
          ],
          [
           "Mercedes-Benz R-Class",
           2010
          ],
          [
           "Mercedes-Benz R-Class",
           2010
          ],
          [
           "Mercedes-Benz R-Class",
           2011
          ],
          [
           "Mercedes-Benz R-Class",
           2011
          ],
          [
           "Mercedes-Benz R-Class",
           2012
          ],
          [
           "Mercedes-Benz R-Class",
           2012
          ],
          [
           "Volkswagen R32",
           2004
          ],
          [
           "Volkswagen R32",
           2008
          ],
          [
           "Audi R8",
           2014
          ],
          [
           "Volkswagen Rabbit",
           2008
          ],
          [
           "Volkswagen Rabbit",
           2008
          ],
          [
           "Volkswagen Rabbit",
           2008
          ],
          [
           "Volkswagen Rabbit",
           2008
          ],
          [
           "Volkswagen Rabbit",
           2009
          ],
          [
           "Volkswagen Rabbit",
           2009
          ],
          [
           "Volkswagen Rabbit",
           2009
          ],
          [
           "Volkswagen Rabbit",
           2009
          ],
          [
           "Volkswagen Rabbit",
           2009
          ],
          [
           "Volkswagen Rabbit",
           2009
          ]
         ],
         "fillcolor": "rgba(255,255,255,0)",
         "hoveron": "points",
         "hovertemplate": "cluster_pca=0<br>x=%{x}<br>y=%{y}<br>Car=%{customdata[0]}<br>Year=%{customdata[1]}<extra></extra>",
         "legendgroup": "0",
         "line": {
          "color": "rgba(255,255,255,0)"
         },
         "marker": {
          "color": "blue"
         },
         "name": "0",
         "offsetgroup": "0",
         "orientation": "v",
         "pointpos": 0,
         "showlegend": true,
         "type": "box",
         "x": [
          0.5852537535407146,
          0.3028799127671587,
          0.2191909246494994,
          0.020051814817659497,
          0.046372105544389,
          0.025075956650624814,
          0.5502399924331637,
          0.2304693929917866,
          0.05478400756990366,
          0.10771100771726601,
          0.22793622362598795,
          -0.03873486417442966,
          0.31423118112253134,
          -0.009026813255150812,
          -0.03873486417442966,
          0.6435930297163209,
          0.3301611060968156,
          0.17859242611834011,
          0.1546175078326063,
          0.22050155486130368,
          0.2444764731470375,
          0.16245885780632055,
          0.12054972906335697,
          0.1309736065788934,
          0.09657481077762316,
          -0.11089050627869902,
          -0.10330713538614626,
          -0.10240042517181787,
          -0.11219887003642212,
          -0.060835451516390235,
          -0.05103700665178598,
          -0.05564957245241084,
          -0.1938667893605217,
          -0.18780025977600276,
          -0.107913913950493,
          -0.38430656549828823,
          -0.20168469749717405,
          -0.22334875023346784,
          -0.28923279726216516,
          -0.2329710147505872,
          -0.22744865310099224,
          -0.23433149789588795,
          -0.2317515882107927,
          -0.23000788216057969,
          -0.1997788753032979,
          0.7344374303740452,
          0.7589335425355559,
          0.6479662252521634,
          0.6818438271776568,
          0.5171561696337724,
          0.5421734756710599,
          0.6982614342646267,
          0.6737653221031161,
          0.5598940674474718,
          0.6615172660223608,
          0.6860133781838714,
          0.5260164655219784,
          0.5701615868002752,
          0.7466854864548006,
          0.6607561558342033,
          0.6857213424839131,
          0.7463934507548422,
          0.6810827169894994,
          0.7586415068355975,
          0.6734732864031578,
          0.5591329572593144,
          0.6979693985646684,
          0.5692441184493848,
          0.5162387012828821,
          0.525098997171088,
          0.647048756901273,
          0.5414123654829025,
          0.7341453946740869,
          0.6969476914386226,
          0.672451579277112,
          0.7576197997095517,
          0.7331236875480411,
          0.6846996353578673,
          0.7453717436287964,
          0.6457008574813794,
          0.8125301872590107,
          0.5459439858702504,
          0.6630613908878095,
          0.49144185479609326,
          0.5101005955489034,
          0.5646027266230607,
          0.6878180999872086,
          0.5875352571572409,
          0.5828445122752495,
          0.7025678866716926,
          0.7977804005745267,
          0.5330331260830836,
          0.7002029885555366,
          0.6819612029033479,
          0.5283423812010922,
          0.6274590718291907,
          0.6589646398946803,
          0.8084334362658816,
          0.6233623208360616,
          0.5289363750899545,
          0.5060038445557743,
          0.6778644519102188,
          0.5242456302079631,
          0.7936836495813976,
          0.6961062375624075,
          0.5418472348771213,
          0.6837213489940794,
          0.6416041064882503,
          0.6984711356785634,
          0.5787477612821204,
          0.48734510380296414,
          0.5834385061641117,
          0.5605059756299315,
          0.5793417551709826,
          0.520148879214834,
          0.5019070935626452,
          0.5377504838839922,
          0.6920094865692784,
          0.6737677009170897,
          0.7895868985882685,
          0.5564092246368024,
          0.8043366852727525,
          0.5248396240968254,
          0.6796245980009503,
          0.6943743846854343,
          0.5746510102889912,
          0.6548678889015512,
          0.6375073554951212,
          0.6192655698429325,
          0.483248352809835,
          -0.3736220910448634,
          -0.24646039255691016,
          -0.249775352736374,
          -0.2871480217590579,
          -0.22126397473036055,
          0.13310487609410063,
          0.2610368160962548,
          0.13969259955439636,
          0.12233891649204955,
          0.2849417985328267,
          0.05645486946335213,
          0.04843177741703868,
          1.626923722299157,
          0.23261722704548335,
          1.5594760936431293,
          0.22956286380390792,
          1.628560103939573,
          0.04537741417546326,
          0.2254661128107788,
          0.09674083269549513,
          1.6857410044056997,
          1.5414096375656055,
          -0.07473569963936488,
          1.4681445269634827,
          -0.19764349780855375,
          -0.07752946594305189,
          -0.20043726411224078,
          1.5446096008333519,
          1.4713444902312292,
          1.7374168239638432,
          0.10028818813787946,
          -0.02626796716174716,
          1.6050431867181219,
          1.8013732448150688,
          0.10244576365407224,
          1.6077219561100913,
          -0.024110391645554355,
          1.6606489562574538,
          0.21665041526069045,
          1.7988400754492702,
          0.4313824263416458,
          0.18808845006960234,
          2.013050892654449,
          0.47262954254110023,
          1.9779057349971192,
          0.4335400018578386,
          0.3460733872414736,
          2.015729662046418,
          1.9388161943138575,
          0.2986331952463185,
          0.5477446534644568,
          0.5868341941477185,
          1.7447135382247188,
          0.21546242748296587,
          0.12351868666542733,
          1.593055727575255,
          1.7254293648209764,
          1.62596374176228,
          0.0553232167799053,
          1.7028772094948408,
          1.5674492090075438,
          1.6998228462532652,
          0.24592014224330724,
          0.05226885353832986,
          -0.28630315300343445,
          0.154617189022577,
          0.774682709559906,
          0.2707211720642567,
          0.20743154511497905,
          0.19943121912180484,
          1.394137589939172,
          1.3982757021833165,
          2.012900511610658,
          2.022224502918782,
          0.6902279204214101,
          1.290861872519024,
          0.8496422078178743,
          1.5391480543483413,
          1.4216658136177385,
          1.2196229222201531,
          1.0678087534079561,
          0.9401787251708152,
          0.8226964844402125,
          0.7876201366004324,
          1.3867458239406916,
          1.1298308246253979,
          1.2816449934375949,
          1.5042280646712942,
          0.9945244980822394,
          1.274713114889763,
          0.9360819741776861,
          1.4175690626246094,
          1.215526171227024,
          1.500131313678165,
          0.8185997334470834,
          1.063712002414827,
          1.5350513033552122,
          0.7835233856073033,
          0.9447859119031591,
          0.997359625636942,
          1.4795911338420513,
          1.3826490729475625,
          0.8069771100172604,
          0.8455454568247451,
          1.2775482424444657,
          0.8382487425638696,
          1.1257340736322687,
          1.2775482424444657,
          0.857532915967612,
          1.7731612386730458,
          0.932254301292424,
          1.1120757259574303,
          1.083931256665482,
          1.148038103386031,
          1.047968879236881,
          0.7514096335994581,
          0.7795541028914066,
          1.8372680853935948,
          0.8155164803200072,
          1.148038103386031,
          0.7154472561708575,
          0.1065231030862728,
          0.017706525523395245,
          0.20804625156434403,
          0.1882408842848248,
          0.01671498028416222,
          -0.0051751624984642955,
          -0.16539724314063955,
          -0.10555240706185516,
          -0.008835068928366406,
          0.18281532684623875,
          0.20288129106364636,
          0.06544660766929507,
          0.04432670640086942,
          0.05761715023317838,
          1.3481132364302226,
          0.3539082035085835,
          1.349228424194862,
          0.23828557030080574,
          0.47425908315356125,
          0.4846829606690977,
          0.1975090479620246,
          0.23318476875894806,
          0.3603464672469014,
          0.23982999067510252,
          0.36699168916305586,
          0.3381175484450199,
          0.2975639915569908,
          0.3246707464499779,
          0.42472569004494415,
          0.2109558499570666,
          0.44137712866032486,
          0.48067514689389723,
          0.4702512693783608,
          0.41125212264042454,
          0.4383542041808193,
          0.5384091477757855,
          0.46360604746220635,
          0.42793032666528286,
          0.5279852702602491,
          0.45180100617586133,
          0.47402992497774277,
          0.2418991267081164,
          0.2299116675652495,
          0.2479970950547052,
          0.25842097257024166,
          0.23147524919257997,
          0.11138020814928978,
          0.12284647341637987,
          -0.08348971593257977,
          -0.05690882826796185,
          -0.06837509353505193,
          -0.08591864652322302,
          -0.07080402412569518,
          0.0036797218533197724,
          -0.0077865434137703035,
          -0.0593377588586051,
          0.21745925891897924,
          -0.17896318221639368,
          0.22671045021401784,
          -0.18821437351143225,
          0.21466549261529225,
          -0.174329935790261,
          -0.18058426229958283,
          -0.1910081398151193,
          -0.17764489596972485,
          -0.18389922247904672,
          0.21135053243582838,
          -0.19432309999458316,
          -0.15698804166186456,
          -0.15847882327610957,
          -0.16153318651768497,
          0.088968051626645,
          0.08487130063351594,
          0.019546256357154443,
          2.0975056192931705,
          2.093408868300042,
          1.357723683583276,
          1.3551905142174774,
          1.4056491845624097,
          1.6019733103659475,
          1.43217795283945,
          1.5640303962093949,
          1.5500102809509984,
          1.4701208669960026,
          1.1547725353072733,
          1.4283387430567718,
          1.2991704481470778,
          0.4873113001338536,
          0.6086555166757119,
          -0.45612983023868975,
          -0.422304347700774,
          0.6152746788980776,
          0.47159730477918244,
          -0.4156851854784084,
          0.5960686845757017,
          0.498569087850633,
          -0.43489117980078423,
          0.3095434030267027,
          0.49216527102781704,
          0.32080119074348207,
          0.5347726324347983,
          1.4810758894535727,
          1.1270491207156261,
          1.5394555358339863,
          1.1854287670960397,
          0.14188423034622463,
          0.12648295131701956,
          0.10917931464122908,
          0.2478271678588779,
          0.2585377020060916,
          0.2305235311830874,
          1.2476638114507317,
          1.2628719144868528,
          -0.23180840563186914,
          -0.2374687382523287,
          1.200010553999887,
          1.2137961320141841,
          1.2289368141055008,
          1.197899718802991,
          1.2461622716999248,
          1.1841141407886941,
          0.4164080085378147,
          0.04041367510149681,
          0.7051536431520534,
          0.4185655840540075,
          0.04152886286613597,
          0.7067900247924693,
          0.41759599631553934,
          0.041080469003444656,
          0.3993527676825979,
          0.27219106919464464,
          -0.05323412537854275,
          1.5288754260824762,
          0.08888975350610707,
          1.7122944339164734,
          1.5318147924123342,
          0.09104732902229988,
          1.7613124799955096,
          2.0515974282017337,
          1.582917613994478,
          -0.48684961030640894,
          -0.5033822143050962,
          -0.4911341582243409,
          -0.24186072483741464,
          -0.1820738549924038,
          -0.24353930337646248,
          -0.10056979191926974,
          -0.054183536975132576,
          -0.05676882572850886,
          -0.09898552966643144,
          -0.1146213459397361,
          -0.1609697745021582,
          -0.19745334580653576,
          -0.13282530521020983,
          0.4594623603297462,
          1.7569896279947228,
          1.741875005597195,
          0.4427841563048879,
          1.8465317868130593,
          1.8100482155086817,
          1.8204720930242182,
          1.7839885217198406,
          1.8143166262217705,
          1.8403763200106116,
          1.8091046874640022,
          1.7830449936751611,
          0.12076921705760875,
          0.296824042223935,
          0.31292893298543883,
          0.31136535135810833,
          0.10244925232405347,
          0.9661173107173943,
          0.26773867202984836,
          0.3316950928810738,
          0.9693172739851407,
          0.5843417300251795,
          1.6083156984650313,
          2.1738473848336675,
          1.6281210657445506,
          2.1498724665479334,
          0.1536509271929193,
          1.6437568820178552,
          2.190004394982749,
          1.6239515147383359,
          0.1380151109196147,
          1.6042189474719022,
          0.14955417619979025,
          1.6198547637452068,
          1.6407025187762798,
          2.170793021592092,
          2.141678964561675,
          1.6047868816669757,
          1.641270452971353,
          0.1454574252066612,
          1.6282406060769326,
          1.6872333601691818,
          1.6455378501070361,
          1.0814868754266156,
          -0.3015310176296951,
          1.0945895223341215,
          1.0789537060608168,
          1.0795216402558903,
          1.6954574652698935,
          -0.2501675991096632,
          1.6634040419096188,
          2.221383183308327,
          1.8940873606151,
          1.8523918505529544,
          1.8495980842492674,
          1.9470143607624624,
          0.5667624176404833,
          0.5710047686597834,
          1.9512567117817625,
          1.8541010322064557,
          0.5293092585976377,
          1.3096775618107113,
          0.04327109095271916,
          0.16722127687346164,
          1.4336277477314538,
          0.04391720422915917,
          0.34006538063547953,
          1.3787615721071553,
          1.3102715556995737,
          1.2488061073155148,
          1.3785737751823524,
          1.1834917762672474,
          1.1765598977194158,
          0.26878126256486734,
          0.28040388599469046,
          0.2913750170797925,
          0.26721768093753684,
          0.2819674676220209,
          0.10182127053084657,
          0.07492766654076255,
          0.292938598707123,
          0.09019864710102343,
          0.23464877109721205,
          0.4172706390983264,
          0.4326719181275315,
          0.2500500501264172,
          1.6241118632036513,
          1.6976776905590167,
          1.651208565675765,
          1.6909542895614957,
          1.623637409647171,
          1.6677351023956382,
          1.7185254455900896,
          1.644485164678244,
          1.6212659775123865,
          1.6468873473645653,
          1.670106534530423,
          1.6720563207068377,
          1.6004182224813135,
          1.9029195851038303,
          1.9978076210467488,
          1.9304907411324241,
          1.9005481529690458,
          1.879700397937973,
          1.976959866015676,
          1.970236465018155,
          1.9522292166100659,
          1.9754484037759232,
          1.951338496163497,
          1.9237673401349031,
          1.9730769716411387,
          1.9261695228212246,
          2.02386731483559,
          1.996296158806996,
          1.9470172778522976,
          1.9493887099870821,
          2.003019559804517,
          2.5288285530388093,
          2.4829990172493277,
          1.0882208837922303,
          -0.3283422626333741,
          -0.15953203234034571,
          -0.14858696094903243,
          -0.35309897173277316,
          -0.15190192112849626,
          -0.33165722281283794,
          -0.356413931912237,
          -0.16284699251980952,
          -0.3426022942041512,
          0.5183589085889756,
          0.5179105147262842,
          0.5750420570163876,
          0.6915086124579012,
          0.31700263325488454,
          0.29146413334182025,
          0.33355053881079866,
          0.7952001340436999,
          0.43724206039659735,
          0.6749607069019872,
          0.6708639559088581,
          0.3295840862866138,
          0.791259741213304,
          0.3129058822617555,
          0.27387933658288216,
          0.24080420609656175,
          0.02047641513558201,
          0.17363180523027208,
          0.2557977818087142,
          -0.010949918873286245,
          0.1609223092114093,
          0.3547237858479365,
          0.1742388127375071,
          0.3414072823218387,
          0.17014206174437804,
          0.3506270348548074,
          0.32430674412807786,
          0.3373105313287096,
          0.15682555821828023,
          0.14382177101764856,
          0.22437947362152733,
          0.21906329608860373,
          0.21033329866934197,
          0.21033329866934197,
          0.41195268344252156,
          0.20577285225629477,
          0.4323053042916064,
          0.41195268344252156,
          1.268096064075929,
          0.22437947362152733,
          0.2444714975327238,
          0.8253916796520377,
          0.9274388351240916,
          0.8006349705526387,
          0.9871413556565527,
          0.8850942001844988,
          0.8582527155819925,
          1.0576255876210505,
          1.0306798642433888,
          1.028673267821648,
          0.9466558904187051,
          0.9850487427092857,
          0.9580508999440462,
          0.9760320886583467,
          0.9734261192794625,
          0.11274654727649021,
          1.3828384000381095,
          -0.0028427000178676905,
          -0.03912488205379154,
          -0.008549772957623887,
          0.18290633123790745,
          0.15329714002550293,
          -0.016081262400372873,
          0.043334839438184815,
          0.3754128580385463,
          -0.30292440883752103,
          -0.014341092630203438,
          -0.08283110903778497,
          -0.08283110903778497,
          1.5190356589651104,
          0.07975980338760381,
          0.06360321355444638,
          0.4419636989691915,
          0.37347368256161,
          1.5173570804260623,
          1.6781357839016209,
          1.5044322639714418,
          1.2400641922325397,
          1.245276130990308,
          1.2523383080070838,
          1.2463706381294393,
          1.2542874059729658,
          1.2471991692624012,
          1.245922244266748,
          1.5077050272522736,
          1.3039308847029343,
          0.48069821747772906,
          0.25505179503123815,
          0.2779843255654183,
          0.46060619356653254,
          0.29807634947661477,
          0.5084577236562542,
          0.5389736250829872,
          0.48450886506430924,
          0.5285497475674507,
          0.5153321037482272,
          1.6453831036391613,
          1.6831696596329808,
          1.7798480063955138,
          1.7563942819855567,
          1.8451533610925754,
          1.7314497759613547,
          1.800460986244713,
          1.7761421508092172,
          1.8168213328135983,
          1.8858325430969565,
          1.8800991725256373,
          1.8275525475863197,
          1.7556277927291182,
          1.9035528969355944,
          1.8540394787367964,
          1.729568098940277,
          1.9520239273828388,
          1.7790815171390753,
          1.9820105340851972,
          1.9944670677162633,
          1.9549605719323802,
          1.9898491228473574,
          1.9555545658212423,
          1.9773925892162914,
          1.9857523718542283,
          1.9514578148281132,
          1.9732958382231622,
          1.0958459334715107,
          1.034605653067734,
          1.0828160865770902,
          1.0213152092354252,
          1.0290234995286414,
          1.0649598172634531,
          1.078250261095762,
          1.0157330556963324,
          1.01463316948892,
          1.0638599310560408,
          1.0279236133212288,
          1.0771503748883497,
          1.8130271377192155,
          1.8332234004055674,
          1.8739025824099482,
          1.7407584657122521,
          1.7687256582781856,
          1.7199107106811793,
          1.7889219209645375,
          1.7642121901222092,
          1.8878558299486687,
          1.8644021055387119,
          1.7895734133092585,
          1.8097696759956103,
          1.8435543505076388,
          1.80489137212659,
          1.7605063345359127,
          1.8011855165402935,
          1.8060638204093138,
          1.8295175448192709,
          1.870196726823652,
          1.7370526101259556,
          1.7848251699714084,
          1.7158139596880502,
          1.9363881111095342,
          1.8384036624634916,
          1.7139322826669725,
          1.7399919764558136,
          0.28878283350210604,
          0.2846860825089769,
          0.4201868830093594,
          0.4087206177422693,
          -0.13986101367597137,
          -0.2618469205311303,
          -0.2659436715242594,
          -0.1701791956889556,
          -0.14828905290632907,
          0.2878860457767234,
          0.2951827600375989,
          0.2993523110438135,
          0.306649025304689,
          0.29890391718112214,
          0.29421317229913074,
          0.2869164580382553,
          0.30620063144199766,
          0.3473854842942107,
          0.41014236806824705,
          0.359633540374966,
          0.4223904241490024,
          1.033696492661771,
          0.28371493790750063,
          0.3935469400258745,
          1.2190546285107138,
          1.2190546285107138,
          0.28371493790750063,
          1.198988664293306,
          1.033696492661771,
          1.0136305284443634,
          0.4136129042432821,
          0.263648973690093,
          0.4136129042432821,
          0.29645274910196284,
          0.4263507154377444,
          0.27114878643299817,
          0.4263507154377444,
          0.40104675276877966,
          0.19650748319722347,
          0.2894936117663156,
          0.2236095647376182,
          0.25040407108305396,
          0.18452002405435655,
          0.7274875215524219,
          0.2623915302259208,
          0.32165720619515503,
          0.23566982389357058,
          0.7748326060984652,
          0.7254755460624001,
          0.18224745162644632,
          0.30940915011439973,
          0.36283152238152394,
          0.19449550770720164,
          0.7721170188761447,
          0.30666750319829034,
          0.19157144293457043,
          0.17872401389667178,
          0.7302651506512658,
          0.319514932236189,
          1.6380923175133135,
          0.44498005512388394,
          1.6472913894207744,
          1.665897179220647,
          1.6287629471369083,
          1.6756435046976734,
          1.6539357797715688,
          1.6515329088747146,
          1.6634943083237927,
          1.6709473807474011,
          1.6750387526722492,
          1.6732406338008192,
          1.6610446971076416,
          1.7305717221984955,
          1.707065878400961,
          1.719027277850039,
          1.7264803502736477,
          1.7165776666338879,
          1.7287736033270655,
          0.3965683584934218,
          0.05339495867686009,
          0.11793743744370985,
          0.0656430147576154,
          1.5146518454467173,
          1.4546103109572275,
          0.13878519247478271,
          0.5513188904457029,
          1.432198974298824,
          0.38091901883155527,
          0.22199671141957777,
          1.500266894475277,
          1.4106997269230301,
          0.13021155321825398,
          0.1403487741021132,
          0.23523503586430905,
          0.3533478628029614,
          1.4398032637546585,
          1.4824160042299208,
          0.3825086601526746,
          1.4668844267317716,
          0.10931167879960345,
          1.4285194163440904,
          0.243443839407794,
          0.15264894957044617,
          0.1510853679431157,
          1.5018304761026073,
          1.4444730900733682,
          0.3549114444302919,
          0.031947830688643875,
          0.09651636914928248,
          0.04474314033896484,
          1.5131143235131757,
          0.38429424271887763,
          0.5725314811898196,
          1.4234950365733512,
          0.2560567312015931,
          0.5483166465917052,
          1.5025808281542028,
          0.06459524793778072,
          0.35190920057629405,
          0.03050916846197657,
          1.4421171974335845,
          1.5010172465268723,
          1.5154021974983125,
          1.4311512074789894,
          1.483166356281516,
          0.37987125201172056,
          0.5699201327426544,
          0.35347278220362455,
          0.10787301657293619,
          0.1168896706238752,
          1.4092610646963628,
          0.052347191857025396,
          0.3841325054878636,
          0.3814608933328399,
          0.23379637363764183,
          0.5498802282190356,
          0.14018703687109912,
          0.04330447811229754,
          0.2423960725879594,
          0.13862345524376865,
          0.15248721233943213,
          0.09507770692261519,
          0.3964066212624077,
          1.4220563743466839,
          1.4292697683956856,
          1.4434253232535335,
          1.513864675564771,
          0.15092363071210166,
          0.22055804919291055,
          0.2550089643817585,
          0.12916378639841936,
          0.5714837143699849,
          1.4996776111366026,
          0.5457834772259065,
          0.11279291963074609,
          0.3800357544947345,
          0.3773641423397108,
          0.14839046134630302,
          1.4263717633168433,
          0.06049849694465166,
          0.048250440863896335,
          0.02641241746884751,
          0.21646129819978144,
          0.7064040783422786,
          0.12506703540529024,
          0.2509122133886294,
          1.4396882668429412,
          0.06283325868616875,
          0.047197442412864096,
          0.09202011572967077,
          0.27438138679289664,
          0.24519452974939462,
          0.6683789949088232,
          0.8375226221528256,
          0.29325453738942703,
          0.27918230274345285,
          0.3588779874802361,
          0.38754365064796126,
          0.32192020055715226,
          0.8356670048255369,
          0.3856880333206725,
          0.29139892006213824,
          0.3200645832298635,
          0.27730062572237524,
          0.3570223701529473,
          -0.2537041351692156,
          -0.2581533696220732,
          -0.02007133210779806,
          -0.2758739613984852,
          -0.038834311635763646,
          -0.26857724713760966,
          -0.031537597374888135,
          -0.03503497541087386,
          -0.27233522211148375,
          -0.2796319363723593,
          -0.02343841167483958,
          -0.04233168967174937,
          -0.26178104612700315,
          -0.04218071057729737,
          -0.26235973845863875,
          -0.025059491758028782,
          -0.27948095727790734,
          0.4735316604151804,
          0.5920093106402663,
          0.47308326655248906,
          0.5915609167775749,
          1.6365957511370106,
          1.6330201940196583,
          1.6302264277159713,
          1.7274626437353306,
          1.7264930559968623,
          0.5861611810950037,
          0.4676835308699179,
          1.715099590742858,
          0.46931991251033395,
          1.7224691050168188,
          0.6234993432261321,
          0.5877975627354197,
          0.661040633796125,
          0.44480176080740574,
          1.7272326499118955,
          0.6245570624917474,
          0.30915296285674343,
          -0.5123949714833977,
          0.3850240428377503,
          -0.3245611647245152,
          -0.5050982572225222,
          0.3474607127263398,
          0.38770281222972,
          0.13025225199915244,
          -0.5107585898429817,
          0.31078934449715945,
          0.32824933933568295,
          0.3501394821183095,
          0.17481432837807073,
          -0.3229247830840992,
          0.14771224683767598,
          -0.5034618755821063,
          0.3609341276402991,
          0.2861054354108459,
          0.10556834291283894,
          0.3453031372101471,
          0.37244258980602113,
          0.1256765040288785,
          0.718506768431818,
          0.6717306471815243,
          0.7145978143634919,
          0.24260212192609823,
          0.24025674948510253,
          0.36220650921528763,
          0.7425559661040724,
          0.30874676589268407,
          0.674846261136721,
          0.7272636167077708,
          0.604792663101809,
          0.8595543840143777,
          0.6087016171701352,
          -0.03315657139207037,
          -0.03065484078834163,
          0.07072810285559436,
          1.5705015633276485,
          0.37269376120800957,
          1.1783232007028925,
          1.162478322659214,
          0.03691120320655571,
          1.7823033781900315,
          -0.3395206874197406,
          0.7822814552624998,
          0.831487298266339,
          0.8169408480016584,
          0.8661466910054977,
          0.8458201298502016,
          0.7671552835655077,
          0.8146682755737482,
          0.7792270920209243,
          0.7825305029009239,
          0.8025964671183315,
          0.1869003235505261,
          1.5731977518440714,
          1.5537329737878525,
          -0.003324834762581303,
          0.3541009931029949,
          0.35391319617819195,
          -0.0035126316873842285,
          1.5618842788754788,
          0.9975989079003937,
          0.714550917048424,
          0.9780425882592986,
          0.6475285836561587,
          0.9910724351537191,
          0.979939566837603,
          0.9929694137320235,
          0.6486437714207979,
          -0.04838539890849078,
          1.6774697347637533,
          2.1930410595256005,
          2.1959804258554585,
          0.8568303845534098,
          -0.04935498664695896,
          -0.05345173764008802,
          0.8527336335602806,
          -0.4508590083978324,
          -0.3978277694753147,
          0.741292100658182,
          0.12920713395471836,
          0.19509118098341574,
          0.1930270861058163,
          0.1271430390771189,
          0.12523530236225244,
          0.19693683133704473,
          0.8114184987061793,
          0.1263570161487403,
          0.10759403662077471,
          0.07840717957727268,
          0.09117642953380482,
          0.11280597537854294,
          0.09638836829157303,
          0.09150982648477875,
          0.0784799795903582,
          0.10818803050963705,
          0.12486623453449534,
          0.09724295911832377,
          0.1139211631431821,
          0.8227098422811876,
          0.8263528203433445,
          0.8249141581166771,
          0.01025326313226739,
          -0.023467980630492984,
          0.18841275326430643,
          0.19658942983518868,
          1.0869819572394686,
          2.0465036559065384,
          2.037168906461853,
          1.2301643515368677,
          1.2907791992897122,
          1.2328170612350484,
          1.292102864604662,
          1.3422466186471254,
          1.4032263021130134,
          1.2651706481903167,
          1.556581493094718,
          1.5524847421015888,
          0.10277635457601893,
          -0.1574090008299704,
          -0.16267305897531628,
          -0.1381508871200168,
          -0.1615057518230995,
          -0.1667698099684454,
          -0.14224763811314592,
          -0.16560250281622857,
          -0.14634438910627498,
          -0.17086656096157446,
          -0.1020911293579769,
          -0.12895867365427208,
          -0.10566668647532917,
          -0.13227363383373594,
          -0.05375601438573162,
          -0.1545391683199001,
          -0.14750305099691302,
          -0.16496304583543656,
          -0.168017409077012,
          -0.15759353156147551,
          -0.15055741423848842,
          -0.29830135509006267,
          -0.30109512139374967,
          -0.30258590300799465,
          -0.5009840586046875,
          -0.010740329862750392,
          0.11182869228718349,
          -0.012491708414883756,
          0.22135029436470166,
          0.11932676281147805,
          0.1820836465855145,
          1.5957167462314725,
          1.5675722769395242,
          0.27577138745684554,
          1.60204387275388,
          0.30652182612767803,
          -0.00437368595932633,
          0.2169989467057946,
          0.04203862867859966,
          0.031901407794740474,
          0.20777381510454485,
          0.007165379320849235,
          0.03885396696808001,
          0.20458915339402517,
          0.01672928694135392,
          0.005836334937618342,
          0.2138142849952749,
          0.028716746084220826,
          -0.008470436952455418,
          -0.312229639760701,
          -0.29867859899050364,
          -0.10250569021919202,
          -0.3330773947917739,
          -0.2861699459718599,
          -0.14658207369206525,
          -0.21872044723008452,
          -0.1491152430578638,
          -0.22125361659588308,
          -0.16073191668912165,
          -0.2279563369678963,
          -0.14904244304477834,
          1.9399588420424356,
          1.954989906290316,
          1.953499124676071,
          1.4916626864946183,
          1.0564021793543166,
          -0.4723324535710352,
          -0.4457515659064173,
          -0.45930260667661466,
          -0.4753868168126107,
          -0.46235696991819014,
          -0.4488059291479928,
          -0.4794835678057398,
          -0.46645372091131926,
          -0.4529026801411219,
          1.601222807865234,
          1.6298884710329593,
          1.5838356130397961,
          0.9873890707516155,
          1.0405508460808512,
          1.0129275706646799,
          1.0894336196899594,
          1.04010245221816,
          0.9869406768889242,
          1.0124791768019885,
          0.9215662744365392,
          0.9471047743496034,
          0.974728049765775,
          1.0333680233380997,
          1.033701420289074,
          0.9821856162966892,
          1.414393308482129,
          1.4765023862332056,
          1.446898574089082,
          1.4140633599151422,
          1.3787436473789945,
          1.441469330328735,
          1.3746468963858653,
          1.442801823095953,
          1.409966608922013,
          1.4102965574889998,
          1.4021179202769887,
          1.405869857928884,
          1.4387050721028238,
          1.3664682591738542,
          1.7477047637046605,
          1.7436080127115314,
          0.9030081256067639,
          1.0606323430812716,
          -0.10168348505704039,
          -0.12670079109432786,
          -0.10637422993903178,
          -0.11471333195146094,
          -0.11731930133034504,
          1.068575170618587,
          -0.13556108698253383,
          -0.09907751567815629,
          -0.19251203810993975,
          -0.16152706219500768,
          1.019155470996156,
          1.7153856938792944,
          1.6827157393539904,
          2.0907087608454553,
          1.9995822397991883,
          1.9980914581849432,
          -0.27762268002956075,
          1.7594131171418406,
          0.3674925078887971,
          0.35446266099437657,
          -0.2790092228686503,
          0.48284378602212435,
          1.8141642958544217,
          0.29761594864212604,
          0.5934028592150149,
          0.2961772864154587,
          0.481405123795457,
          0.7775086757877699,
          0.7734119247946409,
          0.3724564901057036,
          0.4370375524449589,
          0.32035724639545665,
          0.44492826059469676,
          0.31626049540232753,
          0.555124323730268,
          0.49555543360858945,
          0.31215177479381007,
          1.6239920526104987,
          1.6255556342378292,
          1.6093986240887477,
          1.6078350424614172,
          1.5072749122635893,
          1.505711330636259,
          -0.002356228113180842,
          -0.01846111887468463,
          -0.3618013401832539,
          -0.37483118707767443,
          -0.3851508258180555,
          -0.3463218820726823,
          -0.35773602795219467,
          -0.32744873147615183,
          -0.300033933610291,
          -0.5552820092693211,
          -0.5578151786351198,
          -0.5608695418766951,
          0.030276104249024386,
          0.1200829501758779,
          0.11166029001380122,
          0.014296132888183774,
          0.14145783137613702,
          0.15188170889167346,
          0.12208416752933766,
          -0.005077530958615629,
          -0.00868851703357407,
          0.02472001040372021,
          0.1184731814543792,
          -0.015501408474152066,
          0.4948464428080098,
          0.31144278399323033,
          -0.4190888771059643,
          1.497402547357467,
          1.5658925637650485,
          1.5037296738798744,
          -0.4177130924034368,
          0.31255797175786953,
          1.572219690287456,
          0.49596163057264897,
          0.22789760119232622,
          0.24752055061532355,
          0.27704618367808054,
          0.19774653547863705,
          0.29004997087871226,
          0.23451676341469185,
          0.21075032267926877,
          0.2148938139916945,
          0.2491099539986689,
          0.4514590101979359,
          0.4723588846165865,
          0.28715710693037694,
          0.3284096021981124,
          0.43431173168487847,
          0.2662572325117264,
          0.5136113798843219,
          1.2112585491345793,
          0.6436999006219605,
          0.6396031496288315,
          0.6222420144971822,
          -0.3383060505567191,
          -0.3406514229977148,
          -0.32996694854428993,
          -0.34899052501014394,
          -0.3632191178188512,
          -0.38750675243005106,
          -0.3715582198312803,
          -0.3791676504176219,
          -0.3663777198355819,
          -0.3414646525734499,
          -0.3747168218480111,
          -0.3438100250144456,
          -0.39066535444678185,
          1.7690787488853779,
          1.1796501219961664,
          1.2187917820670058,
          1.147721855974329,
          1.1509011386165677,
          0.15289259242822908,
          0.30873909880750156,
          0.03607659237444573,
          0.31395103756526976,
          0.02750295311791702,
          0.3728510866585578,
          0.378063025416326,
          0.1614662316847578,
          0.02750295311791702,
          0.15289259242822908,
          0.3215550890833304,
          0.312434196257236,
          0.3163431503255622,
          0.15267873580963734,
          0.02340620212478796,
          0.3072222574994678,
          0.03197984138131667,
          0.02682002201112614,
          0.1578385551798279,
          0.14926491592329919,
          -0.2604410593567561,
          -0.26245303484677784,
          -0.2582106838274778,
          -0.2415324798026195,
          -0.4702346637448385,
          -0.4042778167030556,
          0.33524392769689326,
          1.1240602115788267,
          0.8997332263139757,
          0.9263141139785935,
          1.8394873396029503,
          0.2552876460222217,
          0.3311471767037642,
          0.2511908950290926,
          0.9222173629854644,
          -0.20350850121542002,
          -0.24690327044212146,
          -0.22240715828061083,
          -0.27102952839552263,
          -0.2696223049309252,
          -0.11056354124543043,
          -0.2082256663644156,
          -0.12656419323177887,
          -0.1454835309224775,
          -0.12828413302184238,
          -0.2538301304948875,
          -0.2361095387184756,
          -0.252110190704824,
          -0.08267966889137046,
          -0.1440763074578801,
          -0.2561548223103754,
          -0.11361790448700587,
          -0.2120618204196563,
          -0.08651582294661113,
          -0.27345845898616583,
          -0.23916390196005102,
          -0.13060882483733027,
          -0.14791246151312076,
          -0.021365087241871347,
          -0.16317233363915334,
          -0.1469110847149165,
          -0.17719244889754984,
          -0.11579581033104022,
          -0.03762633616610819,
          0.009750187142004915,
          -0.051646451424504705,
          1.4959298937034184,
          1.5040811987910447,
          1.5439525302879715,
          1.4986814631084735,
          1.5385527946054003,
          0.05907343047294962,
          -0.024829176325527433,
          -0.0407255895367205,
          -0.06079155375412814,
          0.10024774665931854,
          0.08643610895123276,
          0.04734656826797111,
          0.06428536923071783,
          0.07601223143569633,
          -0.04906469154914966,
          -0.07773035471687485,
          -0.06600349251189637,
          -0.03864081403361321,
          0.08435133344812547,
          0.035125744336508134,
          0.010931037138773164,
          0.03199858108184721,
          0.03199858108184721,
          0.026786642324078985,
          -0.11223221683779697,
          -0.09933266841232062,
          -0.004015915734331189,
          -0.09412072965455241,
          -0.1301352264707308,
          0.008675155140834417,
          -0.11744415559556519,
          0.01388709389860264,
          -0.13395125312559208,
          -0.00783194238919243,
          -0.09412072965455241,
          -0.09099356639989148,
          0.02998660559182542,
          -0.10134464390234242,
          0.03311376884648635,
          -0.09300554188991327,
          0.00944025552452819,
          0.02998660559182542,
          -0.11919553414769855,
          -0.09613270514457418,
          0.0247746668340572,
          0.006923776588701052,
          -0.0057672942864645535,
          -0.13544203473983704,
          0.012135715346469275,
          -0.0093227240034374,
          -0.11398359538993035,
          -0.1318866050228642,
          -0.09613270514457418,
          0.10258677968434898,
          0.2831238721823559,
          1.327054649836893,
          1.2791048132654252,
          1.295855817303369,
          1.3618970136577015,
          0.12864647347319005,
          -0.05293300677637054,
          0.1625240753986835,
          -0.019055404850877127,
          0.14350049893282948,
          -0.038078981316731125,
          0.5312370260881873,
          -0.4042512267889419,
          -0.019404164310847648,
          -0.15717753723914032,
          0.025444330761973957,
          0.04629208579304683,
          0.07086878570405193,
          0.031779245020790284,
          0.0698991979655838,
          0.030809657282322163,
          0.06423886534512425,
          0.028797681792300363,
          0.8871607734044383,
          0.38702841069868443,
          0.321144363669987,
          0.7599990749164851,
          0.49655562446151125,
          0.3131519656467318,
          1.5728136841763183,
          1.5041358708439339,
          0.42838745570543935,
          1.5000391198508047,
          1.5685291362583862,
          1.5088994157390108,
          0.31407935648656804,
          0.43620536384209163,
          0.3062614483499157,
          -0.16530954769940712,
          -0.22785281279262573,
          0.710052087082294,
          0.42491452587899914,
          0.4561861584256085,
          -0.19658118024601642,
          0.711167274846933,
          -0.22934359440687074,
          -0.1954659924813773,
          0.4578225400660244,
          0.42394493814053097,
          0.3366032997943429,
          1.1995030072073773,
          1.1578074971452315,
          1.2037453582266773,
          1.2058301337297848,
          1.2058301337297848,
          1.2376229601521707,
          1.1719525318042914,
          0.39204618244222933,
          0.3407555639352829,
          0.3292892986681928,
          0.40351244770931943,
          0.3777861508714522,
          0.3850828651323277,
          0.38307088964230585,
          0.37368939987832306,
          1.729363435182132,
          1.6577462555198896,
          1.6588614432845288,
          1.7304786229467712,
          1.7778085957143057,
          1.7616515855652244,
          -0.23308647252059714,
          -0.04777428582804891,
          -0.2361408357621726,
          -0.04874387356651707,
          0.07222193138570261,
          -0.05389737935069701,
          0.441299003703139,
          0.6210543053874806,
          0.4372022527100099,
          0.6169575543943515,
          0.4331055017168808,
          0.6146849819664413,
          1.7702090876169099,
          1.7863660977659912,
          1.7689789029405532,
          1.7851359130896347,
          1.8977769830689224,
          1.764882151947424,
          2.0150456051187073,
          1.7643303549571938,
          1.7804873651062754,
          1.7834267314361334,
          1.7672697212870518,
          0.7055003020997075,
          -0.04584264386163364,
          0.6450251220796246,
          -0.045040172422460584,
          0.6202837619994431,
          0.01726831748888458,
          1.9301734513892914,
          1.412079316627886,
          1.916153336130895,
          1.4780676024317387,
          1.7927963529361126,
          1.4993844319510106,
          1.5941799907532233,
          1.917925395308536,
          1.4852600779174587,
          1.7942817554820767,
          1.6130472090563441,
          1.9284013922116503,
          1.4260994318862825,
          1.3075320532803654,
          1.4288042609720408,
          1.737617460986348,
          1.4143932503068117,
          1.7533053966472303,
          1.2952839971996102,
          1.4410523170527962,
          1.6195245359369117,
          1.7548689782745608,
          1.296300325257375,
          1.7360538793590174,
          1.6179609543095812,
          1.4298205890298057,
          1.4193913324459881,
          1.7272142640963193,
          1.746289959949751,
          0.29741473783729877,
          1.610945517612102,
          1.6093819359847714,
          1.2877213069325657,
          1.285871068673558,
          1.7287778457236498,
          1.7447263783224205,
          1.298953034955556,
          1.4324732987279865,
          1.421241570704996,
          1.4055536350441136,
          -0.44081829096264347,
          -0.4752170867639137,
          0.6750091420852551,
          0.648949448296414,
          0.6750091420852551,
          0.648949448296414,
          0.648761651371611,
          0.6745346885287749,
          0.7192531230704262,
          0.653004002390911,
          -0.329369578671547,
          0.6790636961797522,
          -0.3033098848827059,
          0.7568365805822161,
          0.7568365805822161,
          0.7828962743710572,
          0.7828962743710572,
          0.7537561576468518,
          0.8345412083922592,
          0.7876337595723453,
          0.8147358411127399,
          -0.22513080351618264,
          0.9570017976059393,
          -0.18864723221180507,
          0.24198057006469567,
          0.23871772927280951,
          0.3401224577901843,
          0.459428639148232,
          -0.10874208420747462,
          -0.21349244603702458,
          -0.11579351657746755,
          -0.12256903696256623,
          -0.10719381762714998,
          -0.08267188370962443,
          -0.19471895980004988,
          -0.17934374046463364,
          -0.06338771030588203,
          -0.2072276128186936,
          -0.08944740409472311,
          -0.054788011355564464,
          -0.07016323069098071,
          -0.1879434394149512,
          -0.2140031332037923,
          0.5756243732557361,
          0.5558190059762169,
          0.5558190059762169,
          0.5369517876730959,
          0.38421500937950137,
          0.38421500937950137,
          0.40402037665902063,
          0.3625854635347633,
          0.3637006512994025,
          0.3853301971441406,
          0.40513556442365983,
          0.3853301971441406,
          -0.16549204887719504,
          -0.11597863067839696,
          -0.1785218957716156,
          -0.14725026322500628,
          -0.13422041633058573,
          -0.15134701421813535,
          -0.3948763555725136,
          -0.12007538167152602,
          -0.3636047230259043,
          -0.1695887998703241,
          -0.09998359569810346,
          -0.06871196315149415,
          0.1808362197204387,
          0.21414050838257762,
          0.12418244542349817,
          1.9403646921513267,
          1.9410108054277666,
          2.0926098845300647,
          2.0457024357101505,
          2.045254041847459,
          2.1439733030500965,
          2.047932811239429,
          2.1049700084857808,
          0.07293535227987766,
          0.06568561627607271,
          0.05781558875184269,
          0.1356922360539141,
          0.09665129635598545,
          -0.11320295165446774,
          0.06629175309198558,
          0.09878281217838938,
          -0.025251723054902968,
          -0.05600216172573546,
          0.06803237350755689,
          -0.4233277560759875,
          -0.4919021217961188,
          -0.5141364196662813,
          -0.44556205394615006,
          -0.39680460480500224,
          -0.3282302390848708,
          1.6120193157628586,
          1.6889327834954193,
          1.6144374882169399,
          1.7476657162894123,
          1.5540144275844348,
          0.19531966524625863,
          0.3602209414709609,
          0.3884382107759947,
          0.22353693455129248,
          0.2215249590612707,
          0.3885110107890803,
          0.1907745203904382,
          0.3577605721182478,
          0.7336401125833416,
          0.7532222539804516,
          0.7010654953472902,
          0.5536615850165907,
          0.7206476367444002,
          0.07613798175636365,
          1.3568795758042878,
          1.3798121063384678,
          1.3694610288360172,
          -0.4691093992787533,
          -0.46912426405300023,
          -0.5071359880271019,
          0.09188251344505677,
          0.1778325246911618,
          0.1564635757843121,
          0.11325146235190646,
          0.11325146235190646,
          0.1778325246911618,
          0.15366980948062506,
          0.08908874714136973,
          0.17503875838747476,
          0.11045769604821942,
          0.3454853703209192,
          0.3004490783232947,
          0.36503014066254996,
          0.2809043079816639,
          0.3686784977929877,
          0.08707677165134796,
          0.15165783399060329,
          0.30409743545373247,
          1.6454689284324702,
          1.6434371038823006,
          1.6673851309088854,
          0.4503248414928711,
          1.6627725651082605,
          1.6551631345219189,
          1.6604478732927728,
          1.6528384427064313,
          1.6431442366169824,
          1.6650604390933976,
          1.709622277534542,
          1.7172317081208837,
          1.7218442739215085,
          1.699928071445093,
          1.6341077335058953,
          1.6605788599722497,
          1.6388711350461451,
          1.6526361757897614,
          1.6508325344952233,
          1.6785854201698063,
          1.6663894834766286,
          1.6762921671163882,
          1.6803835390412363,
          1.6568776952437017,
          1.6688390946927796,
          1.712410664769948,
          1.7341183896960526,
          1.7359165085674826,
          1.7243720642190261,
          1.7318251366426347,
          1.721922453002875,
          1.4086048379589708,
          1.4068534594068374,
          1.4110958104261377,
          1.25786997740325,
          1.2244353902721667,
          1.4280874311608758,
          1.4457298438559212,
          1.4970033341118163,
          1.249661173859765,
          1.4354623245031177,
          1.2411917733783917,
          1.1259872337545271,
          1.4098977648962647,
          1.267042989616922,
          1.2644327796530486,
          1.2573227238336844,
          1.4189144189472036,
          1.4365307719484603,
          0.8785532290150446,
          0.8949708361020146,
          0.8455616566783718,
          0.8619792637653417,
          0.8815707744262692,
          0.8462338296486007,
          0.862912033673459,
          0.8982489784511275,
          0.9042894483418576,
          0.885526468813892,
          0.8501895240362235,
          0.8689525035641891,
          0.3485494322930871,
          0.16415550511433166,
          0.35011301392041755,
          0.3698923215061479,
          0.6861271551819939,
          0.6495860854217576,
          0.49203364284550843,
          0.34728780885466065,
          0.4926851351902295,
          1.5876023218027326,
          1.4534826850731588,
          1.2327458834485325,
          1.240663789775351,
          1.2399383589342527,
          1.4293096876266767,
          1.4176870641968535,
          1.4275115687552467,
          1.5891137840424854,
          1.4434950924905439,
          1.3821104410445784,
          1.2540324126890265,
          1.2409286272982287,
          1.4385087595341375,
          1.2479865637300154,
          1.4467696824652,
          0.8876976323926531,
          0.8712800253056833,
          0.8382884529690104,
          0.8547060600559803,
          0.8556388299640976,
          0.8909757747417661,
          0.8389606259392393,
          0.8742975707169078,
          0.8966253492256636,
          0.8779926681666422,
          0.8426557233889737,
          0.861288404447995,
          0.3295493663787472,
          0.4614738310254852,
          0.33872237859241927,
          0.6695820795520859,
          0.4864650773689838,
          0.3612900734135557,
          0.3628536550408862,
          0.32011575722718677,
          0.6680184979247555,
          0.6430533112750457,
          0.6521742041011401,
          0.12717425048569145,
          0.1501067810198716,
          0.35404547854025786,
          0.15823740548199003,
          0.4507893565720604,
          0.3524818969129274,
          0.47752660239941136,
          0.6414897296477153,
          0.3389829755303077,
          0.14854319939254113,
          0.17150178962051013,
          0.347791152030936,
          0.3371587969650888,
          0.1366078596372519,
          0.16993820799317966,
          0.157090778955281,
          0.4594411749099556,
          0.6768266744253838,
          0.44875670045653077,
          0.6783902560527142,
          0.4858135850242628,
          0.15980098710932047,
          0.16165122536832818,
          0.14880379633042953,
          0.6537377857284706,
          0.47817809474413236,
          0.16321480699565868,
          0.3484165846818682,
          0.3468530030545377,
          1.2458498016816553,
          0.32117882560424826,
          0.34293866991793054,
          0.4624066009336024,
          0.3302997184303426,
          0.6834925769670461,
          0.339915745438425,
          1.2193731527921927,
          1.2287546425561755,
          1.235894998654318,
          0.35643759130055025,
          0.6719741923123784,
          1.1474953761920619,
          0.13780122648325752,
          0.46037394481807287,
          0.16068163762986,
          0.4498197688335922,
          0.3492972352024078,
          0.1497572468640546,
          0.15913873662803737,
          1.155333964954222,
          0.6714736790621093,
          0.4482768678317695,
          0.4809817835367651,
          0.1362583254814349,
          1.2453492884313861,
          1.1613016348318665,
          1.2272117415543529,
          0.4588310438162502,
          0.4608636999317797,
          1.1459524751902392,
          0.3477543342005851,
          0.3383728444366023,
          0.6730372606894398,
          0.6425734786502846,
          0.32919983222293026,
          0.3287568174285199,
          0.6814284820894466,
          0.4816332758814861,
          1.21783025179037,
          0.12669441786093022,
          0.3559370780502812,
          0.1358153106870246,
          0.6460791199904641,
          2.0479692806029433,
          0.6474549046929917,
          2.087322282388017,
          0.7325029130495724,
          0.5381445756418884,
          0.22300535359118492,
          1.453642656985872,
          0.22633561532787552,
          1.4595788881014469,
          0.23031736940928726,
          1.4686849161532942,
          0.2057440624888074,
          0.163006164675108,
          0.14090240321166367,
          0.1369464708862669,
          0.07300638069294446,
          0.050073850158764296,
          0.022971768618369554,
          0.31004603045566603,
          0.32672423448052434,
          0.04069236039478151,
          0.08968458471780276,
          0.03235325838235237,
          0.07584664937815425,
          0.09726771767258163,
          0.3075128610898674,
          0.1259333808403068,
          0.33513613650603896,
          0.15355665625647838,
          0.08522813914213705,
          0.10664920743656442,
          0.5767390583864129,
          0.6158285990696746,
          0.5757694706479447,
          0.6148590113312064,
          0.6107622603380772,
          0.5716727196548156,
          0.49511798341919805,
          0.5101804864291483,
          0.35135625998775294,
          0.3787971175474026,
          0.3233420891647487,
          0.4810978681608015,
          0.3637346145374524,
          0.37873961909154397,
          0.4950604849633393,
          0.3636771160815938,
          0.5101229879732895,
          0.3512205824505278,
          0.48096219062357626,
          0.3197665320473966,
          0.31566978105426746,
          0.4909637339702103,
          0.5060262369801605,
          0.47686543963044725,
          0.3595803650884647,
          1.6681377130380985,
          2.3135429613345346,
          2.267791508305147,
          2.279434812360478,
          1.1994735410310269,
          0.15470938702528805,
          0.13625912382278854,
          1.1346370228843903,
          0.13442956618928867,
          0.15287982939178815,
          0.18185820888497947,
          1.2415762498380594,
          1.2915066231374788,
          1.3739498870837805,
          1.4238802603832001,
          1.346821745849597,
          1.2144481086038756,
          1.2402157666927585,
          1.3725894039384798,
          1.290823692030688,
          1.3463733519869057,
          1.2139997147411843,
          1.423197329276409,
          1.3701344136540476,
          1.2110235305809753,
          1.420612040523033,
          1.3433971678266967,
          1.2377607764083265,
          1.2882384032773115,
          0.9030207323404916,
          0.9176402205560316,
          0.9178433190380613,
          0.9032238308225214,
          0.9077267787797099,
          1.2774343884915047,
          1.271471859744367,
          1.2831190024514447,
          1.2646687392489453,
          1.2700891555570242,
          1.277672526449577,
          1.380541211258049,
          1.3859876872599168,
          1.2645016229496502,
          1.2700262780328844,
          1.5892613209275002,
          1.444691746988601,
          1.57779505566041,
          1.4315055419314473,
          1.5630973883635035,
          1.4182150980991384,
          1.4423463745476053,
          1.5764399515833902,
          1.6075031065796888,
          1.5624719557125715,
          1.4766930509612979,
          1.5498069445311946,
          1.4308801092805152,
          1.5739382209796615,
          1.4756192244476742,
          1.5471695363902407,
          1.4281905817519835,
          1.5597824281840398,
          1.4275651491010513,
          1.4390314143681413,
          1.5591569955331075,
          1.5882396138014543,
          1.6064292800660653,
          1.4155776899581844,
          1.5706232608001975,
          0.18473183128647416,
          -0.21328725296656148,
          0.1652912997199987,
          0.19619809655356424,
          -0.24419404980012702,
          0.30146965225889105,
          -0.22475351823365156,
          -0.227807881475227,
          0.19314373331198878,
          0.16223693647842324,
          0.29841528901731557,
          -0.21634161620813688,
          0.1816774680448987,
          -0.24724841304170245,
          -0.2394305049050501,
          -0.24287576355345816,
          -0.2506936716901105,
          0.2949700303689075,
          0.15879167783001522,
          -0.23125314012363504,
          0.18969847466358075,
          0.17823220939649068,
          -0.21978687485654497,
          -0.35726935056817105,
          -0.34046084807436855,
          -0.3613661015613001,
          0.2027999000983662,
          0.13112443081736272,
          1.8006816367218674,
          0.6534602006283343,
          1.916347969272481,
          -0.03435985357022574,
          0.6493634496352052,
          1.6825051535227833,
          -0.2859465418999473,
          -0.3147685632304056,
          0.34685907132942534,
          0.323796242326301,
          0.3027400097449174,
          0.3756810926598836,
          0.587809622652858,
          -0.3378313922335299,
          0.3337977856729349,
          0.30927561381763546,
          -0.3891075003461518,
          0.28821938123625185,
          -0.3458744683504645,
          0.1346125941668306,
          0.15423016452154686,
          0.13220434420169513,
          0.7344568260767476,
          0.7049051333202018,
          0.7036228292562674,
          0.7010896598904689,
          0.6999169736699711,
          0.7294686664265169,
          1.9819375849848473,
          1.9315280672711994,
          1.9426555565190347,
          1.9536994876172222,
          0.7803582547743687,
          0.7836938955793403,
          0.7724882272501387,
          0.7717064364364734,
          0.959004232007323,
          0.7638885282998211,
          0.7907300129023275,
          0.7915639231035704,
          0.7725403466377163,
          0.7829121047656751,
          0.8006848159296647,
          0.7645085818824722,
          0.9637677769023998,
          0.7788674731601237,
          0.7902816190396361,
          0.95701831621109,
          0.7673958288247525,
          0.7856376144769412,
          0.7666140380110873,
          0.7741452895160623,
          0.7923870751682511,
          0.7999965057545927,
          0.8067980858334802,
          0.8135475465247901,
          0.7809729292887387,
          0.7932470450632829,
          0.7733634987023972,
          0.7742234685974289,
          0.8075538169533566,
          0.7931688659819164,
          0.7864194052906065,
          0.8008043562620468,
          0.38938619612500097,
          0.1766326840948882,
          0.33141765799901307,
          0.3037943825828415,
          0.19122611261663922,
          0.3183878111045925,
          0.20425595951105976,
          0.2622244976370476,
          0.4071060821857241,
          0.43212338822301155,
          0.41752995970126056,
          0.44181221524417935,
          0.3899534246043856,
          0.41809789389633395,
          0.40350446537458295,
          0.49850382837451396,
          0.41392834289011937,
          0.4285217714118704,
          0.43138833772864293,
          0.48807995085897754,
          0.3272604471859073,
          -0.15986690763911562,
          -0.16864902444595506,
          -0.16310985896839625,
          0.018209024343275954,
          0.014894064163812087,
          -0.1664248191478601,
          -0.12826407933516423,
          -0.11210706918608274,
          -0.11359785080032772,
          -0.11704310944873579,
          0.5983843240194336,
          0.5961117515915234,
          -0.40126716901346055,
          -0.4022367567519287,
          1.7499627557585025,
          1.7585624547088199,
          1.789703788786485,
          1.8069813657684866,
          1.7602823944988835,
          1.7516826955485658,
          1.8276988223306154,
          1.8276988223306154,
          1.6788353312099669,
          1.6899888801515908,
          1.719644811683292,
          1.7003606382795495,
          1.7606106503193502,
          1.7973860193859121,
          1.7606106503193502,
          1.8319672330437042,
          2.01675720918641,
          1.6882689403615274,
          1.8319672330437042,
          2.088113791910764,
          1.7519118537243843,
          1.791001394407646,
          1.8110152392374759,
          1.8007216601908838,
          1.750191913934321,
          1.7293650774665297,
          1.7613454628759448,
          1.7596255230858813,
          1.7717172210039036,
          1.7900839260567556,
          1.7187273433324015,
          1.8092638606853426,
          1.8302158544915708,
          1.7998041918399932,
          1.750160475172251,
          0.3673588370077834,
          0.22265665366114482,
          0.20493606188473287,
          0.032485191106866054,
          -0.20169944163854736,
          -0.1785063141664788,
          0.052719590600134134,
          0.011545274413765197,
          -0.07157554157104662,
          -0.11274985775741554,
          -0.09367416190398387,
          0.030620970267196887,
          -0.11632541487476779,
          0.05148940592377757,
          -0.09620733126978248,
          0.02808780090139827,
          0.007969717296412951,
          -0.07280572624740318,
          0.026701258062308664,
          0.049321072271022726,
          -0.09759387410887209,
          0.3087880814656106,
          0.15165773512048997,
          0.18318996460498768,
          0.27829823973266654,
          0.20406354139207553,
          0.23559577087657324,
          0.3611938877371962,
          0.3307040460042521,
          0.32660729501112296,
          0.3576183306198438,
          0.232020213759221,
          0.19996679039894646,
          -0.15699953767261324,
          -0.1512664050390682,
          -0.1721141600701411,
          -0.14754524789554493,
          -0.45909314453185457,
          -0.46691105266850685,
          -0.151641998888674,
          -0.4704866097858592,
          0.027349247204092333,
          0.042463869601620165,
          0.36211131572542365,
          0.06845076337737575,
          0.1417158739794985,
          1.792346192399636,
          0.30816918253206693,
          1.8510063251805433,
          0.24072155387603902,
          0.3082419825451524,
          0.24079435388912449,
          1.8510791251936294,
          0.17142392489877736,
          1.806939620921387,
          0.09815881429665461,
          0.3389196212028994,
          0.27147199254687154,
          1.8708116924600626,
          0.271544792559957,
          1.8708844924731485,
          0.33899242121598494,
          0.4640536513548839,
          0.3333408327151048,
          0.347413067361079,
          0.31249307768403195,
          0.318226210317577,
          0.3197897919449074,
          0.3244805368268988,
          -0.07156925307971763,
          0.43669097287660075,
          0.4439876871374763,
          -0.04811552866976066,
          -0.055412242930636166,
          0.45753872790767364,
          0.3411587408517571,
          -0.25086162301792225,
          -0.2730123627384372,
          -0.2899511637011839,
          0.4426847024480342,
          -0.03456448789956329,
          -0.40974334791517614,
          -0.39280454695242945,
          0.4940481209680661,
          0.3695896288376089,
          0.392522159371789,
          0.5154170698749158,
          -0.37039321029402605,
          -0.1372655031836121,
          0.3134626654225,
          0.315099047062916,
          -0.07339343164493652,
          0.313796062373474,
          -0.07000567145238717,
          -0.3839442510642235,
          -0.3572330649306613,
          -0.3624450036884295,
          -0.407137378536292,
          -0.3891561898219917,
          0.06785205078845537,
          0.08348786706176002,
          -0.3477651889519979,
          -0.3185783319084958,
          -0.326917433920925,
          -0.2648953627034832,
          -0.3132935931376421,
          -0.34248045018114415,
          -0.32163269515007126,
          0.07446760573659153,
          0.19980512565932593,
          0.076031187363922,
          0.19536976577646517,
          0.07003224585373079,
          0.06125534098564912,
          0.20136870728665637,
          1.6161900105359794,
          1.634457855881957,
          1.604098312617957,
          1.6120671998490614,
          1.618347586052172,
          1.6381268936379025,
          1.6369748880429125,
          0.27729002738796465,
          0.10527959588941586,
          0.038045585914205836,
          0.19853763275808683,
          0.06879602458503832,
          0.23502120406246438,
          0.3313646966524913,
          0.05709088559602294,
          0.10926239256128281,
          0.9283725988153477,
          0.2930830064766837,
          0.26233256780585124,
          0.07971069980473701,
          0.9651167670576136,
          0.14754408273709035,
          0.05630371571407666,
          0.07691693350104997,
          0.11055999818244382,
          0.34048021041030463,
          1.0296924503285878,
          0.2595388015021642,
          0.9851303739496696,
          0.1566595964949037,
          0.2943806120978447,
          0.052206964720947574,
          0.3364616384985421,
          0.07305471975202045,
          0.29059657743018175,
          0.2556765877531347,
          0.9811639214254848,
          1.0259865947422915,
          0.1527973827458742,
          0.10693232167751388,
          0.9254346181411698,
          0.9107890702318411,
          0.9637423680107662,
          0.9489144022449156,
          0.9258201344797214,
          0.966733853728202,
          0.9111745865703927,
          0.9519058879623513,
          0.9158078329965254,
          0.9713671001543346
         ],
         "x0": " ",
         "xaxis": "x",
         "y": [
          0.16104550647097196,
          0.12146206314965333,
          0.14173964783824777,
          -0.1698745861405444,
          -0.14492310836413475,
          -0.04859108227966697,
          0.08334329885313436,
          0.26895221572520284,
          -0.020428028155798646,
          0.05131369969177094,
          0.3830714338879033,
          0.10705153333173913,
          0.3652642925435078,
          0.13521458745560744,
          0.10705153333173913,
          0.2711952153087232,
          0.4581523137160567,
          0.9488882519096618,
          0.9261601731430312,
          0.8936644562046963,
          0.9163925349713269,
          1.1333578451879693,
          1.1885816408929348,
          1.1984634142697308,
          1.1658535621263044,
          0.3396149197604198,
          0.3468039098920388,
          0.4641841132690821,
          0.454895246294894,
          0.5251547081359439,
          0.5344435751101321,
          0.5300708903908998,
          1.0352194570340543,
          1.1574911382326114,
          1.327915866807553,
          1.1442047317036288,
          1.0278081270014574,
          1.413051976243489,
          1.4455476931818239,
          0.5079474463155009,
          0.5219136903444233,
          0.6231783639830909,
          0.6256241028938478,
          0.6360082040736817,
          0.6862323703932781,
          -0.9350052207254128,
          -0.9117830532899424,
          -0.9220260062062496,
          -0.889910242731663,
          -0.8514655125010877,
          -0.8277492563967775,
          -0.8743464496632094,
          -0.8975686170986797,
          -0.8109502416562245,
          -0.909179700816415,
          -0.8859575333809446,
          -0.8430660051308112,
          -0.8012166948800805,
          -0.9233941370076776,
          -0.7933805811796592,
          -0.769713733942233,
          -0.8071503375689659,
          -0.774111123094907,
          -0.7955392538512307,
          -0.7813248176599681,
          -0.6951511220194686,
          -0.7581026502244977,
          -0.6855658018439766,
          -0.7358146194649838,
          -0.7274151120947072,
          -0.8063751131701458,
          -0.7119501367600217,
          -0.818761421286701,
          -0.6425505749221619,
          -0.6657727423576324,
          -0.679987178548895,
          -0.7032093459843654,
          -0.6541616586398972,
          -0.6915982622666301,
          0.3491059723557938,
          0.13776881872183894,
          0.17456773887391935,
          0.19064093808253632,
          0.22251428901754233,
          0.24020266336200702,
          0.19225611321838404,
          0.2141101498524266,
          0.21399601464733503,
          0.20954921662777687,
          0.2280928591805928,
          0.12378610939367274,
          0.261942564790958,
          0.30115942221217085,
          0.283866318802778,
          0.25749576677139985,
          0.331812868946401,
          0.3032778902387173,
          0.25040577087801996,
          0.4444498211025822,
          0.37457951694713904,
          0.35283961551818804,
          0.3965032709589592,
          0.3701327189275809,
          0.23642306154985374,
          0.41379637436835204,
          0.2872046910301004,
          0.3267471020086076,
          0.461742924511975,
          0.3407298113367738,
          0.3221861687839579,
          0.33515124117372336,
          0.32663296680351606,
          0.30489306537456506,
          0.43926991895969697,
          0.4827696710837618,
          0.46547656767436896,
          0.3998416431862813,
          0.5264333265245331,
          0.5091402231151403,
          0.3490600137060347,
          0.417530017530746,
          0.3630427230342009,
          0.48721646910331995,
          0.43938405416478854,
          0.45336676349295474,
          0.4348231209401388,
          0.41591484239489823,
          0.574379876668156,
          0.5570867732587632,
          0.44778819332990427,
          1.1543335494148448,
          1.080314435027804,
          1.193692520187245,
          1.4475240478571831,
          1.415028330918848,
          0.8110733754781466,
          0.8589659380920777,
          0.9338391453455435,
          1.1116951532192447,
          1.0712740683133104,
          1.14419087015758,
          0.9753960049140393,
          1.2115421603547718,
          0.8604816662183873,
          1.2425556112865874,
          0.9741067957122481,
          1.3296140878681906,
          1.0890211344079,
          1.0867437478684292,
          1.15928059624895,
          1.4007276425756658,
          1.227611488837733,
          1.0510188476912599,
          1.2577708469031235,
          1.1244097889382063,
          1.1648910215195405,
          1.238281962766487,
          1.3471656823576714,
          1.3773250404230617,
          1.3162889581488084,
          1.20275244151561,
          1.2726847620806778,
          1.3853671858474512,
          1.3938256655512014,
          1.3213184576978685,
          1.5044272906985494,
          1.3912507782629364,
          1.576169018546119,
          1.3515367880967324,
          1.5079448837139013,
          0.8875611357638516,
          1.041394344092756,
          1.043475142712181,
          1.043183802109095,
          1.2262926351097758,
          1.0061271519461101,
          1.1131161226741626,
          1.1625352475632793,
          1.1892359849467913,
          1.1893245978074531,
          1.036345482344974,
          1.0734021325079588,
          1.3232061995125657,
          1.1173692877452541,
          1.125160571241599,
          1.3740031464641358,
          1.3049249187654932,
          1.5217203941079422,
          1.370803885472742,
          1.4950196567244305,
          1.6777230139169337,
          1.608644786218291,
          1.3738273898192543,
          1.4844290149666026,
          0.5164922996892274,
          0.5903918600688486,
          -1.0128377643384636,
          -0.382356231022302,
          -0.22621952674205603,
          -0.2338037878087469,
          -1.1487436884315834,
          -1.0283001353077335,
          -0.9283385714130391,
          -0.8029788360342334,
          -0.948718501147553,
          -0.8190395121650914,
          0.5882216458724092,
          0.8650372302247328,
          0.8486181689479281,
          0.689824263102619,
          0.7404729834535373,
          0.5790963229701965,
          0.5626772616933918,
          0.5294250942804736,
          0.8155142281356618,
          0.7992695350454729,
          0.7486208146945547,
          0.8319332894124666,
          0.5310015462259217,
          0.7420494353989854,
          0.6917332751263777,
          0.9612551211041092,
          0.8024612152588003,
          0.9445702415686477,
          0.675314213849573,
          0.8531099356097185,
          0.977674182380914,
          0.6420620464366548,
          0.6999845558960024,
          0.6502098776776721,
          1.020051672696045,
          0.9281511802918428,
          0.6642960365344456,
          0.7008585980285904,
          0.8612577668507359,
          0.6939413566648333,
          0.9119064872016541,
          0.8612577668507359,
          0.7122226374119057,
          1.7789113750181336,
          0.9727044128450182,
          1.1882190493038032,
          1.1615382611864542,
          1.222311167453749,
          1.1274461430365081,
          0.99583239434156,
          1.022513182458909,
          1.8396842812854284,
          1.056605300608855,
          1.222311167453749,
          0.9617402761916142,
          -0.05367510377485748,
          -0.04291928826547354,
          0.7855844617103575,
          0.7668090922944452,
          1.179711043762268,
          1.1589593196709964,
          1.4177722811309912,
          1.4668651333545224,
          1.2766712429868299,
          0.8566190948181964,
          0.8756415085685286,
          1.2259083342987889,
          1.327068287208489,
          1.3396675482639038,
          1.5966470769533676,
          1.1102329133337143,
          1.7142249157979466,
          1.3117116399421296,
          0.10153117109427429,
          0.11141294447107018,
          -0.004732213738344433,
          0.029088155643739545,
          -0.04493095874330108,
          0.03538778617144693,
          -0.03863132821559369,
          -0.06600384046931834,
          0.08247957928617702,
          -0.07875132812538506,
          0.00846046489913639,
          0.00801527391772227,
          -0.04616137211609005,
          -0.008907086485569496,
          -0.0187888598623654,
          -0.07471969717503021,
          -0.049027086395360873,
          0.038184706629160584,
          -0.025088490390072785,
          -0.05890885977215677,
          0.028302933252364684,
          -0.03627959873929415,
          -0.015206717013276881,
          0.4333080929599672,
          0.4219440535766519,
          0.43908893038539276,
          0.44897070376218867,
          0.4234263195831713,
          -0.2866456955809552,
          -0.2757757448664797,
          -0.18186017459651896,
          -0.15666165248568942,
          -0.1675316032001649,
          -0.06764213870005052,
          -0.05331356730369647,
          -0.07765682120617477,
          -0.08852677192065027,
          -0.042443616589220974,
          0.14428793334605772,
          0.44713816082460445,
          0.15305800721796406,
          0.43836808695269813,
          0.25816010717433824,
          0.5680510981838521,
          0.5621220341577746,
          0.5522402607809787,
          0.6814291833432926,
          0.675500119317215,
          0.3715381923337788,
          0.6656183459404191,
          1.214303904330539,
          1.3294112998309189,
          1.4430364293247797,
          1.2149631429467014,
          1.3276000951028826,
          1.3985637642023274,
          0.6616965229595995,
          0.7743334751157807,
          -0.9767732877140284,
          -0.8626540695513281,
          -0.06761273665293564,
          -0.07606628468493544,
          -0.04246362340899008,
          -0.11203593977647254,
          -0.12532692496826303,
          -0.006493968317452984,
          -0.14668554853282814,
          -0.8749661702550006,
          -0.802849297242993,
          0.25650324787244067,
          0.1816300406189748,
          0.1331340779321469,
          0.16520043253984962,
          0.1879049667132402,
          0.2416064745069208,
          0.17147535863411503,
          0.16969779926649375,
          0.26717556311938023,
          0.15326819118736856,
          0.5783568919536647,
          0.46196028725149324,
          0.5890292072006043,
          0.5239190594560348,
          0.5846575064602495,
          0.8781089107830568,
          0.6569074651060564,
          0.9503588694288636,
          0.5581071152311046,
          0.5435067950668886,
          0.5271030512614073,
          0.46863358781342285,
          0.47878710995808066,
          0.45222984400794164,
          -0.4019703593003392,
          -0.15451187375707026,
          0.12829389112508982,
          0.23944857727475155,
          -0.09758341901257607,
          -0.0845147737217635,
          -0.07016149789196745,
          -0.09958447812137726,
          -0.05383186738681222,
          -0.11265312341218983,
          0.29376368493997707,
          0.18179934779352905,
          0.37812165032166345,
          0.4123297011222357,
          0.2993771866381081,
          0.4961935778350822,
          0.5279311852914556,
          0.41547275947616774,
          0.03009069027538512,
          0.10410980466242578,
          0.5897755825309968,
          0.8348081312529984,
          0.8050131169933566,
          1.0881018155409687,
          0.9541152804385166,
          0.9235791331756151,
          1.15613787837224,
          0.6447990511831441,
          1.0241276979451472,
          -0.5511280283058597,
          -0.33375954269493424,
          -0.32214845897719907,
          -0.6130619195724882,
          -0.5394779215208138,
          -0.3816119068996286,
          0.4744916314756058,
          0.5184655230023476,
          0.6325353322981639,
          0.5925141501221406,
          0.5776914900569466,
          0.7531625031808739,
          0.7185762963620882,
          0.7798432912982227,
          0.08833171699726877,
          0.30319169149754627,
          0.2888631201011922,
          0.07252087959439532,
          0.5679010082399871,
          0.5333148014212015,
          0.5431965747979974,
          0.5086103679792118,
          0.6538818767122614,
          0.6785863101542512,
          0.6489409900238635,
          0.6242365565818737,
          0.302367339827543,
          0.1797452178979902,
          0.1950125577651399,
          0.19353029175862052,
          0.2850001231178242,
          0.8837410330227882,
          0.5518769331077447,
          0.6294136405101374,
          1.0032952265427264,
          -0.8465089226489996,
          0.10128340234884392,
          0.41773747954655455,
          0.12005877176475613,
          0.39500940077992397,
          0.28514524477495246,
          0.13488143182994997,
          0.4330542282805882,
          0.11610606241403777,
          0.2703225847097586,
          0.21392035450502506,
          0.3977821969311335,
          0.22874301457021892,
          0.24850656132381072,
          0.5313626090404152,
          0.620283305092286,
          0.33097940024732214,
          0.3655656070661078,
          0.5104191490873144,
          0.3532133903451129,
          0.8750180007801535,
          0.8354909072729698,
          0.5258974598142855,
          0.7083641969677092,
          0.6548393380421798,
          0.6400166779769859,
          0.757075723719283,
          1.1158556981609693,
          0.7786236588087593,
          1.085469245027322,
          0.1625319940255387,
          -0.86895743274271,
          -0.9084845262498936,
          -0.7946123524216129,
          -0.7972157048951402,
          -0.9788786994238612,
          -0.8583363285662434,
          -0.6766733340375225,
          -0.6738229372295753,
          -0.8978634220734271,
          0.6954718060014364,
          0.6766011037755463,
          0.6041983398662795,
          0.6230690420921697,
          0.7937342628181694,
          0.5950531208299352,
          0.7825302825830398,
          0.8125555561771758,
          0.9704215707983609,
          0.8988728997555192,
          -0.40250371504054927,
          -0.40907509433611855,
          0.2929858178271869,
          0.30400399514231435,
          0.3144045616213921,
          0.29150355182066756,
          0.30548626114883376,
          0.42422978702799413,
          0.39873481171586067,
          0.3158868276279114,
          0.4132116097128667,
          0.345610550850722,
          0.22921394614855056,
          0.2438142663127665,
          0.360210871014938,
          0.7199554442290369,
          0.900759131009515,
          0.8621636032152799,
          0.8943853871814816,
          0.8360263126336547,
          0.8723737369846688,
          0.9205226777631068,
          0.8557898593872465,
          0.8337782091904336,
          0.852610190231077,
          0.8746218404278898,
          0.8819271499688717,
          0.8140146624368417,
          0.7378769504150267,
          0.8223733155444786,
          0.7640142409966518,
          0.7356288469718055,
          0.7158653002182137,
          0.8026097687908867,
          0.7962360249628534,
          0.7791652614544384,
          0.8011769116512514,
          0.7837777877502435,
          0.7576404971686184,
          0.7989288082080302,
          0.7544608280124487,
          0.8470777489864684,
          0.8209404584048432,
          0.7742243747660406,
          0.7764724782092616,
          0.8273142022328765,
          -1.234138439961272,
          -1.2729237199345282,
          -1.2031021463320093,
          0.5285526584971482,
          0.39906270407072214,
          0.4094385661163578,
          0.5050834467272579,
          0.5228166512757986,
          0.641930743656589,
          0.6184615318866987,
          0.5124407892301629,
          0.6315548816109532,
          -0.006107929714764322,
          0.10998764312329533,
          0.26429787833621254,
          0.9151766468712782,
          0.7304061731361675,
          0.7061958283630176,
          0.7460934883718311,
          1.0134755875369554,
          0.8443924290375083,
          0.8994893316356146,
          1.0121262837917957,
          0.858853962695222,
          1.1262607662937885,
          0.8430431252923485,
          0.14704309930863813,
          0.23220872147732663,
          0.19224641420064215,
          0.7890591299222905,
          0.8885192320917726,
          1.0201184503228864,
          -0.141017365454982,
          -0.24681576821053985,
          -0.1283933999661252,
          -0.2594397336993966,
          -0.015756447809944167,
          -0.13417881605435883,
          -0.1591302938307685,
          -0.14680278154321558,
          -0.028380413298800956,
          -0.040707925586353826,
          -0.8456505007538836,
          -0.8506902051760495,
          -0.858966190379116,
          -0.858966190379116,
          -0.957353263102077,
          -0.8632894662314643,
          -0.938059100583883,
          -0.957353263102077,
          -0.5745360982604806,
          -0.8456505007538836,
          -0.8266033825701095,
          -1.0494122981934395,
          -0.9799568264322126,
          -1.0728815099633298,
          -0.9017919458897257,
          -0.9712474176509525,
          -0.9966929840962019,
          -0.9806890898886007,
          -1.006233474067618,
          -1.0081357154426511,
          -0.8127374287528972,
          -0.48845551508512125,
          -0.5140493081310227,
          -0.49700324905604976,
          -0.4994736924002487,
          0.4306708252327012,
          0.4549227109955495,
          0.6084311828212257,
          0.5762186613964205,
          0.6030209118974299,
          0.4949991101320931,
          0.583450421948566,
          0.6174483541595832,
          0.6737744624073199,
          0.2674494506817825,
          0.6813808110932553,
          0.4615456915999865,
          0.49157096519412247,
          0.49157096519412247,
          0.3644896121129676,
          0.6162387859146469,
          0.5570036755518664,
          0.4686271454260861,
          0.49865241902022217,
          0.595939624785827,
          0.5537892295389532,
          -0.22820477861447322,
          -0.2515149396690709,
          -0.24657405298067298,
          -0.23987915151789374,
          -0.2455364667761094,
          -0.12151077080317103,
          -0.12823037669939225,
          -0.12944089393804975,
          0.007939076412364444,
          -0.0528818015692921,
          -0.09932969216677509,
          -0.02372010707732873,
          -0.0019802056483777457,
          -0.11837681035054919,
          0.01706691253539636,
          -0.0561074428153061,
          -0.02717855125473609,
          -0.07881081714849468,
          -0.03706032463153199,
          0.06693007581995246,
          0.5211253474129022,
          0.5569467759037873,
          0.7109291133359663,
          0.6886951232381756,
          0.794405447068481,
          0.7815685286407646,
          0.7520373437154685,
          0.8239366319937772,
          0.8625002525967231,
          0.832969067671427,
          0.8491011158410776,
          0.9891940273813963,
          0.9210097910815046,
          0.8713351059388683,
          0.8243966823990878,
          0.8963053576395148,
          0.9172853521409693,
          0.9432437811792953,
          -0.12399315234969993,
          -0.11218443316442883,
          -0.14963635426248534,
          -0.000041569677087564396,
          -0.032552604086746074,
          -0.01185028886235865,
          0.11259538247909352,
          0.08008434806943503,
          0.10078666329382245,
          0.2854831373898806,
          0.2274277188012047,
          0.2731309206688858,
          0.2148284577457899,
          0.3386565182511923,
          0.37272393196769615,
          0.38532319302311097,
          0.32605725719577755,
          0.4415352191977875,
          0.48820189396970615,
          0.45413448025320224,
          0.5008011550251209,
          0.6474293324279342,
          0.6665752683454763,
          0.7051388889484222,
          0.6738724631729817,
          0.6054317955765516,
          0.6541089164193898,
          0.6245777314940937,
          0.6961064532707725,
          0.6187522403690632,
          0.5965182502712725,
          0.6251953423301434,
          0.6443412782476855,
          0.5767547035176807,
          0.7346700738737185,
          0.8091139719285833,
          0.8476775925315293,
          0.7573487969054964,
          0.7795827870032871,
          0.8181464076062331,
          0.7868799818307924,
          0.7372146836502748,
          0.7667458685755708,
          0.9024626920757755,
          0.809574022333894,
          0.881482697574321,
          0.9061871310163107,
          -0.6948357162382416,
          -0.5821987640820604,
          -0.6483124597676644,
          -0.6591824104821399,
          -0.7037528606611947,
          -0.6843205799381907,
          -0.5716836277820098,
          -0.49945302034108185,
          -0.4787012962498104,
          -0.46264457056212227,
          -0.4557273291983651,
          -0.4517746198476468,
          -0.4448573784838896,
          -0.33567904700958706,
          -0.3401258450291452,
          -0.3470430863929024,
          -0.32876180564582996,
          -0.10880354019177865,
          -0.14426378914315244,
          -0.09719245647404347,
          -0.13265270542541724,
          0.02374040525716648,
          -0.3689640767116944,
          -0.4594116393376581,
          -0.09006223393359604,
          -0.09006223393359604,
          -0.3689640767116944,
          -0.10908464768392816,
          0.02374040525716648,
          0.004717991506834364,
          -0.440389225587326,
          -0.3879864904620265,
          -0.440389225587326,
          -0.24036806055198784,
          -0.3117932094276195,
          -0.2643560654241599,
          -0.3117932094276195,
          -0.3357812142997916,
          0.8388332058367377,
          0.8320300996780722,
          0.864525816616407,
          0.7949734495150875,
          0.8274691664534225,
          0.97082419859427,
          0.8063374888984028,
          0.8794273982812375,
          0.9924795175066219,
          1.132227702364939,
          1.0854375054258103,
          0.941835428950543,
          0.8678163145635023,
          0.9184604031195813,
          0.9534465126682781,
          1.2461739894935455,
          0.9817378972586666,
          1.0671951643293485,
          1.0550158786424475,
          1.20649866938571,
          0.9939171829455674,
          -0.44842544877371704,
          -0.7411108038392018,
          -0.4397047837686946,
          -0.594010474068598,
          -0.4572696359459493,
          -0.5847710159612939,
          -0.6053498090184714,
          -0.4911070686885609,
          -0.4797677337386876,
          -0.47270226577427854,
          -0.4688236697238861,
          -0.47052827563138344,
          -0.48208995048223463,
          -0.3946114985321176,
          -0.4168948974967923,
          -0.40555556254691905,
          -0.39849009458250995,
          -0.4078777792904661,
          -0.39631610443961485,
          0.9949520934987613,
          0.9064621110965012,
          1.1152860900803276,
          0.9180731948142364,
          1.0773082955377113,
          1.020389280887367,
          1.1350496368339194,
          0.45990331397672574,
          0.9991434681272555,
          0.5878862979631904,
          0.7767745212025393,
          1.063671448277733,
          0.978762310537614,
          1.126921878231505,
          1.1365319028404388,
          0.7893243733910701,
          0.5617490073815652,
          1.1013056873720017,
          1.04674891136997,
          0.5893932684031518,
          1.032025069038544,
          1.1071089226110291,
          1.09060866769162,
          0.7971062699252969,
          1.148192395425058,
          1.1467101294185387,
          1.0651537142842522,
          1.0107792562784328,
          0.5632312733880845,
          0.8861303623737437,
          1.094979045791012,
          0.8982602391937606,
          1.075850733964634,
          0.9833163053475842,
          0.4800127227985054,
          0.990892187357631,
          0.8090632157112199,
          0.5735778523374704,
          1.1823856910606436,
          1.0336005656831304,
          0.6769058117488292,
          1.001287166741008,
          1.2200199301549124,
          1.1809034250541242,
          1.1945402723141025,
          1.1146708389961497,
          1.1639808881463611,
          0.7034136688320842,
          0.5940578276608799,
          0.6783880777553486,
          1.2222657269782933,
          1.2308134609492216,
          1.0939191149048781,
          1.0219894819653954,
          1.099683626953506,
          0.7049206392720456,
          0.9044811777583343,
          0.5750601183439897,
          1.2528992244463606,
          1.0134170435610248,
          0.9126336407941908,
          1.2514169584398411,
          1.2645597170309797,
          1.2101358501582762,
          1.111319415104683,
          1.1060489917248952,
          1.2078406444680114,
          1.1263066271473268,
          1.1930827107410251,
          1.2630774510244602,
          0.8919313255698034,
          0.9245905865801138,
          1.242449249100399,
          0.5955400936673992,
          1.2961541062684676,
          0.6876970705001706,
          1.3434504131054024,
          1.212320579109687,
          0.8175575914282265,
          1.3771966691871604,
          1.3216140005625239,
          1.1462375178393112,
          1.1346264341215762,
          1.1139241188971887,
          1.0045682777259843,
          1.3784461579367981,
          1.3550862012565796,
          1.0372275387362948,
          1.3342379660513806,
          0.9099526389696689,
          0.8951299789044751,
          0.9376216044246976,
          0.8209779553881061,
          0.7933089899330776,
          1.0097430682275224,
          0.9970898196424157,
          0.8557759929358565,
          0.842435598877182,
          0.8230332316631016,
          0.8502081084492904,
          0.8829508697220452,
          1.111851353074608,
          0.9649696418814825,
          0.9705375263680486,
          0.9977124031542373,
          0.957172427875932,
          0.9377947650952937,
          1.2971230087899892,
          -0.46787091298940037,
          -0.6266450080067026,
          -0.4846699277299534,
          -0.6444322000849353,
          -0.4777526863661963,
          -0.6375149587211781,
          -0.5243098045958314,
          -0.3647945765752694,
          -0.3717118179390265,
          -0.5133163317141459,
          -0.5312270459595886,
          -0.35478928103126356,
          -0.41456327115236313,
          -0.23881723036041375,
          -0.39833245838097586,
          -0.255048043131801,
          -0.7208108869312607,
          -0.7984015818633454,
          -0.6047153140932011,
          -0.6823060090252857,
          -1.2782593327408478,
          -1.1651282919158272,
          -1.0512561180875466,
          -0.5344786170921295,
          -0.41887713292290973,
          -0.5709042785412042,
          -0.49331358360911953,
          -0.3131574221304857,
          -0.3752416560957007,
          -0.18965051925982915,
          -0.41898727721225937,
          -0.45283235102778535,
          -0.19593477822731073,
          -0.11140689266530603,
          -0.06861405973337158,
          -0.2305209850460964,
          -0.28174894709988896,
          -0.36147705480870124,
          -0.30943786182108035,
          -0.4729327728224747,
          -0.3545598134449441,
          -0.24543342994016404,
          -0.190377756969982,
          -0.0453040602089396,
          -0.24340512729528246,
          -0.16367701958647018,
          -0.14712504918033703,
          -0.12637332508906565,
          -0.0030594790231371067,
          -0.35486084530905593,
          -0.02875208980280646,
          -0.2364878859315253,
          -0.09923366190833197,
          -0.070556569849461,
          0.04781638952806957,
          -0.36399944612242263,
          -0.4378856513801349,
          -0.2826831369078767,
          -0.9694487628846441,
          -0.9234996920244692,
          -0.9731544279009425,
          -0.48292664184419276,
          -0.48515004085397184,
          -0.5641100419294104,
          -0.8293335413694201,
          -0.5151753144481078,
          -0.7993646160137186,
          -0.8492875208327008,
          -0.7708216084261019,
          -0.9129873847988368,
          -0.7671159434098035,
          -0.7576681338309276,
          -0.7552965082204965,
          0.4664972812956505,
          0.5723552394716603,
          0.26867023217384167,
          -0.6571570720869032,
          -0.5491089652002835,
          -0.7905632412714335,
          -0.606043697570704,
          -0.19548774376138925,
          -0.008365017885657945,
          -0.056671572226866376,
          0.024491878592188425,
          -0.023814675749019992,
          -0.043084133833772006,
          0.0984769547157,
          0.13885814108930877,
          0.10526011160820273,
          0.11305257044647396,
          0.13207498419680608,
          0.3452693059572659,
          0.45269406677859053,
          0.5605846845231616,
          0.4953749063213433,
          0.25517036688440353,
          0.37151298405688304,
          0.6117175234938229,
          0.6848327203970778,
          0.46321652491863974,
          0.25928042938612095,
          0.5658587438348593,
          0.41653939547530094,
          0.5782109605558543,
          0.6841777156826981,
          0.696529932403693,
          0.5341172343198798,
          0.09089606224185882,
          0.007754804620617374,
          0.22882290603283936,
          0.3481300552183576,
          0.2584114208342367,
          0.2064975464110786,
          0.3191344985672597,
          0.37104837299041765,
          0.8021083927316559,
          0.8739489383129934,
          0.45530926495183954,
          -0.019887184358001568,
          -0.05238290129633655,
          0.062180996668319784,
          0.09467671360665476,
          0.20938883817196294,
          0.17774721410005317,
          0.5433559188711223,
          0.23835242487768815,
          0.2205652327994555,
          0.19289626734442697,
          0.20500143973100196,
          0.22550611948785348,
          0.20994232641939992,
          0.3218381455723213,
          0.3094859288513264,
          0.33764898297519474,
          0.35345982037806817,
          0.32727312092955907,
          0.3430839583324325,
          -0.969449738764503,
          -0.8494755698760509,
          -0.7343187655087869,
          0.4485720817493881,
          0.4166045448754534,
          0.3326060147197749,
          0.5679418262008739,
          -1.0762178833749345,
          -1.4297010499047074,
          -1.322029688870366,
          -0.0658877821221611,
          -0.008425269936092925,
          0.053147618295495316,
          0.10935020437602204,
          0.08350003316561355,
          0.14130840741986958,
          -1.212915621589576,
          -1.0877114157866723,
          -0.9750744636304913,
          0.3814734524336227,
          0.330710266918948,
          0.32571997136366604,
          0.3489668432325784,
          0.44334721907512914,
          0.4383569235198472,
          0.46160379538875956,
          0.55598417123131,
          0.5742407475449405,
          0.5509938756760282,
          0.49887584608117175,
          0.4734055752024803,
          0.6120068869061924,
          0.586783660361921,
          0.6827851418495243,
          -0.25409193207820036,
          -0.24742173504886308,
          -0.2639737054549962,
          -0.15034857596113554,
          -0.14046680258433963,
          -0.1337966055550024,
          -0.30054066531095863,
          -0.18666849148267806,
          -0.07156109598229803,
          -0.14847619002957194,
          0.21719623550888575,
          0.1434841366271935,
          0.3320565866748459,
          0.366879136036379,
          -0.25485790819061716,
          -0.2903181571419909,
          0.647383639128509,
          0.6207028510111601,
          0.5390012500786083,
          0.7699023646614859,
          0.5681524815401562,
          0.1923117733522278,
          0.11265066117829524,
          0.23631036931241156,
          0.22670034470347755,
          0.10390529173983086,
          0.31977138557360263,
          0.34981197663906216,
          0.21740689906648147,
          0.32883791264681284,
          0.31851145946806114,
          0.22615226850494582,
          0.34020195203012815,
          0.3049487255084088,
          0.7106620876207834,
          0.7235083930106181,
          0.6199580936982813,
          0.6908985408671916,
          0.7353665210627731,
          -0.36034263837729946,
          -0.333775985465042,
          -0.24622342021459898,
          -0.21965676730234154,
          -0.05885852863557778,
          -0.10949025849035948,
          -0.12963375870769958,
          0.3943078421952816,
          0.5250778484978832,
          0.6401852439982632,
          0.47346498941132203,
          0.2420134353885986,
          -0.45335597293930613,
          -0.42815745082847656,
          -0.4410037562183112,
          -0.33973084344544546,
          -0.32737862672445056,
          -0.3145323213346159,
          -0.2270938912892645,
          -0.2147416745682696,
          -0.20189536917843492,
          -1.145164599313088,
          -1.117989722526899,
          -1.0451269082123213,
          -0.25912389943789715,
          -0.20872685521623807,
          -0.23491355466474723,
          -0.16238627896575367,
          -0.09263128237817846,
          -0.14302832659983758,
          -0.11881798182668761,
          0.011132023005049174,
          0.03534236777819914,
          0.061529067226708284,
          -1.1376969724263304,
          -1.0208602665850113,
          -0.9400796748676996,
          0.42884290074165315,
          0.5542993279694935,
          0.5262350915793932,
          0.49510750544248605,
          0.39504723579301115,
          0.4545108070878805,
          0.5076841879491923,
          0.6388720437355742,
          0.607744457598667,
          0.5414798528978343,
          0.6513385861835662,
          0.7203814097548481,
          0.7515089958917552,
          0.6175429212349243,
          0.9585348788448537,
          1.0711718310010347,
          -1.0830533550374946,
          -0.7760069106687932,
          -0.6880249821308471,
          -0.7117412382351572,
          -0.6924717801504052,
          -0.7003771988518419,
          -0.7028476421960409,
          -0.6519565102624129,
          -0.7201407456054337,
          -0.6855545387866481,
          -0.5626558597899228,
          -0.533282288427397,
          -0.48733204318216694,
          -1.3998204054920305,
          -1.3066309854289928,
          0.07670667892872234,
          0.30140757297260823,
          0.4165149684729884,
          0.046580887309737085,
          0.020213999139241698,
          -0.08351511922808288,
          -0.09586733594907777,
          0.16178710054388518,
          -0.052209793757771336,
          0.09368503732775062,
          0.061716367600201126,
          0.2392670464899385,
          0.1768731719674651,
          0.06294701060949263,
          0.7935494703375784,
          0.9061864224937594,
          -0.9025914157553195,
          -0.9363223543657538,
          -0.5764982724396408,
          -0.8123213628262576,
          -0.46386132028345983,
          -0.6218942822975024,
          -0.3017909341997315,
          -0.18613546250081978,
          -1.3680027272975785,
          -1.3665204612910593,
          -1.3818372100250929,
          -1.3833194760316123,
          -1.1675615868937266,
          -1.169043852900246,
          0.31278083920693267,
          0.297513499339783,
          0.8728128000871445,
          0.8604605833661496,
          0.8506776277231216,
          0.8874872335516865,
          0.8766666917040948,
          0.9222852710994368,
          0.94827433508041,
          -0.5407075932547124,
          -0.4265883750920121,
          -0.3129632455981514,
          0.3698159300597963,
          0.35999888302120797,
          0.46853489922601854,
          0.47118766056642986,
          0.39716854617938924,
          0.4070503195561851,
          0.47841667260281445,
          0.5524357869898551,
          0.4493983502705949,
          0.48106943394322577,
          0.37537923588355426,
          0.5425540136130592,
          -0.18594240569609183,
          -0.07028693399718003,
          0.6706804711758158,
          0.14328827099853897,
          0.11326299740440303,
          0.265806996531516,
          0.7885053543548148,
          0.04729090484739899,
          0.23578172293738006,
          -0.06836456685151276,
          0.22487260430911798,
          0.24347504269093628,
          0.27146516578071067,
          0.19628957481673584,
          0.2837926780682636,
          0.2311475304033834,
          0.20861708710428875,
          0.2125450920215651,
          0.266549036657786,
          0.16885368807120066,
          0.18866664369167646,
          0.302617509483091,
          0.3417246276217608,
          0.15259817086637142,
          0.28280455386261527,
          0.22777376183034626,
          -1.0120829501024942,
          -0.48862723930775054,
          -0.3759902871515695,
          -0.2759278916173612,
          0.5326998972777132,
          0.5304764982679341,
          0.5406053159791498,
          0.5225710795664973,
          0.5090824589071709,
          0.48605792693923644,
          0.5011770402057342,
          0.4939633456406732,
          0.6226087706672636,
          0.6462262090378058,
          0.6147033519658269,
          0.6440028100280267,
          0.5995842386993292,
          1.0146811705565912,
          0.2957100293984549,
          0.33281608842832355,
          0.3603956231117025,
          0.3634095639916253,
          -0.8184662370055765,
          -0.6256796793134223,
          -0.7346394625420659,
          -0.6207387926250244,
          -0.7427672211444806,
          -0.6598552977258125,
          -0.6549144110374145,
          -0.8103384784031619,
          -0.7427672211444806,
          -0.8184662370055765,
          -0.4970095498533898,
          -0.5056561015580863,
          -0.5019504365417877,
          -0.7021483242665388,
          -0.6301302689882994,
          -0.5105969882464841,
          -0.6220025103858847,
          -0.6268939882073987,
          -0.6972568464450248,
          -0.7053846050474395,
          0.18734156038348346,
          0.30195486721502385,
          0.4224972380726414,
          0.43830807547551487,
          0.0842162202408159,
          0.16831016480938038,
          0.6736829670184911,
          1.1068561052674848,
          0.989148866878522,
          1.0143473889893517,
          1.050380372265443,
          0.6928382898981515,
          0.786319919174672,
          0.8054752420543325,
          1.1269843411455327,
          0.4655644563461512,
          0.5409471228718115,
          0.5641692903072818,
          0.4019099948409801,
          0.40324403424684757,
          0.35946314639280236,
          0.4614476794361755,
          0.34429462425942065,
          0.3263592055805361,
          0.34266413165224935,
          0.4182149209126934,
          0.4350139356532464,
          0.4198454135198647,
          0.3858968901757314,
          0.3276932449864035,
          0.5325317745429298,
          0.47308827588666313,
          0.5743316759267765,
          0.49878088666633247,
          0.5161280307374486,
          0.548639065147107,
          0.45698098528248576,
          0.44057724147700456,
          0.6508708060602183,
          0.7110060288528607,
          0.7264215953206623,
          0.6977150436610702,
          0.7559186888503981,
          0.6354552395924168,
          0.6803678995899541,
          0.6221642544006263,
          -1.0673589443817042,
          -0.9431109085077881,
          -0.9053131253415437,
          -0.8317091780237066,
          -0.7939113948574623,
          0.17433671259886935,
          0.289365186499613,
          0.2742954820999992,
          0.2552730683496671,
          0.2133697174372132,
          0.20027636771295862,
          0.16321971754997397,
          0.17927759928726733,
          0.1903945943361627,
          0.2663900633985625,
          0.2392151866123738,
          0.25033218166126914,
          0.27627183677535844,
          0.19830001303759942,
          0.5249345941054523,
          0.6016124003421094,
          0.5219700620924135,
          0.5219700620924135,
          0.5170291754040156,
          0.5798077725749509,
          0.5920364671287358,
          0.48782853507558366,
          0.5969773538171338,
          0.5628358268003039,
          0.4998595941618327,
          0.5748668858865529,
          0.5048004808502307,
          0.658832499988597,
          0.5838252082638768,
          0.5969773538171338,
          0.5999418858301725,
          0.6365833689239536,
          0.7066497739602758,
          0.6395479009369923,
          0.7145551926617125,
          0.7167197958424892,
          0.6365833689239536,
          0.6897272370525128,
          0.7115906606486738,
          0.6316424822355556,
          0.6147199453277926,
          0.6026888862415436,
          0.7739398954889769,
          0.6196608320161906,
          0.6989326037642566,
          0.6946681237409108,
          0.6776961779662638,
          0.7115906606486738,
          0.2780311805288297,
          0.15965822115129916,
          -1.0529617084649416,
          -1.098417865998203,
          -0.9660173670884303,
          -0.8865043050106783,
          0.30273561397081944,
          0.42012039601067064,
          0.33485137744540616,
          0.4522361594852573,
          0.3168171410327536,
          0.4342019230726048,
          0.6273765880565804,
          1.055875666384359,
          0.4044173171771271,
          0.5848972753598513,
          0.4685006706576798,
          0.4882642174112716,
          0.6020602701616966,
          0.565003619998712,
          0.7176617543309165,
          0.6806051041679319,
          0.8288164404805779,
          0.7952184109994719,
          0.4522441555816117,
          0.18221355203304954,
          0.2147092689713845,
          0.5262632699686524,
          0.04871918332422647,
          0.16437465502313822,
          0.35286547311311917,
          0.49923336387973477,
          0.3167517067573936,
          0.6118703160359158,
          0.5818450424417798,
          0.6202698234061924,
          0.3982951110401966,
          0.32416303678999053,
          0.3908837810075997,
          0.586089332490888,
          0.5267986922301126,
          0.4458650064521578,
          0.23339970203150395,
          0.2630450221618917,
          0.5564440123605002,
          0.5634428452967367,
          0.6419060877304926,
          0.6740218512050793,
          0.38111694967531046,
          0.3490011862007238,
          1.0251026641665748,
          0.6808484945452034,
          0.6413214010380197,
          0.801390865402821,
          0.8033672200781802,
          0.8033672200781802,
          0.8335066288774077,
          0.7712514566035935,
          0.07162243046125365,
          0.1179526301271029,
          0.1070826794126274,
          0.08249238117572914,
          0.17462465357505863,
          0.18154189493881576,
          0.2961552017703559,
          0.2872616057312396,
          -0.9403684255384679,
          -0.9133076839573707,
          -0.7957298451127918,
          -0.8227905866938887,
          -0.26462350933472356,
          -0.2799402580687572,
          0.22780067910491208,
          0.10929363525612708,
          0.34142580859877275,
          0.22489511942534693,
          0.423349081039199,
          0.49835637276391925,
          0.1183138096666143,
          -0.000800282714176087,
          0.23095076182279528,
          0.11183666944200489,
          0.34358771397897625,
          0.22620293193912513,
          0.07773414515337783,
          0.09305089388741147,
          0.19308858498817766,
          0.20840533372221132,
          0.23714139811455598,
          0.30572553714435885,
          0.34831134860350993,
          -0.16088015321765883,
          -0.14556340448362518,
          -0.026256255298106844,
          -0.0415730040321405,
          -0.8538111850907877,
          -0.62955550817376,
          -0.6950064019988067,
          -0.5122741225304849,
          -0.34952645778181496,
          -0.43163879864379895,
          -1.3018184192654807,
          -0.8743808536298056,
          -1.315109404457271,
          -0.9067777528343723,
          -1.2374834427877,
          -0.8865695262788248,
          -0.9912715470008167,
          -1.3134295029832157,
          -0.8999593292043832,
          -1.2360752900815066,
          -0.973385537188816,
          -1.3034983207395359,
          -0.861089868438015,
          -0.6624027428085442,
          -0.7420050591534746,
          -1.0783186554981339,
          -0.7556666108468949,
          -1.063446586566056,
          -0.6740138265262794,
          -0.7303939754357395,
          -0.9957023982732809,
          -1.0619643205595368,
          -0.6730503536220418,
          -1.0798009215046533,
          -0.9971846642798003,
          -0.741041586249237,
          -0.6344078114194593,
          -0.9716601762349145,
          -0.953576530955378,
          -0.8814846757530845,
          -0.8873146086691222,
          -0.8887968746756416,
          -0.5646625640178828,
          -0.5664165787922641,
          -0.9701779102283952,
          -0.9550587969618974,
          -0.5540149532043853,
          -0.6220061858315805,
          -0.632653796645078,
          -0.6475258655771559,
          0.09219152071765195,
          0.05958166857422546,
          0.12339812589106657,
          0.0986936924490768,
          0.12339812589106657,
          0.0986936924490768,
          0.2150363096215563,
          0.23946899429568413,
          0.2818618020821386,
          0.3355786804791741,
          0.5659451167874642,
          0.36028311392116386,
          0.590649550229454,
          0.2009700468989144,
          0.2009700468989144,
          0.22567448034090415,
          0.22567448034090415,
          0.314570471959333,
          0.39115421562950126,
          0.34668623543391974,
          0.3723788462135891,
          0.6647628505554232,
          0.5801113758838817,
          0.6993490573742089,
          -0.07349740260744737,
          0.0399300914188772,
          0.15378669115274454,
          0.1935020862973769,
          0.1400604148985919,
          0.2353253420457438,
          0.33830143654273725,
          0.3318782838478199,
          0.3464538995785939,
          0.39126779497439457,
          0.47961548075778926,
          0.49419109648856324,
          0.409549075721467,
          0.4677573527056342,
          0.38484464227947723,
          0.41770153875732363,
          0.40312592302654965,
          0.4860386334527066,
          0.46133420001071684,
          -0.596844637149454,
          -0.6156200065653662,
          -0.6156200065653662,
          -0.6335060163773668,
          -0.37225787831065965,
          -0.37225787831065965,
          -0.3534825088947474,
          -0.39276255806751115,
          -0.27518471922293214,
          -0.25468003946608064,
          -0.2359046700501684,
          -0.25468003946608064,
          0.5253083888952291,
          0.5722468124350097,
          0.5129561721742343,
          0.542601492304622,
          0.5549537090256169,
          0.6552384444608029,
          1.2431186554718558,
          0.6848837645911907,
          1.2727639756022435,
          0.6379453410514101,
          0.725497906301853,
          0.7551432264322407,
          -0.22313872350247566,
          -0.19156645756361274,
          -0.27684616180536137,
          -0.21049818251119037,
          -0.09336502346856715,
          0.5548479563855305,
          0.5103799761899489,
          0.6264755490280085,
          0.6251074182265807,
          0.745535653879107,
          -0.45366321987749103,
          0.0678563413975813,
          0.15593703358039315,
          0.14847629468091225,
          0.03239609244620754,
          0.37414258402271094,
          0.4647230557780031,
          0.3453619190627929,
          0.4926838957715275,
          0.5696675421716069,
          0.5405163107100589,
          0.4635326643099796,
          -0.55257297546665,
          -0.5179668193817014,
          -0.42252415290114526,
          -0.4571303089860938,
          -0.38934129048924254,
          -0.4239474465741911,
          0.9307948907065794,
          0.9040941533230676,
          1.0496079512232581,
          1.0978605180347745,
          1.208462143182123,
          0.7268506349926176,
          0.5936550155498931,
          0.7369254651741414,
          0.8701210846168659,
          0.9847343914484062,
          0.8535151266810409,
          0.9555831599868583,
          0.8243638952194929,
          0.6512430310253385,
          0.5701925400694493,
          0.6203624892228513,
          0.6705312630343274,
          0.5393119982669622,
          0.46491867441982193,
          1.415050717230506,
          1.436790618659457,
          1.5434985067895604,
          0.053689649126193804,
          0.16910482015282396,
          0.3492048248717999,
          0.22873638827746554,
          0.21526308508946268,
          0.1950054496670311,
          0.24899402369989715,
          0.24899402369989715,
          0.21526308508946268,
          0.30887762349531167,
          0.3426085621057461,
          0.32913525891774326,
          0.3628661975281777,
          0.31771723200473584,
          0.3699764956966626,
          0.33624555708622816,
          0.35144817061517025,
          0.3397041777681067,
          0.457221868937286,
          0.4234909303268516,
          0.3734351163785411,
          -0.7532013201998956,
          -0.5831836102308867,
          -0.7324248916751822,
          -0.8758689652963716,
          -0.7367975763944143,
          -0.7440112709594754,
          -0.6224807227641781,
          -0.6296944173292391,
          -0.6388844665696592,
          -0.6181080380449459,
          -0.554296433332255,
          -0.5470827387671939,
          -0.5427100540479618,
          -0.5634864825726752,
          -0.5920277974031191,
          -0.733420271770709,
          -0.7539990648278864,
          -0.5744629452258644,
          -0.7426597298780131,
          -0.6052864370885532,
          -0.6168481119394044,
          -0.6074604272314483,
          -0.6035818311810559,
          -0.6258652301457307,
          -0.6145258951958574,
          -0.5516530589539621,
          -0.5310742658967846,
          -0.5293696599892873,
          -0.5403137240040887,
          -0.5332482560396797,
          -0.5426359407476358,
          -0.9427760207411777,
          -0.8279156695752176,
          -0.7073732987175997,
          -1.1439183254230496,
          -1.1756141135291225,
          -1.2720742404436083,
          -1.2553493390033812,
          -1.2231131495214853,
          -1.1517002219572763,
          -1.265082885779525,
          -1.159729162825923,
          -1.1584142841030292,
          -1.289317934986117,
          -1.1352223648514692,
          -1.2217363788096882,
          -1.1444371185253315,
          -1.2807702010151887,
          -1.2640700040084034,
          -0.10030792009062421,
          -0.08474412702217066,
          -0.13158373282818325,
          -0.1160199397597297,
          0.019073342395220013,
          -0.014425869352118106,
          0.0013849680507553451,
          0.03488417979809346,
          0.15713115656320858,
          0.13934396448497594,
          0.10584475273763784,
          0.12363194481587048,
          -0.05581917115427316,
          0.05889753207384294,
          -0.054336905147753765,
          -0.035586240165283535,
          -0.24834352477240257,
          -0.16646359225149893,
          -0.026301322578133314,
          0.17602611245365807,
          -0.02568371174208358,
          -1.4046152620150338,
          -1.3371922313570044,
          -1.02791082894835,
          -1.1044442517960051,
          -1.021092405318361,
          -1.1310905617590572,
          -1.1421087390741846,
          -1.1327951676665544,
          -1.4031824048753985,
          -1.0390602563854276,
          -1.0808817660428156,
          -1.0917708774402644,
          -1.0201536368475654,
          -1.1223698967540348,
          -1.097502305998806,
          -1.114538591352924,
          0.04818590636029184,
          0.03262211329183829,
          0.0013463005542792565,
          0.016910093622732797,
          0.13431500143321784,
          0.16781421318055595,
          0.1185041640303444,
          0.1520033757776825,
          0.28969062344404123,
          0.2720269535330186,
          0.23852774178568045,
          0.2561914116967031,
          0.06599386717929398,
          -0.14848814910595642,
          0.07468982775087438,
          -0.2407238179018619,
          -0.12479659743508824,
          0.09608386711163751,
          0.0975661331181569,
          0.05705086227329368,
          -0.24220608390838128,
          -0.26587293114580746,
          -0.25722637944111104,
          0.16366451133243715,
          0.1854044127613881,
          0.08921603461476436,
          0.19311219599528892,
          -0.15861696681717224,
          0.08773376860824497,
          -0.13327021810569073,
          -0.26735519715232686,
          0.07493687208529427,
          0.18392214675486873,
          0.20568675261726171,
          0.08328697058868681,
          0.07320756174435498,
          0.1726075162384374,
          0.2042044866107423,
          0.19202520092384137,
          -0.1504150949144316,
          -0.23385598540498875,
          -0.16054391262564743,
          -0.23237371939846935,
          -0.125414208271138,
          0.1945944620018083,
          0.19634847677618958,
          0.18416919108928864,
          -0.2557441134345917,
          -0.132652607269641,
          0.19783074278270896,
          0.08387987699129457,
          0.08239761098477517,
          0.45180302995228444,
          0.17457929225098873,
          0.19520749417505018,
          -0.031083241295471332,
          0.18322584395568514,
          -0.11101610223726588,
          0.19234177989577939,
          0.42670332557522284,
          0.43559692161433916,
          0.44236593637744437,
          0.20800439069800086,
          -0.12193546181862536,
          0.4535170228219002,
          0.2902594683833425,
          -0.03301018710394652,
          0.3119499609454095,
          -0.04301548264795239,
          0.20123537593489568,
          0.41811435153978915,
          0.4270079475789055,
          0.5774686054945125,
          -0.005889297847449855,
          0.07204250398554354,
          0.1030465679552407,
          0.40531745501683847,
          0.56784919392346,
          0.5831259207527282,
          0.5506549082478351,
          0.0820477995295494,
          0.08397474533802458,
          0.5685750094553962,
          0.3162933625683915,
          0.3073997665292752,
          -0.00440703184093047,
          -0.0332865145346165,
          0.29870380595769486,
          0.298283830589181,
          0.003547795727390238,
          0.10366417879129043,
          0.5417613122087188,
          0.3962509279436282,
          0.3240505546691763,
          0.4048974796483246,
          0.33413264705091805,
          0.5469270838973483,
          0.4519575302299169,
          0.8904004913562544,
          0.7080408801340042,
          0.6187437402033297,
          0.1355290357013263,
          0.46130982905858237,
          0.2552067513884744,
          0.5834579880899293,
          0.3755020779116723,
          0.707519710821256,
          0.2887216456361356,
          0.24820637479127242,
          0.32220553991215023,
          0.22350194134928264,
          0.4693145636820254,
          0.4475746622530744,
          0.4218820514734051,
          0.30955229132704354,
          0.325363128729917,
          0.43868106621395814,
          0.4851254010848989,
          0.4307756475125214,
          0.4935743704540904,
          0.513881414743406,
          0.4236715094897437,
          0.5410562915295948,
          0.44985820893825285,
          0.5672429909781038,
          0.5024679664932067,
          0.5227750107825223,
          0.7026076621218735,
          0.7396643122848582,
          0.8182091462910933,
          0.855265796454078,
          0.9679027486102589,
          0.9308460984472743,
          0.11664247029579904,
          0.1309216328252691,
          0.17492486058029216,
          0.20093862899470738,
          0.14836759463015317,
          0.10335148510400854,
          0.1866594664652373,
          0.31740476833439696,
          0.23310860963548857,
          0.30312560580492687,
          0.24738777216495866,
          0.29131688661965577,
          0.21974351114337212,
          0.26149863545517416,
          0.3741355876113552,
          0.34574556179166954,
          0.36002472432113963,
          0.3323804632995531,
          0.4157625579611079,
          0.25942316971749013,
          -0.35247723062523173,
          -0.17971444263852682,
          -0.05215601268338398,
          -0.1228203615671065,
          -0.0865550382766017,
          -0.10404577715353046,
          -0.18428499197077702,
          0.010740460712103748,
          0.0282311995890325,
          0.05570252957652511,
          0.4261844793409099,
          0.4735181738157623,
          0.35710625164226717,
          0.4044399461171196,
          0.33138893642915584,
          0.4004671641277986,
          0.5414153970084998,
          0.4723371693098571,
          0.589391406752844,
          0.4474845092672154,
          0.5165627369658581,
          0.5203131790542012,
          0.5865305007728835,
          0.6302619797600446,
          0.6343829883500176,
          0.5611837520614019,
          0.6556087284715262,
          0.7034612160486603,
          0.06271211322418183,
          0.07657130038513808,
          0.1932844840592474,
          0.17942529689829112,
          0.3002147120903289,
          0.46017777975708785,
          0.359571939819187,
          -0.8603348349986101,
          -0.8778255738755388,
          -0.8726870517196049,
          -0.8654980615879859,
          -0.8460261597363874,
          -0.8408629331470115,
          -0.6449427040630438,
          -0.639705364173342,
          -0.18307057288431147,
          -0.1255540200365201,
          -0.19394052359878694,
          -0.1380544633581669,
          -0.20787382406006918,
          -0.15065372441358169,
          -0.1277774190462992,
          -0.19522515413777042,
          -0.16577746947491862,
          -0.20846673046267694,
          -0.09521697576975664,
          -0.22047308511548397,
          -0.13864736976077466,
          -0.19759677974820145,
          0.02028569066569512,
          -0.10645268468655153,
          -0.02467637819872625,
          -0.0944957389006285,
          -0.025269284601334006,
          -0.01439933388685851,
          -0.09508864530323624,
          -0.06751849758197567,
          -0.05027480303946682,
          -0.036633323984649295,
          -0.08421869458876075,
          -0.16078197087171472,
          -0.02672837381947491,
          -0.17921147821943909,
          -0.14991202015723923,
          -0.05602783188167477,
          -0.24468285863555123,
          -0.0375983245339504,
          0.07602680495991028,
          -0.03628689066337854,
          -0.0655863487255784,
          -0.13105772914169053,
          0.08689675567438578,
          -0.04715684137785404,
          0.0575972976121859,
          0.06500862764478284,
          0.17826319063701365,
          0.1708518606044167,
          -0.01780316614945969,
          0.04766821426665242,
          0.1892813679521411,
          0.0769676723288523,
          0.06609772161437678,
          0.20015131866661656,
          0.46494659623122253,
          0.4808809558013059,
          0.5775835483874036,
          -0.836600471702898,
          -0.8049341431975462,
          -0.9077863820771095,
          -1.011512182429677,
          -0.5941246989036247,
          -0.7090393962988274,
          -0.8988752302734961,
          -0.708728689946009,
          0.4095018305383521,
          0.3821787271515114,
          0.09717924432317941,
          0.07531582072701848,
          0.05535463850589074,
          0.1245023477100201,
          0.6102565724964362,
          0.36031530355535046,
          0.20131787137531607,
          0.1780709995064037,
          0.5278407516523536,
          0.15810981728527598,
          0.5688254067326146,
          -0.010501480620063945,
          0.12461650596832775,
          0.22025680791641988,
          -0.753576858931391,
          -0.7815916864546074,
          -0.6662866554866914,
          -0.5521674373239909,
          -0.5532791368288804,
          -0.5252643093056639,
          -0.9109087497291515,
          -0.8367190987665535,
          -0.8261703056868239,
          -0.6991800777008469,
          0.32054795599239616,
          0.32371012347297085,
          0.3130872170929152,
          0.31234608408965553,
          0.45170480357396553,
          0.3049347540570586,
          0.33038032050230803,
          0.33117086237245175,
          0.3131366259597992,
          0.3229689904697111,
          0.33981741407714816,
          0.42204320866623984,
          0.5727412631004232,
          0.4356553514927762,
          0.4464758933403677,
          0.5663428148389478,
          0.541300948984874,
          0.5585940523942668,
          0.5405598159816144,
          0.5476993972463494,
          0.5649925006557422,
          0.5722061952208033,
          0.5786540523491626,
          0.585052500610638,
          0.5541719588081507,
          0.5658077469593279,
          0.5469582642430897,
          0.5477735105466753,
          0.5793704809189802,
          0.565733633659002,
          0.5593351853975266,
          0.572972032657505,
          0.11478382346457594,
          0.11530210538739943,
          0.06746969044886796,
          0.041282991000358794,
          0.1291365881149137,
          0.05511747372787306,
          0.14148880483590856,
          0.18880293785161656,
          0.06117486822047106,
          0.08489112432478124,
          0.07105664159726699,
          0.2105967217717747,
          0.16143489922221504,
          0.188115687339564,
          0.1742812046120497,
          0.25670033754882515,
          0.18416297798884562,
          0.1979974607163599,
          0.20071494839497878,
          0.24681856417202927,
          -0.34021894810106756,
          -0.7021901185917239,
          -0.7105155126616745,
          -0.5840829243408187,
          -0.7017147507150896,
          -0.5883366655556488,
          -0.4707048391813779,
          -0.14069455708221298,
          -0.12537780834817933,
          -0.010270412847799275,
          0.10298415014443156,
          0.14419178872623045,
          0.2585580512233508,
          0.6364767502934383,
          0.7520782344626581,
          0.11923929329004923,
          0.12739175632590582,
          0.1569135542890836,
          0.17329259366112282,
          0.12902224893307718,
          0.12086978589722056,
          0.19293261824750468,
          0.19293261824750468,
          0.2632849673131177,
          0.27385846482628934,
          0.3019721100832737,
          0.28369082933620127,
          0.3408074794540816,
          0.28071691036104407,
          0.3408074794540816,
          0.3134996935385645,
          -0.0454337768768393,
          0.272227972219118,
          0.3134996935385645,
          -0.0727415627923563,
          0.23760767400477195,
          0.2746643241677566,
          0.2936373290512047,
          0.28387907784161875,
          0.23597718139760063,
          0.31118686375713583,
          0.24655067891077226,
          0.2449201863036009,
          0.2563830434206842,
          0.3903152172038603,
          0.4176230031193774,
          0.40849768021716476,
          0.42836004470452455,
          0.3995299708777225,
          0.352468025170732,
          0.6411196086253498,
          0.5257705022867531,
          0.5089714875462001,
          -0.7610660896954905,
          -0.47741578566417775,
          -0.45542883990080685,
          0.08159416577796966,
          0.042561160939625815,
          0.15833076784362912,
          0.1192977630052853,
          0.1373814082848218,
          0.06064480621916233,
          0.23242880383030615,
          0.1969486056127696,
          0.25150062644752225,
          0.1747640243818628,
          0.1556922017646467,
          0.273685207678429,
          0.2899702376160109,
          0.311413685843658,
          0.3667068396816703,
          -0.5995888104348698,
          -0.5539797945061172,
          -0.5240874300413096,
          -0.6284929975619977,
          -0.48273215532738745,
          -0.45283979086257986,
          -0.5283411712561399,
          -0.5572453583832678,
          -0.4446084062270868,
          -0.415210130431119,
          -0.33970875003755896,
          -0.37009520317120637,
          -0.023383052408600426,
          -0.017948077051362685,
          -0.0377116238049545,
          0.10210020513741538,
          0.04170354651209333,
          0.03429221647949641,
          0.21473715729359633,
          0.14742325730451722,
          0.976977141786358,
          0.991305713182712,
          1.2558706610810042,
          0.8994204851178025,
          0.8692611270524121,
          1.0788406295808872,
          0.8587183176139189,
          1.1560173327856944,
          0.8897317685457345,
          0.9753079791208185,
          1.0063214300526342,
          1.2726069942925937,
          0.8974241811762804,
          1.0926751123084015,
          0.9275835392416708,
          0.8878695490754668,
          0.9188830000072824,
          1.1747927022016067,
          1.035472661514182,
          1.291382363708506,
          1.0044592105823664,
          0.2536183221100102,
          0.1569879735625946,
          0.17032836762126907,
          0.1372244268090028,
          0.14265940216624054,
          0.14414166817275992,
          0.14858846619231808,
          0.03318636958578378,
          0.22767866699592096,
          0.23459590835967808,
          0.05542035968357457,
          0.048503118319817434,
          0.24744221374951275,
          0.16439930359519153,
          0.06397824216751828,
          0.04297947374182697,
          0.02692159200453363,
          0.2333606866875786,
          0.06826666507340926,
          0.22444760926223076,
          0.2405054909995241,
          0.3036201485286288,
          0.21291886400729074,
          0.23465876543624173,
          0.32387778395106037,
          0.2617513037596353,
          -0.050660530648360784,
          0.02162294263978297,
          0.13969487015320178,
          0.031457059244844494,
          0.1384596484811023,
          0.03466863559230317,
          0.24890499836980062,
          0.27422704264784015,
          0.26928615595944216,
          0.22691805260642972,
          0.24396411168140267,
          -0.1503922050812336,
          -0.13556954501603977,
          0.42750579346650097,
          0.45517475892152953,
          0.4472693402200928,
          0.5060658918120284,
          0.5767053071168267,
          0.5490363416617982,
          0.56879988841539,
          -0.800221813775253,
          -0.8759702385032327,
          -0.7987395477687337,
          -0.8801749330750593,
          -0.8044265083470797,
          -0.8127469615303419,
          -0.8744879724967133,
          -0.7064042480816488,
          -0.6890864402388139,
          -0.7178671051987321,
          -0.5937920003589098,
          -0.5878382318993903,
          -0.5690875669169201,
          -0.4536590137817941,
          0.7416107296950686,
          0.7731135141284448,
          0.7093760758481111,
          0.6669539318333756,
          0.7385273073096591,
          0.7015401386521612,
          0.466765961982561,
          0.4962770742692544,
          0.5457353500201179,
          0.6275180452717144,
          0.43047514925627806,
          0.40132391779473015,
          0.5177205224969015,
          0.66235129642492,
          0.5820261627464008,
          0.612051489472568,
          0.6315926963251819,
          0.6634861198987907,
          0.5919280618938307,
          0.7451359060210588,
          0.5151960916230106,
          0.7028913248352563,
          0.7071882626576705,
          0.5482259191349509,
          0.724688441628749,
          0.7046391273503377,
          0.7444519883823408,
          0.6611593244924358,
          0.6280553836801694,
          0.8156517991586473,
          0.8581434246788696,
          0.8200475547148295,
          0.7765677518569275,
          -0.05586464432848464,
          -0.06974853592288288,
          -0.019549127168759686,
          -0.03360594979725186,
          0.061021470379718626,
          0.09980743088364255,
          0.047137578785320385,
          0.08575060825515039,
          0.16805051614456806,
          0.2207203682428902
         ],
         "y0": " ",
         "yaxis": "y"
        },
        {
         "alignmentgroup": "True",
         "boxpoints": "all",
         "customdata": [
          [
           "Audi 100",
           1992
          ],
          [
           "Audi 100",
           1992
          ],
          [
           "Audi 100",
           1992
          ],
          [
           "Audi 100",
           1992
          ],
          [
           "Audi 100",
           1992
          ],
          [
           "Audi 100",
           1993
          ],
          [
           "Audi 100",
           1993
          ],
          [
           "Audi 100",
           1993
          ],
          [
           "Audi 100",
           1993
          ],
          [
           "Audi 100",
           1993
          ],
          [
           "Audi 100",
           1994
          ],
          [
           "Audi 100",
           1994
          ],
          [
           "Audi 100",
           1994
          ],
          [
           "Audi 100",
           1994
          ],
          [
           "Audi 100",
           1994
          ],
          [
           "Mercedes-Benz 190-Class",
           1991
          ],
          [
           "Mercedes-Benz 190-Class",
           1991
          ],
          [
           "Mercedes-Benz 190-Class",
           1992
          ],
          [
           "Mercedes-Benz 190-Class",
           1992
          ],
          [
           "Mercedes-Benz 190-Class",
           1993
          ],
          [
           "Mercedes-Benz 190-Class",
           1993
          ],
          [
           "Audi 200",
           1990
          ],
          [
           "Audi 200",
           1990
          ],
          [
           "Audi 200",
           1990
          ],
          [
           "Audi 200",
           1991
          ],
          [
           "Audi 200",
           1991
          ],
          [
           "Audi 200",
           1991
          ],
          [
           "Nissan 200SX",
           1996
          ],
          [
           "Nissan 200SX",
           1997
          ],
          [
           "Nissan 200SX",
           1998
          ],
          [
           "Nissan 240SX",
           1996
          ],
          [
           "Nissan 240SX",
           1996
          ],
          [
           "Nissan 240SX",
           1997
          ],
          [
           "Nissan 240SX",
           1997
          ],
          [
           "Nissan 240SX",
           1997
          ],
          [
           "Nissan 240SX",
           1998
          ],
          [
           "Nissan 240SX",
           1998
          ],
          [
           "Nissan 240SX",
           1998
          ],
          [
           "Volvo 240",
           1991
          ],
          [
           "Volvo 240",
           1991
          ],
          [
           "BMW 3 Series",
           2017
          ],
          [
           "BMW 3 Series",
           2017
          ],
          [
           "BMW 3 Series",
           2017
          ],
          [
           "BMW 3 Series",
           2017
          ],
          [
           "BMW 3 Series",
           2017
          ],
          [
           "BMW 3 Series",
           2017
          ],
          [
           "Mercedes-Benz 300-Class",
           1991
          ],
          [
           "Mercedes-Benz 300-Class",
           1991
          ],
          [
           "Mercedes-Benz 300-Class",
           1991
          ],
          [
           "Mercedes-Benz 300-Class",
           1991
          ],
          [
           "Mercedes-Benz 300-Class",
           1991
          ],
          [
           "Mercedes-Benz 300-Class",
           1991
          ],
          [
           "Mercedes-Benz 300-Class",
           1991
          ],
          [
           "Mercedes-Benz 300-Class",
           1991
          ],
          [
           "Mercedes-Benz 300-Class",
           1991
          ],
          [
           "Mercedes-Benz 300-Class",
           1991
          ],
          [
           "Mercedes-Benz 300-Class",
           1992
          ],
          [
           "Mercedes-Benz 300-Class",
           1992
          ],
          [
           "Mercedes-Benz 300-Class",
           1992
          ],
          [
           "Mercedes-Benz 300-Class",
           1992
          ],
          [
           "Mercedes-Benz 300-Class",
           1992
          ],
          [
           "Mercedes-Benz 300-Class",
           1992
          ],
          [
           "Mercedes-Benz 300-Class",
           1992
          ],
          [
           "Mercedes-Benz 300-Class",
           1992
          ],
          [
           "Mercedes-Benz 300-Class",
           1992
          ],
          [
           "Mercedes-Benz 300-Class",
           1992
          ],
          [
           "Mercedes-Benz 300-Class",
           1993
          ],
          [
           "Mercedes-Benz 300-Class",
           1993
          ],
          [
           "Mercedes-Benz 300-Class",
           1993
          ],
          [
           "Mercedes-Benz 300-Class",
           1993
          ],
          [
           "Mercedes-Benz 300-Class",
           1993
          ],
          [
           "Mercedes-Benz 300-Class",
           1993
          ],
          [
           "Mercedes-Benz 300-Class",
           1993
          ],
          [
           "Mercedes-Benz 300-Class",
           1993
          ],
          [
           "Mercedes-Benz 300-Class",
           1993
          ],
          [
           "Mitsubishi 3000GT",
           1997
          ],
          [
           "Mitsubishi 3000GT",
           1997
          ],
          [
           "Mitsubishi 3000GT",
           1997
          ],
          [
           "Chrysler 300",
           2015
          ],
          [
           "Chrysler 300",
           2015
          ],
          [
           "Chrysler 300",
           2016
          ],
          [
           "Chrysler 300",
           2016
          ],
          [
           "Chrysler 300",
           2016
          ],
          [
           "Chrysler 300",
           2017
          ],
          [
           "Chrysler 300",
           2017
          ],
          [
           "Chrysler 300",
           2017
          ],
          [
           "Chrysler 300",
           2017
          ],
          [
           "Mazda 3",
           2017
          ],
          [
           "BMW 4 Series Gran Coupe",
           2015
          ],
          [
           "BMW 4 Series Gran Coupe",
           2015
          ],
          [
           "BMW 4 Series Gran Coupe",
           2015
          ],
          [
           "BMW 4 Series Gran Coupe",
           2015
          ],
          [
           "Ferrari 456M",
           2001
          ],
          [
           "Ferrari 456M",
           2001
          ],
          [
           "Ferrari 456M",
           2002
          ],
          [
           "Ferrari 456M",
           2002
          ],
          [
           "Ferrari 456M",
           2003
          ],
          [
           "Ferrari 456M",
           2003
          ],
          [
           "Ferrari 458 Italia",
           2013
          ],
          [
           "Ferrari 458 Italia",
           2013
          ],
          [
           "BMW 5 Series Gran Turismo",
           2015
          ],
          [
           "BMW 5 Series Gran Turismo",
           2015
          ],
          [
           "BMW 5 Series Gran Turismo",
           2015
          ],
          [
           "BMW 5 Series Gran Turismo",
           2015
          ],
          [
           "FIAT 500",
           2017
          ],
          [
           "FIAT 500",
           2017
          ],
          [
           "Ferrari 550",
           2001
          ],
          [
           "Ferrari 550",
           2001
          ],
          [
           "Mercedes-Benz 560-Class",
           1990
          ],
          [
           "Mercedes-Benz 560-Class",
           1990
          ],
          [
           "Mercedes-Benz 560-Class",
           1991
          ],
          [
           "Mercedes-Benz 560-Class",
           1991
          ],
          [
           "McLaren 570S",
           2016
          ],
          [
           "Ferrari 575M",
           2002
          ],
          [
           "Ferrari 575M",
           2002
          ],
          [
           "Ferrari 575M",
           2003
          ],
          [
           "Ferrari 575M",
           2003
          ],
          [
           "Ferrari 575M",
           2004
          ],
          [
           "Ferrari 575M",
           2004
          ],
          [
           "Maybach 57",
           2010
          ],
          [
           "Maybach 57",
           2010
          ],
          [
           "Maybach 57",
           2010
          ],
          [
           "Maybach 57",
           2011
          ],
          [
           "Maybach 57",
           2011
          ],
          [
           "Maybach 57",
           2012
          ],
          [
           "Maybach 57",
           2012
          ],
          [
           "Ferrari 599",
           2009
          ],
          [
           "Ferrari 599",
           2009
          ],
          [
           "Ferrari 599",
           2010
          ],
          [
           "Ferrari 599",
           2011
          ],
          [
           "BMW 6 Series Gran Coupe",
           2015
          ],
          [
           "BMW 6 Series Gran Coupe",
           2015
          ],
          [
           "BMW 6 Series Gran Coupe",
           2015
          ],
          [
           "BMW 6 Series Gran Coupe",
           2015
          ],
          [
           "BMW 6 Series Gran Coupe",
           2016
          ],
          [
           "BMW 6 Series Gran Coupe",
           2016
          ],
          [
           "BMW 6 Series Gran Coupe",
           2016
          ],
          [
           "BMW 6 Series Gran Coupe",
           2016
          ],
          [
           "BMW 6 Series Gran Coupe",
           2017
          ],
          [
           "BMW 6 Series Gran Coupe",
           2017
          ],
          [
           "BMW 6 Series Gran Coupe",
           2017
          ],
          [
           "BMW 6 Series Gran Coupe",
           2017
          ],
          [
           "BMW 6 Series",
           2015
          ],
          [
           "BMW 6 Series",
           2015
          ],
          [
           "BMW 6 Series",
           2015
          ],
          [
           "BMW 6 Series",
           2015
          ],
          [
           "BMW 6 Series",
           2015
          ],
          [
           "BMW 6 Series",
           2015
          ],
          [
           "BMW 6 Series",
           2015
          ],
          [
           "BMW 6 Series",
           2015
          ],
          [
           "BMW 6 Series",
           2016
          ],
          [
           "BMW 6 Series",
           2016
          ],
          [
           "BMW 6 Series",
           2016
          ],
          [
           "BMW 6 Series",
           2016
          ],
          [
           "BMW 6 Series",
           2016
          ],
          [
           "BMW 6 Series",
           2016
          ],
          [
           "BMW 6 Series",
           2017
          ],
          [
           "BMW 6 Series",
           2017
          ],
          [
           "Mercedes-Benz 600-Class",
           1992
          ],
          [
           "Mercedes-Benz 600-Class",
           1993
          ],
          [
           "Ferrari 612 Scaglietti",
           2009
          ],
          [
           "Ferrari 612 Scaglietti",
           2011
          ],
          [
           "Maybach 62",
           2010
          ],
          [
           "Maybach 62",
           2011
          ],
          [
           "Maybach 62",
           2011
          ],
          [
           "Maybach 62",
           2012
          ],
          [
           "McLaren 650S Coupe",
           2015
          ],
          [
           "BMW 7 Series",
           2015
          ],
          [
           "BMW 7 Series",
           2015
          ],
          [
           "BMW 7 Series",
           2015
          ],
          [
           "BMW 7 Series",
           2015
          ],
          [
           "BMW 7 Series",
           2015
          ],
          [
           "BMW 7 Series",
           2016
          ],
          [
           "BMW 7 Series",
           2017
          ],
          [
           "Volvo 740",
           1990
          ],
          [
           "Volvo 740",
           1990
          ],
          [
           "Volvo 740",
           1990
          ],
          [
           "Volvo 740",
           1990
          ],
          [
           "Volvo 740",
           1990
          ],
          [
           "Volvo 740",
           1990
          ],
          [
           "Volvo 740",
           1991
          ],
          [
           "Volvo 740",
           1991
          ],
          [
           "Volvo 740",
           1991
          ],
          [
           "Volvo 740",
           1991
          ],
          [
           "Volvo 740",
           1991
          ],
          [
           "Volvo 740",
           1991
          ],
          [
           "Volvo 740",
           1992
          ],
          [
           "Volvo 740",
           1992
          ],
          [
           "Volvo 740",
           1992
          ],
          [
           "Volvo 740",
           1992
          ],
          [
           "Volvo 760",
           1990
          ],
          [
           "Volvo 760",
           1990
          ],
          [
           "Volvo 760",
           1990
          ],
          [
           "Volvo 780",
           1990
          ],
          [
           "Volvo 780",
           1990
          ],
          [
           "BMW 8 Series",
           1995
          ],
          [
           "BMW 8 Series",
           1995
          ],
          [
           "BMW 8 Series",
           1995
          ],
          [
           "BMW 8 Series",
           1996
          ],
          [
           "BMW 8 Series",
           1996
          ],
          [
           "BMW 8 Series",
           1997
          ],
          [
           "BMW 8 Series",
           1997
          ],
          [
           "Audi 80",
           1990
          ],
          [
           "Audi 80",
           1990
          ],
          [
           "Audi 80",
           1991
          ],
          [
           "Audi 80",
           1991
          ],
          [
           "Audi 80",
           1992
          ],
          [
           "Audi 80",
           1992
          ],
          [
           "Volvo 850",
           1995
          ],
          [
           "Volvo 850",
           1995
          ],
          [
           "Volvo 850",
           1995
          ],
          [
           "Volvo 850",
           1995
          ],
          [
           "Volvo 850",
           1995
          ],
          [
           "Volvo 850",
           1995
          ],
          [
           "Volvo 850",
           1995
          ],
          [
           "Volvo 850",
           1995
          ],
          [
           "Saab 9-3",
           2010
          ],
          [
           "Saab 9-3",
           2010
          ],
          [
           "Saab 9-3",
           2010
          ],
          [
           "Saab 9-3",
           2010
          ],
          [
           "Saab 9-3",
           2010
          ],
          [
           "Saab 9-3",
           2010
          ],
          [
           "Saab 9-3",
           2010
          ],
          [
           "Saab 9-3",
           2011
          ],
          [
           "Saab 9-3",
           2011
          ],
          [
           "Saab 9-3",
           2011
          ],
          [
           "Saab 9-3",
           2011
          ],
          [
           "Saab 9-3",
           2011
          ],
          [
           "Saab 9-3",
           2011
          ],
          [
           "Saab 9-3",
           2011
          ],
          [
           "Saab 9-3",
           2011
          ],
          [
           "Saab 9-3",
           2011
          ],
          [
           "Saab 9-4X",
           2011
          ],
          [
           "Saab 9-4X",
           2011
          ],
          [
           "Saab 9-4X",
           2011
          ],
          [
           "Saab 9-4X",
           2011
          ],
          [
           "Saab 9-4X",
           2011
          ],
          [
           "Saab 9-5",
           2009
          ],
          [
           "Saab 9-5",
           2009
          ],
          [
           "Saab 9-5",
           2009
          ],
          [
           "Saab 9-5",
           2009
          ],
          [
           "Saab 9-5",
           2009
          ],
          [
           "Saab 9-5",
           2009
          ],
          [
           "Saab 9-5",
           2010
          ],
          [
           "Saab 9-5",
           2011
          ],
          [
           "Saab 9-5",
           2011
          ],
          [
           "Saab 9-5",
           2011
          ],
          [
           "Saab 9-5",
           2011
          ],
          [
           "Saab 9-7X",
           2007
          ],
          [
           "Audi A4",
           2017
          ],
          [
           "Audi A4",
           2017
          ],
          [
           "Audi A4",
           2017
          ],
          [
           "Audi A4",
           2017
          ],
          [
           "Audi A4",
           2017
          ],
          [
           "Audi A4",
           2017
          ],
          [
           "Audi A5",
           2016
          ],
          [
           "Audi A5",
           2016
          ],
          [
           "Audi A5",
           2016
          ],
          [
           "GMC Acadia",
           2015
          ],
          [
           "GMC Acadia",
           2015
          ],
          [
           "Cadillac Allante",
           1991
          ],
          [
           "Cadillac Allante",
           1992
          ],
          [
           "Cadillac Allante",
           1993
          ],
          [
           "Audi allroad quattro",
           2003
          ],
          [
           "Audi allroad quattro",
           2003
          ],
          [
           "Audi allroad quattro",
           2004
          ],
          [
           "Audi allroad quattro",
           2004
          ],
          [
           "Audi allroad quattro",
           2004
          ],
          [
           "Audi allroad quattro",
           2005
          ],
          [
           "Audi allroad quattro",
           2005
          ],
          [
           "Audi allroad quattro",
           2005
          ],
          [
           "Audi allroad",
           2014
          ],
          [
           "Audi allroad",
           2014
          ],
          [
           "Audi allroad",
           2014
          ],
          [
           "Audi allroad",
           2015
          ],
          [
           "Audi allroad",
           2015
          ],
          [
           "Audi allroad",
           2015
          ],
          [
           "Audi allroad",
           2016
          ],
          [
           "Audi allroad",
           2016
          ],
          [
           "BMW ALPINA B6 Gran Coupe",
           2015
          ],
          [
           "Cadillac ATS Coupe",
           2017
          ],
          [
           "Cadillac ATS Coupe",
           2017
          ],
          [
           "Cadillac ATS Coupe",
           2017
          ],
          [
           "Cadillac ATS",
           2015
          ],
          [
           "Cadillac ATS",
           2015
          ],
          [
           "Cadillac ATS",
           2015
          ],
          [
           "Cadillac ATS",
           2015
          ],
          [
           "Cadillac ATS",
           2015
          ],
          [
           "Cadillac ATS",
           2016
          ],
          [
           "Cadillac ATS",
           2016
          ],
          [
           "Cadillac ATS",
           2016
          ],
          [
           "Dodge Avenger",
           2012
          ],
          [
           "Dodge Avenger",
           2012
          ],
          [
           "Dodge Avenger",
           2014
          ],
          [
           "Lamborghini Aventador",
           2014
          ],
          [
           "Lamborghini Aventador",
           2014
          ],
          [
           "Mazda B-Series Pickup",
           1999
          ],
          [
           "Mazda B-Series Pickup",
           1999
          ],
          [
           "Mazda B-Series Pickup",
           1999
          ],
          [
           "Mazda B-Series Pickup",
           1999
          ],
          [
           "Mazda B-Series Pickup",
           1999
          ],
          [
           "Subaru B9 Tribeca",
           2006
          ],
          [
           "Subaru B9 Tribeca",
           2006
          ],
          [
           "Subaru B9 Tribeca",
           2007
          ],
          [
           "Subaru B9 Tribeca",
           2007
          ],
          [
           "Subaru B9 Tribeca",
           2007
          ],
          [
           "Subaru B9 Tribeca",
           2007
          ],
          [
           "Subaru B9 Tribeca",
           2007
          ],
          [
           "Subaru B9 Tribeca",
           2007
          ],
          [
           "Subaru B9 Tribeca",
           2007
          ],
          [
           "Subaru B9 Tribeca",
           2007
          ],
          [
           "Subaru B9 Tribeca",
           2007
          ],
          [
           "Subaru B9 Tribeca",
           2007
          ],
          [
           "Subaru Baja",
           2004
          ],
          [
           "Volkswagen Beetle Convertible",
           2015
          ],
          [
           "Volkswagen Beetle Convertible",
           2015
          ],
          [
           "Volkswagen Beetle Convertible",
           2015
          ],
          [
           "Volkswagen Beetle Convertible",
           2015
          ],
          [
           "Volkswagen Beetle Convertible",
           2015
          ],
          [
           "Volkswagen Beetle Convertible",
           2015
          ],
          [
           "Volkswagen Beetle",
           2015
          ],
          [
           "Volkswagen Beetle",
           2015
          ],
          [
           "Volkswagen Beetle",
           2015
          ],
          [
           "Volkswagen Beetle",
           2015
          ],
          [
           "Volkswagen Beetle",
           2015
          ],
          [
           "Volkswagen Beetle",
           2015
          ],
          [
           "Volkswagen Beetle",
           2015
          ],
          [
           "Volkswagen Beetle",
           2015
          ],
          [
           "Volkswagen Beetle",
           2015
          ],
          [
           "Volkswagen Beetle",
           2015
          ],
          [
           "Volkswagen Beetle",
           2015
          ],
          [
           "Volkswagen Beetle",
           2015
          ],
          [
           "Volkswagen Beetle",
           2015
          ],
          [
           "Volkswagen Beetle",
           2016
          ],
          [
           "Volkswagen Beetle",
           2016
          ],
          [
           "Volkswagen Beetle",
           2016
          ],
          [
           "Volkswagen Beetle",
           2016
          ],
          [
           "Volkswagen Beetle",
           2017
          ],
          [
           "Volkswagen Beetle",
           2017
          ],
          [
           "Volkswagen Beetle",
           2017
          ],
          [
           "Porsche Boxster",
           2014
          ],
          [
           "Porsche Boxster",
           2014
          ],
          [
           "Porsche Boxster",
           2016
          ],
          [
           "Porsche Boxster",
           2016
          ],
          [
           "Mercedes-Benz C-Class",
           2017
          ],
          [
           "Mercedes-Benz C-Class",
           2017
          ],
          [
           "Mercedes-Benz C-Class",
           2017
          ],
          [
           "Kia Cadenza",
           2015
          ],
          [
           "Kia Cadenza",
           2015
          ],
          [
           "Kia Cadenza",
           2016
          ],
          [
           "Kia Cadenza",
           2016
          ],
          [
           "Kia Cadenza",
           2017
          ],
          [
           "Kia Cadenza",
           2017
          ],
          [
           "Kia Cadenza",
           2017
          ],
          [
           "Cadillac Catera",
           2000
          ],
          [
           "Cadillac Catera",
           2001
          ],
          [
           "Porsche Cayman",
           2015
          ],
          [
           "Porsche Cayman",
           2015
          ],
          [
           "Porsche Cayman",
           2015
          ],
          [
           "Porsche Cayman",
           2016
          ],
          [
           "Porsche Cayman",
           2016
          ],
          [
           "Porsche Cayman",
           2016
          ],
          [
           "Volkswagen CC",
           2015
          ],
          [
           "Volkswagen CC",
           2015
          ],
          [
           "Volkswagen CC",
           2015
          ],
          [
           "Volkswagen CC",
           2015
          ],
          [
           "Volkswagen CC",
           2015
          ],
          [
           "Volkswagen CC",
           2015
          ],
          [
           "Volkswagen CC",
           2015
          ],
          [
           "Volkswagen CC",
           2015
          ],
          [
           "Volkswagen CC",
           2015
          ],
          [
           "Volkswagen CC",
           2015
          ],
          [
           "Volkswagen CC",
           2015
          ],
          [
           "Volkswagen CC",
           2016
          ],
          [
           "Volkswagen CC",
           2016
          ],
          [
           "Volkswagen CC",
           2016
          ],
          [
           "Volkswagen CC",
           2016
          ],
          [
           "Volkswagen CC",
           2016
          ],
          [
           "Volkswagen CC",
           2017
          ],
          [
           "Volkswagen CC",
           2017
          ],
          [
           "Volkswagen CC",
           2017
          ],
          [
           "Volkswagen CC",
           2017
          ],
          [
           "Toyota Celica",
           2003
          ],
          [
           "Toyota Celica",
           2003
          ],
          [
           "Toyota Celica",
           2003
          ],
          [
           "Toyota Celica",
           2003
          ],
          [
           "Toyota Celica",
           2004
          ],
          [
           "Toyota Celica",
           2004
          ],
          [
           "Toyota Celica",
           2004
          ],
          [
           "Toyota Celica",
           2004
          ],
          [
           "Dodge Challenger",
           2017
          ],
          [
           "Dodge Challenger",
           2017
          ],
          [
           "Dodge Challenger",
           2017
          ],
          [
           "Dodge Challenger",
           2017
          ],
          [
           "Dodge Charger",
           2015
          ],
          [
           "Dodge Charger",
           2015
          ],
          [
           "Dodge Charger",
           2015
          ],
          [
           "Dodge Charger",
           2017
          ],
          [
           "Dodge Charger",
           2017
          ],
          [
           "Dodge Charger",
           2017
          ],
          [
           "Mercedes-Benz CLA-Class",
           2016
          ],
          [
           "Mercedes-Benz CLA-Class",
           2016
          ],
          [
           "Mercedes-Benz CLA-Class",
           2016
          ],
          [
           "Mercedes-Benz CLA-Class",
           2017
          ],
          [
           "Mercedes-Benz CLA-Class",
           2017
          ],
          [
           "Mercedes-Benz CLA-Class",
           2017
          ],
          [
           "Acura CL",
           2001
          ],
          [
           "Acura CL",
           2001
          ],
          [
           "Acura CL",
           2002
          ],
          [
           "Acura CL",
           2003
          ],
          [
           "Acura CL",
           2003
          ],
          [
           "Mercedes-Benz CLK-Class",
           2009
          ],
          [
           "Mercedes-Benz CLK-Class",
           2009
          ],
          [
           "Mercedes-Benz CLK-Class",
           2009
          ],
          [
           "Mercedes-Benz CLK-Class",
           2009
          ],
          [
           "Mercedes-Benz CLS-Class",
           2015
          ],
          [
           "Mercedes-Benz CLS-Class",
           2015
          ],
          [
           "Mercedes-Benz CLS-Class",
           2015
          ],
          [
           "Mercedes-Benz CLS-Class",
           2015
          ],
          [
           "Chevrolet Colorado",
           2012
          ],
          [
           "Plymouth Colt",
           1992
          ],
          [
           "Plymouth Colt",
           1992
          ],
          [
           "Chevrolet Corvette Stingray",
           2014
          ],
          [
           "Chevrolet Corvette Stingray",
           2014
          ],
          [
           "Chevrolet Corvette Stingray",
           2014
          ],
          [
           "Chevrolet Corvette Stingray",
           2014
          ],
          [
           "Chevrolet Corvette",
           2015
          ],
          [
           "Chevrolet Corvette",
           2015
          ],
          [
           "Chevrolet Corvette",
           2017
          ],
          [
           "Audi Coupe",
           1990
          ],
          [
           "Audi Coupe",
           1991
          ],
          [
           "Maserati Coupe",
           2004
          ],
          [
           "Maserati Coupe",
           2004
          ],
          [
           "Maserati Coupe",
           2005
          ],
          [
           "Maserati Coupe",
           2005
          ],
          [
           "Maserati Coupe",
           2006
          ],
          [
           "Maserati Coupe",
           2006
          ],
          [
           "Volvo Coupe",
           1991
          ],
          [
           "Honda CR-V",
           2014
          ],
          [
           "Honda CR-V",
           2014
          ],
          [
           "Honda CR-V",
           2014
          ],
          [
           "Honda CR-V",
           2014
          ],
          [
           "Honda CR-V",
           2016
          ],
          [
           "Honda CR-V",
           2016
          ],
          [
           "Cadillac CTS Coupe",
           2013
          ],
          [
           "Cadillac CTS Coupe",
           2013
          ],
          [
           "Cadillac CTS Coupe",
           2013
          ],
          [
           "Cadillac CTS Coupe",
           2013
          ],
          [
           "Cadillac CTS-V",
           2017
          ],
          [
           "Cadillac CTS Wagon",
           2012
          ],
          [
           "Cadillac CTS Wagon",
           2012
          ],
          [
           "Cadillac CTS Wagon",
           2012
          ],
          [
           "Cadillac CTS Wagon",
           2012
          ],
          [
           "Cadillac CTS Wagon",
           2012
          ],
          [
           "Cadillac CTS Wagon",
           2012
          ],
          [
           "Cadillac CTS Wagon",
           2012
          ],
          [
           "Cadillac CTS Wagon",
           2012
          ],
          [
           "Cadillac CTS Wagon",
           2013
          ],
          [
           "Cadillac CTS Wagon",
           2013
          ],
          [
           "Cadillac CTS Wagon",
           2013
          ],
          [
           "Cadillac CTS Wagon",
           2013
          ],
          [
           "Cadillac CTS Wagon",
           2013
          ],
          [
           "Cadillac CTS",
           2015
          ],
          [
           "Cadillac CTS",
           2015
          ],
          [
           "Cadillac CTS",
           2015
          ],
          [
           "Mazda CX-3",
           2017
          ],
          [
           "Mazda CX-5",
           2014
          ],
          [
           "Mazda CX-5",
           2014
          ],
          [
           "Mazda CX-5",
           2014
          ],
          [
           "Mazda CX-5",
           2014
          ],
          [
           "Mazda CX-5",
           2014
          ],
          [
           "Mazda CX-5",
           2014
          ],
          [
           "Mazda CX-5",
           2014
          ],
          [
           "Mazda CX-5",
           2015
          ],
          [
           "Mazda CX-7",
           2012
          ],
          [
           "Mazda CX-7",
           2012
          ],
          [
           "Dodge Dakota",
           2010
          ],
          [
           "Dodge Dakota",
           2010
          ],
          [
           "Dodge Dakota",
           2010
          ],
          [
           "Dodge Dakota",
           2010
          ],
          [
           "Dodge Dakota",
           2010
          ],
          [
           "Dodge Dakota",
           2010
          ],
          [
           "Dodge Dakota",
           2010
          ],
          [
           "Dodge Dakota",
           2010
          ],
          [
           "Dodge Dakota",
           2010
          ],
          [
           "Dodge Dakota",
           2010
          ],
          [
           "Dodge Dakota",
           2010
          ],
          [
           "Dodge Dakota",
           2010
          ],
          [
           "Dodge Dakota",
           2010
          ],
          [
           "Dodge Dakota",
           2010
          ],
          [
           "Aston Martin DB7",
           2003
          ],
          [
           "Aston Martin DB7",
           2003
          ],
          [
           "Aston Martin DB9 GT",
           2016
          ],
          [
           "Aston Martin DB9 GT",
           2016
          ],
          [
           "Aston Martin DB9",
           2013
          ],
          [
           "Aston Martin DB9",
           2013
          ],
          [
           "Aston Martin DB9",
           2014
          ],
          [
           "Aston Martin DB9",
           2015
          ],
          [
           "Aston Martin DB9",
           2015
          ],
          [
           "Aston Martin DB9",
           2015
          ],
          [
           "Aston Martin DBS",
           2011
          ],
          [
           "Ford Edge",
           2016
          ],
          [
           "Ford Edge",
           2016
          ],
          [
           "Ford Edge",
           2016
          ],
          [
           "Ford Edge",
           2016
          ],
          [
           "Ford Edge",
           2017
          ],
          [
           "Ford Edge",
           2017
          ],
          [
           "Hyundai Elantra Touring",
           2011
          ],
          [
           "Hyundai Elantra Touring",
           2011
          ],
          [
           "Hyundai Elantra Touring",
           2011
          ],
          [
           "Hyundai Elantra Touring",
           2012
          ],
          [
           "Mitsubishi Endeavor",
           2008
          ],
          [
           "Buick Envision",
           2016
          ],
          [
           "Buick Envision",
           2016
          ],
          [
           "Buick Envision",
           2017
          ],
          [
           "Buick Envision",
           2017
          ],
          [
           "Buick Envision",
           2017
          ],
          [
           "Buick Envision",
           2017
          ],
          [
           "Chevrolet Equinox",
           2015
          ],
          [
           "Chevrolet Equinox",
           2015
          ],
          [
           "Chevrolet Equinox",
           2015
          ],
          [
           "Chevrolet Equinox",
           2016
          ],
          [
           "Chevrolet Equinox",
           2016
          ],
          [
           "Chevrolet Equinox",
           2016
          ],
          [
           "Chevrolet Equinox",
           2016
          ],
          [
           "Chevrolet Equinox",
           2016
          ],
          [
           "Chevrolet Equinox",
           2016
          ],
          [
           "Cadillac Escalade",
           2016
          ],
          [
           "Cadillac Escalade",
           2016
          ],
          [
           "Cadillac Escalade",
           2016
          ],
          [
           "Cadillac Escalade",
           2016
          ],
          [
           "Cadillac Escalade",
           2016
          ],
          [
           "Cadillac Escalade",
           2016
          ],
          [
           "Cadillac Escalade",
           2017
          ],
          [
           "Cadillac Escalade",
           2017
          ],
          [
           "Cadillac Escalade",
           2017
          ],
          [
           "Cadillac Escalade",
           2017
          ],
          [
           "Cadillac Escalade",
           2017
          ],
          [
           "Cadillac Escalade",
           2017
          ],
          [
           "Cadillac Escalade",
           2017
          ],
          [
           "Cadillac Escalade",
           2017
          ],
          [
           "Ford Escape Hybrid",
           2009
          ],
          [
           "Ford Escape Hybrid",
           2009
          ],
          [
           "Ford Escape Hybrid",
           2009
          ],
          [
           "Ford Escape Hybrid",
           2009
          ],
          [
           "Ford Escape Hybrid",
           2010
          ],
          [
           "Ford Escape Hybrid",
           2010
          ],
          [
           "Ford Escape Hybrid",
           2010
          ],
          [
           "Ford Escape Hybrid",
           2010
          ],
          [
           "Ford Escape Hybrid",
           2011
          ],
          [
           "Ford Escape Hybrid",
           2011
          ],
          [
           "Ford Escape Hybrid",
           2011
          ],
          [
           "Ford Explorer",
           2015
          ],
          [
           "Ford Explorer",
           2015
          ],
          [
           "Ford Explorer",
           2015
          ],
          [
           "Ford Explorer",
           2015
          ],
          [
           "Ford Explorer",
           2015
          ],
          [
           "Ford Explorer",
           2015
          ],
          [
           "Ford Explorer",
           2015
          ],
          [
           "Ford Explorer",
           2016
          ],
          [
           "Chevrolet Express",
           2016
          ],
          [
           "Chevrolet Express",
           2016
          ],
          [
           "Ford F-150 SVT Lightning",
           1999
          ],
          [
           "Ford F-150 SVT Lightning",
           2000
          ],
          [
           "Ford F-150",
           2015
          ],
          [
           "Ford F-150",
           2015
          ],
          [
           "Ford F-150",
           2015
          ],
          [
           "Ford F-150",
           2015
          ],
          [
           "Ford F-150",
           2015
          ],
          [
           "Ford F-150",
           2015
          ],
          [
           "Ford F-150",
           2015
          ],
          [
           "Ford F-150",
           2015
          ],
          [
           "Ford F-150",
           2015
          ],
          [
           "Ford F-150",
           2015
          ],
          [
           "Ford F-150",
           2015
          ],
          [
           "Ford F-150",
           2015
          ],
          [
           "Ford F-150",
           2016
          ],
          [
           "Ford F-150",
           2016
          ],
          [
           "Ford F-150",
           2016
          ],
          [
           "Ford F-150",
           2016
          ],
          [
           "Ford F-150",
           2016
          ],
          [
           "Ford F-150",
           2016
          ],
          [
           "Ford F-150",
           2016
          ],
          [
           "Ford F-150",
           2016
          ],
          [
           "Ford F-150",
           2016
          ],
          [
           "Ford F-150",
           2016
          ],
          [
           "Ford F-150",
           2016
          ],
          [
           "Ford F-150",
           2016
          ],
          [
           "Ford F-150",
           2016
          ],
          [
           "Ford F-150",
           2016
          ],
          [
           "Ford F-150",
           2016
          ],
          [
           "Ford F-150",
           2016
          ],
          [
           "Ford F-150",
           2017
          ],
          [
           "Ford F-150",
           2017
          ],
          [
           "Ford F-150",
           2017
          ],
          [
           "Ford F-150",
           2017
          ],
          [
           "Ford F-150",
           2017
          ],
          [
           "Ford F-150",
           2017
          ],
          [
           "Ford F-150",
           2017
          ],
          [
           "Ford F-150",
           2017
          ],
          [
           "Ferrari F12 Berlinetta",
           2013
          ],
          [
           "Ferrari F12 Berlinetta",
           2014
          ],
          [
           "Ferrari F12 Berlinetta",
           2015
          ],
          [
           "Ferrari F430",
           2007
          ],
          [
           "Ferrari F430",
           2007
          ],
          [
           "Ferrari F430",
           2007
          ],
          [
           "Ferrari F430",
           2007
          ],
          [
           "Ferrari F430",
           2007
          ],
          [
           "Ferrari F430",
           2008
          ],
          [
           "Ford Festiva",
           1991
          ],
          [
           "Ford Festiva",
           1991
          ],
          [
           "Ford Fiesta",
           2015
          ],
          [
           "Ford Fiesta",
           2015
          ],
          [
           "Ford Fiesta",
           2015
          ],
          [
           "Ford Fiesta",
           2015
          ],
          [
           "Ford Fiesta",
           2016
          ],
          [
           "Ford Fiesta",
           2016
          ],
          [
           "Ford Fiesta",
           2016
          ],
          [
           "Honda Fit",
           2016
          ],
          [
           "Honda Fit",
           2016
          ],
          [
           "Honda Fit",
           2016
          ],
          [
           "Honda Fit",
           2016
          ],
          [
           "Honda Fit",
           2016
          ],
          [
           "Honda Fit",
           2017
          ],
          [
           "Honda Fit",
           2017
          ],
          [
           "Honda Fit",
           2017
          ],
          [
           "Honda Fit",
           2017
          ],
          [
           "Honda Fit",
           2017
          ],
          [
           "Honda Fit",
           2017
          ],
          [
           "Ford Flex",
           2017
          ],
          [
           "Ford Flex",
           2017
          ],
          [
           "Ford Flex",
           2017
          ],
          [
           "Bentley Flying Spur",
           2014
          ],
          [
           "Bentley Flying Spur",
           2015
          ],
          [
           "Kia Forte",
           2016
          ],
          [
           "Kia Forte",
           2016
          ],
          [
           "Kia Forte",
           2016
          ],
          [
           "Kia Forte",
           2016
          ],
          [
           "Kia Forte",
           2017
          ],
          [
           "Kia Forte",
           2017
          ],
          [
           "Kia Forte",
           2017
          ],
          [
           "Kia Forte",
           2017
          ],
          [
           "Ford Freestyle",
           2006
          ],
          [
           "Ford Freestyle",
           2006
          ],
          [
           "Ford Freestyle",
           2006
          ],
          [
           "Ford Freestyle",
           2007
          ],
          [
           "Ford Freestyle",
           2007
          ],
          [
           "Ford Freestyle",
           2007
          ],
          [
           "Ford Fusion Hybrid",
           2016
          ],
          [
           "Ford Fusion Hybrid",
           2016
          ],
          [
           "Ford Fusion Hybrid",
           2017
          ],
          [
           "Ford Fusion Hybrid",
           2017
          ],
          [
           "Ford Fusion Hybrid",
           2017
          ],
          [
           "Ford Fusion Hybrid",
           2017
          ],
          [
           "Ford Fusion",
           2015
          ],
          [
           "Ford Fusion",
           2015
          ],
          [
           "Ford Fusion",
           2016
          ],
          [
           "Ford Fusion",
           2016
          ],
          [
           "Ford Fusion",
           2016
          ],
          [
           "Ford Fusion",
           2017
          ],
          [
           "Ford Fusion",
           2017
          ],
          [
           "Ford Fusion",
           2017
          ],
          [
           "Ford Fusion",
           2017
          ],
          [
           "Ford Fusion",
           2017
          ],
          [
           "Infiniti FX35",
           2008
          ],
          [
           "Infiniti FX35",
           2008
          ],
          [
           "Infiniti FX35",
           2009
          ],
          [
           "Infiniti FX35",
           2009
          ],
          [
           "Infiniti FX35",
           2010
          ],
          [
           "Infiniti FX35",
           2010
          ],
          [
           "Mercedes-Benz G-Class",
           2016
          ],
          [
           "Infiniti G Convertible",
           2011
          ],
          [
           "Infiniti G Convertible",
           2011
          ],
          [
           "Infiniti G Convertible",
           2011
          ],
          [
           "Infiniti G Coupe",
           2013
          ],
          [
           "Infiniti G Coupe",
           2013
          ],
          [
           "Infiniti G Coupe",
           2013
          ],
          [
           "Infiniti G Coupe",
           2013
          ],
          [
           "Infiniti G Sedan",
           2011
          ],
          [
           "Infiniti G Sedan",
           2011
          ],
          [
           "Infiniti G Sedan",
           2011
          ],
          [
           "Pontiac G6",
           2008
          ],
          [
           "Pontiac G6",
           2008
          ],
          [
           "Pontiac G6",
           2008
          ],
          [
           "Pontiac G6",
           2009
          ],
          [
           "Pontiac G6",
           2009
          ],
          [
           "Pontiac G6",
           2009
          ],
          [
           "Pontiac G6",
           2009
          ],
          [
           "Lamborghini Gallardo",
           2012
          ],
          [
           "Lamborghini Gallardo",
           2012
          ],
          [
           "Lamborghini Gallardo",
           2012
          ],
          [
           "Volkswagen GLI",
           2008
          ],
          [
           "Volkswagen GLI",
           2008
          ],
          [
           "Volkswagen GLI",
           2008
          ],
          [
           "Volkswagen GLI",
           2009
          ],
          [
           "Volkswagen GLI",
           2009
          ],
          [
           "Volkswagen GLI",
           2009
          ],
          [
           "Volkswagen GLI",
           2009
          ],
          [
           "Volkswagen GLI",
           2012
          ],
          [
           "Volkswagen Golf GTI",
           2015
          ],
          [
           "Volkswagen Golf GTI",
           2015
          ],
          [
           "Volkswagen Golf GTI",
           2016
          ],
          [
           "Volkswagen Golf GTI",
           2016
          ],
          [
           "Volkswagen Golf GTI",
           2016
          ],
          [
           "Volkswagen Golf GTI",
           2016
          ],
          [
           "Volkswagen Golf GTI",
           2016
          ],
          [
           "Volkswagen Golf GTI",
           2016
          ],
          [
           "Volkswagen Golf GTI",
           2016
          ],
          [
           "Volkswagen Golf GTI",
           2016
          ],
          [
           "Volkswagen Golf GTI",
           2016
          ],
          [
           "Volkswagen Golf GTI",
           2016
          ],
          [
           "Volkswagen Golf GTI",
           2016
          ],
          [
           "Maserati GranTurismo Convertible",
           2015
          ],
          [
           "Maserati GranTurismo Convertible",
           2015
          ],
          [
           "Maserati GranTurismo Convertible",
           2015
          ],
          [
           "Maserati GranTurismo Convertible",
           2015
          ],
          [
           "Maserati GranTurismo Convertible",
           2016
          ],
          [
           "Maserati GranTurismo Convertible",
           2016
          ],
          [
           "Nissan GT-R",
           2016
          ],
          [
           "Nissan GT-R",
           2016
          ],
          [
           "Volkswagen GTI",
           2012
          ],
          [
           "Volkswagen GTI",
           2012
          ],
          [
           "Volkswagen GTI",
           2012
          ],
          [
           "Volkswagen GTI",
           2012
          ],
          [
           "Volkswagen GTI",
           2012
          ],
          [
           "Volkswagen GTI",
           2012
          ],
          [
           "Volkswagen GTI",
           2012
          ],
          [
           "Volkswagen GTI",
           2012
          ],
          [
           "Volkswagen GTI",
           2012
          ],
          [
           "Volkswagen GTI",
           2013
          ],
          [
           "Volkswagen GTI",
           2013
          ],
          [
           "Volkswagen GTI",
           2013
          ],
          [
           "Volkswagen GTI",
           2013
          ],
          [
           "Volkswagen GTI",
           2013
          ],
          [
           "Volkswagen GTI",
           2013
          ],
          [
           "Volkswagen GTI",
           2013
          ],
          [
           "Volkswagen GTI",
           2013
          ],
          [
           "Volkswagen GTI",
           2013
          ],
          [
           "Volkswagen GTI",
           2013
          ],
          [
           "Volkswagen GTI",
           2013
          ],
          [
           "Volkswagen GTI",
           2013
          ],
          [
           "Volkswagen GTI",
           2014
          ],
          [
           "Lexus GX 460",
           2017
          ],
          [
           "Lexus GX 470",
           2008
          ],
          [
           "Subaru Impreza WRX",
           2014
          ],
          [
           "Subaru Impreza WRX",
           2014
          ],
          [
           "Subaru Impreza",
           2016
          ],
          [
           "Subaru Impreza",
           2016
          ],
          [
           "Subaru Impreza",
           2016
          ],
          [
           "Subaru Impreza",
           2016
          ],
          [
           "Subaru Impreza",
           2016
          ],
          [
           "Subaru Impreza",
           2016
          ],
          [
           "Subaru Impreza",
           2017
          ],
          [
           "Subaru Impreza",
           2017
          ],
          [
           "Subaru Impreza",
           2017
          ],
          [
           "Subaru Impreza",
           2017
          ],
          [
           "Subaru Impreza",
           2017
          ],
          [
           "Subaru Impreza",
           2017
          ],
          [
           "Lexus IS 250",
           2015
          ],
          [
           "Lexus IS 300",
           2005
          ],
          [
           "Lexus IS 300",
           2005
          ],
          [
           "Lexus IS 300",
           2005
          ],
          [
           "Lexus IS 300",
           2016
          ],
          [
           "Lexus IS 300",
           2017
          ],
          [
           "Lexus IS 350 C",
           2013
          ],
          [
           "Lexus IS 350 C",
           2014
          ],
          [
           "Lexus IS 350 C",
           2015
          ],
          [
           "Lexus IS 350",
           2014
          ],
          [
           "Lexus IS 350",
           2014
          ],
          [
           "Lexus IS 350",
           2015
          ],
          [
           "Lexus IS 350",
           2015
          ],
          [
           "Lexus IS 350",
           2016
          ],
          [
           "Lexus IS 350",
           2016
          ],
          [
           "Lexus IS F",
           2012
          ],
          [
           "Lexus IS F",
           2013
          ],
          [
           "Lexus IS F",
           2014
          ],
          [
           "Infiniti J30",
           1995
          ],
          [
           "Infiniti J30",
           1996
          ],
          [
           "Infiniti J30",
           1996
          ],
          [
           "Infiniti J30",
           1997
          ],
          [
           "Infiniti J30",
           1997
          ],
          [
           "Infiniti J30",
           1997
          ],
          [
           "Infiniti J30",
           1997
          ],
          [
           "Volkswagen Jetta GLI",
           2013
          ],
          [
           "Volkswagen Jetta GLI",
           2013
          ],
          [
           "Volkswagen Jetta GLI",
           2014
          ],
          [
           "Volkswagen Jetta GLI",
           2014
          ],
          [
           "Volkswagen Jetta GLI",
           2014
          ],
          [
           "Volkswagen Jetta GLI",
           2014
          ],
          [
           "Volkswagen Jetta GLI",
           2014
          ],
          [
           "Volkswagen Jetta GLI",
           2014
          ],
          [
           "Volkswagen Jetta GLI",
           2014
          ],
          [
           "Volkswagen Jetta GLI",
           2014
          ],
          [
           "Volkswagen Jetta GLI",
           2014
          ],
          [
           "Volkswagen Jetta GLI",
           2014
          ],
          [
           "Volkswagen Jetta GLI",
           2014
          ],
          [
           "Volkswagen Jetta GLI",
           2014
          ],
          [
           "Volkswagen Jetta GLI",
           2014
          ],
          [
           "Volkswagen Jetta GLI",
           2014
          ],
          [
           "Volkswagen Jetta GLI",
           2014
          ],
          [
           "Volkswagen Jetta GLI",
           2014
          ],
          [
           "Volkswagen Jetta GLI",
           2014
          ],
          [
           "Volkswagen Jetta GLI",
           2014
          ],
          [
           "Volkswagen Jetta Hybrid",
           2013
          ],
          [
           "Volkswagen Jetta Hybrid",
           2013
          ],
          [
           "Volkswagen Jetta Hybrid",
           2013
          ],
          [
           "Volkswagen Jetta Hybrid",
           2013
          ],
          [
           "Volkswagen Jetta SportWagen",
           2013
          ],
          [
           "Volkswagen Jetta SportWagen",
           2013
          ],
          [
           "Volkswagen Jetta",
           2017
          ],
          [
           "Volkswagen Jetta",
           2017
          ],
          [
           "Subaru Justy",
           1992
          ],
          [
           "Subaru Justy",
           1992
          ],
          [
           "Subaru Justy",
           1992
          ],
          [
           "Subaru Justy",
           1993
          ],
          [
           "Subaru Justy",
           1993
          ],
          [
           "Subaru Justy",
           1993
          ],
          [
           "Kia K900",
           2015
          ],
          [
           "Kia K900",
           2016
          ],
          [
           "Buick LaCrosse",
           2015
          ],
          [
           "Buick LaCrosse",
           2015
          ],
          [
           "Buick LaCrosse",
           2015
          ],
          [
           "Buick LaCrosse",
           2017
          ],
          [
           "Mitsubishi Lancer Evolution",
           2013
          ],
          [
           "Mitsubishi Lancer Evolution",
           2014
          ],
          [
           "Mitsubishi Lancer Evolution",
           2015
          ],
          [
           "Mitsubishi Lancer Sportback",
           2014
          ],
          [
           "Mitsubishi Lancer",
           2015
          ],
          [
           "Acura Legend",
           1994
          ],
          [
           "Acura Legend",
           1995
          ],
          [
           "Acura Legend",
           1995
          ],
          [
           "Maserati Levante",
           2017
          ],
          [
           "Chrysler LHS",
           1999
          ],
          [
           "Land Rover LR2",
           2013
          ],
          [
           "BMW M2",
           2016
          ],
          [
           "BMW M6 Gran Coupe",
           2016
          ],
          [
           "BMW M6 Gran Coupe",
           2017
          ],
          [
           "BMW M6",
           2015
          ],
          [
           "BMW M6",
           2015
          ],
          [
           "BMW M6",
           2016
          ],
          [
           "BMW M6",
           2016
          ],
          [
           "BMW M6",
           2017
          ],
          [
           "BMW M6",
           2017
          ],
          [
           "Porsche Macan",
           2015
          ],
          [
           "Porsche Macan",
           2015
          ],
          [
           "Porsche Macan",
           2016
          ],
          [
           "Porsche Macan",
           2016
          ],
          [
           "Porsche Macan",
           2017
          ],
          [
           "Porsche Macan",
           2017
          ],
          [
           "Porsche Macan",
           2017
          ],
          [
           "Chevrolet Malibu Maxx",
           2007
          ],
          [
           "Chevrolet Malibu",
           2015
          ],
          [
           "Chevrolet Malibu",
           2015
          ],
          [
           "Chevrolet Malibu",
           2016
          ],
          [
           "Chevrolet Malibu",
           2016
          ],
          [
           "Chevrolet Malibu",
           2016
          ],
          [
           "Mazda Millenia",
           2000
          ],
          [
           "Mazda Millenia",
           2000
          ],
          [
           "Mazda Millenia",
           2001
          ],
          [
           "Mazda Millenia",
           2002
          ],
          [
           "Mazda Millenia",
           2002
          ],
          [
           "Infiniti M",
           2012
          ],
          [
           "Infiniti M",
           2012
          ],
          [
           "Infiniti M",
           2012
          ],
          [
           "Infiniti M",
           2012
          ],
          [
           "Infiniti M",
           2012
          ],
          [
           "Infiniti M",
           2013
          ],
          [
           "Infiniti M",
           2013
          ],
          [
           "Lincoln MKC",
           2016
          ],
          [
           "Lincoln MKC",
           2017
          ],
          [
           "Lincoln MKC",
           2017
          ],
          [
           "Lincoln MKC",
           2017
          ],
          [
           "Lincoln MKC",
           2017
          ],
          [
           "Lincoln MKC",
           2017
          ],
          [
           "Lincoln MKC",
           2017
          ],
          [
           "Lincoln MKC",
           2017
          ],
          [
           "Lincoln MKC",
           2017
          ],
          [
           "Lincoln MKS",
           2014
          ],
          [
           "Lincoln MKS",
           2014
          ],
          [
           "Lincoln MKS",
           2014
          ],
          [
           "Lincoln MKS",
           2015
          ],
          [
           "Lincoln MKS",
           2015
          ],
          [
           "Lincoln MKS",
           2016
          ],
          [
           "Lincoln MKT",
           2015
          ],
          [
           "Lincoln MKT",
           2015
          ],
          [
           "Lincoln MKT",
           2016
          ],
          [
           "Lincoln MKT",
           2016
          ],
          [
           "Lincoln MKT",
           2017
          ],
          [
           "Lincoln MKT",
           2017
          ],
          [
           "Lincoln MKX",
           2015
          ],
          [
           "Lincoln MKX",
           2015
          ],
          [
           "Lincoln MKX",
           2016
          ],
          [
           "Lincoln MKX",
           2016
          ],
          [
           "Lincoln MKX",
           2016
          ],
          [
           "Lincoln MKX",
           2016
          ],
          [
           "Lincoln MKX",
           2016
          ],
          [
           "Lincoln MKX",
           2017
          ],
          [
           "Lincoln MKX",
           2017
          ],
          [
           "Lincoln MKZ",
           2017
          ],
          [
           "Chevrolet Monte Carlo",
           2005
          ],
          [
           "Chevrolet Monte Carlo",
           2006
          ],
          [
           "Toyota MR2 Spyder",
           2005
          ],
          [
           "Toyota MR2 Spyder",
           2005
          ],
          [
           "Toyota MR2",
           1993
          ],
          [
           "Bentley Mulsanne",
           2016
          ],
          [
           "Nissan Murano CrossCabriolet",
           2012
          ],
          [
           "Nissan Murano CrossCabriolet",
           2013
          ],
          [
           "Nissan Murano CrossCabriolet",
           2014
          ],
          [
           "Nissan Murano",
           2015
          ],
          [
           "Nissan Murano",
           2015
          ],
          [
           "Nissan Murano",
           2015
          ],
          [
           "Nissan Murano",
           2015
          ],
          [
           "Nissan Murano",
           2015
          ],
          [
           "Nissan Murano",
           2015
          ],
          [
           "Nissan Murano",
           2015
          ],
          [
           "Nissan Murano",
           2015
          ],
          [
           "Nissan Murano",
           2016
          ],
          [
           "Nissan Murano",
           2016
          ],
          [
           "Nissan Murano",
           2016
          ],
          [
           "Nissan Murano",
           2016
          ],
          [
           "Nissan Murano",
           2016
          ],
          [
           "Nissan Murano",
           2016
          ],
          [
           "Nissan Murano",
           2016
          ],
          [
           "Nissan Murano",
           2016
          ],
          [
           "Kia Optima",
           2015
          ],
          [
           "Volkswagen Passat",
           2015
          ],
          [
           "Volkswagen Passat",
           2017
          ],
          [
           "Nissan Pathfinder",
           2016
          ],
          [
           "Rolls-Royce Phantom",
           2016
          ],
          [
           "Toyota Prius c",
           2015
          ],
          [
           "Toyota Prius c",
           2016
          ],
          [
           "Toyota Prius c",
           2016
          ],
          [
           "Toyota Prius Prime",
           2017
          ],
          [
           "Toyota Prius Prime",
           2017
          ],
          [
           "Toyota Prius Prime",
           2017
          ],
          [
           "Toyota Prius v",
           2015
          ],
          [
           "Toyota Prius",
           2015
          ],
          [
           "Toyota Prius",
           2016
          ],
          [
           "Toyota Prius",
           2016
          ],
          [
           "Toyota Prius",
           2016
          ],
          [
           "Audi Q7",
           2014
          ],
          [
           "Audi Q7",
           2017
          ],
          [
           "Audi Q7",
           2017
          ],
          [
           "Maserati Quattroporte",
           2015
          ],
          [
           "Maserati Quattroporte",
           2015
          ],
          [
           "Maserati Quattroporte",
           2016
          ],
          [
           "Maserati Quattroporte",
           2016
          ],
          [
           "Maserati Quattroporte",
           2016
          ],
          [
           "Maserati Quattroporte",
           2017
          ],
          [
           "Maserati Quattroporte",
           2017
          ],
          [
           "Maserati Quattroporte",
           2017
          ],
          [
           "Maserati Quattroporte",
           2017
          ],
          [
           "Maserati Quattroporte",
           2017
          ],
          [
           "Maserati Quattroporte",
           2017
          ],
          [
           "Maserati Quattroporte",
           2017
          ],
          [
           "Maserati Quattroporte",
           2017
          ],
          [
           "Infiniti QX4",
           2001
          ],
          [
           "Infiniti QX4",
           2001
          ],
          [
           "Infiniti QX4",
           2002
          ],
          [
           "Infiniti QX4",
           2002
          ],
          [
           "Infiniti QX50",
           2016
          ],
          [
           "Volkswagen Rabbit",
           2008
          ]
         ],
         "fillcolor": "rgba(255,255,255,0)",
         "hoveron": "points",
         "hovertemplate": "cluster_pca=3<br>x=%{x}<br>y=%{y}<br>Car=%{customdata[0]}<br>Year=%{customdata[1]}<extra></extra>",
         "legendgroup": "3",
         "line": {
          "color": "rgba(255,255,255,0)"
         },
         "marker": {
          "color": "yellow"
         },
         "name": "3",
         "offsetgroup": "3",
         "orientation": "v",
         "pointpos": 0,
         "showlegend": true,
         "type": "box",
         "x": [
          -0.3361842556270193,
          -0.3361842556270193,
          -0.05306592611511958,
          -0.3361842556270193,
          -0.10852609562828054,
          -0.3402810066201484,
          -0.05716267710824864,
          -0.3402810066201484,
          -0.3402810066201484,
          -0.1126228466214096,
          -0.11671959761453872,
          -0.1721797671276997,
          -0.2334574185869556,
          -0.1721797671276997,
          -0.11671959761453872,
          -1.1849952889138389,
          -0.42878758780704734,
          -0.4328843388001764,
          -1.189092039906968,
          -1.193188790900097,
          -0.43698108979330547,
          -0.3482798193205201,
          -0.3979225068875861,
          -0.45338267640074714,
          -0.23879316730145264,
          -0.23879316730145264,
          -0.3523765703136492,
          -1.0722878035230528,
          -0.8221204382052444,
          -0.8330772260255453,
          -0.8310237221549847,
          -0.8340779182670368,
          -1.3132006210131923,
          -1.0855424610144535,
          -1.3132006210131923,
          -1.3172973720063215,
          -1.3172973720063215,
          -1.3172973720063215,
          -1.3213941229994506,
          -1.2046563020270336,
          0.10529374014099328,
          0.04862440083603013,
          -0.26240707926756446,
          0.049171654405595774,
          0.16058191567514793,
          -0.12357358964954764,
          0.1047308507551543,
          0.6132675123680278,
          0.4444729510734914,
          -1.4873726672298644,
          -1.4360092487098326,
          0.4823269079163085,
          0.549258637870178,
          0.10106669067892003,
          0.04452764984290107,
          0.4961959933678093,
          -0.1273315646234218,
          -0.36574941340827183,
          0.15691775559891363,
          -0.3832416512331104,
          0.09872636304715886,
          0.3148603488179149,
          -1.4955661692161226,
          0.6083158362891015,
          -0.028794661792072865,
          -0.36889759154748714,
          0.09814783784504656,
          -0.17782549801405736,
          0.42361953342753467,
          0.2562994796017105,
          0.07572522220107032,
          0.8001627723124141,
          0.7997248023272383,
          0.07374451834359512,
          0.2560074439017521,
          0.25522027401980585,
          0.8002666768285229,
          0.07167521152723784,
          0.15421261809765094,
          0.13474019749634672,
          0.3858965999179768,
          0.32014172593627477,
          0.3197664663457155,
          -1.8635253809034606,
          -1.746787559931044,
          -0.5337802999610186,
          -0.536766907998743,
          0.9420319674781568,
          0.7948837427949793,
          1.2579563859564415,
          0.903521647086744,
          0.9003943167025598,
          1.8084030115314582,
          1.6862151688388831,
          1.5124630623110649,
          1.807151979100071,
          1.883271638941587,
          1.309513110763042,
          1.604572075203849,
          1.5381885571119709,
          1.576810869306672,
          1.2334529392058773,
          1.5733395509644752,
          1.230054588006289,
          3.182635982691112,
          3.0095082568162472,
          -1.3091038700200632,
          -1.1499103074836592,
          -1.3091038700200632,
          -1.3091038700200632,
          -1.3091038700200632,
          -0.9222521474849203,
          -0.6619537625093712,
          -0.945072092021271,
          -1.1410026305276144,
          -0.6619537625093712,
          -0.945072092021271,
          -1.1410026305276144,
          -0.6660505135025003,
          -1.2560197205470656,
          -1.2560197205470656,
          -1.2560197205470656,
          -0.028138425018773908,
          -0.5965793600569862,
          -0.5965793600569862,
          -0.14788981489519382,
          0.31442207845208253,
          1.2110712701528938,
          2.780511936062622,
          2.782127469948007,
          -0.3192057864588861,
          -0.785299584703979,
          -0.785299584703979,
          -0.3926797383987649,
          -0.785299584703979,
          -0.3192057864588861,
          -0.3967764893918939,
          -0.3967764893918939,
          -0.7893963356971081,
          -0.3967764893918939,
          -0.3233025374520151,
          -0.7893963356971081,
          -0.3233025374520151,
          -0.3967764893918939,
          -0.7893963356971081,
          -0.7893963356971081,
          -0.7934930866902372,
          -0.7934930866902372,
          -0.3273992884451442,
          -0.40087324038502303,
          -0.3269250020181873,
          -0.5927712508485079,
          -0.5927712508485079,
          -0.40087324038502303,
          -0.5426301953777636,
          -1.16655988134647,
          -0.651219108686663,
          -1.0212637216161249,
          -0.451157970982316,
          -0.46804465255748506,
          -0.7381881187013966,
          -0.858163511934813,
          -0.7827531767244871,
          -0.6953612917924706,
          -0.7529408870300529,
          -0.4966345330298525,
          -0.7588824972139087,
          -0.5056366221398744,
          -0.5245038404429954,
          -0.5311230026653609,
          -0.5186925287280838,
          -0.5122557843622401,
          0.700979963256723,
          0.6827802270660827,
          -0.7606989018560999,
          -0.11873465670198526,
          -0.9852026438946186,
          -0.8627460573281538,
          -0.12219555116666662,
          -1.0447595644009087,
          -0.8195000912425137,
          -0.9218651749787915,
          -0.9219746256927046,
          -0.7679959503760221,
          -0.6368740166536908,
          -0.6292210572072967,
          -1.1223005377854227,
          -0.28782758740336645,
          -0.6368740166536908,
          0.054732916067489965,
          -0.7797400343145662,
          -0.7797400343145662,
          -0.5855105981336588,
          -0.29192433839649556,
          -0.7838367853076953,
          -0.7838367853076953,
          -0.585104066910553,
          -0.5855105981336588,
          -0.9280711016045153,
          -0.9280711016045153,
          0.05124596190901971,
          -1.1263972887785518,
          -0.5849112251765156,
          -0.5896073491267879,
          -0.8767076830844835,
          -0.5882105495397061,
          -0.534147179613627,
          0.004114974351007202,
          -0.4015586580794043,
          -0.4015586580794043,
          -0.2334574185869556,
          -0.4056554090725334,
          -0.4056554090725334,
          -0.2930143390932456,
          -0.34847450860640655,
          -0.34847450860640655,
          2.020776705427725,
          2.0225433855370847,
          2.028771485223095,
          -1.1433786505677777,
          -1.1433786505677777,
          -0.7810676035219513,
          -1.1433786505677777,
          -1.1433786505677777,
          -0.7810676035219513,
          -1.0920152320477456,
          -1.0920152320477456,
          -0.7851643545150804,
          -0.7851643545150804,
          -0.7892611055082095,
          -0.9001814445345313,
          -0.7892611055082095,
          -1.0961119830408748,
          -0.2287410798946678,
          -0.22657291337143623,
          -0.22808975467947007,
          -0.23085729415984502,
          -0.11943306793842341,
          -0.11943306793842341,
          -0.24026763990396932,
          -0.24026763990396932,
          -0.24436439089709838,
          -0.24436439089709838,
          -0.11639803224994248,
          -0.12063012652125028,
          -0.122892275071645,
          -0.11931167314505821,
          -0.1242162746456414,
          -0.1197704908852651,
          1.0650849666798266,
          1.0622078093560152,
          1.50781418102191,
          0.48514514729592345,
          0.48480020104548505,
          0.47523091435669945,
          0.48104839630279433,
          0.4785152269369958,
          0.4726977449909008,
          1.182214370149197,
          1.2584763455370365,
          0.3131217312332144,
          0.31833366999098267,
          0.302697853717678,
          0.302697853717678,
          0.3131217312332144,
          -0.9929692951999447,
          -0.4528166259236754,
          -0.39214451765274627,
          -0.9971388462061593,
          -0.38536899726764756,
          -0.9994114186340696,
          -0.5718270193240025,
          -0.3944170900806564,
          -0.38451440644089674,
          -0.9952418676278549,
          -0.5746207856276895,
          -1.1194641997859502,
          -0.39721085638434345,
          -0.38730817274458385,
          -0.9985568278073189,
          -0.7518198021603666,
          -0.27155834933664286,
          -0.2960645314241827,
          1.816251701830593,
          0.08753206775479422,
          0.985651483874164,
          0.9831964935897318,
          0.309510050583592,
          0.309510050583592,
          0.3724097166437666,
          0.3683129656506375,
          0.9515060788868566,
          0.9499161033066906,
          0.10419831625379443,
          0.10117522464476557,
          0.0986420552789669,
          -0.9138256112567419,
          -0.30107458975784995,
          -0.9157072882778196,
          -0.12792234350081058,
          -0.12720309595223858,
          -1.5928610956025882,
          -0.8812125681996046,
          -0.766643872042845,
          -1.3080948351508084,
          -1.300751380570636,
          -0.94755734955336,
          -0.9377849643825447,
          -1.000848394250864,
          -1.3109928402296507,
          -0.9910760090800486,
          -1.314568397347003,
          -1.0044239513682163,
          -0.9511329066707123,
          -1.8878429479112764,
          -1.531876225998201,
          -1.9473998684175664,
          -1.1081749926111004,
          -1.1113335946278313,
          -1.11440359368568,
          0.18384191657249715,
          0.1734180390569607,
          0.16958188500172008,
          0.1800057625172565,
          0.388151075181405,
          0.32148523733904244,
          0.17757683192661325,
          0.1663711635974116,
          0.37694540685220335,
          0.5692955870062819,
          0.5276000769441361,
          0.5248063106404491,
          -0.7473108961020695,
          -1.9492525763299366,
          -1.771237103898264,
          -1.7628235406667003,
          -1.940839013098373,
          0.15356112575292988,
          0.034759209902913604,
          0.032226040537115,
          0.9576834402590301,
          0.9628171999354317,
          -0.3907035613441855,
          -0.37414592012128867,
          -0.10847588243822127,
          -0.05129498197209452,
          -0.21326421734757883,
          0.45741114385598214,
          0.5064033681790034,
          0.4837314345827117,
          1.065809547133827,
          0.483679315195134,
          0.5044435120765594,
          0.48171945909269,
          -0.6170142342299745,
          -0.43595594785619074,
          0.24048974345131216,
          0.4283235502101948,
          0.21484700476309254,
          0.16164785837837745,
          0.41646638953627213,
          0.4252745660369004,
          0.21484700476309254,
          0.41646638953627213,
          0.40919573496918543,
          0.42063594054248665,
          0.2937608986862105,
          0.40919573496918543,
          0.2288931797152779,
          0.4197499109536661,
          0.403202005397752,
          0.23363604398484697,
          0.2288931797152779,
          0.20885327519165908,
          0.40468202887543486,
          0.40663650590959793,
          0.40012158246238766,
          0.40468202887543486,
          -0.6496022634521267,
          -0.6496022634521267,
          -0.6496022634521267,
          -1.4339144878038932,
          -0.2985255552264845,
          -0.22306538441435103,
          -1.2658132483114444,
          -1.2658132483114444,
          -1.3924653022230853,
          -1.3924653022230853,
          -0.1717019658943191,
          -0.3026223062196135,
          1.5220445956028816,
          1.5334429385365975,
          1.6131382890143342,
          1.6274085773331035,
          0.9927241757465678,
          1.164733623439669,
          1.1543097459241327,
          1.4575366898021078,
          1.455185938292831,
          1.4656098158083675,
          1.000493979708546,
          1.1043757376233343,
          1.312686338764291,
          1.192006502233216,
          1.2663303008390023,
          1.2538477075141474,
          1.1354611240364902,
          -0.8472116042223417,
          -0.8446838139248241,
          -0.9597798741885439,
          -0.9707770649674349,
          -0.6957371990231896,
          -0.4033194110615286,
          -0.6787723383666541,
          -0.6828690893597832,
          -0.4074161620546577,
          -0.6630169817609672,
          -0.415594799266669,
          -0.4001674605436751,
          0.19856743830156245,
          -0.04721648631910398,
          -0.2789713973109718,
          -1.702583479805934,
          -1.873060739338546,
          -1.7066802307990632,
          -1.8158798388724195,
          -1.8158798388724195,
          -0.2577501695380013,
          -0.8862574369666072,
          -0.5418614559954515,
          -1.1026961229194086,
          -1.2288179404374635,
          -0.8844219594663081,
          -0.8844219594663081,
          -1.2288179404374635,
          -0.9497963619186927,
          -0.7181561974741583,
          -1.1622530434256986,
          -0.8348940184465752,
          -1.1774545219174315,
          -0.837155291939405,
          -1.0648134519381436,
          2.0787220512644065,
          2.07550611792134,
          -2.54899717083414,
          -2.54899717083414,
          -2.4976337523141083,
          -2.4976337523141083,
          -0.10148470351818,
          1.259954050213574,
          1.272321980885758,
          1.2776329464799236,
          -0.09540237098786448,
          1.3080743050693404,
          0.0028164477727542904,
          1.3454960253501163,
          -0.03168658680367133,
          1.3242834346059997,
          1.3459857804638231,
          1.314192954041437,
          1.3247731897197066,
          -0.08501524049442831,
          0.7274892233637733,
          0.7233924723706444,
          0.6646590381880817,
          0.16471738209652237,
          0.5145485401344655,
          0.1991161778977926,
          0.17931081061827336,
          0.44896566013176986,
          0.11682903417644981,
          0.10119321790314516,
          0.10491437504666842,
          0.4474748785175248,
          0.5774427165081505,
          0.4587044693451763,
          -1.5068130881071522,
          -1.505781124233114,
          -1.2902251115429348,
          -1.4111324835215666,
          -1.2761528768969608,
          -1.3970602488755923,
          -1.0170210149702592,
          -1.4152292345146957,
          0.40101244492930194,
          0.6477154761712317,
          0.626574530489853,
          0.27489313419290234,
          0.2916039319301781,
          0.6646489845510111,
          0.30398889483898817,
          0.1502370134562341,
          -0.03750316118652579,
          -0.1923234900146223,
          -0.18262757471159738,
          0.3113844688067379,
          -0.18802901960774454,
          0.1594117348834822,
          0.3088827382030092,
          0.15401028998733501,
          0.034023956264275346,
          -0.8944012784866832,
          -0.906909931505327,
          -0.9050857529401081,
          -0.9037099682375803,
          -0.8969344478524817,
          -0.9094431008711253,
          0.1364619325074989,
          0.13236518151436985,
          -0.1530770082476576,
          -0.031993388643687656,
          1.7271623056042595,
          0.31653123213462087,
          0.3672955156352833,
          0.3001888224848453,
          0.32611821780474215,
          0.3135835050923096,
          0.2905260551574663,
          -0.3879879170942028,
          -0.39304966792042134,
          -0.17790092857663975,
          -0.17840127469738548,
          0.025348809222273616,
          0.01453403629990456,
          0.11970057853422951,
          0.1174280061063193,
          0.12114916324984257,
          -1.5814908489350405,
          -1.5805891835299466,
          -1.2384873306697737,
          -1.4006866787836112,
          -1.0582616857204568,
          -1.2390762797494015,
          -1.1859877095005482,
          -1.5291632217448214,
          -1.403527352536118,
          -1.0608104909025287,
          -1.52806871460569,
          -0.9392394128438749,
          -1.18621703480589,
          -1.308711929784322,
          -1.096686517954471,
          -1.1052862169047886,
          -1.0398390144393181,
          -1.4363804551085548,
          -1.0312393154890005,
          -1.37822996690396,
          -1.3709332526430844,
          -0.8544621841395403,
          -1.4436771693694304,
          -0.967715007940796,
          0.11662399878982438,
          -2.3715055341900904,
          -2.3429323306579155,
          -2.2915689121378833,
          -2.6341294156087396,
          -2.2226383012322337,
          -2.3470290816510446,
          -2.3511258326441737,
          -2.226735052225363,
          -1.351332426290194,
          -0.8868755074202666,
          -0.027459797337648098,
          0.3167581026581786,
          -0.10285898509042314,
          0.31329720819349716,
          0.31204113095287506,
          -0.10396391610707,
          -0.09819334160979497,
          -0.03155654833077719,
          0.040423675102516196,
          0.0367803627813129,
          0.17128469917351405,
          0.7299863954801342,
          0.7889862625727221,
          0.7873860302445641,
          0.9937700488777612,
          0.05696465471540632,
          0.9760494571013493,
          0.03731564559862015,
          0.9850024424652464,
          0.03462611807008849,
          0.05401453024898627,
          0.057298051666380245,
          0.9672818506888343,
          -0.11431705747634731,
          -0.1312819181328829,
          -0.09737825651360059,
          -0.11118989422168638,
          -0.09998422589248471,
          -0.1234379503024417,
          -0.10311138914714564,
          0.6973310423734431,
          0.6964396337163414,
          1.4894369194996195,
          0.04784748330945553,
          0.04375073231632652,
          0.04375073231632652,
          0.039653981323197404,
          0.039653981323197404,
          -0.5709819678741024,
          -0.5579669857539287,
          -0.5751663836545637,
          0.06713547292058909,
          -0.5782935469092247,
          -0.38926075733638177,
          -0.393326069567441,
          0.23755602516024465,
          -0.37185288188543586,
          1.4426264289795296,
          1.6333528617489737,
          1.0367488329123622,
          1.0340228218125262,
          1.0919750892148024,
          1.1330441244639973,
          1.0090235873181959,
          1.0090235873181959,
          1.0049268363250667,
          -0.29531423844577975,
          -0.2852551966432871,
          -0.2893519476364162,
          -0.29941098943890887,
          -0.46496417226011405,
          -0.4688003263153546,
          -0.4646307753091401,
          -1.2136591558844323,
          -1.2162651252633163,
          0.9501069835932241,
          0.9553189223509924,
          -0.2512163228575859,
          -0.2514456481629277,
          -0.10602230007320218,
          -0.10985845412844282,
          -0.1067312908737819,
          1.6351391429153637,
          0.268123505176037,
          -0.18250359677487515,
          -0.17724491769781028,
          -1.2227252254499146,
          -1.2757672225089944,
          -1.2255189917536018,
          -1.2785609888126814,
          1.1070009188762917,
          1.1052080119436196,
          1.1034462095139705,
          1.1055570447108667,
          1.3376228453343764,
          1.340796916037857,
          -0.9208747757266393,
          -0.9344008952863396,
          -0.9576040926844375,
          -0.7594510703870468,
          -0.761874621909409,
          -0.761874621909409,
          -0.7594510703870468,
          -0.7721682009560012,
          -0.7223108656074412,
          -0.7221598865129891,
          -0.771886923392605,
          -0.771886923392605,
          -0.7241718620030109,
          -0.7241718620030109,
          -0.7707717356279659,
          -0.7707717356279659,
          -0.7738988988826268,
          -0.7707717356279659,
          0.1724688015319298,
          0.047079162221617746,
          0.03498746430359549,
          0.16037710361390756,
          1.0830613923289911,
          0.9279497160114691,
          1.078964641335862,
          0.92385296501834,
          -1.105268669559722,
          -1.799779397096081,
          -1.80387614808921,
          -1.0480877690935952,
          -1.0521845200867241,
          -1.7525127295691783,
          -1.8622290952730516,
          -0.036169988430635625,
          0.3536207841089108,
          0.42558291002159154,
          0.39652635144703374,
          0.3684997132738915,
          0.2878545681990195,
          0.4152508039310724,
          0.11761780905003212,
          0.061709245674179805,
          -0.002075515457085842,
          -1.6961710148201756,
          -0.6056943641130632,
          -0.6041203586082173,
          -0.6611963962658095,
          -0.6634688015641965,
          -0.5492910263272914,
          -0.562320873221712,
          -0.46078054458593765,
          -1.4682555164480597,
          -1.4682555164480597,
          -0.1161624099985608,
          -0.12025916099168986,
          -1.4723522674411889,
          -1.4723522674411889,
          -1.4764490184343178,
          -0.12435591198481898,
          0.8246077261357234,
          0.7592333236833384,
          0.7080604800738205,
          0.7081124323318748,
          0.8276637164280389,
          0.6073074769928082,
          0.6700643607668446,
          0.7272452612329713,
          0.6032107259996791,
          0.5467809687480498,
          0.6095378525220864,
          0.3902968515567734,
          0.42918566959470206,
          -1.001399324272498,
          -1.001399324272498,
          -0.9957964901078972,
          -0.9957964901078972,
          -0.6698881309681102,
          -0.6642852968035093,
          -0.6642852968035093,
          -0.6698881309681102,
          -0.7615805132084295,
          -0.8284609988322861,
          -0.8284609988322861,
          -0.7615805132084295,
          -0.8230919107488827,
          -0.8230919107488827,
          -0.7006209571429207,
          -0.7006209571429207,
          0.5679655839132756,
          0.2471388650623125,
          0.5694509864592395,
          0.2858449220055862,
          0.608834595441023,
          0.6072710138136926,
          0.6188408296454051,
          0.6204044112727356,
          0.010674219378598845,
          0.026986899479880463,
          0.00045861098270928653,
          -0.10921303032571623,
          0.08122674581205037,
          -0.08585234977137277,
          -1.425545486438071,
          -1.4315392160095044,
          -1.3655708196682572,
          -1.3705221614881369,
          -1.366106878318281,
          -1.4377877266675656,
          -1.4351817572886814,
          -1.3707769425747647,
          -1.2605540915631601,
          -1.2661569257277612,
          -1.1887682132758182,
          -1.194371047440419,
          -0.7909548453615391,
          -1.324410861544609,
          -1.1915619795795052,
          -1.197164813744106,
          -1.3188080273800082,
          -0.6911309041413718,
          -1.3486564466942605,
          -1.3426627171228271,
          -0.7310525418218309,
          -1.2214103988937575,
          -1.215416669322324,
          0.17275213436573258,
          0.24315067865108286,
          0.23905392765795375,
          0.16865538337260352,
          0.24131574194930197,
          0.17065660072606326,
          0.041779994195938086,
          0.22127469894239135,
          0.09705236678429613,
          0.22108690201758852,
          0.06618053113042198,
          0.19021506636371435,
          0.32193831488985625,
          -0.6356985405509668,
          -0.7753527479042575,
          0.33525481841595406,
          -1.0376556231183072,
          -0.6147048512346763,
          -0.8767054340007755,
          0.4803711375873857,
          -0.6265098925210214,
          -0.7871577891906024,
          0.495902715085535,
          0.48258621155943726,
          -1.0165422263401112,
          -0.8654582372910348,
          -0.8556858521202193,
          -0.6285166560722852,
          -1.0384844885103153,
          -0.6355527733952723,
          -1.0263146115109265,
          -0.8695496092158828,
          -0.8765857265388699,
          -1.0304059834357746,
          -0.24600947617503946,
          -0.24648392973151964,
          -0.7917723557372713,
          -0.46666719567388043,
          0.3323163072284,
          0.33058577643129766,
          0.32836011145220734,
          1.068559765801298,
          1.1288104981957503,
          1.1266578003592687,
          -0.018692969356599087,
          -0.01760384128574878,
          -1.541873077720806,
          -1.8844335811916626,
          -1.566924566201493,
          0.43951601288714026,
          1.4614334408210299,
          0.7260221025915894,
          0.41621864663991626,
          0.21971311965392293,
          0.41765192979830257,
          0.625705509795051,
          0.43523967396349555,
          0.604049904256524,
          0.6233861970478441,
          0.4108738602709291,
          0.6027729792608708,
          0.4866728012239732,
          0.37075379362639393,
          0.37122808005335084,
          0.4154278309316628,
          0.4119460887119504,
          -0.5505434456804243,
          -0.41916283766919793,
          -0.6331636525221306,
          -0.4148162478747425,
          -0.3959750892654104,
          -0.6021786766071986,
          -0.6277746749761216,
          -0.4072382560504708,
          -0.6010113694549818,
          -0.6176113943984736,
          -0.41187688154488455,
          0.47539107327723407,
          -1.0322378696067112,
          -0.630280787039371,
          -0.6302079870262852,
          -0.6226506758275213,
          -1.0242794062531222,
          0.2675785844335472,
          0.26681242943615535,
          0.7847736786437868,
          -0.33967853745546817,
          0.015188311714904604,
          -0.21232825087980964,
          -0.3422898859026332,
          -0.33395078389020405,
          -0.04288320624542147,
          -1.1347351017270735,
          -0.3358585206050705,
          -1.2525988686006913,
          -1.5999601885507373,
          -1.81236634646068,
          -1.4698058429898235,
          -1.2573996850798808,
          -1.4698058429898235,
          -1.81236634646068,
          -1.3840517389915217,
          -1.8164630974538092,
          -1.7266122424623782,
          -1.4739025939829526,
          -1.5585110029699294,
          -1.215950499499073,
          -1.5334595144892424,
          -1.876020017960099,
          0.8578928474889947,
          0.4326194903528148,
          0.9345976705417213,
          0.4407343118691366,
          0.4128436518816111,
          0.9475856547965563,
          0.42461031583764314,
          0.42461031583764314,
          0.4258090617519298,
          0.42461031583764314,
          0.47843376945134164,
          0.4774487130261234,
          0.4757807254941144,
          0.4745454960085233,
          -1.8168013638138856,
          -1.8115894250561173,
          1.175562088636505,
          0.1348816714823106,
          0.06950726902992564,
          0.165530351915601,
          0.15104116216900534,
          0.14405716423359596,
          -0.914549846389929,
          0.046165070652385606,
          0.11786659962717792,
          -1.09777725757937,
          0.06180088692569023,
          0.051377009410153815,
          0.05971611142258297,
          0.12158775677070115,
          0.04623787066547104,
          -0.9762758917118761,
          0.05822532980833796,
          0.06395846244188301,
          -1.0374691938585823,
          -0.07640178156559053,
          -0.9773757779192885,
          0.05191350484315739,
          0.05894962216614448,
          0.046180372209612366,
          -1.0385690800659946,
          0.05973141297980973,
          0.012669858865717129,
          0.10255035884185025,
          -1.0698099766205238,
          0.08977491825352696,
          1.1913806000583884,
          -1.1681066599821464,
          -0.625175975050388,
          -0.625175975050388,
          -0.6292727260435171,
          -0.6292727260435171,
          -0.633369477036646,
          -0.633369477036646,
          -0.8338845969839886,
          -0.2325140045388616,
          -0.2328058731092966,
          -0.2912839222927286,
          -0.2881320941665578,
          0.23567395164108268,
          0.3169332180051963,
          0.25313394647960624,
          0.31067889149587447,
          0.24271006896406977,
          0.29113412115424364,
          0.3283994832722864,
          0.3036427741728873,
          0.30650934048965983,
          0.23437096695164064,
          0.2981702384772307,
          0.2994732231666728,
          0.23984350264729726,
          0.3122424731232049,
          0.24844320159761482,
          0.30379992349852275,
          0.3040605204364112,
          0.2466918230454814,
          0.31187842857306347,
          0.18659286090838348,
          1.3883220984069342
         ],
         "x0": " ",
         "xaxis": "x",
         "y": [
          -2.644181026993799,
          -2.644181026993799,
          -2.8552143857030274,
          -2.644181026993799,
          -2.8128368953878966,
          -2.5315440748376172,
          -2.742577433546846,
          -2.5315440748376172,
          -2.5315440748376172,
          -2.700199943231715,
          -2.5875629910755342,
          -2.5451855007604034,
          -2.503662103311698,
          -2.5451855007604034,
          -2.5875629910755342,
          -3.222792483807084,
          -3.154386157931947,
          -3.041749205775766,
          -3.1101555316509026,
          -2.9975185794947214,
          -2.929112253619585,
          -3.1455290213530795,
          -3.1022974381715236,
          -3.0599199478563928,
          -2.7953350506919388,
          -2.7953350506919388,
          -3.032892069196899,
          -2.318328514326113,
          -2.620104459491734,
          -2.3927892884463957,
          -2.3908425790911667,
          -2.3937379386905677,
          -3.1849385131077357,
          -3.353594381501834,
          -3.1849385131077357,
          -3.0723015609515545,
          -3.0723015609515545,
          -3.0723015609515545,
          -2.9596646087953733,
          -3.04356549655921,
          -3.4377654504699025,
          -3.39653424586648,
          -3.2815186288773397,
          -3.3960154527641984,
          -3.4803059900457507,
          -3.2702558677875126,
          -3.4382990662322497,
          -3.5506440895040416,
          -3.5040874467383154,
          -2.8334109625038746,
          -2.763151500662824,
          -3.3090012854299684,
          -3.3951892275867945,
          -3.3252520204809315,
          -3.283897293710299,
          -3.4334870637157655,
          -3.157297757996586,
          -3.15243780295839,
          -3.3672589442944325,
          -3.084980788957322,
          -3.2109499895107603,
          -3.1946896342304716,
          -2.608137058191512,
          -3.3222969536714957,
          -2.891405865397752,
          -3.0389016094249204,
          -3.211498427933172,
          -2.912630955901646,
          -3.1531814784284475,
          -2.7205334964925965,
          -2.9244612752240293,
          -2.5108432466857087,
          -2.394737792074272,
          -2.809818323072358,
          -2.604289697053884,
          -2.4885152818505705,
          -2.2777034507654164,
          -2.6952593659943904,
          -1.5487204898645783,
          -1.3611631057923188,
          -2.883079575696402,
          -2.7292799108197685,
          -2.7296356546613327,
          -2.8528852391307855,
          -2.936786126894622,
          -3.3349243418162935,
          -3.221234980795484,
          -2.9557322222693836,
          -2.696825862405368,
          -3.031445496479055,
          -3.5366327282595824,
          -3.42307677117936,
          -3.4230284344515547,
          -3.1824097549833152,
          -3.0529438244596636,
          -3.3076937581635084,
          -3.305940078064114,
          -2.8316577800163283,
          -3.0860569107652966,
          -3.004010112184016,
          -3.861988363902439,
          -3.5584229645284813,
          -3.7487585053436505,
          -3.445123933556055,
          -2.892385469973512,
          -2.7312332241394492,
          -3.2975754652639164,
          -3.189224929316403,
          -3.2975754652639164,
          -3.2975754652639164,
          -3.2975754652639164,
          -3.357880797710501,
          -3.3888957441143766,
          -3.1778623854051475,
          -3.311216891186703,
          -3.3888957441143766,
          -3.1778623854051475,
          -3.311216891186703,
          -3.2762587919581954,
          -3.11382495840026,
          -3.11382495840026,
          -3.11382495840026,
          -3.6024478358847833,
          -3.5430560937192626,
          -3.5430560937192626,
          -3.7751437581248695,
          -3.9067691909220663,
          -2.2537883994026164,
          -2.240021625040026,
          -2.1219694610733604,
          -2.514878359700902,
          -2.5886317402942676,
          -2.5886317402942676,
          -2.564886299368985,
          -2.5886317402942676,
          -2.514878359700902,
          -2.452249347212804,
          -2.452249347212804,
          -2.475994788138087,
          -2.452249347212804,
          -2.4022414075447203,
          -2.475994788138087,
          -2.4022414075447203,
          -2.452249347212804,
          -2.475994788138087,
          -2.475994788138087,
          -2.3633578359819056,
          -2.3633578359819056,
          -2.289604455388539,
          -2.3396123950566228,
          -2.289154834699895,
          -2.3869920014622874,
          -2.3869920014622874,
          -2.3396123950566228,
          -1.418238925891836,
          -1.3583517438542247,
          -1.2133664293604711,
          -1.3073899284982877,
          -0.657878400247509,
          -0.6738868731179184,
          -0.8341303376833518,
          -0.7486378038751834,
          -0.7565829435561928,
          -0.8140530912187144,
          -0.7283210716985565,
          -0.9151823560537362,
          -0.7339536825233302,
          -0.6682421528422453,
          -0.6861281626542459,
          -0.6924030887485113,
          -0.6806190739966822,
          -0.6745170789365107,
          -1.1770238480154325,
          -1.0722995173185352,
          -2.476902168150056,
          -2.569482651152935,
          -2.6297042060247553,
          -2.546357639911283,
          -2.45624291082077,
          -2.4746897635534433,
          -2.3211712971089264,
          -2.390928162958146,
          -2.3910319215786022,
          -2.2507784313272894,
          -2.8499747876901713,
          -2.7973560959443975,
          -2.642891093118606,
          -2.6814654988373237,
          -2.8499747876901713,
          -2.9857868538746066,
          -2.947212448155889,
          -2.947212448155889,
          -2.779715325849121,
          -2.5688285466811425,
          -2.8345754959997076,
          -2.8345754959997076,
          -2.779329936687426,
          -2.779715325849121,
          -2.475393970811838,
          -2.475393970811838,
          -2.872571817975883,
          -2.5302541409624246,
          -2.779147123879955,
          -2.6670783736929398,
          -2.4051345089707876,
          -2.6657542160604493,
          -2.7094558640080706,
          -2.7841008309955515,
          -2.4900206773889115,
          -2.4900206773889115,
          -2.503662103311698,
          -2.377383725232731,
          -2.377383725232731,
          -2.348647660840386,
          -2.3062701705252553,
          -2.3062701705252553,
          -3.0293427519974805,
          -2.9111473023168517,
          -2.7887224536309536,
          -3.0850888940079155,
          -3.0850888940079155,
          -3.0788668591717525,
          -3.0850888940079155,
          -3.0850888940079155,
          -3.0788668591717525,
          -3.0148294321668656,
          -3.0148294321668656,
          -2.9662299070155718,
          -2.9662299070155718,
          -2.8535929548593906,
          -2.768837974229129,
          -2.8535929548593906,
          -2.902192480010684,
          -3.4520883382684255,
          -3.450032929406052,
          -3.334950238339114,
          -3.3375738491706533,
          -2.766959015636739,
          -2.766959015636739,
          -2.5704211757167217,
          -2.5704211757167217,
          -2.457784223560541,
          -2.457784223560541,
          -3.0265846342375267,
          -3.030596634228506,
          -2.916220489958009,
          -2.9128261008030796,
          -2.8009549860836,
          -2.7967404097383963,
          -3.441640548219605,
          -3.327847428578339,
          -2.9921904112288398,
          -1.252669494847586,
          -1.2483356566911934,
          -1.1408866355578302,
          -1.140032542691405,
          -1.0259133245287049,
          -1.02676741739513,
          -1.3620711278073296,
          -1.389389476026891,
          -1.1572616660939157,
          -1.1523207794055177,
          -1.1671434394707116,
          -1.1671434394707116,
          -1.1572616660939157,
          -1.555675338112399,
          -1.676429088207623,
          -1.713865691834356,
          -1.5596280474631175,
          -1.7074425391394386,
          -1.4452617849659972,
          -1.4781619379466662,
          -1.5994994293372355,
          -1.5901117446292796,
          -1.4413090756152789,
          -1.3642897641183855,
          -1.24798281204272,
          -1.485627255508955,
          -1.4762395708009988,
          -1.3279309904558383,
          -2.911899765951933,
          -2.7525279172338433,
          -2.6537820594299077,
          -1.9629126124128382,
          -1.5238509373923543,
          -1.4019389995376574,
          -1.287745668074631,
          -3.2903708994864793,
          -3.2903708994864793,
          -3.052009890901696,
          -2.9393729387455148,
          -2.0901663770431234,
          -1.8586323692965607,
          -2.5795918545362397,
          -2.465937079722249,
          -2.3518178615595486,
          -1.3228718937812387,
          -1.070642272074511,
          -1.2081350647824884,
          -1.9874155318713824,
          -1.9867336895083836,
          -1.2527078208967668,
          -1.4996094875321977,
          -1.5809058474805806,
          -1.466839796090289,
          -1.3433575976530745,
          -1.3417082061735257,
          -1.3324440436327796,
          -1.3019352436738483,
          -1.3530664399957766,
          -1.2926710811331021,
          -1.2399353991707556,
          -1.1888042028488275,
          -1.228577165348505,
          -2.861855141888172,
          -2.914091860781185,
          -2.7068406994168606,
          -2.48756949002649,
          -2.3740431782663975,
          -2.2604328714326023,
          -1.9897694477791048,
          -1.9996512211559008,
          -1.8867672246653,
          -1.876885451288504,
          -1.696196161523714,
          -1.6644415775886385,
          -1.7626674153920354,
          -1.773290321772091,
          -1.7068190679037696,
          -1.0929979175865616,
          -1.1325250110937453,
          -1.0186528372654646,
          -0.6912437458761932,
          -2.650782831795926,
          -2.776207117008468,
          -2.988338385522386,
          -2.862914100309844,
          -1.549338100700628,
          -1.350873314972135,
          -1.2367540968094348,
          -1.5914613943739269,
          -1.5865946209858548,
          -1.4051019994401763,
          -1.2783417312573955,
          -3.3595389580192028,
          -3.2884254033117277,
          -3.6209834085199835,
          -1.5806433480602102,
          -1.5341990131892693,
          -1.5556918702838005,
          -1.2243479590921205,
          -1.5557412791506844,
          -1.419536297490845,
          -1.44107856345226,
          -0.6950137089005306,
          -0.8128925796092216,
          -0.9468987090933075,
          -1.0583544271070808,
          -0.9712078716002254,
          -0.9220260997845029,
          -1.0695949443231862,
          -1.0612448458197936,
          -0.9712078716002254,
          -1.0695949443231862,
          -1.0764874812535015,
          -1.065642234972468,
          -0.9913513718175655,
          -1.0764874812535015,
          -0.9578921819749929,
          -1.0664821857094955,
          -1.082169500945159,
          -0.9533959750885508,
          -0.9578921819749929,
          -0.9768898912918831,
          -0.9642458000323921,
          -0.962392967524243,
          -0.9685690758847404,
          -0.9642458000323921,
          -3.3518346415996922,
          -3.3518346415996922,
          -3.3518346415996922,
          -3.075089398311011,
          -3.0806893282198833,
          -3.1520094285704956,
          -3.088730824233797,
          -3.088730824233797,
          -2.8930470771802046,
          -2.8930470771802046,
          -3.0817499667294452,
          -2.968052376063702,
          -3.5417041852452638,
          -3.414377976964475,
          -3.200739365992032,
          -3.1872112182391983,
          -2.626901136113487,
          -2.347316563643028,
          -2.3571983370198235,
          -2.157870916789814,
          -2.0435787675930195,
          -2.0336969942162235,
          -1.9616592120529344,
          -1.8904645481773914,
          -1.5764666999222403,
          -1.6635858415944897,
          -1.4042770547913899,
          -1.4161104784101028,
          -1.501055629939457,
          -0.8642551595263951,
          -0.8618588294825221,
          -0.7764015624118402,
          -0.7868268333243599,
          -0.9619383434282317,
          -0.9109458348101095,
          -0.9458557572574964,
          -0.8332188051013152,
          -0.7983088826539285,
          -0.6978784786119456,
          -0.6884501493681965,
          -0.6738251247705386,
          -1.166290923582601,
          -1.806420501285421,
          -1.5251276807351417,
          -2.957934422104046,
          -2.7181649990024717,
          -2.8452974699478646,
          -2.6470514442949966,
          -2.6470514442949966,
          -0.7969575320943719,
          -3.27282333297992,
          -3.5253800891378546,
          -3.253675572102837,
          -2.968501977942637,
          -3.2210587341005716,
          -3.2210587341005716,
          -2.968501977942637,
          -3.066898384495685,
          -3.2864647589027065,
          -3.0986611296315254,
          -3.20256387113887,
          -2.898242516101587,
          -3.03816232010334,
          -2.869506451709242,
          -1.722632052154773,
          -1.6091600901482528,
          -1.8940262259025602,
          -1.8940262259025602,
          -1.8237667640615098,
          -1.8237667640615098,
          -2.2535364734197065,
          -2.17483920497,
          -2.1631144808584315,
          -2.1580797173229542,
          -2.247770458654346,
          -1.9185435247580802,
          -2.0381389599182245,
          -1.883067958335383,
          -2.070847629795419,
          -1.9031773671571626,
          -1.7660830258934122,
          -1.7962224346926396,
          -1.7861924347151918,
          -1.9099288277314717,
          -2.4640593360927356,
          -2.3514223839365544,
          -2.1956272813684765,
          -2.0399547315723687,
          -2.3373835496793363,
          -2.007344879428942,
          -2.026120248844854,
          -2.1834208355419853,
          -1.8692177071279066,
          -1.8840403671931005,
          -1.7639920850043225,
          -2.0683134400416057,
          -1.0927401412439486,
          -1.015396490646284,
          -1.983273631980319,
          -1.982295336416016,
          -1.8559965234745657,
          -1.7760483450614475,
          -1.8426561294158912,
          -1.762707951002773,
          -1.955247022894039,
          -1.6634113929052665,
          -1.2089721592620053,
          -1.3342897088736185,
          -1.4296396708698713,
          -1.1339648675372849,
          -1.0428146592261702,
          -1.3711819888425418,
          -1.1836435592307175,
          -1.2933837228016316,
          -0.8783093224223134,
          -0.9890623677643489,
          -0.8655328202437998,
          -1.0601119519266191,
          -0.868470588039847,
          -1.1703482639499223,
          -1.0624835775370502,
          -1.1732860317459697,
          -0.9098209815900677,
          -0.8641806065646832,
          -0.8760387346168382,
          -0.874309424275899,
          -0.7564845410969002,
          -0.7500613884019829,
          -0.7619195164541379,
          -1.488214008982731,
          -1.3755770568265497,
          -0.8782821887096004,
          -0.953402440297486,
          -1.5998185011637043,
          -1.2754288329073786,
          -1.2273045965623826,
          -1.1711265373625448,
          -1.146545626087765,
          -1.158428458573362,
          -1.2968074303760966,
          -2.1902709904990627,
          -2.1904086547956703,
          -2.0145846183771483,
          -2.0150589434992345,
          -1.800337836662805,
          -1.8105901765412307,
          -1.6249310516667799,
          -1.5105647891696592,
          -1.3905165069808811,
          -2.0631756146850346,
          -2.0623208412879417,
          -2.3670769943538037,
          -2.0194692876613205,
          -2.323919105752502,
          -2.3676353145495925,
          -2.2957404192146824,
          -1.9920020888066303,
          -1.9056415818132353,
          -2.209814710249866,
          -1.9909645026020668,
          -2.1218506769539007,
          -2.295957818228972,
          -1.699236482084638,
          -2.09456277760241,
          -2.1027152406382665,
          -2.140285928736254,
          -1.7875239348865082,
          -2.1321334657003974,
          -1.8320118643482526,
          -1.8250946229844955,
          -1.9249617249871578,
          -1.7944411762502652,
          -2.00504010312844,
          -1.4376464704163041,
          -2.9139575689573514,
          -2.894510036864208,
          -2.8242505750231572,
          -2.5199292199858743,
          -2.813155280726089,
          -2.7818730847080264,
          -2.6692361325518457,
          -2.7005183285699084,
          -3.281564446262602,
          -3.372280300676096,
          -2.766591442896884,
          -3.069341595967256,
          -2.779099782896095,
          -2.95610185563509,
          -2.957292609326994,
          -2.7801472508740352,
          -2.779337625987806,
          -2.6539544907407024,
          -2.009427822431856,
          -1.896361013133784,
          -1.6523310612730364,
          -2.0248105779866576,
          -1.9519726538249313,
          -1.8369690169450075,
          -1.3296671346764566,
          -1.4478370512689864,
          -1.3464661494170096,
          -1.4664641940842469,
          -1.2167972803152534,
          -1.352493202522198,
          -1.3341131040413579,
          -1.331000345427667,
          -1.2335962950558066,
          -0.8165221805567857,
          -0.832604766727521,
          -0.8004642988194923,
          -0.8135576485437469,
          -0.8029347421636913,
          -0.8251687322614821,
          -0.80589927417673,
          -3.132985118351887,
          -3.0173095208823417,
          -1.591930346264867,
          -3.7138163967597753,
          -3.6011794446035945,
          -3.6011794446035945,
          -3.4885424924474133,
          -3.4885424924474133,
          -0.9915800845587773,
          -0.8638126968111522,
          -0.8801176228828654,
          -1.092053889256664,
          -0.8830821548959042,
          -0.8040502001546675,
          -0.8079040917716179,
          -1.1034966206031132,
          -0.7875476386154184,
          -1.3669358579967652,
          -1.4756493838984779,
          -2.6555877014983746,
          -2.5416512961431454,
          -2.469806490205787,
          -2.441787138940253,
          -3.6104898303891275,
          -3.6104898303891275,
          -3.4978528782329468,
          -1.1783892162129763,
          -1.1688533049043683,
          -1.0562163527481871,
          -1.0657522640567951,
          -1.9019837077111168,
          -1.789099711220516,
          -1.7851470018697977,
          -1.5067620476161874,
          -1.5092324909603863,
          -1.3197717684982508,
          -1.3148308818098529,
          -1.9993007425987674,
          -1.999518141613057,
          -1.7451370321401156,
          -1.6322530356495146,
          -1.629288503636476,
          -2.125924394764342,
          -1.357584705127215,
          -1.1525170067014476,
          -1.0310111629395922,
          -1.478680546887571,
          -1.3174899960557618,
          -1.3648083730592904,
          -1.203617822227481,
          -1.5637954301106942,
          -1.5654950951315032,
          -1.4506446257389196,
          -1.4486435666301185,
          -1.4180177439847597,
          -1.4150087439915253,
          -1.2659677307433017,
          -1.0782302128791013,
          -0.9782491334030665,
          -1.174190370994694,
          -1.176487883304799,
          -1.176487883304799,
          -1.174190370994694,
          -1.1862461345143849,
          -1.2339350780195435,
          -1.117271303212318,
          -1.0694588375399492,
          -1.0694588375399492,
          -1.0026579963807778,
          -1.0026579963807778,
          -0.9518809986953705,
          -0.9518809986953705,
          -0.9548455307084093,
          -0.9518809986953705,
          -0.9164287556972157,
          -0.8407297398361199,
          -0.852192596953203,
          -0.927891612814299,
          -1.433074081406485,
          -1.53864639848355,
          -1.320437129250304,
          -1.426009446327369,
          -3.0656244666989276,
          -2.7277584082603665,
          -2.615121456104186,
          -2.9945109119914526,
          -2.881873959835271,
          -2.544861994263135,
          -2.861329130074347,
          -1.186982980609921,
          -1.0720574709966315,
          -1.1034520507341212,
          -1.1309974940219398,
          -1.0388631618390607,
          -0.9207466337580686,
          -0.9945434082441312,
          -1.5045288473519631,
          -1.3460557841987728,
          -1.1903884641539246,
          -3.1196119770580424,
          -2.1724965948128854,
          -2.1710044470329892,
          -2.0136381424980003,
          -2.0157923690941417,
          -1.7910318753181456,
          -1.8033840920391404,
          -1.8962351874668242,
          -1.9203600840651232,
          -1.9203600840651232,
          -2.179926859892381,
          -2.0672899077361997,
          -1.8077231319089424,
          -1.8077231319089424,
          -1.6950861797527612,
          -1.9546529555800183,
          -2.046525846457912,
          -1.8923654968530252,
          -2.4700010114804702,
          -2.3534311135203243,
          -2.1235765655685905,
          -2.13139563299925,
          -2.1668558819506236,
          -2.095742327243148,
          -2.018758680843069,
          -1.860779706358718,
          -1.8962399553100917,
          -1.6338269915246657,
          -1.1371310378440078,
          -1.0855774962284126,
          -1.0855774962284126,
          -1.0802660430383848,
          -1.0802660430383848,
          -1.4003735310450989,
          -1.395062077855071,
          -1.395062077855071,
          -1.4003735310450989,
          -1.0984225221974437,
          -1.0622105779387658,
          -1.0622105779387658,
          -1.0984225221974437,
          -0.9452609122342813,
          -0.9452609122342813,
          -1.02372682464088,
          -1.02372682464088,
          -1.3828369605417696,
          -1.0579121080138674,
          -1.381428807835576,
          -1.0035165153750687,
          -1.3263908999272858,
          -1.3278731659338052,
          -1.2058413263118208,
          -1.2043590603053016,
          -3.6678919460230937,
          -3.5413638995146677,
          -1.6073878015050147,
          -1.4111814181374907,
          -1.5201666928070652,
          -1.2736063703133955,
          -1.3322687410133918,
          -1.3379507607050494,
          -1.3750273601341967,
          -1.3797212024881746,
          -1.2601062777764067,
          -1.1119244010644813,
          -1.1094539577202822,
          -1.1480128231559492,
          -1.533038723862792,
          -1.5383501770528198,
          -1.5692612304255145,
          -1.5745726836155423,
          -1.6202663735729645,
          -1.3821005129094086,
          -1.455389056597234,
          -1.4607005097872618,
          -1.3767890597193808,
          -1.5196413198200593,
          -1.283107610771053,
          -1.2774255910793955,
          -1.4311436823274502,
          -1.3617076076489063,
          -1.3560255879572487,
          -1.893665611139748,
          -1.9265424568837572,
          -1.8139055047275763,
          -1.781028658983567,
          -1.6952406708115497,
          -1.6626108694019603,
          -1.3943181245926362,
          -1.5136792613078465,
          -1.3203529977352877,
          -1.397336644135367,
          -1.2254589717647526,
          -1.3024426181648323,
          -2.055976840167949,
          -2.294510923989504,
          -2.1123689460456636,
          -2.043352874679092,
          -1.9718952147915194,
          -2.2746090324086365,
          -2.133848729726566,
          -2.2203168033734904,
          -2.2858001407578583,
          -2.123560054394885,
          -2.2055929610420644,
          -2.2182169265309213,
          -1.8353591937235574,
          -2.0066658071597407,
          -1.9974016446189946,
          -2.171181893039629,
          -1.8561603266817128,
          -2.1778520900689666,
          -1.8446233562643035,
          -2.010544403210133,
          -2.0172146002394706,
          -1.848501952314696,
          -0.9274879760056166,
          -0.8114171076009992,
          -2.2498667909592984,
          -1.989655120079169,
          -2.6315318583263045,
          -2.5166517436135907,
          -2.402241013136275,
          -2.3329117113405644,
          -2.258887974373623,
          -2.1444080714826694,
          -1.1835928124298696,
          -1.0660396780187327,
          -2.715956769353331,
          -2.411635414316048,
          -2.6023671480657082,
          -1.726772491323458,
          -1.469479949469975,
          -1.9345942736852282,
          -1.7488582548205966,
          -1.5006452999249118,
          -1.7474995109812872,
          -1.6999620183312993,
          -1.5910014480951666,
          -1.7204914025215927,
          -1.7021607129076364,
          -1.614100093363427,
          -1.7217019197602503,
          -2.7433894204758613,
          -2.9593865323044763,
          -2.958936911615832,
          -2.732846386549499,
          -2.619626409764087,
          -1.6050542581841836,
          -1.1819558829672476,
          -1.4582164434404241,
          -1.0613146943758618,
          -1.0434533889973032,
          -1.4288428720778983,
          -1.3365870775113589,
          -0.9376101560376695,
          -1.3112156243664352,
          -1.3269523484689827,
          -0.9420075451903437,
          -2.364862861360377,
          -2.1065842038350517,
          -2.429199913033036,
          -2.312610251526136,
          -2.305445965827959,
          -1.9825189807686059,
          -2.827102956356212,
          -2.8278292666994065,
          -2.52180781212764,
          -1.1953601836309236,
          -1.4926760418747258,
          -1.2738613627750088,
          -1.0813150787685493,
          -1.0734096600671126,
          -1.3362534466972205,
          -1.2596781295411,
          -0.9586975355018045,
          -1.0603239842086958,
          -2.9965407377104323,
          -2.8914180774574585,
          -3.1957394324947415,
          -3.3008620927477152,
          -3.1957394324947415,
          -2.8914180774574585,
          -3.1051783456941227,
          -2.7787811253012777,
          -2.8008569906568397,
          -3.0831024803385607,
          -2.8144984165796263,
          -3.1188197716169093,
          -2.928088037867249,
          -2.623766682829966,
          -2.3058647725784263,
          -2.5998828861879026,
          -2.2162426563362128,
          -2.4756694365208056,
          -2.291431647772481,
          -2.0874094776154632,
          -2.9722222598200427,
          -2.9722222598200427,
          -2.9710858558817113,
          -2.9722222598200427,
          -2.8996306994620693,
          -2.900564527046176,
          -2.7856251216932018,
          -2.786796111838352,
          -1.981006120556829,
          -1.976065233868431,
          -3.660098772085461,
          -3.7649206384440315,
          -3.610760288839145,
          -1.1829322507852202,
          -1.1966679157789666,
          -1.20328870394142,
          -1.5243487873781725,
          -1.5581401963267123,
          -1.589781820398622,
          -1.4038653888540285,
          -1.5433175362615186,
          -1.5531993096383143,
          -1.5452938909368776,
          -1.4697335382098442,
          -1.441550534819813,
          -1.3667298170914075,
          -1.4301864954364978,
          -1.42475152007926,
          -1.3297873021335145,
          -1.3539228574315891,
          -1.2512518550893976,
          -1.3196494201228857,
          -1.3129792230935484,
          -1.3250843954801235,
          -1.2143093401315044,
          -1.3122380900902888,
          -0.8281473390359455,
          -1.0369135406821115,
          -1.4056013735020707,
          -0.9182298178762555,
          -2.7010877108863034,
          -1.0088134871828875,
          -3.096427012470718,
          -3.096427012470718,
          -2.983790060314537,
          -2.983790060314537,
          -2.871153108158356,
          -2.871153108158356,
          -1.9482837766129246,
          -2.434344127675184,
          -2.4346208173297343,
          -2.2785836113139237,
          -1.7178000056023457,
          -1.1699615000665753,
          -1.1878816012741362,
          -1.153409529660442,
          -1.1938106653002138,
          -1.163291303037238,
          -1.2123389903817061,
          -1.1770116505596608,
          -1.200480862329551,
          -1.1977633746509322,
          -1.1711967217386747,
          -1.2056687933523689,
          -1.2044335716802694,
          -1.166008790715857,
          -1.1923283992936944,
          -1.1578563276800002,
          -1.088472083313464,
          -1.0882250389790442,
          -1.04299597651404,
          -1.0808137089464473,
          -0.8884953862583215,
          -2.470895962680586
         ],
         "y0": " ",
         "yaxis": "y"
        },
        {
         "alignmentgroup": "True",
         "boxpoints": "all",
         "customdata": [
          [
           "FIAT 124 Spider",
           2017
          ],
          [
           "FIAT 124 Spider",
           2017
          ],
          [
           "FIAT 124 Spider",
           2017
          ],
          [
           "BMW 2 Series",
           2016
          ],
          [
           "BMW 2 Series",
           2016
          ],
          [
           "BMW 2 Series",
           2016
          ],
          [
           "BMW 2 Series",
           2016
          ],
          [
           "BMW 2 Series",
           2016
          ],
          [
           "BMW 2 Series",
           2017
          ],
          [
           "BMW 2 Series",
           2017
          ],
          [
           "BMW 2 Series",
           2017
          ],
          [
           "BMW 2 Series",
           2017
          ],
          [
           "Chrysler 200",
           2015
          ],
          [
           "Chrysler 200",
           2015
          ],
          [
           "Chrysler 200",
           2015
          ],
          [
           "Chrysler 200",
           2015
          ],
          [
           "Chrysler 200",
           2016
          ],
          [
           "Chrysler 200",
           2016
          ],
          [
           "Chrysler 200",
           2016
          ],
          [
           "Chrysler 200",
           2016
          ],
          [
           "Chrysler 200",
           2016
          ],
          [
           "Chrysler 200",
           2016
          ],
          [
           "Chrysler 200",
           2017
          ],
          [
           "Chrysler 200",
           2017
          ],
          [
           "Chrysler 200",
           2017
          ],
          [
           "Chrysler 200",
           2017
          ],
          [
           "Chrysler 200",
           2017
          ],
          [
           "Chrysler 200",
           2017
          ],
          [
           "Volvo 240",
           1991
          ],
          [
           "Volvo 240",
           1992
          ],
          [
           "Volvo 240",
           1992
          ],
          [
           "Volvo 240",
           1992
          ],
          [
           "Volvo 240",
           1993
          ],
          [
           "Volvo 240",
           1993
          ],
          [
           "Mazda 2",
           2012
          ],
          [
           "Mazda 2",
           2012
          ],
          [
           "Mazda 2",
           2012
          ],
          [
           "Mazda 2",
           2012
          ],
          [
           "Mazda 2",
           2013
          ],
          [
           "Mazda 2",
           2013
          ],
          [
           "Mazda 2",
           2013
          ],
          [
           "Mazda 2",
           2014
          ],
          [
           "Mazda 2",
           2014
          ],
          [
           "BMW 3 Series Gran Turismo",
           2015
          ],
          [
           "BMW 3 Series Gran Turismo",
           2015
          ],
          [
           "BMW 3 Series Gran Turismo",
           2015
          ],
          [
           "BMW 3 Series Gran Turismo",
           2016
          ],
          [
           "BMW 3 Series Gran Turismo",
           2017
          ],
          [
           "BMW 3 Series Gran Turismo",
           2017
          ],
          [
           "BMW 3 Series",
           2015
          ],
          [
           "BMW 3 Series",
           2015
          ],
          [
           "BMW 3 Series",
           2015
          ],
          [
           "BMW 3 Series",
           2015
          ],
          [
           "BMW 3 Series",
           2015
          ],
          [
           "BMW 3 Series",
           2015
          ],
          [
           "BMW 3 Series",
           2015
          ],
          [
           "BMW 3 Series",
           2015
          ],
          [
           "BMW 3 Series",
           2015
          ],
          [
           "BMW 3 Series",
           2015
          ],
          [
           "BMW 3 Series",
           2015
          ],
          [
           "BMW 3 Series",
           2015
          ],
          [
           "BMW 3 Series",
           2016
          ],
          [
           "BMW 3 Series",
           2016
          ],
          [
           "BMW 3 Series",
           2016
          ],
          [
           "BMW 3 Series",
           2016
          ],
          [
           "BMW 3 Series",
           2016
          ],
          [
           "BMW 3 Series",
           2016
          ],
          [
           "BMW 3 Series",
           2016
          ],
          [
           "BMW 3 Series",
           2016
          ],
          [
           "BMW 3 Series",
           2016
          ],
          [
           "BMW 3 Series",
           2016
          ],
          [
           "BMW 3 Series",
           2016
          ],
          [
           "BMW 3 Series",
           2017
          ],
          [
           "BMW 3 Series",
           2017
          ],
          [
           "Nissan 370Z",
           2016
          ],
          [
           "Nissan 370Z",
           2016
          ],
          [
           "Nissan 370Z",
           2016
          ],
          [
           "Nissan 370Z",
           2016
          ],
          [
           "Nissan 370Z",
           2016
          ],
          [
           "Nissan 370Z",
           2016
          ],
          [
           "Nissan 370Z",
           2016
          ],
          [
           "Nissan 370Z",
           2016
          ],
          [
           "Nissan 370Z",
           2016
          ],
          [
           "Nissan 370Z",
           2016
          ],
          [
           "Nissan 370Z",
           2017
          ],
          [
           "Nissan 370Z",
           2017
          ],
          [
           "Nissan 370Z",
           2017
          ],
          [
           "Nissan 370Z",
           2017
          ],
          [
           "Nissan 370Z",
           2017
          ],
          [
           "Nissan 370Z",
           2017
          ],
          [
           "Nissan 370Z",
           2017
          ],
          [
           "Nissan 370Z",
           2017
          ],
          [
           "Nissan 370Z",
           2017
          ],
          [
           "Nissan 370Z",
           2017
          ],
          [
           "Nissan 370Z",
           2017
          ],
          [
           "Nissan 370Z",
           2017
          ],
          [
           "Nissan 370Z",
           2017
          ],
          [
           "Nissan 370Z",
           2017
          ],
          [
           "Nissan 370Z",
           2017
          ],
          [
           "Nissan 370Z",
           2017
          ],
          [
           "Nissan 370Z",
           2017
          ],
          [
           "Mazda 3",
           2015
          ],
          [
           "Mazda 3",
           2015
          ],
          [
           "Mazda 3",
           2015
          ],
          [
           "Mazda 3",
           2015
          ],
          [
           "Mazda 3",
           2015
          ],
          [
           "Mazda 3",
           2015
          ],
          [
           "Mazda 3",
           2015
          ],
          [
           "Mazda 3",
           2015
          ],
          [
           "Mazda 3",
           2015
          ],
          [
           "Mazda 3",
           2016
          ],
          [
           "Mazda 3",
           2016
          ],
          [
           "Mazda 3",
           2016
          ],
          [
           "Mazda 3",
           2016
          ],
          [
           "Mazda 3",
           2016
          ],
          [
           "Mazda 3",
           2016
          ],
          [
           "Mazda 3",
           2016
          ],
          [
           "Mazda 3",
           2016
          ],
          [
           "Mazda 3",
           2016
          ],
          [
           "Mazda 3",
           2016
          ],
          [
           "Mazda 3",
           2017
          ],
          [
           "Mazda 3",
           2017
          ],
          [
           "Mazda 3",
           2017
          ],
          [
           "Mazda 3",
           2017
          ],
          [
           "BMW 4 Series",
           2015
          ],
          [
           "BMW 4 Series",
           2015
          ],
          [
           "BMW 4 Series",
           2015
          ],
          [
           "BMW 4 Series",
           2015
          ],
          [
           "BMW 4 Series",
           2015
          ],
          [
           "BMW 4 Series",
           2017
          ],
          [
           "BMW 4 Series",
           2017
          ],
          [
           "BMW 4 Series",
           2017
          ],
          [
           "BMW 4 Series",
           2017
          ],
          [
           "BMW 4 Series",
           2017
          ],
          [
           "Mercedes-Benz 400-Class",
           1992
          ],
          [
           "Mercedes-Benz 400-Class",
           1993
          ],
          [
           "Mercedes-Benz 420-Class",
           1991
          ],
          [
           "Ferrari 458 Italia",
           2014
          ],
          [
           "Ferrari 458 Italia",
           2014
          ],
          [
           "Ferrari 458 Italia",
           2014
          ],
          [
           "Ferrari 458 Italia",
           2015
          ],
          [
           "Ferrari 458 Italia",
           2015
          ],
          [
           "Ferrari 458 Italia",
           2015
          ],
          [
           "Alfa Romeo 4C",
           2015
          ],
          [
           "Alfa Romeo 4C",
           2015
          ],
          [
           "Alfa Romeo 4C",
           2015
          ],
          [
           "Alfa Romeo 4C",
           2016
          ],
          [
           "Alfa Romeo 4C",
           2016
          ],
          [
           "FIAT 500X",
           2016
          ],
          [
           "BMW 6 Series",
           2016
          ],
          [
           "BMW 6 Series",
           2016
          ],
          [
           "BMW 6 Series",
           2017
          ],
          [
           "BMW 6 Series",
           2017
          ],
          [
           "BMW 6 Series",
           2017
          ],
          [
           "BMW 6 Series",
           2017
          ],
          [
           "BMW 6 Series",
           2017
          ],
          [
           "BMW 6 Series",
           2017
          ],
          [
           "Mercedes-Benz 600-Class",
           1993
          ],
          [
           "Mercedes-Benz 600-Class",
           1993
          ],
          [
           "Maybach 62",
           2010
          ],
          [
           "Maybach 62",
           2010
          ],
          [
           "Maybach 62",
           2012
          ],
          [
           "McLaren 650S Spider",
           2015
          ],
          [
           "BMW 7 Series",
           2015
          ],
          [
           "BMW 7 Series",
           2015
          ],
          [
           "Saab 9-7X",
           2007
          ],
          [
           "Saab 9-7X",
           2008
          ],
          [
           "Saab 9-7X",
           2008
          ],
          [
           "Saab 9-7X",
           2008
          ],
          [
           "Saab 9-7X",
           2009
          ],
          [
           "Saab 9-7X",
           2009
          ],
          [
           "Saab 9-7X",
           2009
          ],
          [
           "Saab 9000",
           1996
          ],
          [
           "Saab 9000",
           1996
          ],
          [
           "Saab 9000",
           1996
          ],
          [
           "Saab 9000",
           1996
          ],
          [
           "Saab 9000",
           1997
          ],
          [
           "Saab 9000",
           1997
          ],
          [
           "Saab 9000",
           1997
          ],
          [
           "Saab 9000",
           1997
          ],
          [
           "Saab 9000",
           1997
          ],
          [
           "Saab 9000",
           1998
          ],
          [
           "Saab 900",
           1996
          ],
          [
           "Saab 900",
           1996
          ],
          [
           "Saab 900",
           1996
          ],
          [
           "Saab 900",
           1996
          ],
          [
           "Saab 900",
           1996
          ],
          [
           "Saab 900",
           1996
          ],
          [
           "Saab 900",
           1996
          ],
          [
           "Saab 900",
           1996
          ],
          [
           "Saab 900",
           1997
          ],
          [
           "Saab 900",
           1997
          ],
          [
           "Saab 900",
           1997
          ],
          [
           "Saab 900",
           1997
          ],
          [
           "Saab 900",
           1997
          ],
          [
           "Saab 900",
           1997
          ],
          [
           "Saab 900",
           1997
          ],
          [
           "Saab 900",
           1997
          ],
          [
           "Saab 900",
           1997
          ],
          [
           "Saab 900",
           1997
          ],
          [
           "Saab 900",
           1997
          ],
          [
           "Saab 900",
           1998
          ],
          [
           "Saab 900",
           1998
          ],
          [
           "Saab 900",
           1998
          ],
          [
           "Saab 900",
           1998
          ],
          [
           "Audi 90",
           1993
          ],
          [
           "Audi 90",
           1993
          ],
          [
           "Audi 90",
           1993
          ],
          [
           "Audi 90",
           1994
          ],
          [
           "Audi 90",
           1994
          ],
          [
           "Audi 90",
           1994
          ],
          [
           "Audi 90",
           1995
          ],
          [
           "Audi 90",
           1995
          ],
          [
           "Audi 90",
           1995
          ],
          [
           "Porsche 911",
           2015
          ],
          [
           "Porsche 911",
           2015
          ],
          [
           "Porsche 911",
           2015
          ],
          [
           "Porsche 911",
           2015
          ],
          [
           "Porsche 911",
           2015
          ],
          [
           "Porsche 911",
           2015
          ],
          [
           "Porsche 911",
           2015
          ],
          [
           "Porsche 911",
           2015
          ],
          [
           "Porsche 911",
           2015
          ],
          [
           "Porsche 911",
           2015
          ],
          [
           "Porsche 911",
           2015
          ],
          [
           "Porsche 911",
           2015
          ],
          [
           "Porsche 911",
           2015
          ],
          [
           "Porsche 911",
           2015
          ],
          [
           "Porsche 911",
           2015
          ],
          [
           "Porsche 911",
           2015
          ],
          [
           "Porsche 911",
           2015
          ],
          [
           "Porsche 911",
           2015
          ],
          [
           "Porsche 911",
           2015
          ],
          [
           "Porsche 911",
           2016
          ],
          [
           "Porsche 911",
           2016
          ],
          [
           "Porsche 911",
           2016
          ],
          [
           "Porsche 911",
           2016
          ],
          [
           "Porsche 911",
           2016
          ],
          [
           "Porsche 911",
           2016
          ],
          [
           "Porsche 911",
           2016
          ],
          [
           "Porsche 911",
           2016
          ],
          [
           "Porsche 911",
           2016
          ],
          [
           "Porsche 911",
           2016
          ],
          [
           "Porsche 911",
           2016
          ],
          [
           "Porsche 911",
           2016
          ],
          [
           "Porsche 911",
           2016
          ],
          [
           "Porsche 911",
           2016
          ],
          [
           "Porsche 911",
           2016
          ],
          [
           "Porsche 911",
           2016
          ],
          [
           "Porsche 911",
           2016
          ],
          [
           "Porsche 911",
           2016
          ],
          [
           "Porsche 911",
           2016
          ],
          [
           "Porsche 911",
           2016
          ],
          [
           "Porsche 911",
           2016
          ],
          [
           "Porsche 911",
           2017
          ],
          [
           "Porsche 911",
           2017
          ],
          [
           "Porsche 911",
           2017
          ],
          [
           "Porsche 911",
           2017
          ],
          [
           "Porsche 911",
           2017
          ],
          [
           "Porsche 911",
           2017
          ],
          [
           "Porsche 911",
           2017
          ],
          [
           "Porsche 911",
           2017
          ],
          [
           "Porsche 911",
           2017
          ],
          [
           "Porsche 928",
           1995
          ],
          [
           "Volvo 940",
           1993
          ],
          [
           "Volvo 940",
           1993
          ],
          [
           "Audi A3",
           2015
          ],
          [
           "Audi A3",
           2015
          ],
          [
           "Audi A3",
           2015
          ],
          [
           "Audi A3",
           2015
          ],
          [
           "Audi A3",
           2015
          ],
          [
           "Audi A3",
           2015
          ],
          [
           "Audi A3",
           2015
          ],
          [
           "Audi A3",
           2016
          ],
          [
           "Audi A3",
           2016
          ],
          [
           "Audi A3",
           2016
          ],
          [
           "Audi A3",
           2016
          ],
          [
           "Audi A3",
           2016
          ],
          [
           "Audi A3",
           2016
          ],
          [
           "Audi A3",
           2016
          ],
          [
           "Audi A3",
           2016
          ],
          [
           "Audi A3",
           2016
          ],
          [
           "Audi A3",
           2016
          ],
          [
           "Audi A3",
           2016
          ],
          [
           "Audi A3",
           2017
          ],
          [
           "Audi A3",
           2017
          ],
          [
           "Audi A3",
           2017
          ],
          [
           "Audi A3",
           2017
          ],
          [
           "Audi A3",
           2017
          ],
          [
           "Audi A3",
           2017
          ],
          [
           "Audi A3",
           2017
          ],
          [
           "Audi A3",
           2017
          ],
          [
           "Audi A3",
           2017
          ],
          [
           "Audi A3",
           2017
          ],
          [
           "Audi A4",
           2015
          ],
          [
           "Audi A4",
           2015
          ],
          [
           "Audi A5",
           2016
          ],
          [
           "Audi A5",
           2016
          ],
          [
           "Audi A5",
           2017
          ],
          [
           "Audi A5",
           2017
          ],
          [
           "Audi A5",
           2017
          ],
          [
           "Audi A6",
           2015
          ],
          [
           "Audi A6",
           2015
          ],
          [
           "Audi A6",
           2015
          ],
          [
           "Audi A6",
           2017
          ],
          [
           "Audi A6",
           2017
          ],
          [
           "Audi A6",
           2017
          ],
          [
           "Audi A6",
           2017
          ],
          [
           "Audi A6",
           2017
          ],
          [
           "Audi A6",
           2017
          ],
          [
           "Audi A6",
           2017
          ],
          [
           "Audi A7",
           2015
          ],
          [
           "Audi A7",
           2015
          ],
          [
           "Audi A7",
           2015
          ],
          [
           "Audi A7",
           2015
          ],
          [
           "Audi A7",
           2016
          ],
          [
           "Audi A7",
           2016
          ],
          [
           "GMC Acadia",
           2016
          ],
          [
           "GMC Acadia",
           2016
          ],
          [
           "GMC Acadia",
           2016
          ],
          [
           "GMC Acadia",
           2016
          ],
          [
           "GMC Acadia",
           2016
          ],
          [
           "GMC Acadia",
           2016
          ],
          [
           "GMC Acadia",
           2016
          ],
          [
           "GMC Acadia",
           2017
          ],
          [
           "GMC Acadia",
           2017
          ],
          [
           "GMC Acadia",
           2017
          ],
          [
           "GMC Acadia",
           2017
          ],
          [
           "Hyundai Accent",
           2014
          ],
          [
           "Hyundai Accent",
           2014
          ],
          [
           "Hyundai Accent",
           2015
          ],
          [
           "Hyundai Accent",
           2015
          ],
          [
           "Hyundai Accent",
           2015
          ],
          [
           "Hyundai Accent",
           2016
          ],
          [
           "Hyundai Accent",
           2016
          ],
          [
           "Hyundai Accent",
           2016
          ],
          [
           "Honda Accord Crosstour",
           2011
          ],
          [
           "Honda Accord Crosstour",
           2011
          ],
          [
           "Honda Accord Crosstour",
           2011
          ],
          [
           "Honda Accord Crosstour",
           2011
          ],
          [
           "Honda Accord Hybrid",
           2014
          ],
          [
           "Honda Accord Hybrid",
           2014
          ],
          [
           "Honda Accord Hybrid",
           2017
          ],
          [
           "Honda Accord Hybrid",
           2017
          ],
          [
           "Honda Accord Hybrid",
           2017
          ],
          [
           "Honda Accord Plug-In Hybrid",
           2014
          ],
          [
           "Honda Accord",
           2015
          ],
          [
           "Honda Accord",
           2015
          ],
          [
           "Honda Accord",
           2015
          ],
          [
           "Honda Accord",
           2016
          ],
          [
           "Honda Accord",
           2016
          ],
          [
           "Honda Accord",
           2016
          ],
          [
           "Honda Accord",
           2017
          ],
          [
           "Honda Accord",
           2017
          ],
          [
           "BMW ActiveHybrid 5",
           2014
          ],
          [
           "BMW ActiveHybrid 5",
           2015
          ],
          [
           "BMW ActiveHybrid 5",
           2016
          ],
          [
           "BMW ActiveHybrid 7",
           2013
          ],
          [
           "BMW ActiveHybrid 7",
           2014
          ],
          [
           "BMW ActiveHybrid 7",
           2015
          ],
          [
           "BMW ActiveHybrid X6",
           2010
          ],
          [
           "BMW ActiveHybrid X6",
           2011
          ],
          [
           "BMW ALPINA B6 Gran Coupe",
           2016
          ],
          [
           "BMW ALPINA B6 Gran Coupe",
           2017
          ],
          [
           "BMW ALPINA B7",
           2014
          ],
          [
           "BMW ALPINA B7",
           2014
          ],
          [
           "BMW ALPINA B7",
           2014
          ],
          [
           "BMW ALPINA B7",
           2014
          ],
          [
           "BMW ALPINA B7",
           2015
          ],
          [
           "BMW ALPINA B7",
           2015
          ],
          [
           "BMW ALPINA B7",
           2015
          ],
          [
           "BMW ALPINA B7",
           2015
          ],
          [
           "BMW ALPINA B7",
           2017
          ],
          [
           "BMW Alpina",
           2003
          ],
          [
           "Nissan Altima Hybrid",
           2009
          ],
          [
           "Nissan Altima Hybrid",
           2010
          ],
          [
           "Nissan Altima Hybrid",
           2011
          ],
          [
           "Nissan Altima",
           2015
          ],
          [
           "Nissan Altima",
           2015
          ],
          [
           "Nissan Altima",
           2015
          ],
          [
           "Nissan Altima",
           2015
          ],
          [
           "Nissan Altima",
           2016
          ],
          [
           "Nissan Altima",
           2016
          ],
          [
           "Nissan Altima",
           2016
          ],
          [
           "Nissan Altima",
           2016
          ],
          [
           "Nissan Altima",
           2017
          ],
          [
           "Nissan Altima",
           2017
          ],
          [
           "Mercedes-Benz AMG GT",
           2016
          ],
          [
           "Mercedes-Benz AMG GT",
           2017
          ],
          [
           "Mercedes-Benz AMG GT",
           2017
          ],
          [
           "Nissan Armada",
           2014
          ],
          [
           "Nissan Armada",
           2014
          ],
          [
           "Nissan Armada",
           2014
          ],
          [
           "Nissan Armada",
           2014
          ],
          [
           "Nissan Armada",
           2014
          ],
          [
           "Nissan Armada",
           2014
          ],
          [
           "Bentley Arnage",
           2007
          ],
          [
           "Bentley Arnage",
           2007
          ],
          [
           "Bentley Arnage",
           2007
          ],
          [
           "Bentley Arnage",
           2008
          ],
          [
           "Bentley Arnage",
           2008
          ],
          [
           "Bentley Arnage",
           2008
          ],
          [
           "Bentley Arnage",
           2009
          ],
          [
           "Bentley Arnage",
           2009
          ],
          [
           "Bentley Arnage",
           2009
          ],
          [
           "Bentley Arnage",
           2009
          ],
          [
           "Chrysler Aspen",
           2007
          ],
          [
           "Chrysler Aspen",
           2007
          ],
          [
           "Chrysler Aspen",
           2009
          ],
          [
           "Chrysler Aspen",
           2009
          ],
          [
           "Chrysler Aspen",
           2009
          ],
          [
           "Ford Aspire",
           1995
          ],
          [
           "Ford Aspire",
           1995
          ],
          [
           "Ford Aspire",
           1995
          ],
          [
           "Ford Aspire",
           1996
          ],
          [
           "Ford Aspire",
           1996
          ],
          [
           "Ford Aspire",
           1997
          ],
          [
           "Ford Aspire",
           1997
          ],
          [
           "Cadillac ATS Coupe",
           2015
          ],
          [
           "Cadillac ATS Coupe",
           2015
          ],
          [
           "Cadillac ATS Coupe",
           2015
          ],
          [
           "Cadillac ATS Coupe",
           2015
          ],
          [
           "Cadillac ATS Coupe",
           2015
          ],
          [
           "Cadillac ATS Coupe",
           2015
          ],
          [
           "Cadillac ATS Coupe",
           2015
          ],
          [
           "Cadillac ATS Coupe",
           2015
          ],
          [
           "Cadillac ATS Coupe",
           2015
          ],
          [
           "Cadillac ATS Coupe",
           2015
          ],
          [
           "Cadillac ATS Coupe",
           2015
          ],
          [
           "Cadillac ATS Coupe",
           2015
          ],
          [
           "Cadillac ATS Coupe",
           2015
          ],
          [
           "Cadillac ATS Coupe",
           2015
          ],
          [
           "Cadillac ATS Coupe",
           2016
          ],
          [
           "Cadillac ATS Coupe",
           2016
          ],
          [
           "Cadillac ATS Coupe",
           2016
          ],
          [
           "Cadillac ATS Coupe",
           2016
          ],
          [
           "Cadillac ATS Coupe",
           2016
          ],
          [
           "Cadillac ATS Coupe",
           2016
          ],
          [
           "Cadillac ATS Coupe",
           2016
          ],
          [
           "Cadillac ATS Coupe",
           2016
          ],
          [
           "Cadillac ATS Coupe",
           2016
          ],
          [
           "Cadillac ATS Coupe",
           2016
          ],
          [
           "Cadillac ATS Coupe",
           2016
          ],
          [
           "Cadillac ATS Coupe",
           2016
          ],
          [
           "Cadillac ATS Coupe",
           2016
          ],
          [
           "Cadillac ATS Coupe",
           2016
          ],
          [
           "Cadillac ATS Coupe",
           2017
          ],
          [
           "Cadillac ATS Coupe",
           2017
          ],
          [
           "Cadillac ATS Coupe",
           2017
          ],
          [
           "Cadillac ATS",
           2016
          ],
          [
           "Cadillac ATS",
           2016
          ],
          [
           "Cadillac ATS",
           2016
          ],
          [
           "Cadillac ATS",
           2016
          ],
          [
           "Cadillac ATS",
           2016
          ],
          [
           "Cadillac ATS",
           2016
          ],
          [
           "Cadillac ATS",
           2016
          ],
          [
           "Cadillac ATS",
           2016
          ],
          [
           "Cadillac ATS",
           2016
          ],
          [
           "Cadillac ATS",
           2016
          ],
          [
           "Cadillac ATS",
           2016
          ],
          [
           "Cadillac ATS",
           2016
          ],
          [
           "Cadillac ATS",
           2016
          ],
          [
           "Cadillac ATS",
           2017
          ],
          [
           "Cadillac ATS",
           2017
          ],
          [
           "Cadillac ATS",
           2017
          ],
          [
           "Oldsmobile Aurora",
           2001
          ],
          [
           "Oldsmobile Aurora",
           2003
          ],
          [
           "Chevrolet Avalanche",
           2010
          ],
          [
           "Chevrolet Avalanche",
           2010
          ],
          [
           "Chevrolet Avalanche",
           2011
          ],
          [
           "Chevrolet Avalanche",
           2011
          ],
          [
           "Chevrolet Avalanche",
           2011
          ],
          [
           "Chevrolet Avalanche",
           2011
          ],
          [
           "Chevrolet Avalanche",
           2012
          ],
          [
           "Chevrolet Avalanche",
           2012
          ],
          [
           "Chevrolet Avalanche",
           2012
          ],
          [
           "Toyota Avalon Hybrid",
           2015
          ],
          [
           "Toyota Avalon Hybrid",
           2015
          ],
          [
           "Toyota Avalon Hybrid",
           2015
          ],
          [
           "Toyota Avalon Hybrid",
           2016
          ],
          [
           "Toyota Avalon Hybrid",
           2016
          ],
          [
           "Toyota Avalon Hybrid",
           2017
          ],
          [
           "Toyota Avalon Hybrid",
           2017
          ],
          [
           "Toyota Avalon",
           2015
          ],
          [
           "Toyota Avalon",
           2015
          ],
          [
           "Toyota Avalon",
           2015
          ],
          [
           "Toyota Avalon",
           2016
          ],
          [
           "Lincoln Aviator",
           2003
          ],
          [
           "Lincoln Aviator",
           2004
          ],
          [
           "Lincoln Aviator",
           2004
          ],
          [
           "Lincoln Aviator",
           2005
          ],
          [
           "Hyundai Azera",
           2015
          ],
          [
           "Hyundai Azera",
           2016
          ],
          [
           "Hyundai Azera",
           2016
          ],
          [
           "Hyundai Azera",
           2017
          ],
          [
           "Hyundai Azera",
           2017
          ],
          [
           "Pontiac Aztek",
           2003
          ],
          [
           "Pontiac Aztek",
           2003
          ],
          [
           "Pontiac Aztek",
           2004
          ],
          [
           "Pontiac Aztek",
           2004
          ],
          [
           "Pontiac Aztek",
           2005
          ],
          [
           "Pontiac Aztek",
           2005
          ],
          [
           "Bentley Azure T",
           2010
          ],
          [
           "Mercedes-Benz B-Class Electric Drive",
           2016
          ],
          [
           "Subaru B9 Tribeca",
           2006
          ],
          [
           "Subaru B9 Tribeca",
           2006
          ],
          [
           "Subaru B9 Tribeca",
           2006
          ],
          [
           "Subaru B9 Tribeca",
           2006
          ],
          [
           "Subaru B9 Tribeca",
           2006
          ],
          [
           "Subaru B9 Tribeca",
           2006
          ],
          [
           "Subaru B9 Tribeca",
           2006
          ],
          [
           "Subaru B9 Tribeca",
           2006
          ],
          [
           "Subaru B9 Tribeca",
           2006
          ],
          [
           "Subaru B9 Tribeca",
           2006
          ],
          [
           "Subaru B9 Tribeca",
           2006
          ],
          [
           "Subaru B9 Tribeca",
           2006
          ],
          [
           "Subaru B9 Tribeca",
           2006
          ],
          [
           "Subaru B9 Tribeca",
           2006
          ],
          [
           "Subaru B9 Tribeca",
           2006
          ],
          [
           "Subaru B9 Tribeca",
           2006
          ],
          [
           "Subaru B9 Tribeca",
           2007
          ],
          [
           "Subaru B9 Tribeca",
           2007
          ],
          [
           "Subaru Baja",
           2004
          ],
          [
           "Volkswagen Beetle Convertible",
           2015
          ],
          [
           "Volkswagen Beetle Convertible",
           2015
          ],
          [
           "Volkswagen Beetle Convertible",
           2015
          ],
          [
           "Volkswagen Beetle Convertible",
           2015
          ],
          [
           "Volkswagen Beetle Convertible",
           2015
          ],
          [
           "Volkswagen Beetle Convertible",
           2015
          ],
          [
           "Volkswagen Beetle Convertible",
           2015
          ],
          [
           "Volkswagen Beetle Convertible",
           2015
          ],
          [
           "Volkswagen Beetle Convertible",
           2015
          ],
          [
           "Volkswagen Beetle Convertible",
           2015
          ],
          [
           "Volkswagen Beetle Convertible",
           2015
          ],
          [
           "Volkswagen Beetle Convertible",
           2015
          ],
          [
           "Volkswagen Beetle Convertible",
           2015
          ],
          [
           "Volkswagen Beetle Convertible",
           2015
          ],
          [
           "Volkswagen Beetle Convertible",
           2015
          ],
          [
           "Volkswagen Beetle Convertible",
           2015
          ],
          [
           "Volkswagen Beetle Convertible",
           2016
          ],
          [
           "Volkswagen Beetle Convertible",
           2016
          ],
          [
           "Volkswagen Beetle Convertible",
           2016
          ],
          [
           "Volkswagen Beetle Convertible",
           2016
          ],
          [
           "Volkswagen Beetle",
           2015
          ],
          [
           "Volkswagen Beetle",
           2015
          ],
          [
           "Volkswagen Beetle",
           2015
          ],
          [
           "Volkswagen Beetle",
           2015
          ],
          [
           "Volkswagen Beetle",
           2015
          ],
          [
           "Volkswagen Beetle",
           2015
          ],
          [
           "Volkswagen Beetle",
           2015
          ],
          [
           "Volkswagen Beetle",
           2015
          ],
          [
           "Volkswagen Beetle",
           2015
          ],
          [
           "Volkswagen Beetle",
           2015
          ],
          [
           "Volkswagen Beetle",
           2016
          ],
          [
           "Volkswagen Beetle",
           2016
          ],
          [
           "Volkswagen Beetle",
           2016
          ],
          [
           "Volkswagen Beetle",
           2016
          ],
          [
           "Volkswagen Beetle",
           2016
          ],
          [
           "Mercedes-Benz C-Class",
           2017
          ],
          [
           "Mercedes-Benz C-Class",
           2017
          ],
          [
           "Mercedes-Benz C-Class",
           2017
          ],
          [
           "Ford C-Max Hybrid",
           2015
          ],
          [
           "Ford C-Max Hybrid",
           2015
          ],
          [
           "Ford C-Max Hybrid",
           2016
          ],
          [
           "Ford C-Max Hybrid",
           2016
          ],
          [
           "Ford C-Max Hybrid",
           2017
          ],
          [
           "Ford C-Max Hybrid",
           2017
          ],
          [
           "Volvo C30",
           2011
          ],
          [
           "Volvo C30",
           2011
          ],
          [
           "Volvo C30",
           2012
          ],
          [
           "Volvo C30",
           2012
          ],
          [
           "Volvo C30",
           2013
          ],
          [
           "Volvo C30",
           2013
          ],
          [
           "Mercedes-Benz C36 AMG",
           1995
          ],
          [
           "Mercedes-Benz C36 AMG",
           1996
          ],
          [
           "Mercedes-Benz C36 AMG",
           1997
          ],
          [
           "Mercedes-Benz C43 AMG",
           1998
          ],
          [
           "Mercedes-Benz C43 AMG",
           1999
          ],
          [
           "Mercedes-Benz C43 AMG",
           2000
          ],
          [
           "Volvo C70",
           2011
          ],
          [
           "Volvo C70",
           2012
          ],
          [
           "Volvo C70",
           2013
          ],
          [
           "Spyker C8",
           2009
          ],
          [
           "Spyker C8",
           2009
          ],
          [
           "Spyker C8",
           2009
          ],
          [
           "Audi Cabriolet",
           1996
          ],
          [
           "Audi Cabriolet",
           1997
          ],
          [
           "Audi Cabriolet",
           1998
          ],
          [
           "Chevrolet Camaro",
           2015
          ],
          [
           "Chevrolet Camaro",
           2015
          ],
          [
           "Chevrolet Camaro",
           2015
          ],
          [
           "Chevrolet Camaro",
           2015
          ],
          [
           "Chevrolet Camaro",
           2015
          ],
          [
           "Chevrolet Camaro",
           2015
          ],
          [
           "Chevrolet Camaro",
           2016
          ],
          [
           "Chevrolet Camaro",
           2016
          ],
          [
           "Chevrolet Camaro",
           2016
          ],
          [
           "Chevrolet Camaro",
           2016
          ],
          [
           "Chevrolet Camaro",
           2016
          ],
          [
           "Chevrolet Camaro",
           2017
          ],
          [
           "Chevrolet Camaro",
           2017
          ],
          [
           "Chevrolet Camaro",
           2017
          ],
          [
           "Chevrolet Camaro",
           2017
          ],
          [
           "Chevrolet Camaro",
           2017
          ],
          [
           "Chevrolet Camaro",
           2017
          ],
          [
           "Chevrolet Camaro",
           2017
          ],
          [
           "Chevrolet Camaro",
           2017
          ],
          [
           "Toyota Camry Hybrid",
           2015
          ],
          [
           "Toyota Camry Hybrid",
           2017
          ],
          [
           "GMC Canyon",
           2016
          ],
          [
           "GMC Canyon",
           2016
          ],
          [
           "GMC Canyon",
           2016
          ],
          [
           "GMC Canyon",
           2016
          ],
          [
           "GMC Canyon",
           2016
          ],
          [
           "Chevrolet Captiva Sport",
           2013
          ],
          [
           "Chevrolet Captiva Sport",
           2013
          ],
          [
           "Chevrolet Captiva Sport",
           2013
          ],
          [
           "Chevrolet Captiva Sport",
           2013
          ],
          [
           "Chevrolet Captiva Sport",
           2014
          ],
          [
           "Chevrolet Captiva Sport",
           2014
          ],
          [
           "Chevrolet Captiva Sport",
           2014
          ],
          [
           "Chevrolet Captiva Sport",
           2014
          ],
          [
           "Chevrolet Captiva Sport",
           2015
          ],
          [
           "Chevrolet Captiva Sport",
           2015
          ],
          [
           "Chevrolet Captiva Sport",
           2015
          ],
          [
           "Chevrolet Captiva Sport",
           2015
          ],
          [
           "Dodge Caravan",
           2005
          ],
          [
           "Dodge Caravan",
           2006
          ],
          [
           "Dodge Caravan",
           2006
          ],
          [
           "Dodge Caravan",
           2007
          ],
          [
           "Dodge Caravan",
           2007
          ],
          [
           "Porsche Carrera GT",
           2004
          ],
          [
           "Porsche Carrera GT",
           2005
          ],
          [
           "Cadillac Catera",
           1999
          ],
          [
           "Cadillac Catera",
           2000
          ],
          [
           "Porsche Cayenne",
           2017
          ],
          [
           "Porsche Cayenne",
           2017
          ],
          [
           "Porsche Cayenne",
           2017
          ],
          [
           "Porsche Cayenne",
           2017
          ],
          [
           "Porsche Cayman S",
           2006
          ],
          [
           "Porsche Cayman",
           2014
          ],
          [
           "Porsche Cayman",
           2014
          ],
          [
           "Dodge Charger",
           2016
          ],
          [
           "Dodge Charger",
           2016
          ],
          [
           "Dodge Charger",
           2016
          ],
          [
           "Dodge Charger",
           2016
          ],
          [
           "Dodge Charger",
           2016
          ],
          [
           "Dodge Charger",
           2016
          ],
          [
           "Honda Civic",
           2015
          ],
          [
           "Honda Civic",
           2015
          ],
          [
           "Honda Civic",
           2017
          ],
          [
           "Honda Civic",
           2017
          ],
          [
           "Honda Civic",
           2017
          ],
          [
           "Mercedes-Benz CL-Class",
           2012
          ],
          [
           "Mercedes-Benz CL-Class",
           2012
          ],
          [
           "Mercedes-Benz CL-Class",
           2012
          ],
          [
           "Mercedes-Benz CL-Class",
           2012
          ],
          [
           "Mercedes-Benz CL-Class",
           2013
          ],
          [
           "Mercedes-Benz CL-Class",
           2013
          ],
          [
           "Mercedes-Benz CL-Class",
           2013
          ],
          [
           "Mercedes-Benz CL-Class",
           2013
          ],
          [
           "Mercedes-Benz CL-Class",
           2014
          ],
          [
           "Mercedes-Benz CL-Class",
           2014
          ],
          [
           "Mercedes-Benz CL-Class",
           2014
          ],
          [
           "Mercedes-Benz CL-Class",
           2014
          ],
          [
           "Mercedes-Benz CLA-Class",
           2015
          ],
          [
           "Mercedes-Benz CLA-Class",
           2015
          ],
          [
           "Mercedes-Benz CLA-Class",
           2015
          ],
          [
           "Acura CL",
           2002
          ],
          [
           "Acura CL",
           2003
          ],
          [
           "Acura CL",
           2003
          ],
          [
           "Acura CL",
           2003
          ],
          [
           "Mercedes-Benz CLK-Class",
           2007
          ],
          [
           "Mercedes-Benz CLK-Class",
           2007
          ],
          [
           "Mercedes-Benz CLK-Class",
           2007
          ],
          [
           "Mercedes-Benz CLK-Class",
           2007
          ],
          [
           "Mercedes-Benz CLK-Class",
           2007
          ],
          [
           "Mercedes-Benz CLK-Class",
           2008
          ],
          [
           "Mercedes-Benz CLK-Class",
           2008
          ],
          [
           "Mercedes-Benz CLK-Class",
           2008
          ],
          [
           "Mercedes-Benz CLK-Class",
           2008
          ],
          [
           "Mercedes-Benz CLK-Class",
           2008
          ],
          [
           "Mercedes-Benz CLK-Class",
           2008
          ],
          [
           "Chevrolet Cobalt",
           2009
          ],
          [
           "Chevrolet Cobalt",
           2009
          ],
          [
           "Chevrolet Cobalt",
           2010
          ],
          [
           "Chevrolet Colorado",
           2012
          ],
          [
           "Chevrolet Colorado",
           2016
          ],
          [
           "Chevrolet Colorado",
           2016
          ],
          [
           "Chevrolet Colorado",
           2016
          ],
          [
           "Chevrolet Colorado",
           2016
          ],
          [
           "Chevrolet Colorado",
           2016
          ],
          [
           "Chevrolet Colorado",
           2016
          ],
          [
           "Chevrolet Colorado",
           2016
          ],
          [
           "Chevrolet Colorado",
           2016
          ],
          [
           "Chevrolet Colorado",
           2016
          ],
          [
           "Chevrolet Colorado",
           2016
          ],
          [
           "Chevrolet Colorado",
           2016
          ],
          [
           "Chevrolet Colorado",
           2016
          ],
          [
           "Chevrolet Colorado",
           2016
          ],
          [
           "Chevrolet Colorado",
           2016
          ],
          [
           "Rolls-Royce Corniche",
           2001
          ],
          [
           "Toyota Corolla iM",
           2017
          ],
          [
           "Toyota Corolla iM",
           2017
          ],
          [
           "Chevrolet Corvette",
           2017
          ],
          [
           "Chevrolet Corvette",
           2017
          ],
          [
           "Cadillac CTS Coupe",
           2013
          ],
          [
           "Cadillac CTS Coupe",
           2013
          ],
          [
           "Cadillac CTS Coupe",
           2014
          ],
          [
           "Cadillac CTS Coupe",
           2014
          ],
          [
           "Cadillac CTS Coupe",
           2014
          ],
          [
           "Cadillac CTS Coupe",
           2014
          ],
          [
           "Cadillac CTS-V Coupe",
           2013
          ],
          [
           "Cadillac CTS-V Coupe",
           2014
          ],
          [
           "Cadillac CTS-V Coupe",
           2015
          ],
          [
           "Cadillac CTS-V Wagon",
           2012
          ],
          [
           "Cadillac CTS-V Wagon",
           2013
          ],
          [
           "Cadillac CTS-V Wagon",
           2014
          ],
          [
           "Cadillac CTS-V",
           2014
          ],
          [
           "Cadillac CTS-V",
           2016
          ],
          [
           "Cadillac CTS Wagon",
           2013
          ],
          [
           "Cadillac CTS Wagon",
           2013
          ],
          [
           "Cadillac CTS Wagon",
           2013
          ],
          [
           "Cadillac CTS Wagon",
           2014
          ],
          [
           "Cadillac CTS Wagon",
           2014
          ],
          [
           "Cadillac CTS Wagon",
           2014
          ],
          [
           "Cadillac CTS Wagon",
           2014
          ],
          [
           "Cadillac CTS Wagon",
           2014
          ],
          [
           "Cadillac CTS Wagon",
           2014
          ],
          [
           "Cadillac CTS",
           2015
          ],
          [
           "Cadillac CTS",
           2015
          ],
          [
           "Cadillac CTS",
           2015
          ],
          [
           "Cadillac CTS",
           2015
          ],
          [
           "Cadillac CTS",
           2015
          ],
          [
           "Cadillac CTS",
           2015
          ],
          [
           "Cadillac CTS",
           2015
          ],
          [
           "Cadillac CTS",
           2015
          ],
          [
           "Cadillac CTS",
           2015
          ],
          [
           "Cadillac CTS",
           2017
          ],
          [
           "Cadillac CTS",
           2017
          ],
          [
           "Cadillac CTS",
           2017
          ],
          [
           "Cadillac CTS",
           2017
          ],
          [
           "Cadillac CTS",
           2017
          ],
          [
           "Cadillac CTS",
           2017
          ],
          [
           "Mazda CX-3",
           2016
          ],
          [
           "Mazda CX-3",
           2016
          ],
          [
           "Mazda CX-3",
           2016
          ],
          [
           "Mazda CX-3",
           2016
          ],
          [
           "Mazda CX-3",
           2016
          ],
          [
           "Mazda CX-3",
           2016
          ],
          [
           "Mazda CX-3",
           2017
          ],
          [
           "Mazda CX-3",
           2017
          ],
          [
           "Mazda CX-3",
           2017
          ],
          [
           "Mazda CX-3",
           2017
          ],
          [
           "Mazda CX-3",
           2017
          ],
          [
           "Mazda CX-5",
           2016
          ],
          [
           "Mazda CX-5",
           2016
          ],
          [
           "Mazda CX-5",
           2016
          ],
          [
           "Mazda CX-5",
           2016
          ],
          [
           "Mazda CX-5",
           2016
          ],
          [
           "Mazda CX-7",
           2010
          ],
          [
           "Mazda CX-7",
           2010
          ],
          [
           "Mazda CX-7",
           2010
          ],
          [
           "Mazda CX-7",
           2010
          ],
          [
           "Mazda CX-7",
           2010
          ],
          [
           "Mazda CX-7",
           2010
          ],
          [
           "Mazda CX-7",
           2011
          ],
          [
           "Mazda CX-7",
           2011
          ],
          [
           "Mazda CX-7",
           2011
          ],
          [
           "Mazda CX-7",
           2011
          ],
          [
           "Mazda CX-7",
           2011
          ],
          [
           "Mazda CX-7",
           2011
          ],
          [
           "Mazda CX-7",
           2011
          ],
          [
           "Mazda CX-7",
           2012
          ],
          [
           "Mazda CX-7",
           2012
          ],
          [
           "Aston Martin DB7",
           2003
          ],
          [
           "Aston Martin DB9",
           2014
          ],
          [
           "Dodge Durango",
           2016
          ],
          [
           "Dodge Durango",
           2016
          ],
          [
           "Dodge Durango",
           2016
          ],
          [
           "Dodge Durango",
           2017
          ],
          [
           "Dodge Durango",
           2017
          ],
          [
           "Dodge Durango",
           2017
          ],
          [
           "Dodge Durango",
           2017
          ],
          [
           "Dodge Durango",
           2017
          ],
          [
           "Dodge Durango",
           2017
          ],
          [
           "Dodge Durango",
           2017
          ],
          [
           "Dodge Durango",
           2017
          ],
          [
           "Mercedes-Benz E-Class",
           2015
          ],
          [
           "Mercedes-Benz E-Class",
           2015
          ],
          [
           "Mercedes-Benz E-Class",
           2015
          ],
          [
           "Mercedes-Benz E-Class",
           2015
          ],
          [
           "Mercedes-Benz E-Class",
           2015
          ],
          [
           "Mercedes-Benz E-Class",
           2015
          ],
          [
           "Mercedes-Benz E-Class",
           2015
          ],
          [
           "Mercedes-Benz E-Class",
           2015
          ],
          [
           "Mercedes-Benz E-Class",
           2015
          ],
          [
           "Mercedes-Benz E-Class",
           2015
          ],
          [
           "Mercedes-Benz E-Class",
           2015
          ],
          [
           "Mercedes-Benz E-Class",
           2015
          ],
          [
           "Mercedes-Benz E-Class",
           2016
          ],
          [
           "Mercedes-Benz E-Class",
           2016
          ],
          [
           "Mercedes-Benz E-Class",
           2016
          ],
          [
           "Mercedes-Benz E-Class",
           2016
          ],
          [
           "Mercedes-Benz E-Class",
           2016
          ],
          [
           "Mercedes-Benz E-Class",
           2016
          ],
          [
           "Mercedes-Benz E-Class",
           2016
          ],
          [
           "Mercedes-Benz E-Class",
           2016
          ],
          [
           "Mercedes-Benz E-Class",
           2016
          ],
          [
           "Mercedes-Benz E-Class",
           2016
          ],
          [
           "Mercedes-Benz E-Class",
           2016
          ],
          [
           "Mercedes-Benz E-Class",
           2016
          ],
          [
           "Mercedes-Benz E-Class",
           2016
          ],
          [
           "Mercedes-Benz E-Class",
           2016
          ],
          [
           "Mercedes-Benz E-Class",
           2016
          ],
          [
           "Mercedes-Benz E-Class",
           2016
          ],
          [
           "Mercedes-Benz E-Class",
           2016
          ],
          [
           "Mercedes-Benz E-Class",
           2016
          ],
          [
           "Mercedes-Benz E-Class",
           2016
          ],
          [
           "Mercedes-Benz E-Class",
           2017
          ],
          [
           "Mercedes-Benz E-Class",
           2017
          ],
          [
           "Mercedes-Benz E-Class",
           2017
          ],
          [
           "Mercedes-Benz E-Class",
           2017
          ],
          [
           "Mercedes-Benz E-Class",
           2017
          ],
          [
           "Mercedes-Benz E-Class",
           2017
          ],
          [
           "Mercedes-Benz E-Class",
           2017
          ],
          [
           "Mercedes-Benz E-Class",
           2017
          ],
          [
           "Mercedes-Benz E-Class",
           2017
          ],
          [
           "Ford E-Series Van",
           2012
          ],
          [
           "Ford E-Series Van",
           2012
          ],
          [
           "Ford E-Series Van",
           2012
          ],
          [
           "Ford E-Series Van",
           2012
          ],
          [
           "Ford E-Series Van",
           2012
          ],
          [
           "Ford E-Series Van",
           2012
          ],
          [
           "Ford E-Series Van",
           2013
          ],
          [
           "Ford E-Series Van",
           2013
          ],
          [
           "Ford E-Series Van",
           2013
          ],
          [
           "Ford E-Series Van",
           2013
          ],
          [
           "Ford E-Series Van",
           2013
          ],
          [
           "Ford E-Series Van",
           2013
          ],
          [
           "Ford E-Series Van",
           2014
          ],
          [
           "Ford E-Series Van",
           2014
          ],
          [
           "Ford E-Series Van",
           2014
          ],
          [
           "Ford E-Series Van",
           2014
          ],
          [
           "Ford E-Series Van",
           2014
          ],
          [
           "Ford E-Series Van",
           2014
          ],
          [
           "Ford E-Series Wagon",
           2012
          ],
          [
           "Ford E-Series Wagon",
           2012
          ],
          [
           "Ford E-Series Wagon",
           2012
          ],
          [
           "Ford E-Series Wagon",
           2012
          ],
          [
           "Ford E-Series Wagon",
           2012
          ],
          [
           "Ford E-Series Wagon",
           2012
          ],
          [
           "Ford E-Series Wagon",
           2013
          ],
          [
           "Ford E-Series Wagon",
           2013
          ],
          [
           "Ford E-Series Wagon",
           2013
          ],
          [
           "Ford E-Series Wagon",
           2013
          ],
          [
           "Ford E-Series Wagon",
           2013
          ],
          [
           "Ford E-Series Wagon",
           2013
          ],
          [
           "Ford E-Series Wagon",
           2014
          ],
          [
           "Ford E-Series Wagon",
           2014
          ],
          [
           "Ford E-Series Wagon",
           2014
          ],
          [
           "Ford E-Series Wagon",
           2014
          ],
          [
           "Ford E-Series Wagon",
           2014
          ],
          [
           "Ford E-Series Wagon",
           2014
          ],
          [
           "Mercedes-Benz E55 AMG",
           1999
          ],
          [
           "Mercedes-Benz E55 AMG",
           2000
          ],
          [
           "Mitsubishi Eclipse Spyder",
           2010
          ],
          [
           "Mitsubishi Eclipse Spyder",
           2011
          ],
          [
           "Mitsubishi Eclipse Spyder",
           2012
          ],
          [
           "Mitsubishi Eclipse",
           2010
          ],
          [
           "Mitsubishi Eclipse",
           2010
          ],
          [
           "Mitsubishi Eclipse",
           2010
          ],
          [
           "Mitsubishi Eclipse",
           2010
          ],
          [
           "Mitsubishi Eclipse",
           2010
          ],
          [
           "Mitsubishi Eclipse",
           2011
          ],
          [
           "Mitsubishi Eclipse",
           2011
          ],
          [
           "Ford Edge",
           2016
          ],
          [
           "Ford Edge",
           2016
          ],
          [
           "Ford Edge",
           2016
          ],
          [
           "Ford Edge",
           2017
          ],
          [
           "Ford Edge",
           2017
          ],
          [
           "Ford Edge",
           2017
          ],
          [
           "Ford Edge",
           2017
          ],
          [
           "Ford Edge",
           2017
          ],
          [
           "Hyundai Elantra Touring",
           2010
          ],
          [
           "Hyundai Elantra Touring",
           2010
          ],
          [
           "Hyundai Elantra Touring",
           2010
          ],
          [
           "Hyundai Elantra Touring",
           2011
          ],
          [
           "Honda Element",
           2009
          ],
          [
           "Honda Element",
           2009
          ],
          [
           "Honda Element",
           2009
          ],
          [
           "Honda Element",
           2009
          ],
          [
           "Honda Element",
           2009
          ],
          [
           "Honda Element",
           2009
          ],
          [
           "Honda Element",
           2009
          ],
          [
           "Honda Element",
           2009
          ],
          [
           "Honda Element",
           2009
          ],
          [
           "Honda Element",
           2009
          ],
          [
           "Honda Element",
           2010
          ],
          [
           "Honda Element",
           2010
          ],
          [
           "Honda Element",
           2010
          ],
          [
           "Honda Element",
           2010
          ],
          [
           "Honda Element",
           2010
          ],
          [
           "Honda Element",
           2010
          ],
          [
           "Honda Element",
           2010
          ],
          [
           "Honda Element",
           2011
          ],
          [
           "Honda Element",
           2011
          ],
          [
           "Honda Element",
           2011
          ],
          [
           "Honda Element",
           2011
          ],
          [
           "Lotus Elise",
           2009
          ],
          [
           "Lotus Elise",
           2009
          ],
          [
           "Lotus Elise",
           2009
          ],
          [
           "Lotus Elise",
           2010
          ],
          [
           "Lotus Elise",
           2010
          ],
          [
           "Lotus Elise",
           2011
          ],
          [
           "Lotus Elise",
           2011
          ],
          [
           "Lotus Elise",
           2011
          ],
          [
           "Buick Enclave",
           2015
          ],
          [
           "Buick Enclave",
           2015
          ],
          [
           "Buick Enclave",
           2015
          ],
          [
           "Buick Enclave",
           2015
          ],
          [
           "Buick Enclave",
           2015
          ],
          [
           "Buick Enclave",
           2016
          ],
          [
           "Buick Enclave",
           2016
          ],
          [
           "Buick Enclave",
           2016
          ],
          [
           "Buick Enclave",
           2016
          ],
          [
           "Buick Enclave",
           2016
          ],
          [
           "Buick Enclave",
           2017
          ],
          [
           "Buick Enclave",
           2017
          ],
          [
           "Buick Enclave",
           2017
          ],
          [
           "Buick Enclave",
           2017
          ],
          [
           "Buick Enclave",
           2017
          ],
          [
           "Buick Encore",
           2015
          ],
          [
           "Buick Encore",
           2015
          ],
          [
           "Buick Encore",
           2015
          ],
          [
           "Buick Encore",
           2015
          ],
          [
           "Buick Encore",
           2015
          ],
          [
           "Buick Encore",
           2015
          ],
          [
           "Buick Encore",
           2015
          ],
          [
           "Buick Encore",
           2015
          ],
          [
           "Buick Encore",
           2016
          ],
          [
           "Buick Encore",
           2016
          ],
          [
           "Buick Encore",
           2016
          ],
          [
           "Buick Encore",
           2016
          ],
          [
           "Buick Encore",
           2016
          ],
          [
           "Buick Encore",
           2016
          ],
          [
           "Buick Encore",
           2016
          ],
          [
           "Buick Encore",
           2016
          ],
          [
           "Buick Encore",
           2016
          ],
          [
           "Buick Encore",
           2016
          ],
          [
           "Buick Encore",
           2017
          ],
          [
           "Buick Encore",
           2017
          ],
          [
           "Buick Encore",
           2017
          ],
          [
           "Buick Encore",
           2017
          ],
          [
           "Buick Encore",
           2017
          ],
          [
           "Buick Encore",
           2017
          ],
          [
           "Buick Encore",
           2017
          ],
          [
           "Buick Encore",
           2017
          ],
          [
           "Buick Encore",
           2017
          ],
          [
           "Buick Encore",
           2017
          ],
          [
           "Chevrolet Equinox",
           2015
          ],
          [
           "Chevrolet Equinox",
           2015
          ],
          [
           "Chevrolet Equinox",
           2016
          ],
          [
           "Chevrolet Equinox",
           2017
          ],
          [
           "Chevrolet Equinox",
           2017
          ],
          [
           "Chevrolet Equinox",
           2017
          ],
          [
           "Chevrolet Equinox",
           2017
          ],
          [
           "Chevrolet Equinox",
           2017
          ],
          [
           "Chevrolet Equinox",
           2017
          ],
          [
           "Chevrolet Equinox",
           2017
          ],
          [
           "Hyundai Equus",
           2014
          ],
          [
           "Hyundai Equus",
           2014
          ],
          [
           "Hyundai Equus",
           2015
          ],
          [
           "Hyundai Equus",
           2015
          ],
          [
           "Hyundai Equus",
           2016
          ],
          [
           "Hyundai Equus",
           2016
          ],
          [
           "Lexus ES 250",
           1990
          ],
          [
           "Lexus ES 250",
           1991
          ],
          [
           "Lexus ES 300h",
           2015
          ],
          [
           "Lexus ES 300h",
           2016
          ],
          [
           "Lexus ES 300h",
           2017
          ],
          [
           "Lexus ES 300",
           2001
          ],
          [
           "Lexus ES 300",
           2002
          ],
          [
           "Lexus ES 300",
           2003
          ],
          [
           "Cadillac Escalade ESV",
           2015
          ],
          [
           "Cadillac Escalade ESV",
           2015
          ],
          [
           "Cadillac Escalade ESV",
           2015
          ],
          [
           "Cadillac Escalade ESV",
           2015
          ],
          [
           "Cadillac Escalade ESV",
           2016
          ],
          [
           "Cadillac Escalade ESV",
           2016
          ],
          [
           "Cadillac Escalade ESV",
           2016
          ],
          [
           "Cadillac Escalade ESV",
           2016
          ],
          [
           "Cadillac Escalade ESV",
           2016
          ],
          [
           "Cadillac Escalade ESV",
           2016
          ],
          [
           "Cadillac Escalade ESV",
           2017
          ],
          [
           "Cadillac Escalade ESV",
           2017
          ],
          [
           "Cadillac Escalade ESV",
           2017
          ],
          [
           "Cadillac Escalade ESV",
           2017
          ],
          [
           "Cadillac Escalade ESV",
           2017
          ],
          [
           "Cadillac Escalade ESV",
           2017
          ],
          [
           "Cadillac Escalade ESV",
           2017
          ],
          [
           "Cadillac Escalade EXT",
           2011
          ],
          [
           "Cadillac Escalade EXT",
           2011
          ],
          [
           "Cadillac Escalade EXT",
           2011
          ],
          [
           "Cadillac Escalade EXT",
           2012
          ],
          [
           "Cadillac Escalade EXT",
           2012
          ],
          [
           "Cadillac Escalade EXT",
           2012
          ],
          [
           "Cadillac Escalade EXT",
           2013
          ],
          [
           "Cadillac Escalade EXT",
           2013
          ],
          [
           "Cadillac Escalade EXT",
           2013
          ],
          [
           "Cadillac Escalade Hybrid",
           2011
          ],
          [
           "Cadillac Escalade Hybrid",
           2011
          ],
          [
           "Cadillac Escalade Hybrid",
           2011
          ],
          [
           "Cadillac Escalade Hybrid",
           2011
          ],
          [
           "Cadillac Escalade Hybrid",
           2012
          ],
          [
           "Cadillac Escalade Hybrid",
           2012
          ],
          [
           "Cadillac Escalade Hybrid",
           2012
          ],
          [
           "Cadillac Escalade Hybrid",
           2012
          ],
          [
           "Cadillac Escalade Hybrid",
           2013
          ],
          [
           "Cadillac Escalade Hybrid",
           2013
          ],
          [
           "Cadillac Escalade Hybrid",
           2013
          ],
          [
           "Cadillac Escalade Hybrid",
           2013
          ],
          [
           "Cadillac Escalade",
           2015
          ],
          [
           "Cadillac Escalade",
           2015
          ],
          [
           "Cadillac Escalade",
           2015
          ],
          [
           "Cadillac Escalade",
           2015
          ],
          [
           "Cadillac Escalade",
           2015
          ],
          [
           "Cadillac Escalade",
           2015
          ],
          [
           "Cadillac Escalade",
           2015
          ],
          [
           "Cadillac Escalade",
           2015
          ],
          [
           "Cadillac Escalade",
           2015
          ],
          [
           "Cadillac Escalade",
           2015
          ],
          [
           "Cadillac Escalade",
           2015
          ],
          [
           "Cadillac Escalade",
           2015
          ],
          [
           "Cadillac Escalade",
           2015
          ],
          [
           "Cadillac Escalade",
           2015
          ],
          [
           "Cadillac Escalade",
           2016
          ],
          [
           "Cadillac Escalade",
           2016
          ],
          [
           "Ford Escape Hybrid",
           2011
          ],
          [
           "Ford Escape",
           2015
          ],
          [
           "Ford Escape",
           2015
          ],
          [
           "Ford Escape",
           2015
          ],
          [
           "Ford Escape",
           2015
          ],
          [
           "Ford Escape",
           2015
          ],
          [
           "Ford Escape",
           2016
          ],
          [
           "Ford Escape",
           2017
          ],
          [
           "Lotus Evora 400",
           2017
          ],
          [
           "Lotus Evora 400",
           2017
          ],
          [
           "Lotus Evora",
           2011
          ],
          [
           "Lotus Evora",
           2011
          ],
          [
           "Lotus Evora",
           2013
          ],
          [
           "Lotus Evora",
           2013
          ],
          [
           "Lotus Evora",
           2013
          ],
          [
           "Lotus Evora",
           2013
          ],
          [
           "Lotus Evora",
           2014
          ],
          [
           "Lotus Evora",
           2014
          ],
          [
           "Lotus Evora",
           2014
          ],
          [
           "Lotus Evora",
           2014
          ],
          [
           "Infiniti EX35",
           2008
          ],
          [
           "Infiniti EX35",
           2008
          ],
          [
           "Infiniti EX35",
           2008
          ],
          [
           "Infiniti EX35",
           2008
          ],
          [
           "Infiniti EX35",
           2009
          ],
          [
           "Infiniti EX35",
           2009
          ],
          [
           "Infiniti EX35",
           2009
          ],
          [
           "Infiniti EX35",
           2009
          ],
          [
           "Infiniti EX35",
           2010
          ],
          [
           "Infiniti EX35",
           2010
          ],
          [
           "Infiniti EX35",
           2010
          ],
          [
           "Infiniti EX35",
           2010
          ],
          [
           "Hyundai Excel",
           1992
          ],
          [
           "Hyundai Excel",
           1992
          ],
          [
           "Hyundai Excel",
           1993
          ],
          [
           "Hyundai Excel",
           1993
          ],
          [
           "Hyundai Excel",
           1994
          ],
          [
           "Hyundai Excel",
           1994
          ],
          [
           "Lotus Exige",
           2009
          ],
          [
           "Lotus Exige",
           2009
          ],
          [
           "Lotus Exige",
           2010
          ],
          [
           "Lotus Exige",
           2011
          ],
          [
           "Lotus Exige",
           2011
          ],
          [
           "Lotus Exige",
           2011
          ],
          [
           "Infiniti EX",
           2011
          ],
          [
           "Infiniti EX",
           2011
          ],
          [
           "Infiniti EX",
           2011
          ],
          [
           "Infiniti EX",
           2011
          ],
          [
           "Infiniti EX",
           2012
          ],
          [
           "Infiniti EX",
           2012
          ],
          [
           "Infiniti EX",
           2012
          ],
          [
           "Infiniti EX",
           2012
          ],
          [
           "Infiniti EX",
           2013
          ],
          [
           "Infiniti EX",
           2013
          ],
          [
           "Infiniti EX",
           2013
          ],
          [
           "Infiniti EX",
           2013
          ],
          [
           "Ford Explorer Sport Trac",
           2009
          ],
          [
           "Ford Explorer Sport Trac",
           2009
          ],
          [
           "Ford Explorer Sport Trac",
           2009
          ],
          [
           "Ford Explorer Sport Trac",
           2009
          ],
          [
           "Ford Explorer Sport Trac",
           2009
          ],
          [
           "Ford Explorer Sport Trac",
           2009
          ],
          [
           "Ford Explorer Sport Trac",
           2009
          ],
          [
           "Ford Explorer Sport Trac",
           2009
          ],
          [
           "Ford Explorer Sport Trac",
           2009
          ],
          [
           "Ford Explorer Sport Trac",
           2009
          ],
          [
           "Ford Explorer Sport Trac",
           2009
          ],
          [
           "Ford Explorer Sport Trac",
           2010
          ],
          [
           "Ford Explorer Sport Trac",
           2010
          ],
          [
           "Ford Explorer Sport Trac",
           2010
          ],
          [
           "Ford Explorer Sport Trac",
           2010
          ],
          [
           "Ford Explorer Sport Trac",
           2010
          ],
          [
           "Ford Explorer",
           2017
          ],
          [
           "Ford Explorer",
           2017
          ],
          [
           "Chevrolet Express",
           2014
          ],
          [
           "Chevrolet Express",
           2014
          ],
          [
           "Chevrolet Express",
           2015
          ],
          [
           "Chevrolet Express",
           2015
          ],
          [
           "Chevrolet Express",
           2015
          ],
          [
           "Chevrolet Express",
           2015
          ],
          [
           "Chevrolet Express",
           2015
          ],
          [
           "Ferrari F430",
           2008
          ],
          [
           "Ferrari F430",
           2008
          ],
          [
           "Ferrari F430",
           2008
          ],
          [
           "Ferrari F430",
           2009
          ],
          [
           "Ferrari F430",
           2009
          ],
          [
           "Ferrari F430",
           2009
          ],
          [
           "Ferrari F430",
           2009
          ],
          [
           "Ford Fiesta",
           2016
          ],
          [
           "Ford Fiesta",
           2017
          ],
          [
           "Ford Fiesta",
           2017
          ],
          [
           "Ford Fiesta",
           2017
          ],
          [
           "Ford Fiesta",
           2017
          ],
          [
           "Pontiac Firebird",
           2000
          ],
          [
           "Pontiac Firebird",
           2000
          ],
          [
           "Pontiac Firebird",
           2000
          ],
          [
           "Pontiac Firebird",
           2000
          ],
          [
           "Pontiac Firebird",
           2000
          ],
          [
           "Pontiac Firebird",
           2001
          ],
          [
           "Pontiac Firebird",
           2001
          ],
          [
           "Ford Flex",
           2016
          ],
          [
           "Ford Flex",
           2016
          ],
          [
           "Ford Flex",
           2016
          ],
          [
           "Ford Flex",
           2017
          ],
          [
           "Ford Flex",
           2017
          ],
          [
           "Ford Flex",
           2017
          ],
          [
           "Ford Focus",
           2015
          ],
          [
           "Ford Focus",
           2015
          ],
          [
           "Ford Focus",
           2016
          ],
          [
           "Ford Focus",
           2016
          ],
          [
           "Ford Focus",
           2016
          ],
          [
           "Ford Focus",
           2016
          ],
          [
           "Ford Focus",
           2016
          ],
          [
           "Ford Focus",
           2017
          ],
          [
           "Ford Focus",
           2017
          ],
          [
           "Ford Focus",
           2017
          ],
          [
           "Ford Focus",
           2017
          ],
          [
           "Ford Focus",
           2017
          ],
          [
           "Ford Focus",
           2017
          ],
          [
           "Subaru Forester",
           2017
          ],
          [
           "Subaru Forester",
           2017
          ],
          [
           "Subaru Forester",
           2017
          ],
          [
           "Subaru Forester",
           2017
          ],
          [
           "Subaru Forester",
           2017
          ],
          [
           "Subaru Forester",
           2017
          ],
          [
           "Subaru Forester",
           2017
          ],
          [
           "Subaru Forester",
           2017
          ],
          [
           "Kia Forte",
           2015
          ],
          [
           "Kia Forte",
           2015
          ],
          [
           "Kia Forte",
           2015
          ],
          [
           "Kia Forte",
           2015
          ],
          [
           "Kia Forte",
           2015
          ],
          [
           "Kia Forte",
           2016
          ],
          [
           "Kia Forte",
           2016
          ],
          [
           "Land Rover Freelander",
           2004
          ],
          [
           "Infiniti G Convertible",
           2012
          ],
          [
           "Infiniti G Convertible",
           2013
          ],
          [
           "Infiniti G Convertible",
           2013
          ],
          [
           "Infiniti G Convertible",
           2013
          ],
          [
           "Infiniti G Coupe",
           2011
          ],
          [
           "Infiniti G Coupe",
           2011
          ],
          [
           "Infiniti G Coupe",
           2011
          ],
          [
           "Infiniti G Coupe",
           2011
          ],
          [
           "Infiniti G Coupe",
           2011
          ],
          [
           "Infiniti G Coupe",
           2011
          ],
          [
           "Infiniti G Coupe",
           2012
          ],
          [
           "Infiniti G Coupe",
           2012
          ],
          [
           "Infiniti G Coupe",
           2012
          ],
          [
           "Infiniti G Coupe",
           2012
          ],
          [
           "Infiniti G Coupe",
           2012
          ],
          [
           "Infiniti G Coupe",
           2012
          ],
          [
           "Infiniti G Coupe",
           2013
          ],
          [
           "Infiniti G Sedan",
           2011
          ],
          [
           "Infiniti G Sedan",
           2011
          ],
          [
           "Infiniti G Sedan",
           2011
          ],
          [
           "Infiniti G Sedan",
           2011
          ],
          [
           "Infiniti G Sedan",
           2011
          ],
          [
           "Infiniti G Sedan",
           2011
          ],
          [
           "Infiniti G Sedan",
           2011
          ],
          [
           "Infiniti G Sedan",
           2012
          ],
          [
           "Infiniti G Sedan",
           2012
          ],
          [
           "Infiniti G Sedan",
           2012
          ],
          [
           "Infiniti G Sedan",
           2012
          ],
          [
           "Infiniti G Sedan",
           2012
          ],
          [
           "Infiniti G Sedan",
           2012
          ],
          [
           "Infiniti G Sedan",
           2012
          ],
          [
           "Infiniti G Sedan",
           2012
          ],
          [
           "Infiniti G Sedan",
           2012
          ],
          [
           "Infiniti G Sedan",
           2012
          ],
          [
           "Infiniti G Sedan",
           2013
          ],
          [
           "Infiniti G Sedan",
           2013
          ],
          [
           "Infiniti G20",
           2000
          ],
          [
           "Infiniti G20",
           2000
          ],
          [
           "Infiniti G20",
           2001
          ],
          [
           "Infiniti G20",
           2001
          ],
          [
           "Infiniti G20",
           2001
          ],
          [
           "Infiniti G20",
           2002
          ],
          [
           "Infiniti G20",
           2002
          ],
          [
           "Infiniti G35",
           2006
          ],
          [
           "Infiniti G35",
           2006
          ],
          [
           "Infiniti G35",
           2006
          ],
          [
           "Infiniti G35",
           2007
          ],
          [
           "Infiniti G35",
           2007
          ],
          [
           "Infiniti G35",
           2007
          ],
          [
           "Infiniti G35",
           2007
          ],
          [
           "Infiniti G35",
           2007
          ],
          [
           "Infiniti G35",
           2007
          ],
          [
           "Infiniti G35",
           2007
          ],
          [
           "Infiniti G35",
           2008
          ],
          [
           "Infiniti G35",
           2008
          ],
          [
           "Infiniti G35",
           2008
          ],
          [
           "Infiniti G35",
           2008
          ],
          [
           "Infiniti G37 Convertible",
           2010
          ],
          [
           "Infiniti G37 Convertible",
           2010
          ],
          [
           "Infiniti G37 Convertible",
           2010
          ],
          [
           "Infiniti G37 Coupe",
           2010
          ],
          [
           "Infiniti G37 Coupe",
           2010
          ],
          [
           "Infiniti G37 Coupe",
           2010
          ],
          [
           "Infiniti G37 Coupe",
           2010
          ],
          [
           "Infiniti G37 Coupe",
           2010
          ],
          [
           "Infiniti G37 Sedan",
           2010
          ],
          [
           "Infiniti G37 Sedan",
           2010
          ],
          [
           "Infiniti G37 Sedan",
           2010
          ],
          [
           "Infiniti G37 Sedan",
           2010
          ],
          [
           "Infiniti G37 Sedan",
           2010
          ],
          [
           "Infiniti G37 Sedan",
           2010
          ],
          [
           "Infiniti G37",
           2008
          ],
          [
           "Infiniti G37",
           2008
          ],
          [
           "Infiniti G37",
           2008
          ],
          [
           "Infiniti G37",
           2009
          ],
          [
           "Infiniti G37",
           2009
          ],
          [
           "Infiniti G37",
           2009
          ],
          [
           "Infiniti G37",
           2009
          ],
          [
           "Infiniti G37",
           2009
          ],
          [
           "Infiniti G37",
           2009
          ],
          [
           "Infiniti G37",
           2009
          ],
          [
           "Infiniti G37",
           2009
          ],
          [
           "Pontiac G3",
           2009
          ],
          [
           "Pontiac G6",
           2008
          ],
          [
           "Lamborghini Gallardo",
           2013
          ],
          [
           "Lamborghini Gallardo",
           2013
          ],
          [
           "Lamborghini Gallardo",
           2013
          ],
          [
           "Lamborghini Gallardo",
           2013
          ],
          [
           "Volkswagen GLI",
           2012
          ],
          [
           "Volkswagen GLI",
           2012
          ],
          [
           "Volkswagen GLI",
           2012
          ],
          [
           "Volkswagen GLI",
           2012
          ],
          [
           "Volkswagen GLI",
           2012
          ],
          [
           "Volkswagen GLI",
           2012
          ],
          [
           "Volkswagen GLI",
           2012
          ],
          [
           "Volkswagen GLI",
           2012
          ],
          [
           "Volkswagen GLI",
           2012
          ],
          [
           "Volkswagen GLI",
           2012
          ],
          [
           "Volkswagen GLI",
           2012
          ],
          [
           "Mercedes-Benz GLK-Class",
           2013
          ],
          [
           "Mercedes-Benz GLK-Class",
           2013
          ],
          [
           "Mercedes-Benz GLK-Class",
           2013
          ],
          [
           "Mercedes-Benz GLK-Class",
           2014
          ],
          [
           "Mercedes-Benz GLK-Class",
           2014
          ],
          [
           "Mercedes-Benz GLK-Class",
           2014
          ],
          [
           "Mercedes-Benz GLK-Class",
           2015
          ],
          [
           "Mercedes-Benz GLK-Class",
           2015
          ],
          [
           "Mercedes-Benz GLK-Class",
           2015
          ],
          [
           "Mercedes-Benz GLS-Class",
           2017
          ],
          [
           "Mercedes-Benz GLS-Class",
           2017
          ],
          [
           "Mercedes-Benz GLS-Class",
           2017
          ],
          [
           "Volkswagen Golf Alltrack",
           2017
          ],
          [
           "Volkswagen Golf Alltrack",
           2017
          ],
          [
           "Volkswagen Golf Alltrack",
           2017
          ],
          [
           "Volkswagen Golf Alltrack",
           2017
          ],
          [
           "Volkswagen Golf Alltrack",
           2017
          ],
          [
           "Volkswagen Golf GTI",
           2015
          ],
          [
           "Volkswagen Golf GTI",
           2015
          ],
          [
           "Volkswagen Golf GTI",
           2015
          ],
          [
           "Volkswagen Golf GTI",
           2015
          ],
          [
           "Volkswagen Golf GTI",
           2015
          ],
          [
           "Volkswagen Golf GTI",
           2015
          ],
          [
           "Volkswagen Golf GTI",
           2015
          ],
          [
           "Volkswagen Golf GTI",
           2015
          ],
          [
           "Volkswagen Golf GTI",
           2015
          ],
          [
           "Volkswagen Golf GTI",
           2015
          ],
          [
           "Volkswagen Golf GTI",
           2015
          ],
          [
           "Volkswagen Golf GTI",
           2015
          ],
          [
           "Volkswagen Golf GTI",
           2015
          ],
          [
           "Volkswagen Golf GTI",
           2015
          ],
          [
           "Volkswagen Golf GTI",
           2015
          ],
          [
           "Volkswagen Golf GTI",
           2015
          ],
          [
           "Volkswagen Golf GTI",
           2015
          ],
          [
           "Volkswagen Golf GTI",
           2015
          ],
          [
           "Volkswagen Golf GTI",
           2016
          ],
          [
           "Volkswagen Golf GTI",
           2016
          ],
          [
           "Volkswagen Golf GTI",
           2016
          ],
          [
           "Volkswagen Golf GTI",
           2016
          ],
          [
           "Volkswagen Golf GTI",
           2016
          ],
          [
           "Volkswagen Golf GTI",
           2016
          ],
          [
           "Volkswagen Golf GTI",
           2016
          ],
          [
           "Volkswagen Golf GTI",
           2016
          ],
          [
           "Volkswagen Golf GTI",
           2016
          ],
          [
           "Volkswagen Golf GTI",
           2017
          ],
          [
           "Volkswagen Golf GTI",
           2017
          ],
          [
           "Volkswagen Golf GTI",
           2017
          ],
          [
           "Volkswagen Golf GTI",
           2017
          ],
          [
           "Volkswagen Golf GTI",
           2017
          ],
          [
           "Volkswagen Golf R",
           2016
          ],
          [
           "Volkswagen Golf R",
           2017
          ],
          [
           "Volkswagen Golf R",
           2017
          ],
          [
           "Volkswagen Golf R",
           2017
          ],
          [
           "Volkswagen Golf SportWagen",
           2015
          ],
          [
           "Volkswagen Golf SportWagen",
           2015
          ],
          [
           "Volkswagen Golf",
           2015
          ],
          [
           "Volkswagen Golf",
           2015
          ],
          [
           "Volkswagen Golf",
           2015
          ],
          [
           "Volkswagen Golf",
           2015
          ],
          [
           "Volkswagen Golf",
           2015
          ],
          [
           "Volkswagen Golf",
           2015
          ],
          [
           "Volkswagen Golf",
           2015
          ],
          [
           "Volkswagen Golf",
           2015
          ],
          [
           "Volkswagen Golf",
           2015
          ],
          [
           "Volkswagen Golf",
           2015
          ],
          [
           "Volkswagen Golf",
           2016
          ],
          [
           "Volkswagen Golf",
           2016
          ],
          [
           "Volkswagen Golf",
           2016
          ],
          [
           "Volkswagen Golf",
           2016
          ],
          [
           "Volkswagen Golf",
           2016
          ],
          [
           "Volkswagen Golf",
           2016
          ],
          [
           "Volkswagen Golf",
           2017
          ],
          [
           "Volkswagen Golf",
           2017
          ],
          [
           "Dodge Grand Caravan",
           2015
          ],
          [
           "Dodge Grand Caravan",
           2015
          ],
          [
           "Dodge Grand Caravan",
           2016
          ],
          [
           "Dodge Grand Caravan",
           2016
          ],
          [
           "Dodge Grand Caravan",
           2016
          ],
          [
           "Pontiac Grand Prix",
           2007
          ],
          [
           "Suzuki Grand Vitara",
           2011
          ],
          [
           "Lexus GS 300",
           2004
          ],
          [
           "Lexus GS 300",
           2006
          ],
          [
           "Lexus GS 350",
           2015
          ],
          [
           "Lexus GS 350",
           2015
          ],
          [
           "Volkswagen GTI",
           2012
          ],
          [
           "Volkswagen GTI",
           2013
          ],
          [
           "Volkswagen GTI",
           2013
          ],
          [
           "Volkswagen GTI",
           2013
          ],
          [
           "Volkswagen GTI",
           2013
          ],
          [
           "Volkswagen GTI",
           2013
          ],
          [
           "HUMMER H3",
           2009
          ],
          [
           "HUMMER H3",
           2009
          ],
          [
           "HUMMER H3",
           2010
          ],
          [
           "HUMMER H3",
           2010
          ],
          [
           "HUMMER H3",
           2010
          ],
          [
           "HUMMER H3",
           2010
          ],
          [
           "HUMMER H3T",
           2009
          ],
          [
           "HUMMER H3T",
           2009
          ],
          [
           "HUMMER H3T",
           2010
          ],
          [
           "HUMMER H3T",
           2010
          ],
          [
           "HUMMER H3T",
           2010
          ],
          [
           "HUMMER H3T",
           2010
          ],
          [
           "HUMMER H3T",
           2010
          ],
          [
           "Chevrolet HHR",
           2009
          ],
          [
           "Chevrolet HHR",
           2009
          ],
          [
           "Chevrolet HHR",
           2009
          ],
          [
           "Chevrolet HHR",
           2009
          ],
          [
           "Chevrolet HHR",
           2009
          ],
          [
           "Chevrolet HHR",
           2009
          ],
          [
           "Chevrolet HHR",
           2010
          ],
          [
           "Chevrolet HHR",
           2010
          ],
          [
           "Chevrolet HHR",
           2010
          ],
          [
           "Chevrolet HHR",
           2010
          ],
          [
           "Chevrolet HHR",
           2011
          ],
          [
           "Chevrolet HHR",
           2011
          ],
          [
           "Toyota Highlander Hybrid",
           2014
          ],
          [
           "BMW i3",
           2015
          ],
          [
           "BMW i3",
           2016
          ],
          [
           "BMW i3",
           2017
          ],
          [
           "BMW i3",
           2017
          ],
          [
           "Acura ILX Hybrid",
           2014
          ],
          [
           "Acura ILX Hybrid",
           2014
          ],
          [
           "Acura ILX",
           2015
          ],
          [
           "Acura ILX",
           2015
          ],
          [
           "Acura ILX",
           2015
          ],
          [
           "Acura ILX",
           2015
          ],
          [
           "Acura ILX",
           2016
          ],
          [
           "Acura ILX",
           2016
          ],
          [
           "Acura ILX",
           2016
          ],
          [
           "Acura ILX",
           2016
          ],
          [
           "Acura ILX",
           2016
          ],
          [
           "Acura ILX",
           2016
          ],
          [
           "Acura ILX",
           2017
          ],
          [
           "Acura ILX",
           2017
          ],
          [
           "Acura ILX",
           2017
          ],
          [
           "Acura ILX",
           2017
          ],
          [
           "Acura ILX",
           2017
          ],
          [
           "Acura ILX",
           2017
          ],
          [
           "Chevrolet Impala Limited",
           2014
          ],
          [
           "Chevrolet Impala Limited",
           2014
          ],
          [
           "Chevrolet Impala Limited",
           2014
          ],
          [
           "Chevrolet Impala Limited",
           2015
          ],
          [
           "Chevrolet Impala Limited",
           2015
          ],
          [
           "Chevrolet Impala Limited",
           2015
          ],
          [
           "Chevrolet Impala Limited",
           2016
          ],
          [
           "Subaru Impreza WRX",
           2014
          ],
          [
           "Subaru Impreza WRX",
           2014
          ],
          [
           "Subaru Impreza WRX",
           2014
          ],
          [
           "Subaru Impreza WRX",
           2014
          ],
          [
           "Subaru Impreza",
           2015
          ],
          [
           "Subaru Impreza",
           2015
          ],
          [
           "Subaru Impreza",
           2015
          ],
          [
           "Subaru Impreza",
           2015
          ],
          [
           "Subaru Impreza",
           2015
          ],
          [
           "Subaru Impreza",
           2015
          ],
          [
           "Subaru Impreza",
           2015
          ],
          [
           "Subaru Impreza",
           2016
          ],
          [
           "Scion iM",
           2016
          ],
          [
           "Honda Insight",
           2012
          ],
          [
           "Honda Insight",
           2012
          ],
          [
           "Honda Insight",
           2012
          ],
          [
           "Honda Insight",
           2012
          ],
          [
           "Honda Insight",
           2012
          ],
          [
           "Honda Insight",
           2012
          ],
          [
           "Honda Insight",
           2012
          ],
          [
           "Honda Insight",
           2012
          ],
          [
           "Honda Insight",
           2013
          ],
          [
           "Acura Integra",
           2001
          ],
          [
           "Acura Integra",
           2001
          ],
          [
           "Acura Integra",
           2001
          ],
          [
           "Acura Integra",
           2001
          ],
          [
           "Acura Integra",
           2001
          ],
          [
           "Acura Integra",
           2001
          ],
          [
           "Acura Integra",
           2001
          ],
          [
           "Acura Integra",
           2001
          ],
          [
           "Acura Integra",
           2001
          ],
          [
           "Acura Integra",
           2001
          ],
          [
           "Acura Integra",
           2001
          ],
          [
           "Dodge Intrepid",
           2002
          ],
          [
           "Volkswagen Jetta GLI",
           2013
          ],
          [
           "Volkswagen Jetta GLI",
           2013
          ],
          [
           "Volkswagen Jetta GLI",
           2013
          ],
          [
           "Volkswagen Jetta GLI",
           2013
          ],
          [
           "Volkswagen Jetta GLI",
           2013
          ],
          [
           "Volkswagen Jetta GLI",
           2014
          ],
          [
           "Volkswagen Jetta GLI",
           2014
          ],
          [
           "Volkswagen Jetta SportWagen",
           2013
          ],
          [
           "Volkswagen Jetta SportWagen",
           2014
          ],
          [
           "Volkswagen Jetta SportWagen",
           2014
          ],
          [
           "Volkswagen Jetta SportWagen",
           2014
          ],
          [
           "Volkswagen Jetta SportWagen",
           2014
          ],
          [
           "Volkswagen Jetta SportWagen",
           2014
          ],
          [
           "Volkswagen Jetta",
           2015
          ],
          [
           "Volkswagen Jetta",
           2015
          ],
          [
           "Volkswagen Jetta",
           2016
          ],
          [
           "Volkswagen Jetta",
           2016
          ],
          [
           "Volkswagen Jetta",
           2016
          ],
          [
           "Volkswagen Jetta",
           2016
          ],
          [
           "Volkswagen Jetta",
           2016
          ],
          [
           "Volkswagen Jetta",
           2016
          ],
          [
           "Dodge Journey",
           2015
          ],
          [
           "Dodge Journey",
           2015
          ],
          [
           "Dodge Journey",
           2015
          ],
          [
           "Dodge Journey",
           2015
          ],
          [
           "Dodge Journey",
           2015
          ],
          [
           "Dodge Journey",
           2015
          ],
          [
           "Dodge Journey",
           2015
          ],
          [
           "Dodge Journey",
           2015
          ],
          [
           "Dodge Journey",
           2016
          ],
          [
           "Dodge Journey",
           2016
          ],
          [
           "Infiniti JX",
           2013
          ],
          [
           "Infiniti JX",
           2013
          ],
          [
           "Kia K900",
           2015
          ],
          [
           "Kia K900",
           2016
          ],
          [
           "Kia K900",
           2016
          ],
          [
           "Infiniti M37",
           2011
          ],
          [
           "BMW M3",
           2017
          ],
          [
           "BMW M4 GTS",
           2016
          ],
          [
           "Infiniti M45",
           2009
          ],
          [
           "Porsche Macan",
           2017
          ],
          [
           "Dodge Magnum",
           2006
          ],
          [
           "Dodge Magnum",
           2007
          ],
          [
           "Dodge Magnum",
           2007
          ],
          [
           "Dodge Magnum",
           2008
          ],
          [
           "Dodge Magnum",
           2008
          ],
          [
           "Chevrolet Malibu Hybrid",
           2008
          ],
          [
           "Chevrolet Malibu Hybrid",
           2009
          ],
          [
           "Chevrolet Malibu Hybrid",
           2010
          ],
          [
           "Chevrolet Malibu Maxx",
           2005
          ],
          [
           "Chevrolet Malibu Maxx",
           2005
          ],
          [
           "Chevrolet Malibu Maxx",
           2005
          ],
          [
           "Chevrolet Malibu Maxx",
           2006
          ],
          [
           "Chevrolet Malibu Maxx",
           2006
          ],
          [
           "Chevrolet Malibu Maxx",
           2006
          ],
          [
           "Chevrolet Malibu Maxx",
           2006
          ],
          [
           "Chevrolet Malibu Maxx",
           2007
          ],
          [
           "Chevrolet Malibu Maxx",
           2007
          ],
          [
           "Chevrolet Malibu Maxx",
           2007
          ],
          [
           "Lincoln Mark LT",
           2007
          ],
          [
           "Lincoln Mark LT",
           2008
          ],
          [
           "Lincoln Mark LT",
           2008
          ],
          [
           "Lincoln Mark VIII",
           1996
          ],
          [
           "Lincoln Mark VIII",
           1997
          ],
          [
           "Lincoln Mark VIII",
           1998
          ],
          [
           "Lincoln Mark VII",
           1990
          ],
          [
           "Lincoln Mark VII",
           1990
          ],
          [
           "Lincoln Mark VII",
           1992
          ],
          [
           "Toyota Matrix",
           2011
          ],
          [
           "Toyota Matrix",
           2012
          ],
          [
           "Toyota Matrix",
           2012
          ],
          [
           "Toyota Matrix",
           2012
          ],
          [
           "Toyota Matrix",
           2012
          ],
          [
           "Toyota Matrix",
           2013
          ],
          [
           "Toyota Matrix",
           2013
          ],
          [
           "Toyota Matrix",
           2013
          ],
          [
           "Toyota Matrix",
           2013
          ],
          [
           "Toyota Matrix",
           2013
          ],
          [
           "Nissan Maxima",
           2014
          ],
          [
           "Nissan Maxima",
           2014
          ],
          [
           "Nissan Maxima",
           2016
          ],
          [
           "Nissan Maxima",
           2016
          ],
          [
           "Nissan Maxima",
           2016
          ],
          [
           "Nissan Maxima",
           2016
          ],
          [
           "Nissan Maxima",
           2016
          ],
          [
           "Nissan Maxima",
           2017
          ],
          [
           "Nissan Maxima",
           2017
          ],
          [
           "Nissan Maxima",
           2017
          ],
          [
           "Nissan Maxima",
           2017
          ],
          [
           "Nissan Maxima",
           2017
          ],
          [
           "Mercedes-Benz Maybach",
           2016
          ],
          [
           "Mercedes-Benz Maybach",
           2017
          ],
          [
           "Mazda Mazdaspeed 3",
           2011
          ],
          [
           "Mazda Mazdaspeed 3",
           2012
          ],
          [
           "Mazda Mazdaspeed 3",
           2013
          ],
          [
           "Mazda Mazdaspeed 6",
           2006
          ],
          [
           "Mazda Mazdaspeed 6",
           2006
          ],
          [
           "Mazda Mazdaspeed 6",
           2007
          ],
          [
           "Mazda Mazdaspeed 6",
           2007
          ],
          [
           "Mazda Mazdaspeed MX-5 Miata",
           2004
          ],
          [
           "Mazda Mazdaspeed MX-5 Miata",
           2005
          ],
          [
           "Mazda Mazdaspeed MX-5 Miata",
           2005
          ],
          [
           "Mazda Mazdaspeed Protege",
           2003
          ],
          [
           "Mazda Mazdaspeed Protege",
           2003
          ],
          [
           "BMW M",
           2001
          ],
          [
           "BMW M",
           2001
          ],
          [
           "BMW M",
           2002
          ],
          [
           "BMW M",
           2006
          ],
          [
           "BMW M",
           2006
          ],
          [
           "Acura MDX",
           2015
          ],
          [
           "Acura MDX",
           2015
          ],
          [
           "Acura MDX",
           2015
          ],
          [
           "Acura MDX",
           2015
          ],
          [
           "Lincoln MKX",
           2016
          ],
          [
           "Lincoln MKX",
           2016
          ],
          [
           "Lincoln MKX",
           2016
          ],
          [
           "Lincoln MKX",
           2017
          ],
          [
           "Lincoln MKX",
           2017
          ],
          [
           "Lincoln MKX",
           2017
          ],
          [
           "Lincoln MKX",
           2017
          ],
          [
           "Lincoln MKX",
           2017
          ],
          [
           "Lincoln MKX",
           2017
          ],
          [
           "Lincoln MKZ Hybrid",
           2011
          ],
          [
           "Lincoln MKZ",
           2015
          ],
          [
           "Lincoln MKZ",
           2015
          ],
          [
           "Lincoln MKZ",
           2015
          ],
          [
           "Lincoln MKZ",
           2015
          ],
          [
           "Lincoln MKZ",
           2015
          ],
          [
           "Lincoln MKZ",
           2015
          ],
          [
           "Lincoln MKZ",
           2016
          ],
          [
           "Lincoln MKZ",
           2016
          ],
          [
           "Lincoln MKZ",
           2016
          ],
          [
           "Lincoln MKZ",
           2016
          ],
          [
           "Lincoln MKZ",
           2016
          ],
          [
           "Lincoln MKZ",
           2016
          ],
          [
           "Lincoln MKZ",
           2017
          ],
          [
           "Chevrolet Monte Carlo",
           2006
          ],
          [
           "Chevrolet Monte Carlo",
           2006
          ],
          [
           "Chevrolet Monte Carlo",
           2007
          ],
          [
           "Chevrolet Monte Carlo",
           2007
          ],
          [
           "Chevrolet Monte Carlo",
           2007
          ],
          [
           "McLaren MP4-12C",
           2012
          ],
          [
           "McLaren MP4-12C",
           2013
          ],
          [
           "Toyota MR2 Spyder",
           2003
          ],
          [
           "Toyota MR2 Spyder",
           2003
          ],
          [
           "Toyota MR2 Spyder",
           2004
          ],
          [
           "Toyota MR2 Spyder",
           2004
          ],
          [
           "Nissan Murano",
           2016
          ],
          [
           "Nissan Murano",
           2016
          ],
          [
           "Nissan Murano",
           2016
          ],
          [
           "Nissan Murano",
           2016
          ],
          [
           "Nissan Murano",
           2017
          ],
          [
           "Nissan Murano",
           2017
          ],
          [
           "Nissan Murano",
           2017
          ],
          [
           "Nissan Murano",
           2017
          ],
          [
           "Nissan Murano",
           2017
          ],
          [
           "Nissan Murano",
           2017
          ],
          [
           "Nissan Murano",
           2017
          ],
          [
           "Nissan Murano",
           2017
          ],
          [
           "Lamborghini Murcielago",
           2008
          ],
          [
           "Lamborghini Murcielago",
           2008
          ],
          [
           "Lamborghini Murcielago",
           2008
          ],
          [
           "Lamborghini Murcielago",
           2008
          ],
          [
           "Lamborghini Murcielago",
           2009
          ],
          [
           "Lamborghini Murcielago",
           2009
          ],
          [
           "Lamborghini Murcielago",
           2009
          ],
          [
           "Lamborghini Murcielago",
           2009
          ],
          [
           "Lamborghini Murcielago",
           2010
          ],
          [
           "Ford Mustang SVT Cobra",
           1997
          ],
          [
           "Ford Mustang SVT Cobra",
           1997
          ],
          [
           "Ford Mustang SVT Cobra",
           1998
          ],
          [
           "Ford Mustang SVT Cobra",
           1998
          ],
          [
           "Ford Mustang SVT Cobra",
           1999
          ],
          [
           "Mazda MX-5 Miata",
           2015
          ],
          [
           "Mazda MX-5 Miata",
           2015
          ],
          [
           "Mazda MX-5 Miata",
           2015
          ],
          [
           "Mazda MX-5 Miata",
           2016
          ],
          [
           "Mazda MX-5 Miata",
           2016
          ],
          [
           "Mazda MX-5 Miata",
           2016
          ],
          [
           "Mazda MX-5 Miata",
           2016
          ],
          [
           "Mazda MX-6",
           1995
          ],
          [
           "Mazda MX-6",
           1996
          ],
          [
           "Mazda MX-6",
           1996
          ],
          [
           "Mazda MX-6",
           1997
          ],
          [
           "Lexus NX 300h",
           2015
          ],
          [
           "Lexus NX 300h",
           2015
          ],
          [
           "Lexus NX 300h",
           2016
          ],
          [
           "Lexus NX 300h",
           2016
          ],
          [
           "Lexus NX 300h",
           2017
          ],
          [
           "Nissan NX",
           1991
          ],
          [
           "Nissan NX",
           1991
          ],
          [
           "Nissan NX",
           1992
          ],
          [
           "Nissan NX",
           1992
          ],
          [
           "Nissan NX",
           1993
          ],
          [
           "Nissan NX",
           1993
          ],
          [
           "Kia Optima Hybrid",
           2015
          ],
          [
           "Kia Optima Hybrid",
           2015
          ],
          [
           "Kia Optima Hybrid",
           2016
          ],
          [
           "Kia Optima Hybrid",
           2016
          ],
          [
           "Kia Optima Hybrid",
           2017
          ],
          [
           "Kia Optima Hybrid",
           2017
          ],
          [
           "Kia Optima",
           2014
          ],
          [
           "Kia Optima",
           2014
          ],
          [
           "Kia Optima",
           2014
          ],
          [
           "Kia Optima",
           2015
          ],
          [
           "Kia Optima",
           2016
          ],
          [
           "Subaru Outback",
           2015
          ],
          [
           "Subaru Outback",
           2015
          ],
          [
           "Subaru Outback",
           2015
          ],
          [
           "Subaru Outback",
           2015
          ],
          [
           "Subaru Outback",
           2015
          ],
          [
           "Subaru Outback",
           2016
          ],
          [
           "Subaru Outback",
           2016
          ],
          [
           "Subaru Outback",
           2016
          ],
          [
           "Subaru Outback",
           2016
          ],
          [
           "Subaru Outback",
           2016
          ],
          [
           "Subaru Outback",
           2016
          ],
          [
           "Subaru Outback",
           2017
          ],
          [
           "Subaru Outback",
           2017
          ],
          [
           "Subaru Outback",
           2017
          ],
          [
           "Subaru Outback",
           2017
          ],
          [
           "Subaru Outback",
           2017
          ],
          [
           "Mitsubishi Outlander Sport",
           2015
          ],
          [
           "Mitsubishi Outlander Sport",
           2015
          ],
          [
           "Mitsubishi Outlander Sport",
           2015
          ],
          [
           "Mitsubishi Outlander Sport",
           2015
          ],
          [
           "Mitsubishi Outlander Sport",
           2015
          ],
          [
           "Mitsubishi Outlander Sport",
           2015
          ],
          [
           "Mitsubishi Outlander Sport",
           2015
          ],
          [
           "Mitsubishi Outlander Sport",
           2016
          ],
          [
           "Mitsubishi Outlander Sport",
           2016
          ],
          [
           "Mitsubishi Outlander Sport",
           2016
          ],
          [
           "Mitsubishi Outlander Sport",
           2016
          ],
          [
           "Mitsubishi Outlander Sport",
           2016
          ],
          [
           "Mitsubishi Outlander Sport",
           2016
          ],
          [
           "Mitsubishi Outlander Sport",
           2016
          ],
          [
           "Mitsubishi Outlander Sport",
           2017
          ],
          [
           "Mitsubishi Outlander Sport",
           2017
          ],
          [
           "Mitsubishi Outlander Sport",
           2017
          ],
          [
           "Mitsubishi Outlander Sport",
           2017
          ],
          [
           "Mitsubishi Outlander Sport",
           2017
          ],
          [
           "Mitsubishi Outlander Sport",
           2017
          ],
          [
           "Mitsubishi Outlander Sport",
           2017
          ],
          [
           "Mitsubishi Outlander Sport",
           2017
          ],
          [
           "Mitsubishi Outlander",
           2015
          ],
          [
           "Mitsubishi Outlander",
           2015
          ],
          [
           "Mitsubishi Outlander",
           2016
          ],
          [
           "Mitsubishi Outlander",
           2016
          ],
          [
           "Mitsubishi Outlander",
           2016
          ],
          [
           "Mitsubishi Outlander",
           2016
          ],
          [
           "Mitsubishi Outlander",
           2016
          ],
          [
           "Mitsubishi Outlander",
           2016
          ],
          [
           "Mitsubishi Outlander",
           2016
          ],
          [
           "Mitsubishi Outlander",
           2017
          ],
          [
           "Mitsubishi Outlander",
           2017
          ],
          [
           "Mitsubishi Outlander",
           2017
          ],
          [
           "Mitsubishi Outlander",
           2017
          ],
          [
           "Mitsubishi Outlander",
           2017
          ],
          [
           "Mitsubishi Outlander",
           2017
          ],
          [
           "Mitsubishi Outlander",
           2017
          ],
          [
           "Chrysler Pacifica",
           2007
          ],
          [
           "Chrysler Pacifica",
           2007
          ],
          [
           "Chrysler Pacifica",
           2007
          ],
          [
           "Chrysler Pacifica",
           2007
          ],
          [
           "Chrysler Pacifica",
           2007
          ],
          [
           "Chrysler Pacifica",
           2007
          ],
          [
           "Chrysler Pacifica",
           2008
          ],
          [
           "Chrysler Pacifica",
           2008
          ],
          [
           "Nissan Pathfinder",
           2015
          ],
          [
           "Nissan Pathfinder",
           2015
          ],
          [
           "Nissan Pathfinder",
           2015
          ],
          [
           "Nissan Pathfinder",
           2015
          ],
          [
           "Nissan Pathfinder",
           2015
          ],
          [
           "Nissan Pathfinder",
           2015
          ],
          [
           "Nissan Pathfinder",
           2015
          ],
          [
           "Nissan Pathfinder",
           2015
          ],
          [
           "Nissan Pathfinder",
           2015
          ],
          [
           "Nissan Pathfinder",
           2016
          ],
          [
           "Nissan Pathfinder",
           2016
          ],
          [
           "Honda Pilot",
           2015
          ],
          [
           "Honda Pilot",
           2015
          ],
          [
           "Honda Pilot",
           2015
          ],
          [
           "Honda Pilot",
           2015
          ],
          [
           "Honda Pilot",
           2015
          ],
          [
           "Honda Pilot",
           2015
          ],
          [
           "Honda Pilot",
           2015
          ],
          [
           "Honda Pilot",
           2015
          ],
          [
           "Honda Pilot",
           2015
          ],
          [
           "Honda Pilot",
           2015
          ],
          [
           "Honda Pilot",
           2015
          ],
          [
           "Honda Pilot",
           2015
          ],
          [
           "Honda Pilot",
           2015
          ],
          [
           "Honda Pilot",
           2015
          ],
          [
           "Honda Pilot",
           2016
          ],
          [
           "Honda Pilot",
           2016
          ],
          [
           "Honda Pilot",
           2016
          ],
          [
           "Honda Pilot",
           2016
          ],
          [
           "Honda Pilot",
           2016
          ],
          [
           "Honda Pilot",
           2016
          ],
          [
           "Honda Pilot",
           2017
          ],
          [
           "Honda Pilot",
           2017
          ],
          [
           "Honda Pilot",
           2017
          ],
          [
           "Honda Pilot",
           2017
          ],
          [
           "Honda Pilot",
           2017
          ],
          [
           "Honda Pilot",
           2017
          ],
          [
           "Honda Pilot",
           2017
          ],
          [
           "Honda Prelude",
           2001
          ],
          [
           "Honda Prelude",
           2001
          ],
          [
           "Toyota Prius c",
           2014
          ],
          [
           "Toyota Prius c",
           2015
          ],
          [
           "Toyota Prius c",
           2015
          ],
          [
           "Toyota Prius c",
           2015
          ],
          [
           "Toyota Prius c",
           2016
          ],
          [
           "Toyota Prius c",
           2016
          ],
          [
           "Toyota Prius c",
           2016
          ],
          [
           "Toyota Prius",
           2017
          ],
          [
           "Toyota Prius",
           2017
          ],
          [
           "Toyota Prius",
           2017
          ],
          [
           "Ford Probe",
           1995
          ],
          [
           "Ford Probe",
           1996
          ],
          [
           "Ford Probe",
           1997
          ],
          [
           "Chrysler Prowler",
           2001
          ],
          [
           "Chrysler Prowler",
           2002
          ],
          [
           "Plymouth Prowler",
           1999
          ],
          [
           "Plymouth Prowler",
           2001
          ],
          [
           "Audi Q3",
           2015
          ],
          [
           "Audi Q3",
           2016
          ],
          [
           "Audi Q3",
           2017
          ],
          [
           "Infiniti Q45",
           2004
          ],
          [
           "Infiniti Q50",
           2016
          ],
          [
           "Infiniti Q50",
           2016
          ],
          [
           "Infiniti Q50",
           2016
          ],
          [
           "Infiniti Q50",
           2016
          ],
          [
           "Infiniti Q50",
           2016
          ],
          [
           "Infiniti Q50",
           2016
          ],
          [
           "Infiniti Q50",
           2016
          ],
          [
           "Infiniti Q50",
           2017
          ],
          [
           "Infiniti Q50",
           2017
          ],
          [
           "Infiniti Q50",
           2017
          ],
          [
           "Infiniti Q50",
           2017
          ],
          [
           "Infiniti Q50",
           2017
          ],
          [
           "Infiniti Q50",
           2017
          ],
          [
           "Infiniti Q50",
           2017
          ],
          [
           "Infiniti Q50",
           2017
          ],
          [
           "Audi Q5",
           2015
          ],
          [
           "Audi Q5",
           2015
          ],
          [
           "Audi Q5",
           2015
          ],
          [
           "Audi Q5",
           2016
          ],
          [
           "Audi Q5",
           2016
          ],
          [
           "Audi Q5",
           2016
          ],
          [
           "Audi Q5",
           2017
          ],
          [
           "Infiniti Q60 Convertible",
           2014
          ],
          [
           "Infiniti Q60 Convertible",
           2014
          ],
          [
           "Infiniti Q60 Convertible",
           2014
          ],
          [
           "Infiniti Q60 Convertible",
           2015
          ],
          [
           "Infiniti Q60 Coupe",
           2014
          ],
          [
           "Infiniti Q60 Coupe",
           2014
          ],
          [
           "Infiniti Q60 Coupe",
           2014
          ],
          [
           "Infiniti Q60 Coupe",
           2014
          ],
          [
           "Infiniti Q60 Coupe",
           2014
          ],
          [
           "Infiniti Q60 Coupe",
           2015
          ],
          [
           "Infiniti Q60 Coupe",
           2015
          ],
          [
           "Infiniti Q60 Coupe",
           2015
          ],
          [
           "Infiniti Q60 Coupe",
           2017
          ],
          [
           "Infiniti Q60 Coupe",
           2017
          ],
          [
           "Infiniti Q60 Coupe",
           2017
          ],
          [
           "Infiniti Q70",
           2014
          ],
          [
           "Infiniti Q70",
           2014
          ],
          [
           "Infiniti Q70",
           2015
          ],
          [
           "Infiniti Q70",
           2015
          ],
          [
           "Infiniti Q70",
           2015
          ],
          [
           "Infiniti Q70",
           2015
          ],
          [
           "Infiniti Q70",
           2016
          ],
          [
           "Infiniti Q70",
           2016
          ],
          [
           "Infiniti Q70",
           2016
          ],
          [
           "Infiniti Q70",
           2016
          ],
          [
           "Infiniti Q70",
           2016
          ],
          [
           "Audi Q7",
           2014
          ],
          [
           "Audi Q7",
           2014
          ],
          [
           "Audi Q7",
           2014
          ],
          [
           "Audi Q7",
           2014
          ],
          [
           "Audi Q7",
           2015
          ],
          [
           "Audi Q7",
           2015
          ],
          [
           "Audi Q7",
           2015
          ],
          [
           "Audi Q7",
           2015
          ],
          [
           "Audi Q7",
           2015
          ],
          [
           "Audi Q7",
           2015
          ],
          [
           "Audi Q7",
           2017
          ],
          [
           "Audi R8",
           2014
          ],
          [
           "Audi R8",
           2014
          ],
          [
           "Audi R8",
           2014
          ],
          [
           "Audi R8",
           2014
          ],
          [
           "Audi R8",
           2014
          ],
          [
           "Audi R8",
           2014
          ],
          [
           "Audi R8",
           2014
          ],
          [
           "Audi R8",
           2014
          ],
          [
           "Audi R8",
           2014
          ],
          [
           "Audi R8",
           2015
          ],
          [
           "Audi R8",
           2015
          ],
          [
           "Audi R8",
           2015
          ],
          [
           "Audi R8",
           2015
          ],
          [
           "Audi R8",
           2015
          ],
          [
           "Audi R8",
           2015
          ],
          [
           "Audi R8",
           2015
          ],
          [
           "Audi R8",
           2015
          ],
          [
           "Audi R8",
           2015
          ],
          [
           "Audi R8",
           2015
          ],
          [
           "Audi R8",
           2015
          ],
          [
           "Audi R8",
           2015
          ],
          [
           "Audi R8",
           2015
          ],
          [
           "Audi R8",
           2017
          ],
          [
           "Audi R8",
           2017
          ],
          [
           "Volkswagen Rabbit",
           2007
          ],
          [
           "Volkswagen Rabbit",
           2007
          ],
          [
           "Volkswagen Rabbit",
           2007
          ],
          [
           "Volkswagen Rabbit",
           2007
          ],
          [
           "Volkswagen Rabbit",
           2007
          ],
          [
           "Volkswagen Rabbit",
           2007
          ],
          [
           "Volkswagen Rabbit",
           2007
          ],
          [
           "Volkswagen Rabbit",
           2007
          ],
          [
           "Volkswagen Rabbit",
           2008
          ],
          [
           "Volkswagen Rabbit",
           2008
          ],
          [
           "Volkswagen Rabbit",
           2008
          ]
         ],
         "fillcolor": "rgba(255,255,255,0)",
         "hoveron": "points",
         "hovertemplate": "cluster_pca=2<br>x=%{x}<br>y=%{y}<br>Car=%{customdata[0]}<br>Year=%{customdata[1]}<extra></extra>",
         "legendgroup": "2",
         "line": {
          "color": "rgba(255,255,255,0)"
         },
         "marker": {
          "color": "orange"
         },
         "name": "2",
         "offsetgroup": "2",
         "orientation": "v",
         "pointpos": 0,
         "showlegend": true,
         "type": "box",
         "x": [
          -1.684269526957403,
          -1.6972993738518234,
          -1.6806211698269653,
          -1.161678996076833,
          -1.075989581768616,
          -1.1512551185612965,
          -1.0042880527938238,
          -1.044941175104416,
          -1.0458676613833575,
          -1.19283472715083,
          -1.0714905106089718,
          -0.9799836143546602,
          -1.8056565292513254,
          -1.8120150945358025,
          -1.8222044348072395,
          -1.7980731583587726,
          -1.8263011858003686,
          -1.796071941005313,
          -1.8237212761152732,
          -1.7972446272258107,
          -1.807043072090415,
          -1.813297398599737,
          -1.8059539440195647,
          -1.8278180271084024,
          -1.811139823083544,
          -1.800168691998442,
          -1.8303979367934977,
          -1.817394149592866,
          -2.4934097647833253,
          -2.5011755535324003,
          -2.3722939152543834,
          -2.380059704003458,
          -2.3754003978835363,
          -2.3831661866326113,
          -2.4965162474124787,
          -2.504282036161553,
          -2.3794971488766654,
          -2.3872629376257404,
          -2.500612998405608,
          -2.5083787871546823,
          -1.2810373092490686,
          -1.2810373092490686,
          -1.334600500183925,
          -1.306908301552212,
          -1.2764342291544095,
          -0.5086549151378807,
          -1.4759072333309382,
          -2.819103056592128,
          -1.2932853653298237,
          -1.2932853653298237,
          -1.7341108502961764,
          -2.6237119386344814,
          -1.4759072333309382,
          -2.6364811885910133,
          -1.8612725487841295,
          -2.408489631641301,
          -0.4023950611172297,
          -2.652389151101671,
          -1.3588360154075472,
          -1.3484121378920109,
          -1.3588360154075472,
          -1.3364246787491438,
          -1.864326912025705,
          -1.7371652135377518,
          -2.396502172498434,
          -0.4128189386327662,
          -1.3894705526057678,
          -1.6842382133903895,
          -1.750122260419087,
          -1.3235865055770704,
          -2.4105016071313226,
          -1.31212024030998,
          -2.6544011265916927,
          -2.3990353418642325,
          -1.9815935612770519,
          -2.2708743189854848,
          -1.987847887786374,
          -2.102324685630345,
          -2.2771286454948068,
          -1.929344904331102,
          -2.576645981528723,
          -2.537258472852094,
          -2.599057318187126,
          -2.5930635886156925,
          -2.520840865765124,
          -1.9355992308404237,
          -2.543252202423527,
          -2.096070359121023,
          -2.105900242747697,
          -2.5379674636526732,
          -2.580742732521852,
          -2.5937725794162723,
          -2.100688303989929,
          -1.9872538938975115,
          -2.6052388446833623,
          -2.5249376167582525,
          -2.5494337289197633,
          -2.2765346516059446,
          -1.9339628492000078,
          -2.2817465903637126,
          -1.833309238363587,
          -2.061312344612764,
          -2.3175332179017243,
          -1.9484834777086735,
          -2.306588146510411,
          -1.7817580229187524,
          -1.2786919368080727,
          -1.4058536352960262,
          -1.2786919368080727,
          -1.3312127399913756,
          -0.8308128993748191,
          -0.9337860608962206,
          -1.0192522493220282,
          -0.9337860608962206,
          -1.116407928897335,
          -1.116407928897335,
          -0.8283947269207377,
          -1.016834076867947,
          -0.9980337262845019,
          -1.114771547256919,
          -0.9867121564826883,
          -0.804090288481574,
          -0.9633054103298019,
          -1.0291894573584992,
          -0.989501023906955,
          -0.9660472994969981,
          -1.0416204114846372,
          -1.0352932849622298,
          -0.9831738973845476,
          -1.1375613373070246,
          -1.2227512599493968,
          -1.0701137086509966,
          -1.3514765400646807,
          -1.1403551036107116,
          -1.285087081985127,
          -1.3583521925872497,
          -1.0729074749546836,
          -1.7478619032584868,
          -2.5464354181218476,
          -1.8858453764653522,
          -1.7692308521653364,
          -2.5527158043249583,
          -2.5516473568796156,
          -2.537575122233642,
          -2.5561035645175076,
          -1.7514374603758391,
          -2.5370071880385683,
          -2.5416979329205596,
          -0.43312395188981756,
          -0.820186668856938,
          -1.2425171364761671,
          -1.2726918552804107,
          -0.8510141214666326,
          -0.8405902439510962,
          -1.0634952698458617,
          -0.8749369203647887,
          -1.2443389084381515,
          -0.8609524844283825,
          -1.0880956207825279,
          -1.2679201865725545,
          -1.2604671141489459,
          -0.9454194895145325,
          -0.8812032628883208,
          -1.2184301937437625,
          -0.7929834239588038,
          -2.784242662649694,
          -2.7975331064820033,
          -1.5251286525591907,
          -1.4410332635369787,
          -1.6851447099446777,
          -1.4810877700560492,
          -1.4717837022078113,
          -1.5118382087268818,
          -2.7534922239788617,
          -0.9936449763208273,
          -1.6411038274415362,
          -1.4850741460401202,
          -1.0376858588239688,
          -1.0243954149916596,
          -1.6718542661123688,
          -1.5240134647945516,
          -1.0365706710593297,
          -1.5057716791423628,
          -2.7985026942204714,
          -1.4778878067883028,
          -1.469886723629507,
          -1.483958958275481,
          -1.6379038641737897,
          -1.4378333002692323,
          -0.9904450130530809,
          -2.7802609085682826,
          -1.6657877365278497,
          -2.784430459574497,
          -1.0183288854071408,
          -1.5099412301485773,
          -1.6699572875340645,
          -1.6840295221800385,
          -1.4657171726232923,
          -1.0224984364133554,
          -2.7523770362142224,
          -1.7149390058504885,
          -1.8693589535657864,
          -1.7446470567697674,
          -1.423351072954822,
          -1.8990670044850653,
          -1.2704947068668548,
          -1.2238478549848293,
          -1.2535559059041081,
          -1.916005805447812,
          -1.4064122719920753,
          -1.3767042210727964,
          -1.761585857732514,
          -0.9692660111247774,
          -1.0078343579322622,
          -0.9921985416589575,
          -1.230152133272692,
          -1.2577754086888633,
          -1.2918666292951748,
          -1.4576810239031628,
          -1.3194899047113464,
          -1.4467359525118495,
          -1.3304349761026597,
          -1.4191126770956781,
          -1.2687204800801766,
          -1.3314045638411278,
          -1.2707324555701984,
          -1.2707324555701984,
          -1.2816775269615117,
          -1.2597873841788851,
          -1.3204594924498145,
          -1.4426104980936258,
          -2.052592077654119,
          -1.214644762899928,
          -1.2396620689372155,
          -1.4228051308141068,
          -1.3977878247768192,
          -1.2594674362167346,
          -2.0327867103746,
          -2.0372168583187027,
          -1.2440922168813184,
          -0.8979427073042863,
          -0.9099301664471532,
          -0.7043757679118587,
          -0.6923883087689918,
          -0.9706022747180822,
          -0.9586148155752154,
          -1.0323283200400295,
          -1.062710271418588,
          -0.9682714250980212,
          -1.525947814428335,
          -1.5074454318382577,
          -0.9867738076880984,
          -1.042904904139069,
          -1.1220839295945986,
          -1.4224860063196834,
          -1.4417701797234257,
          -1.1239151228647586,
          -1.102024980082132,
          -1.141368102998341,
          -1.0618602151863608,
          -1.1381681397305945,
          -19.10951653612295,
          -1.3831100469425184,
          -1.0126756593440134,
          -0.8256351926982605,
          -0.8177703063045375,
          -1.024214333870765,
          -1.0413094929962448,
          -1.0549647725415976,
          -0.9754254459675473,
          -0.9890807255129,
          -1.0725811255428541,
          -2.3331436829841437,
          -2.4016336993917258,
          -2.3399192033692424,
          -2.3938157912550735,
          -2.4092911427279606,
          -2.279523474861123,
          -2.4014732345913083,
          -2.286298995246222,
          -2.2836202258542517,
          -2.2903957462393505,
          -2.405569985584437,
          -2.4133878937210893,
          -3.882796353355287,
          -3.89712918493915,
          -3.8671605370819826,
          -3.8663936110425645,
          -3.882029427315869,
          -3.8963622588997318,
          -3.887324687323611,
          -3.870125289422976,
          -3.854228876211783,
          -3.709297664554374,
          -0.6254393461526548,
          -0.5732941368189576,
          -0.9040707379668104,
          -0.8905196971966131,
          -0.8597692585257806,
          -1.005099942652837,
          -1.0160450140441504,
          -0.9774766672366656,
          -1.018578183409949,
          -1.0076331120186357,
          -2.291534967828137,
          -2.4582296155380425,
          -2.1763913760822184,
          -0.6173496861220632,
          -0.6283989962885319,
          -0.6152649106189559,
          -0.6460153492897884,
          -0.6207167656891047,
          -0.6452128778506153,
          -0.6420857145959544,
          -0.6175896024344437,
          -0.6216863534275728,
          -0.6461824655890835,
          -2.6266618262659125,
          -2.6266618262659125,
          -2.969222329736769,
          -2.850763777811386,
          -2.5082032743405303,
          -2.512300025333659,
          -2.8548605288045152,
          -0.6410970706807997,
          -0.5936684279851089,
          -0.6206402110565594,
          -0.6049262157018883,
          -0.656384741671032,
          -0.6676425293878114,
          -0.6382420536634914,
          -0.6017584823591139,
          -0.7064714731331846,
          -0.617003403225586,
          -0.6269635853212043,
          -0.6446841770976163,
          -0.7385654790081827,
          -0.9211873470092969,
          -1.405223015761861,
          -0.8884824313043014,
          -0.7105513081851785,
          -0.7599083682212435,
          -0.7212618423323922,
          -0.9425302362223578,
          -0.9038837103335065,
          -1.3837237683860673,
          -1.0067370935847517,
          -0.9974807611592061,
          -0.9761378719461453,
          -2.8891285108481446,
          -2.8688019496928487,
          -2.899218991412707,
          -0.48170996954472867,
          -1.4204919994506309,
          -2.2896459930741693,
          -2.2830528905455925,
          -2.3385279248330004,
          -2.355466725795747,
          -2.3443392365479117,
          -2.342624675826129,
          -2.3595634767888756,
          -2.3484359875410403,
          -0.9292248923158112,
          -0.9130678821667297,
          -2.181863757884315,
          -1.052653884360777,
          -0.9360004127009098,
          -1.0458783639756781,
          -2.1899943823464336,
          -1.0458783639756781,
          -0.9130678821667297,
          -1.0297213538265968,
          -2.195727514979979,
          -0.9360004127009098,
          -1.052653884360777,
          -1.0297213538265968,
          -2.1962487088557556,
          -2.2250581494380834,
          -1.032775717068172,
          -2.22557934331386,
          -0.9291520923027256,
          -1.0489327272172535,
          -2.220732240269136,
          -2.2313124759474054,
          -2.2193250168045386,
          -1.0489327272172535,
          -2.2225564188343547,
          -0.9322792555573866,
          -1.0458055639625925,
          -1.028189210961336,
          -1.0587886705377165,
          -1.0318950665476325,
          -1.043778286915344,
          -1.049511419548889,
          -1.0261619339140875,
          -1.0530555379041715,
          -1.0509454938701777,
          -1.4701799300788838,
          -1.425111408156287,
          -1.493112460613064,
          -1.0634219169638492,
          -1.0465153459260748,
          -1.0605032312594989,
          -1.437567941787353,
          -1.0773117337533014,
          -2.3552688320993314,
          -1.0773117337533014,
          -1.0773960830658513,
          -1.414635411253173,
          -2.3619401137092746,
          -1.4105179796345362,
          -2.345287969378205,
          -1.0464309966135248,
          -1.414635411253173,
          -1.437567941787353,
          -2.35102110201175,
          -1.425111408156287,
          -2.349535699465786,
          -1.4779457188279586,
          -1.4806559269819979,
          -2.3704616335782256,
          -1.4224012000022477,
          -1.4660624984602468,
          -1.078567978123447,
          -1.1341124969491574,
          -1.549255561233016,
          -1.5630932586348907,
          -1.530883477111883,
          -1.4937110424073055,
          -1.1341124969491574,
          -1.5641356463864442,
          -1.0501368521998213,
          -1.0501368521998213,
          -1.549255561233016,
          -1.1056813710255318,
          -1.530883477111883,
          -1.3135449558535253,
          -1.1056813710255318,
          -1.4937110424073055,
          -1.5630932586348907,
          -1.078567978123447,
          -1.3135449558535253,
          -1.4469080703003203,
          -1.449409800904049,
          -1.3176417068466544,
          -1.4395331769580784,
          -0.9375801315330833,
          -1.4182424071325952,
          -1.4366144912537282,
          -0.978846906952947,
          -1.3881428368200075,
          -0.9986262145386774,
          -0.988202337023141,
          -0.9938626696436005,
          -0.9923251477100589,
          -1.3938031694404671,
          -1.004286547159137,
          -1.2798591147717373,
          -0.8488247094270351,
          -0.8707148522096617,
          -0.85950918388046,
          -1.2750562504760583,
          -0.7354913483289889,
          -1.5131382879903332,
          -1.271668490283509,
          -1.5097505277977838,
          -0.9784278315997442,
          -1.264950468354269,
          -1.503032505868544,
          -1.27459255505614,
          -1.51436847266669,
          -1.5126745925704153,
          -1.2762864351524148,
          -1.4524968273185717,
          -1.4543210058837905,
          -1.4429850390856447,
          -0.9185385092709449,
          -0.8122245658140645,
          -1.2661806530306254,
          -1.2775166198287713,
          -1.2756924412635526,
          -0.6420643725745233,
          -0.8246862405756377,
          -3.028331070244709,
          -3.0480636375111425,
          -3.032427821237838,
          -3.0367851691688554,
          -0.6186718364778742,
          -0.5312356315229028,
          -0.724912979921669,
          -0.5583377130632975,
          -2.8744257024207314,
          -2.884771400854901,
          -3.1303449109489407,
          -2.877688543212617,
          -2.8888681518480297,
          -3.1344416619420694,
          -3.021800591962782,
          -2.8375047333279984,
          -2.826325124692586,
          -0.5119392143397844,
          -0.5160359653329134,
          -0.46467254681288145,
          -1.0372634860077277,
          -1.33903851651326,
          -1.33903851651326,
          -1.3564724516579945,
          -1.3564724516579945,
          -1.33903851651326,
          -1.3657956518032162,
          -1.3658800011157661,
          -1.3497168207355013,
          -1.3657956518032162,
          -1.3498011700480512,
          -1.343135267506389,
          -1.343135267506389,
          -1.3605692026511236,
          -1.343135267506389,
          -1.343135267506389,
          -1.3605692026511236,
          -1.5957591006814307,
          -1.585517641022416,
          -1.599334657798783,
          -3.2314171827621045,
          -1.3919829601292517,
          -4.0004052294714105,
          -1.0572403647950477,
          -4.014477464117385,
          -1.0494224566583954,
          -1.3998008682659042,
          -2.4861038832056783,
          -2.453273463879956,
          -2.573654847134593,
          -2.5866846940290134,
          -2.5986721531718806,
          -2.739077317235072,
          -2.2262733003128012,
          -2.7614886538934753,
          -2.753670745756823,
          -2.704380553440434,
          -2.7562767151357073,
          -2.748458806999055,
          -2.244561035121384,
          -0.7062268661263139,
          -1.9681514248303014,
          -0.6234739539840316,
          -1.5578713968304483,
          -1.9704239972582116,
          -1.4434061482859417,
          -0.5697651630230041,
          -0.7457266338492312,
          -1.0882871373200875,
          -0.7440381328212375,
          -1.0364060652549707,
          -0.879270577779343,
          -1.0647850717910186,
          -1.0495140912307577,
          -0.9613637543446996,
          -1.4042653191360006,
          -1.538463134946941,
          -1.3826357732912626,
          -1.5058885177108896,
          -1.415210390527314,
          -1.390453681427915,
          -1.3868053242974772,
          -1.5100580687171041,
          -1.5275180635556278,
          -1.513706425847542,
          -1.786366477986975,
          -1.9523571202203018,
          -1.7967903555025115,
          -1.9414120488289885,
          -1.8046082636391638,
          -1.8291043758006744,
          -1.8181593044093611,
          -1.9278610080587912,
          -1.9096192224066024,
          -1.9200430999221387,
          -1.6474520955380285,
          -1.626864937444844,
          -1.7946327799863189,
          -1.6550094067367924,
          -1.8136563564521728,
          -1.8058384483155205,
          -1.659178957743007,
          -1.833982917607469,
          -1.826425606408705,
          -1.6156592691156424,
          -1.3995733153131922,
          -1.4105183867045055,
          -1.4297243810268814,
          -2.216972450354202,
          -1.6914787712575872,
          -1.6956483222638017,
          -2.1982094708262365,
          -1.6395941588617782,
          -1.9845956830212605,
          -1.9757353871330545,
          -1.643763709867993,
          -2.7521411861769067,
          -2.438291854836031,
          -2.325098152218896,
          -2.310999857879133,
          -3.4169307715782082,
          -3.425978864391218,
          -3.4300756153843466,
          -0.9712816294777447,
          -0.996820129390809,
          -0.9454567108707768,
          -0.9087555101407331,
          -0.8433093367759389,
          -0.972300592897392,
          -2.2910710864661197,
          -1.9798281771248771,
          -2.0101409800695804,
          -1.8915751767299351,
          -1.768322432310308,
          -1.701394708632405,
          -1.5226817946996167,
          -1.5070199187325233,
          -2.0652523995302934,
          -1.6857328326653116,
          -1.6890477928447754,
          -1.5103348789119873,
          -1.5259967548790807,
          -2.0685673597097574,
          -1.7047096688118688,
          -1.5354824834182188,
          -2.071361126013444,
          -2.071361126013444,
          -1.8347693723786644,
          -1.536973265032464,
          -1.511043869712567,
          -1.8085793801208792,
          -1.5285299242448793,
          -1.0702542939334145,
          -0.9673281106690834,
          -0.9222448404143884,
          -1.048364151150788,
          -1.093447421405483,
          -0.9115864256547523,
          -0.9441349831970148,
          -0.7483335255837212,
          -0.7504236801551095,
          -0.7295759251240366,
          -0.7738774045650665,
          -0.674876865799033,
          -0.7212631207431702,
          -1.9624312087815534,
          -1.9624312087815534,
          -0.9755039832192853,
          -1.0439939996268672,
          -1.0439939996268672,
          -1.7288994036466512,
          -1.6844672743340314,
          -1.6709162335638341,
          -1.7461817703565143,
          -1.7305459540832095,
          -1.7502785213496435,
          -1.7320367356974546,
          -1.6885640253271605,
          -1.6724070151780792,
          -1.6926607763202897,
          -1.7543752723427726,
          -1.7361334866905838,
          -1.6765037661712083,
          -1.8836258499942409,
          -1.8333776192388482,
          -1.0651296089752373,
          -1.0937692124491736,
          -1.0739117257820767,
          -0.9509195783003379,
          -0.9623130435543426,
          -1.0855657879739697,
          -1.0767054920857637,
          -0.9534527476661366,
          -1.0965629787528608,
          -0.9733102343332335,
          -1.0767836711671304,
          -0.9648462129201412,
          -0.9758434036990322,
          -1.0990961481186594,
          -1.0880989573397684,
          -1.9218837322551967,
          -1.949871843384412,
          -1.9318960337383926,
          -1.9420332546222518,
          -1.497899687630751,
          -1.1998429833466622,
          -1.536468034438236,
          -1.5489766874568796,
          -1.55057170784628,
          -1.2324490393447836,
          -1.5369685476885049,
          -1.5305057436288725,
          -1.5395017170543037,
          -1.1859848432570537,
          -1.533038912994671,
          -1.552062489460525,
          -1.1623747606843635,
          -1.179522039197421,
          -2.2161419941504716,
          -1.7269878511527115,
          -1.7400698174347098,
          -0.6221859805315512,
          -0.43878232171677173,
          -2.5571906728203984,
          -2.5571906728203984,
          -1.9301218006761542,
          -2.4503263843158125,
          -2.4567370689878674,
          -2.436149910894683,
          -2.3439657005396355,
          -2.3375550158675806,
          -2.3233785424464513,
          -1.7677077446608565,
          -2.3439971393017056,
          -2.3798604190856585,
          -1.7710227048403202,
          -2.3504078239737605,
          -2.5064237363336184,
          -2.4964689333062813,
          -2.723435822035088,
          -2.71822388327732,
          -2.969205469217071,
          -2.7315925061909954,
          -2.7210697689685843,
          -2.726281707726353,
          -2.972051354908336,
          -2.73443839188226,
          -2.4993148189975454,
          -2.509269622024883,
          -2.674397095330544,
          -2.920166742512527,
          -2.6691851565727753,
          -2.4474302066017373,
          -2.457385009629075,
          -2.682553779486451,
          -1.3401075554663355,
          -1.2271798288553706,
          -1.2294524012832808,
          -2.1521172780923155,
          -2.149511308713431,
          -2.410687376055127,
          -1.3821632002156734,
          -0.9822227004188069,
          -1.3962354348616475,
          -1.3727610298261828,
          -1.399289798103223,
          -0.9993492983063565,
          -0.9728205300293162,
          -1.0013352141025895,
          -1.3793595114230406,
          -0.9794190116261742,
          -1.401275713899456,
          -3.371632544076733,
          -3.375828154776736,
          -3.3458334472257802,
          -3.354620943100901,
          -3.380420039951854,
          -3.384615650651857,
          -3.2683053049788495,
          -3.2996290569130364,
          -3.3274347501857298,
          -3.3232391394857266,
          -1.2652569401376135,
          -1.3866011566794718,
          -1.3881440576812945,
          -1.266799841139436,
          -1.293667385435731,
          -1.2234826977689726,
          -1.0679889710020418,
          -1.0408608297678583,
          -1.1921589458347857,
          -1.0095370778336712,
          -2.284990963656794,
          -1.4844150858971492,
          -1.7403054679067598,
          -1.5022234303924844,
          -0.5963489148515455,
          -1.738147892390567,
          -1.5000658548762917,
          -1.5682224743328994,
          -1.3856006063317852,
          -0.9977745012099564,
          -0.9260729722351642,
          -1.000828864451532,
          -0.9291273354767396,
          -1.4962454151292282,
          -1.5529166710190425,
          -1.5682918903544587,
          -1.5529166710190425,
          -1.4915546702472369,
          -1.506929889582653,
          -1.506929889582653,
          -1.5545740316418506,
          -1.5566381265194502,
          -1.5585458632343165,
          -1.4667854588566331,
          -1.43582654263549,
          -1.4481267181038229,
          -1.4725185914901782,
          -1.453859850737368,
          -1.3054669575802222,
          -1.5750551773118164,
          -1.369713484485212,
          -1.2928843660652012,
          -1.3211027738535268,
          -1.3085201823385058,
          -1.244273655433516,
          -1.6449002977964176,
          -1.2599094717068207,
          -1.5837069956497116,
          -1.5993428119230164,
          -1.6323177062813965,
          -1.6362484794585224,
          -1.7091468247014072,
          -1.6848591900902072,
          -1.6605361140697221,
          -1.6236658879435013,
          -1.3540776682119071,
          -1.6479535225547013,
          -1.6935110084281026,
          -1.2471195411247809,
          -1.3115224261925036,
          -1.712149068555405,
          -1.295730251756466,
          -1.5865528813409764,
          -1.6884868665951374,
          -1.6272935644484314,
          -1.5786828538167463,
          -1.6351635919726613,
          -1.3569235539031719,
          -1.3241050177075246,
          -1.6477461834876823,
          -1.6963568941193672,
          -1.6509557664086991,
          -1.308312843271487,
          -1.602345055777014,
          -1.4531943547995603,
          -1.6549681680892785,
          -1.6016406528818132,
          -1.569847826459427,
          -1.1988813562132157,
          -1.5383146964294117,
          -1.4698986185182075,
          -1.5865520901780743,
          -1.3155348278730827,
          -1.4849871812219464,
          -0.9586065531067017,
          -0.9716103403073334,
          -0.9748992407930084,
          -0.9631984382818188,
          -0.9748148914804586,
          -0.963114088969269,
          -0.9789699320923486,
          -0.9788855827797986,
          -0.9594971706009009,
          -0.9595815199134509,
          -2.7338229138230847,
          -2.8072642720505456,
          -2.7950162159697904,
          -2.8249848638269577,
          -2.763791561680252,
          -2.74607096990384,
          -2.812476210808314,
          -1.6694270915543765,
          -1.9768070084102973,
          -1.7362492875594722,
          -2.0700537339172778,
          -1.7306203937010824,
          -2.0088604317705716,
          -1.9589563561027152,
          -1.9500960602145092,
          -2.0112893623612154,
          -2.020149658249421,
          -1.0131395256496574,
          -1.0902292410075565,
          -1.0253875817304128,
          -1.0279207510962112,
          -1.0232300062142197,
          -1.0932836042491318,
          -1.0156726950154558,
          -0.9085885100443747,
          -0.9716619412081653,
          -1.2392956714789864,
          -1.1843099555223053,
          -0.9721363947646455,
          -1.2680053513396097,
          -1.5880502793769073,
          -0.9595967783901675,
          -1.599255947706109,
          -0.9708024467193692,
          -1.2486169391607118,
          -1.3102357869355648,
          -0.9708024467193692,
          -1.2798885717073212,
          -1.3303017511529722,
          -1.2598226074899135,
          -0.9908684109367769,
          -1.2680053513396097,
          -1.599255947706109,
          -0.9595967783901675,
          -0.9908684109367769,
          -1.6193219119235165,
          -1.3184185307852607,
          -1.299030118606363,
          -1.299030118606363,
          -1.607438691555805,
          -1.3184185307852607,
          -1.3102357869355648,
          -1.6193219119235165,
          -0.9789851905690653,
          -1.2598226074899135,
          -1.2486169391607118,
          -1.607438691555805,
          -1.6015285201340193,
          -1.3078176144814835,
          -1.5968377752520277,
          -1.282916875255108,
          -0.9938967144845635,
          -1.622376275165092,
          -1.301042094096385,
          -0.9616087538801894,
          -0.9938967144845635,
          -1.312508359363475,
          -1.3317925327672173,
          -1.6093464282706715,
          -1.3203262675001273,
          -0.9730750191472795,
          -1.2506289146507337,
          -0.9730750191472795,
          -1.3333561143945478,
          -1.6208126935377616,
          -1.2506289146507337,
          -1.3333561143945478,
          -1.5900622548669292,
          -1.282916875255108,
          -1.2693918941786992,
          -1.301042094096385,
          -1.2620951799178237,
          -1.3078176144814835,
          -1.6208126935377616,
          -1.5900622548669292,
          -0.980371733408155,
          -1.622376275165092,
          -1.3317925327672173,
          -0.980371733408155,
          -1.6093464282706715,
          -1.2693918941786992,
          -1.2620951799178237,
          -1.3203262675001273,
          -1.5968377752520277,
          -0.9616087538801894,
          -1.6015285201340193,
          -1.312508359363475,
          -1.6249094445308907,
          -1.3119143654746124,
          -1.3358892837603462,
          -1.6009345262451569,
          -2.3257075856860157,
          -2.3401446560450334,
          -13.987080050106377,
          -13.991176801099506,
          -13.995273552092636,
          -13.221497166343461,
          -3.1662875353740665,
          -3.1365794844547876,
          -1.3707278928273299,
          -1.9107914179428314,
          -1.9233000709614751,
          -1.935287530104342,
          -1.8070843050459953,
          -1.8330918794472586,
          -1.8367402365776964,
          -1.8227201213192998,
          -1.817456063173954,
          -1.8435157569627951,
          -1.7656235701657228,
          -1.7849077435694651,
          -1.7708876283110686,
          -1.755251812037764,
          -1.791683263954564,
          -1.7812593864390274,
          -0.5929857690821657,
          -0.5877738303243976,
          -0.6060156159765863,
          -0.5877738303243976,
          -0.5929857690821657,
          -0.6060156159765863,
          -0.5960401323237411,
          -0.5908281935659729,
          -0.6090699792181616,
          -0.6090699792181616,
          -0.5960401323237411,
          -0.5908281935659729,
          -2.3312220395216943,
          -2.205102728785295,
          -1.8668767250109115,
          -2.3244465191365955,
          -2.340603529285677,
          -1.995602005126195,
          -2.2118782491703937,
          -1.8704522821282636,
          -2.3321916272601624,
          -2.3347975966390466,
          -2.344179086403029,
          -2.32437371912351,
          -1.9991775622435473,
          -2.326979688502394,
          -2.336639037402621,
          -2.32204560888087,
          -2.306930986483342,
          -2.331427098644853,
          -2.141508516382863,
          -2.1456780673890776,
          -2.2758795445351905,
          -2.3887605308268585,
          -3.706402858849201,
          -3.7334528210020177,
          -3.7242016297069793,
          -3.7334528210020177,
          -3.715393453206351,
          -3.7242016297069793,
          -3.715393453206351,
          -3.706402858849201,
          -3.7189690103237036,
          -3.727777186824332,
          -3.7099784159665536,
          -3.727777186824332,
          -3.7370283781193705,
          -3.7099784159665536,
          -3.7370283781193705,
          -3.7189690103237036,
          -3.7224142689721114,
          -3.7134236746149614,
          -3.740473636767778,
          -3.73122244547274,
          -2.718962326560126,
          -2.7107849617787103,
          -2.722173047964434,
          -2.7262697989575635,
          -1.2825026437808849,
          -1.2285332558819688,
          -0.6801859364882803,
          -0.6788883308671193,
          -1.504238539442553,
          -1.5163302373605754,
          -1.5041541901300033,
          -1.50894917378715,
          -1.5196137587779692,
          -1.5162458880480256,
          -1.504238539442553,
          -1.5315490985332585,
          -1.5041541901300033,
          -1.5162458880480256,
          -1.50894917378715,
          -1.5315490985332585,
          -1.5314647492207087,
          -1.5195294094654197,
          -1.5163302373605754,
          -1.5196137587779692,
          -1.5090335230996998,
          -1.5090335230996998,
          -1.5195294094654197,
          -3.674026057755821,
          -3.684423875577569,
          -3.6618561807564323,
          -3.652188034360772,
          -3.652558249142097,
          -3.685575881172559,
          -3.6611579480924146,
          -2.4850122753105586,
          -2.731850369937884,
          -2.72272947711179,
          -2.721067035777585,
          -2.5012267839154987,
          -2.491845294151516,
          -2.7252365867837995,
          -2.7346180765477826,
          -2.5013103420651457,
          -2.4877593012949486,
          -2.7211505939272325,
          -2.73470163469743,
          -2.491928852301163,
          -2.725320144933447,
          -1.5108308508082275,
          -2.932882278373774,
          -1.5231310262765605,
          -3.0067666513956457,
          -1.5231310262765605,
          -1.5232153755891105,
          -2.9455733492489395,
          -1.5109152001207775,
          -0.9968181244909297,
          -1.010369165261127,
          -1.879879439896234,
          -1.5158861983488918,
          -1.410869526682562,
          -1.6930036715763555,
          -1.9058870142974975,
          -1.8952025398440726,
          -1.7075449807105287,
          -1.7182294551639536,
          -1.6914922093366027,
          -1.9929366738132408,
          -1.99703342480637,
          -1.7223262061570828,
          -1.5363104942175494,
          -1.8992992908372017,
          -1.8758781523775028,
          -1.8867711043812383,
          -1.4254243579509116,
          -1.8113731131219657,
          -1.814948670239318,
          -1.4287393181303754,
          -1.4304906966825088,
          -1.8185242273566702,
          -0.6466358770619516,
          -1.0195531424471547,
          -1.0370131372856781,
          -1.2970877431536898,
          -3.8320096441342684,
          -1.285100284010823,
          -3.7917339359368607,
          -1.2889103783722748,
          -1.9373380818756214,
          -1.4141411513373674,
          -1.3648831889459503,
          -1.181479530131171,
          -2.0029937618914024,
          -1.9414348328687505,
          -1.3689799399390794,
          -1.9432904501960393,
          -1.1860246749869914,
          -1.3694283338017708,
          -1.4186862961931879,
          -2.0089461302118203,
          -0.766237600936356,
          -0.7301975527634217,
          -3.316653971345805,
          -2.7284420090910575,
          -3.142735249907261,
          -2.554523287652514,
          -3.5797374073244574,
          -3.8630244354614565,
          -3.8692787619707785,
          -3.583834158317586,
          -3.5770586379324874,
          -3.872854319088131,
          -3.868424171144028,
          -3.4495808046919163,
          -3.8087389128099227,
          -3.7993574230459397,
          -3.796751453667056,
          -0.8902093100928754,
          -0.9575996782308185,
          -2.8082245208392758,
          -1.2738179379439103,
          -1.327839683168178,
          -3.000397185384938,
          -1.2070687798896742,
          -2.9463754401606703,
          -1.1530470346654067,
          -1.211165530882803,
          -3.004493936378067,
          -1.3319364341613071,
          -0.8041350676566401,
          -1.1076269365809064,
          -0.8466644879200287,
          -1.0416437919075607,
          -0.8609973195038914,
          -1.311478733258238,
          -0.9718499625809631,
          -1.029479256909781,
          -0.9609048911896498,
          -1.0404243283010943,
          -1.0419932889967058,
          -1.0310482176053926,
          -1.0346965747358303,
          -0.968291333831356,
          -0.971762652173553,
          -1.0381678930780271,
          -1.0345195359475894,
          -1.0454646073389027,
          -2.143461081694366,
          -1.9571586266378422,
          -1.9612553776309714,
          -2.1475578326874953,
          -1.9736391112489517,
          -2.6142812820765937,
          -2.7631246457968635,
          -2.6181434958256236,
          -2.767195337096203,
          -3.3164592630782406,
          -3.2904256289831886,
          -2.7590018351099452,
          -0.9654324518967996,
          -2.610992381590919,
          -0.9247793295862076,
          -0.9684868151383751,
          -0.927833692827783,
          -1.2572989960933583,
          -1.2255061696709721,
          -1.7694724181131045,
          -1.7976168874050529,
          -1.7960533057777224,
          -1.7710359997404348,
          -1.7866718160137396,
          -1.785108234386409,
          -1.7714843936031262,
          -1.7996288628950747,
          -1.787120209876431,
          -1.7886837915037614,
          -1.801192444522405,
          -1.7730479752304567,
          -1.692497699666923,
          -1.746441265809824,
          -1.7357567913563992,
          -1.7112867388886774,
          -1.6929376597955115,
          -1.443792689814282,
          -1.3255756365270848,
          -1.3135881773842177,
          -1.8620084870264284,
          -1.6825137822799752,
          -1.7064887005657088,
          -1.872432364541965,
          -1.431805230671415,
          -1.433817206161437,
          -1.580296589816224,
          -1.323854905574119,
          -1.3097826709281446,
          -1.317600579064797,
          -1.4416351142980892,
          -1.4478894408074112,
          -1.759791294562677,
          -1.5938476305864215,
          -1.2993587934126083,
          -1.4233933286459006,
          -1.3201337484305957,
          -1.5828297591820224,
          -1.3123158402939432,
          -1.7073854882910917,
          -1.301891962778407,
          -1.4368715694030125,
          -1.4446894775396648,
          -1.5969019938279967,
          -1.543155783311399,
          -1.7257776513125132,
          -1.7309895900702812,
          -1.7257048512994275,
          -1.5430829832983135,
          -1.736128728814964,
          -1.7309167900571958,
          -1.5482949220560818,
          -1.6821593409160482,
          -2.684636960281851,
          -2.6756463659247007,
          -2.6596196542445636,
          -2.8061375349864424,
          -4.574749075250107,
          -4.579700417069987,
          -4.56570636150538,
          -4.5573933191867395,
          -4.577230125228328,
          -4.569803112498509,
          -4.581399676234542,
          -4.555678758464957,
          -4.581222637446302,
          -4.585392188452517,
          -4.559671270682931,
          -4.573795624716483,
          -4.5760367583823225,
          -4.971165913907305,
          -4.9398942813606945,
          -4.962305618019098,
          -3.517086595324723,
          -3.5098680601452137,
          -3.49488373621663,
          -3.5013465402762627,
          -3.5211833463178523,
          -3.5139648111383432,
          -3.4989804872097596,
          -3.5054432912693922,
          -3.408542276338564,
          -3.392802221290104,
          -3.401323741159055,
          -3.3863394172304715,
          -4.39445437591437,
          -4.372355755581433,
          -4.402611060070278,
          -4.380538499431129,
          -4.388095810629893,
          -4.4077448197466795,
          -4.754525625312965,
          -4.74384115085954,
          -4.731332497840897,
          -4.7242963805179095,
          -5.163410770310587,
          -4.734199064157669,
          -4.738217636069431,
          -4.728314952429671,
          -4.7329014585365075,
          -4.7454101115551515,
          -4.756094586008576,
          -5.165083969781353,
          -1.1434634501776042,
          -1.1231368890223081,
          -1.0567316481178337,
          -1.0770582092731298,
          -1.1157673747483472,
          -1.0493621338438728,
          -1.1413058746614113,
          -1.074900633756937,
          -1.0857729051351648,
          -1.050331721582341,
          -1.0748278337438515,
          -1.0889000683898258,
          -1.099845139781139,
          -1.0612767929736542,
          -0.6981268307673519,
          -0.6856181777487081,
          -0.8242461415037518,
          -0.811737488485108,
          -1.1260984565519632,
          -0.6423332643032171,
          -1.364368290991041,
          -1.126286253476766,
          -1.1494793809488344,
          -1.344041729835745,
          -0.4703230707424422,
          -0.7328627989134655,
          -1.159237733777388,
          -0.9558097503364481,
          -0.9709243727339759,
          -0.6937732582302039,
          -0.9666820217146759,
          -0.9570399350128047,
          -1.1602073215158564,
          -0.7338323866519336,
          -0.6837977745773587,
          -0.7228873152606203,
          -0.694742845968672,
          -0.915318603194644,
          -0.9022034002309952,
          -0.7195815322298811,
          -0.7073334761491258,
          -0.8899553441502399,
          -0.6505947404594082,
          -0.6533885067630951,
          -0.6574852577562242,
          -1.247342166723283,
          -1.1787678010031515,
          -1.0665674348794787,
          -1.13514180059961,
          -1.1607279232565502,
          -1.0938474376326937,
          -1.0938474376326937,
          -1.1607279232565502,
          -1.0330702994237067,
          -1.0330702994237067,
          -0.9353958237899527,
          -0.60534397333774,
          -0.9963755072558409,
          -0.9963755072558409,
          -1.033901466311772,
          -0.6704932078098428,
          -1.0182656500384675,
          -0.6454759017725553,
          -0.9963755072558409,
          -0.9531164155663647,
          -0.9578071604483561,
          -0.99324834400118,
          -0.9963755072558409,
          -0.989136291450824,
          -0.9719368935501889,
          -0.6663811552594868,
          -0.6293763900793324,
          -1.036043740270738,
          -0.9354533222458113,
          -1.0141535974881115,
          -0.9350366050829638,
          -0.6200993770282789,
          -0.9621386866233586,
          -0.8750993093686292,
          -0.9829864416544314,
          -0.9183584010581055,
          -2.1555178967794983,
          -2.1282073376887927,
          -2.0746549048904983,
          -2.1007145986793394,
          -1.3709292718273587,
          -1.6117016280330678,
          -1.3876595952397948,
          -1.636562575907622,
          -1.3957902197019132,
          -1.6115506489386158,
          -1.3963949717273376,
          -1.6271604055181317,
          -1.6371673279330465,
          -1.3707782927329066,
          -1.5998498464274262,
          -1.359077490221717,
          -1.3863880493124225,
          -1.4300807865324918,
          -1.3321059450880404,
          -1.3421128675029552,
          -1.5216075722494087,
          -1.290827390126516,
          -1.3060462512991993,
          -1.4148619253598085,
          -1.5116006498344938,
          -1.495156983053735,
          -1.3156622783072816,
          -0.8705660943136262,
          -0.8738289351055124,
          -1.025115523106337,
          -0.9964498599386118,
          -1.0094797068330323,
          -1.0229004491342855,
          -0.6948750969930291,
          -0.7213256861887027,
          -0.7079049438874496,
          -0.7061589444035973,
          -1.0077337073491799,
          -0.957855691375112,
          -0.7117410979426904,
          -0.7251618402439435,
          -2.334372261910704,
          -2.3567835985691072,
          -2.340105394544249,
          -2.350008078184009,
          -2.3404756093255736,
          -2.353036381731795,
          -2.324839793052269,
          -2.3016729632117636,
          -2.2891121908055423,
          -2.2734763745322377,
          -1.4475564737711009,
          -1.323782535475697,
          -1.327879286468826,
          -1.45165322476423,
          -1.7752535700918906,
          -1.746640026311743,
          -1.7739505854024484,
          -1.870413964607147,
          -1.8901672124990885,
          -1.8990275083872943,
          -1.7663932742036845,
          -1.8977245236978524,
          -0.8146257284779749,
          -0.6847737112985877,
          -0.5939801329151587,
          -0.6117528440791483,
          -0.7912475488256017,
          -0.6802544097861942,
          -0.6622211016843162,
          -1.0178605381277286,
          -1.0146605748599822,
          -0.9826071514997076,
          -0.699071075724284,
          -1.070835394580175,
          -0.8637619313214652,
          -0.6471163946288717,
          -1.711799071551299,
          -0.625414048771048,
          -0.6363591201623613,
          -1.8143918578646563,
          -1.0663035084248969,
          -1.6254428633411346,
          -0.9381109714848542,
          -0.9207420146223895,
          -0.7058884521035864,
          -1.1061576489271907,
          -0.9248387656155186,
          -0.7059033168778334,
          -0.6430736330907114,
          -0.8243925164023836,
          -1.1694472758764685,
          -1.0435885620779572,
          -0.7439150408519352,
          -1.3890010970618403,
          -1.3943433342885527,
          -1.392837251117081,
          -1.3949220266201883,
          -1.3881725659288784,
          -1.0180769323427266,
          -1.0082920027439823,
          -1.0101736797650598,
          -1.0189315231694773,
          -2.7612760132876524,
          -3.2550946345307756,
          -1.3197976798422058,
          -1.1159831105595803,
          -1.3197976798422058,
          -1.2215469399026393,
          -2.6183258162270415,
          -2.1779876499269646,
          -2.101074182194404,
          -2.3256167282379456,
          -2.172129597892756,
          -2.1605392043879053,
          -2.181563207044317,
          -2.052492980678595,
          -1.9752270176953572,
          -2.269718922998656,
          -1.9997285089251489,
          -1.9866664321057559,
          -2.5051689314402577,
          -1.1172422741265828,
          -0.6902269474948809,
          -1.299779792815147,
          -1.2930042724300486,
          -0.8718064277444415,
          -0.8259413666760812,
          -0.6443618864265206,
          -1.0643152739792205,
          -0.8738184032344634,
          -1.2468527926677848,
          -1.240077272282686,
          -0.6922389229849027,
          -13.508744896433456,
          -13.507051016337181,
          -13.520737734644602,
          -13.518705078529072,
          -13.523062426460092,
          -13.525095082575621,
          -2.930834051795527,
          -2.864057804946826,
          -2.9235373375346514,
          -2.940059183396777,
          -2.8719538921648446,
          -2.8565526131356394,
          -2.924065382792612,
          -2.9717919934816703,
          -2.9796099016183226,
          -2.9901640776028033,
          -2.9346195587770927,
          -2.9162474746559597,
          -2.691956394224262,
          -2.7092860905938414,
          -2.7648306094195525,
          -2.7553188211866253,
          -2.6997743023609146,
          -2.747500913049973,
          -1.2691467349903618,
          -0.7462475991338132,
          -1.25142614321395,
          -1.010132593132464,
          -0.566231700511583,
          -1.0278531849088761,
          -1.0306469512125631,
          -1.271940501294049,
          -0.615938056765691,
          -1.2552622972691907,
          -0.7404937858747602,
          -1.0139687471877048,
          -1.0884607269914015,
          -0.8744239464227901,
          -1.3924789309219519,
          -0.6511935369440455,
          -1.3793969646399535,
          -1.1015426932733998,
          -2.7226624793332057,
          -2.548743757894662,
          -2.548743757894662,
          -2.5147985678948412,
          -2.5095866291370728,
          -1.5752852875860563,
          -1.5749337103860532,
          -1.573200512082949,
          -1.566685588635739,
          -1.6384723849737548,
          -1.6358664155948708,
          -1.5726793182071723,
          -1.5788426644543794,
          -1.578339650827632,
          -1.5815009203503645,
          -1.5774668797518518,
          -1.6415267482153304,
          -1.6389207788364462,
          -1.5692187580015375,
          -1.5772972630760782,
          -1.5691459579884521,
          -1.5813940140692073,
          -1.6437993206432406,
          -1.2159517645343585,
          -1.2157432869840477,
          -1.2107398257765902,
          -1.2221539716561025,
          -1.2273659104138708,
          -1.503427172639992,
          -1.1878844138235907,
          -1.163492778375009,
          -1.3892225210333737,
          -1.424924301524086,
          -1.1524434682085405,
          -0.9746702899010639,
          -0.9850681077228115,
          -0.9589823542401815,
          -0.9972492960838908,
          -0.9256780655780426,
          -1.0566393382286596,
          -0.9468385369345815,
          -1.0184097674404298,
          -1.0305535847460296,
          -1.046241520406912,
          -1.0678503856261423,
          -0.9464790802898189,
          -0.9624015531948008,
          -1.0479928989590455,
          -0.9962791551202942,
          -1.033972783700649,
          -1.018050310795667,
          -0.9764216684531972,
          -0.8726210048995099,
          -0.8623274258529177,
          -0.8889083135175356,
          -0.8492454595709195,
          -0.8992018925641279,
          -0.8393688356249487,
          -0.8496624146715409,
          -0.8595390386175117,
          -1.6626610193437998,
          -0.5183076218809415,
          -0.535116124374744,
          -1.68379543100655,
          -0.5562505360374942,
          -0.5603472870306232,
          -0.5224043728740706,
          -1.665454785647487,
          -0.5392128753678731,
          -0.5265011238671996,
          -1.6685091488890624,
          -2.0694438841659344,
          -1.7726901645712871,
          -1.786163026260118,
          -2.095034503466576,
          -1.7982807838719292,
          -2.082916745854765,
          -2.0954514585671977,
          -1.7986977389725507,
          -1.7892173895016936,
          -1.8014393858886601,
          -2.07249824740751,
          -2.308994958693898,
          -1.84018726631404,
          -1.8271053000320416,
          -2.3220769249758964,
          -2.182798797835207,
          -2.169664712165631,
          -1.6454489696601895,
          -1.6323148839906136,
          -1.206762867221069,
          -1.2155449840279087,
          -1.0859452236232687,
          -1.2775055665939554,
          -1.2672901666287297,
          -1.3553832429967032,
          -1.2834732364716,
          -1.0961606235884944,
          -1.2706051268081937,
          -1.0994755837679584,
          -1.2808205267734194,
          -1.286788196651064,
          -1.105443253645603,
          -1.4199758546354229,
          -1.0892601838027325,
          -1.2734778969658134,
          -1.2925014734316673,
          -1.2749686785800585,
          -1.2939922550459124,
          -1.2784139372284664,
          -1.2974375136943204,
          -1.3549977602678154,
          -1.3388407501187338,
          -1.3497858215100471,
          -1.1775878310244692,
          -1.3564885418820605,
          -1.3512766031242922,
          -1.1790786126387145,
          -1.340331531732979,
          -1.1825238712871224,
          -1.3599338005304684,
          -1.343776790381387,
          -1.3547218617727002,
          -0.9329283047220923,
          -0.9485641209953969,
          -0.9084509341323725,
          -0.8902091484801838,
          -0.891178736218652,
          -0.9094205218708408,
          -0.6689867602750912,
          -0.6846225765483959,
          -1.2436359005208835,
          -1.5201426309297226,
          -1.0081598323854923,
          -1.257968732104746,
          -1.0306564364071193,
          -1.1679287418219144,
          -1.0224926639693548,
          -1.0163236048232567,
          -1.8719824190511387,
          -1.6924877143046853,
          -1.6143556111952326,
          -1.2225343205083248,
          -1.4348609064487794,
          -1.45440567679041,
          -1.6339003815368633,
          -1.6296871852535169,
          -1.5783237667334848,
          -1.2266310715014537,
          -1.6191038545330827,
          -1.6393001172194346,
          -1.4396091497866295,
          -1.4598054124729813,
          -1.820619000531107,
          -1.6411242957846535,
          -0.6091527998468111,
          -0.6295835997772626,
          -0.8620520945790444,
          -1.257360440979501,
          -1.228173583935999,
          -1.247197160401853,
          -0.6397468803549107,
          -0.9300324664103135,
          -1.6496783785647569,
          -1.620491521521255,
          -1.639515097987109,
          -2.111250949000343,
          -2.111250949000343,
          -1.9906089688078175,
          -1.4759995767876741,
          -1.4812115155454424,
          -2.1914793769123673,
          -2.0804746885734957,
          -1.5343378619170722,
          -1.5465859179978274,
          -2.1914793769123673,
          -2.0804746885734957,
          -1.6576749556492492,
          -1.5413739792400591,
          -1.6576749556492492,
          -1.5413739792400591,
          -1.0447387089508,
          -1.0638144048042317,
          -1.037181397752036,
          -1.0562570936054678,
          -1.05983265072282,
          -1.0673899619215839,
          -1.0472718783165986,
          -1.0397145671178347,
          -1.0422477364836333,
          -1.0656754011998013,
          -1.0498050476823972,
          -1.0581180900010374,
          -1.0543679878905978,
          -1.0613052455067107,
          -1.997464859572819,
          -1.3610481667236416,
          -1.3382198749646168,
          -1.1732457987268292,
          -2.001561610565948,
          -1.342316625957746,
          -1.3601935758968908,
          -0.5738189900142495,
          -0.8690091279815662,
          -0.5816368981509019,
          -0.7542832824991711,
          -0.7740886497786903,
          -0.7776642068960425,
          -1.8870171183777729,
          -0.9599188050625314,
          -0.9616701836146646,
          -0.9512463060991282,
          -0.8700904873472676,
          -0.6236576845417252,
          -0.5110166145624374,
          -0.5067742635431374,
          -2.2653402877103557,
          -2.261170736704141,
          -2.320467060272543,
          -2.2691764417655964,
          -2.3436702576706407,
          -2.2923796391636944,
          -0.8165674087187286,
          -1.288834142907464,
          -1.2846645919012494,
          -1.2625138521807344,
          -0.8228217352280504,
          -0.8441906841349001,
          -1.3049911530565454,
          -1.267986387876391,
          -1.2815374286465884,
          -0.8306396433647028,
          -1.301603392863996,
          -0.8394999392529087,
          -0.8514873983957756,
          -0.8457542657622306,
          -0.793348459490645,
          -0.5848431453260283,
          -1.2433801046463155,
          -1.2040299670251655,
          -0.5819765790092558,
          -0.604909109543436,
          -0.5634741964191786,
          -0.7704159289564648,
          -1.2264413036835689,
          -1.169344752529992,
          -0.6488302137764214,
          -0.6245946985527991,
          -0.6488302137764214,
          -1.169344752529992,
          -1.303427571429215,
          -1.306815331621764,
          -1.1908698216618008,
          -1.2175810077953628,
          -1.2407741352674315,
          -1.196081760419569,
          -1.222792946553131,
          -0.7217437936024315,
          -0.8256749935628369,
          -0.7876278406311289,
          -0.7316464772421911,
          -0.7597909465341395,
          -0.7975305242708886,
          -0.7922457855000349,
          -0.8203902547919832,
          -2.1460841972235785,
          -2.141914646217364,
          -2.1413673926477985,
          -2.1371978416415836,
          -2.1313658493011642,
          -2.1439266217073856,
          -2.135535400307379,
          -2.1480961727136005,
          -2.15128083442412,
          -2.1471112834179054,
          -1.6258131242681462,
          -1.9017190888317201,
          -1.9095369969683724,
          -2.0941259028986345,
          -2.0769265049979997,
          -1.9136337479615015,
          -1.9058158398248493,
          -1.6299098752612753,
          -2.0250868301630645,
          -2.197761076963545,
          -2.21496047486418,
          -1.6879032141402348,
          -1.6915515712706726,
          -2.032904738299717,
          -2.658475436942164,
          -2.602702551103537,
          -2.262096524666844,
          -2.60757571384205,
          -2.3262085125179,
          -2.266969687405357,
          -2.5988457164227885,
          -2.6026818704780292,
          -2.6623115909974047,
          -2.2659326787220846,
          -2.6065387051587776,
          -2.3300446665731407,
          -2.270805841460598,
          -2.611411867897291,
          -2.2174618862126136,
          -2.2127190219430446,
          -2.2768310097941007,
          -2.5580679126493067,
          -2.5533250483797376,
          -2.5495985121679334,
          -2.609228232687309
         ],
         "x0": " ",
         "xaxis": "x",
         "y": [
          0.3569071644293903,
          0.3445549477083954,
          0.3603657851112688,
          0.8676337122684498,
          0.853913364746027,
          0.8775154856452456,
          0.8222717406741172,
          0.7837328245046132,
          0.99025833387232,
          1.0455020788434484,
          0.9706288715899826,
          0.957762616933985,
          0.4402232352323465,
          0.43419535347250104,
          0.42453591999668305,
          0.4474122253639656,
          0.5371728721528641,
          0.5658300149455723,
          0.5396186110636211,
          0.5647183154406827,
          0.5554294484664946,
          0.549500384440417,
          0.6729825828776315,
          0.652255563219802,
          0.6680664006226755,
          0.6784669671017532,
          0.6498098243090451,
          0.662137336596598,
          -0.03833405166155578,
          -0.04569597282726869,
          -0.11808459460713801,
          -0.12544651577285099,
          -0.004508873980161386,
          -0.011870795145874323,
          0.07524166896542088,
          0.06787974779970794,
          0.10812807817601973,
          0.10076615701030679,
          0.18787862112160197,
          0.18051669995588904,
          0.9775077172661657,
          0.9775077172661657,
          1.1382041794291355,
          1.276906632036462,
          0.9807800248054546,
          1.4815351470850469,
          1.082293238250602,
          1.720496916245914,
          0.9658966335484306,
          0.9658966335484306,
          0.903000844968243,
          1.616205483930318,
          1.082293238250602,
          1.6041003115437429,
          0.9770199593552835,
          1.552281148990964,
          1.4163175401206396,
          1.710201151141841,
          1.115229056328085,
          1.1251108297048809,
          1.115229056328085,
          1.1364748690881963,
          1.0906450888491446,
          1.0166259744621036,
          1.5636451883742792,
          1.4064357667438439,
          1.2935915115719234,
          1.0883677023096732,
          1.120863419248008,
          1.2610957946335886,
          1.666894455822504,
          1.271965745348064,
          1.8248144579733812,
          1.6777644065369797,
          0.49620008312293995,
          0.7107131871221365,
          0.49027101909686244,
          0.5809761883612906,
          0.704784123096059,
          0.4554389432855829,
          0.7466755290525392,
          0.6844004075125623,
          0.725429716292428,
          0.7311117359840857,
          0.6999642005810158,
          0.4495098792595053,
          0.6787183878209047,
          0.5869052523873681,
          0.6941072291863114,
          0.8002489360162021,
          0.8593124812087204,
          0.8469602644877255,
          0.6990481158747094,
          0.6073547692726017,
          0.8360903137732502,
          0.8126011527371969,
          0.7893789853017266,
          0.8218678732717981,
          0.5675818067729241,
          0.8169269865834002,
          0.5849538317819534,
          0.7579435383324442,
          0.7412654877652458,
          0.6703369855523093,
          0.7516413498108815,
          0.5388706764505241,
          0.9797311162759448,
          1.0537502306629856,
          0.9797311162759448,
          1.1414157557765943,
          0.675636856306919,
          0.6776331602484411,
          0.7911793681426653,
          0.6776331602484411,
          0.7940297649506126,
          0.7940297649506126,
          0.7944499168235976,
          0.9099924286593438,
          0.8282008047001947,
          0.9121016924640313,
          1.0463373977856367,
          0.9299407930834652,
          0.9735734543368585,
          1.0060691712751935,
          0.2862018628575584,
          0.30843585295534914,
          0.23679299597357886,
          0.3593117215065558,
          0.4087205883905354,
          1.5470276489578467,
          1.0316711576959536,
          1.516014198026031,
          1.1042080060764747,
          1.6608998227861274,
          1.185142602968916,
          1.2153019610343065,
          1.6298863718543117,
          0.16785576667975055,
          0.3437676871552555,
          0.06433288120201987,
          0.14759813125731894,
          0.337813918695736,
          0.33882680046685765,
          0.3521671945255321,
          0.33460234234827735,
          0.2809868075047714,
          0.4692262402678291,
          0.464779442248271,
          1.2513135462911218,
          0.16690798997482997,
          0.45065448764487154,
          -0.1336254586670415,
          -0.36294415377444345,
          -0.35306238039764754,
          -0.22016854546724485,
          -0.38562282367419004,
          -0.10674703508215662,
          -0.4172944834905597,
          -0.24348953063648318,
          -0.4382477914767976,
          -0.4311823235123885,
          -0.6166077470463186,
          -0.650684547724941,
          -0.19870637644739228,
          -0.4693808692804239,
          1.3611212461718452,
          1.3485219851164305,
          0.8315231527686558,
          0.5266544554082989,
          0.6347838857257833,
          0.8732736452856186,
          0.497503223946751,
          0.8441224138240706,
          1.390272477633393,
          0.5117321906018482,
          0.676534378242746,
          0.48490396289133625,
          0.4699816980848855,
          0.4825809591403003,
          0.647383146781198,
          0.949100991613235,
          0.5875595369294646,
          0.9663940950226279,
          1.4641234692856504,
          0.9928278388055568,
          0.6158221957945896,
          0.6024818017359151,
          0.7960885717626843,
          0.646208648928237,
          0.6312863841217865,
          1.4814165726950432,
          0.7696548279797553,
          1.477463863344325,
          0.6048526403388574,
          0.9624413856719094,
          0.7657021186290369,
          0.7523617245703624,
          0.619774905145308,
          0.6008999309881391,
          1.5078503164779722,
          1.2737606551582505,
          1.1644785534977882,
          1.2455976010343823,
          0.7636570496412541,
          1.13631549937392,
          0.871456885295197,
          0.9156778211563587,
          0.8875147670324903,
          1.1202576176366266,
          0.7797149313785474,
          0.8078779855024157,
          1.229539719297089,
          0.9822133496398712,
          0.9456507881457263,
          0.9604734482109202,
          0.7220238401640786,
          0.6958371407155695,
          0.7584722664531321,
          0.8005097018368403,
          0.732285567004623,
          0.810885563882476,
          0.7219097049589872,
          0.8370722633309852,
          0.6854612786699338,
          0.837511189128207,
          0.8000745855014741,
          0.8000745855014741,
          0.7896987234558385,
          0.8104504475471098,
          0.8478870511738427,
          1.2074810938065257,
          1.2759301519444628,
          1.1340702032934165,
          1.1103539471891064,
          1.226256463222438,
          1.249972719326748,
          1.0915785777731941,
          1.294705521360375,
          1.2905057676752367,
          1.106154193503968,
          0.5244103732568995,
          0.5130463338735842,
          0.4183896306003637,
          0.429753669983679,
          0.5504829375003171,
          0.5618469768836324,
          0.7081019077870824,
          1.2994846775738387,
          0.5811498970881747,
          0.9303608358027777,
          0.9479009835465905,
          0.5636097493443619,
          1.318260046989751,
          1.0010215819773864,
          1.200330897105715,
          1.1820496163586425,
          1.457597736529444,
          1.4783494606207153,
          0.982740301230314,
          1.079680551188713,
          1.1022944947502522,
          14.839786767158909,
          1.2592263195634499,
          1.346917189782459,
          1.3558908827631377,
          1.4583001463423038,
          0.17678451326537464,
          0.16057840492742936,
          0.1476332818038267,
          0.12808268798909442,
          0.1151375648654918,
          0.13093308479704163,
          0.4385125336560315,
          0.46853780725016747,
          0.43208938096111416,
          0.4759491372827644,
          0.5788906292047392,
          0.5073419581618975,
          0.5863019592373361,
          0.5009188054669802,
          0.6199789103180787,
          0.6135557576231614,
          0.6989389113935173,
          0.6915275813609204,
          2.0856123403871822,
          2.0720249019940877,
          2.100435000452376,
          2.216591304482266,
          2.2017686444170717,
          2.1881812060239776,
          2.5026204614516003,
          2.5189253875233137,
          2.5339950919229275,
          2.0451073398977795,
          0.9593755372946174,
          1.0303761321389275,
          0.33558431908985176,
          0.3484306244796864,
          0.37758185594123433,
          0.5508975284257815,
          0.5405216663801459,
          0.5770842278742907,
          0.6546408845428463,
          0.665016746588482,
          0.3423065943622038,
          0.3444571069699138,
          0.48527483678041433,
          0.7366821935382274,
          0.7262075137588238,
          0.7386585482135866,
          0.7095073167520386,
          0.8500108698307841,
          0.8267887023953138,
          0.8297532344083526,
          0.8529754018438229,
          0.9656123540000038,
          0.9423901865645334,
          -1.4019550198291302,
          -1.4019550198291302,
          -1.0976336647918472,
          -1.0680435075330774,
          -1.3723648625703604,
          -1.2597279104141796,
          -0.9554065553768967,
          0.2473072836245393,
          0.29226935248896063,
          0.26670026387650125,
          0.28159703724202106,
          0.4489495543049304,
          0.4382772390579908,
          0.3711953153008702,
          0.40578152211965585,
          0.4014676332294261,
          0.3913294285560918,
          0.49840788318782514,
          0.48160886844727213,
          0.39950003624041514,
          0.5158966409425865,
          0.4182908599901064,
          0.5469007049122836,
          0.4260573021905541,
          0.3792671052514255,
          0.41590378004589634,
          0.4956637099535969,
          0.5323003847480676,
          0.438672017579748,
          0.7458842837430582,
          0.6597058329352795,
          0.6799387639242691,
          1.5442038281569068,
          1.5634732862416587,
          1.6511587606214302,
          0.6765625639536976,
          -0.16098919149695076,
          -0.36291417923634306,
          -0.35666395757551966,
          -0.1988712962337586,
          -0.21492917797105193,
          -0.20438038489132232,
          -0.08623434407757763,
          -0.10229222581487096,
          -0.09174343273514135,
          -0.19097759544960585,
          -0.1756608467155722,
          0.3354372058649195,
          -0.11808074287149922,
          -0.19740074814452319,
          -0.11165759017658188,
          0.3277294226310187,
          -0.11165759017658188,
          -0.1756608467155722,
          -0.09634084144254823,
          0.3222944472737809,
          -0.19740074814452319,
          -0.11808074287149922,
          -0.09634084144254823,
          0.3218003586049411,
          0.5043710700544128,
          0.0172842880513124,
          0.503876981385573,
          -0.0743879339427064,
          0.0019675393172787427,
          0.5084720060057831,
          0.4984420060283353,
          0.5098060454116505,
          0.0019675393172787427,
          0.5067426956648439,
          -0.07735246595574517,
          0.004932071330317513,
          0.0216322683371026,
          0.10914481168278015,
          0.13463978699491358,
          0.12337456534536624,
          0.1179395899881285,
          0.14007476235215133,
          0.1145797870400179,
          0.004720293733384069,
          0.0354183925915185,
          -0.021471162458104827,
          0.013678491162567509,
          -0.01176812567646756,
          0.008920047418522335,
          -0.009001229130964718,
          -0.033279881643375954,
          -0.02493558870104811,
          0.5754997657287406,
          -0.02493558870104811,
          -0.02035470621023553,
          -0.011539980214424948,
          0.5691754307675913,
          -0.0076366797305905745,
          0.5849615637370228,
          0.00433916492770977,
          -0.011539980214424948,
          -0.033279881643375954,
          0.579526588379785,
          -0.021471162458104827,
          0.5809347410859784,
          0.028056471425805564,
          0.02548721034783861,
          0.5610970810320607,
          -0.0189019013801379,
          0.03932169307535289,
          0.09039414670030992,
          0.1373525195062533,
          0.17192921441478007,
          0.1588111602570835,
          0.18934583999138288,
          0.12497084160883663,
          0.1373525195062533,
          0.15782298291940394,
          0.11734668358552075,
          0.11734668358552075,
          0.17192921441478007,
          0.16430505639146412,
          0.18934583999138288,
          0.010907015954256673,
          0.16430505639146412,
          0.12497084160883663,
          0.1588111602570835,
          0.09039414670030992,
          0.010907015954256673,
          0.19090702759753855,
          0.18853540198710753,
          0.1235439681104377,
          0.19789838226162165,
          0.15066363046867773,
          0.21808190438372732,
          0.2006652788071245,
          -0.15421567866537747,
          0.1364305586928263,
          -0.17296634364784771,
          -0.1630845702710518,
          -0.05192988412139011,
          -0.05047232254831272,
          0.247585244842488,
          -0.06181165749818602,
          0.27755653090693194,
          0.0020613140065150128,
          -0.01869041008475638,
          -0.008067503704700794,
          0.43963454766347865,
          0.0732540277066925,
          0.598408642680781,
          0.4428461240109373,
          0.6016202190282397,
          -0.0638032437775763,
          0.5657354160455441,
          0.7245095110628463,
          0.5565947756720079,
          0.7137630825155808,
          0.7153688706893101,
          0.5549889874982785,
          0.7893234352426145,
          0.7875941249016752,
          0.7983405534489407,
          0.3815858653642491,
          0.2878032042236167,
          0.6810898558803439,
          0.6703434273330784,
          0.6720727376740177,
          0.25454640501585923,
          0.37094300971803074,
          2.0411247367055156,
          2.138939028796503,
          2.153761688861697,
          2.2661515966834576,
          0.2468854761101763,
          0.3466808780438018,
          0.4572577987577081,
          0.32098826726413243,
          1.463188603938504,
          1.453380943862034,
          1.6143748580637625,
          1.5766160979648285,
          1.566017896018215,
          1.7270118102199434,
          1.7557478746122879,
          1.636277357859265,
          1.6468755598058786,
          0.6479054211609895,
          0.7605423733171707,
          0.8308018351582206,
          0.03668419390044988,
          0.383835900674702,
          0.383835900674702,
          0.36730863470201086,
          0.36730863470201086,
          0.383835900674702,
          0.35380945173864004,
          0.35839033422945255,
          0.3690520871723477,
          0.35380945173864004,
          0.37363296966316023,
          0.496472852830883,
          0.496472852830883,
          0.47994558685819183,
          0.496472852830883,
          0.496472852830883,
          0.47994558685819183,
          -1.1389344648022541,
          -1.1292256224595523,
          -1.0258034239772333,
          -1.9503242950255422,
          0.433948902146633,
          1.7756295209960815,
          0.12221621707675316,
          1.762289126937407,
          0.1296275471093501,
          0.4265375721140361,
          1.2201441876794998,
          1.244718919603631,
          1.3317140408983648,
          1.31936182417737,
          1.3079977847940545,
          1.4644155716722493,
          1.0319630060478504,
          1.4431697589121382,
          1.4505810889447353,
          1.3976936521127141,
          1.4481106456005362,
          1.455521975633133,
          1.009965497980435,
          0.7548492836219909,
          0.7990231003500445,
          0.9279914998755514,
          0.5139706272537752,
          0.9133893628471649,
          0.5444360019870589,
          1.0004743607263806,
          -0.5732212272296585,
          -0.26889987219237577,
          -0.4550998908493558,
          0.17732201051681318,
          0.03676446990837575,
          0.15041888249848634,
          0.16489568049549236,
          0.05389402924579307,
          0.23265894924052774,
          0.3000078665982311,
          0.2531636289973792,
          0.3308884084007183,
          0.22228308719489204,
          0.24575229896478232,
          0.24921091964666087,
          0.32693569905,
          0.3103837286438668,
          0.3234770783681214,
          0.6702671591098809,
          0.7074766676683567,
          0.6603853857330849,
          0.7178525297139925,
          0.652974055700488,
          0.6297518882650177,
          0.6401277503106534,
          0.7306988351038272,
          0.74799193851322,
          0.738110165136424,
          0.6289567677320661,
          0.648473270151238,
          0.7789514019153435,
          0.621792482033889,
          0.760917165502691,
          0.7683284955352879,
          0.6178397726831707,
          0.741647707417939,
          0.748811993116116,
          0.6590961765312936,
          0.4409412931870671,
          0.4305654311414314,
          0.412358263694685,
          0.6380189702597006,
          0.1671205439743877,
          0.16316783462366932,
          0.6558061623379332,
          0.23787409448427763,
          0.49451764446418506,
          0.5029171518344616,
          0.23392138513355926,
          0.9924610412886057,
          0.9571739961149693,
          0.8699133054030221,
          0.8832784038951386,
          1.2459172044374627,
          1.3538603142396657,
          1.4664972663958467,
          0.7871355446168835,
          0.7629251998437335,
          0.8331846616847838,
          0.7435215328670054,
          0.6156573158804716,
          0.8044626681331463,
          0.5693606919329096,
          0.38032842111644893,
          0.46811271322998815,
          0.12151373454789195,
          0.043788955144552895,
          0.1705392754527732,
          0.0504370057343033,
          0.06528437023293916,
          0.2417289641295273,
          0.18538663995140903,
          0.29876472511084984,
          0.1786624553923799,
          0.16381509089374405,
          0.35510704928896797,
          0.28391736061221395,
          0.1548226771208598,
          0.4689792231172485,
          0.4689792231172485,
          0.4717098310937671,
          0.2699300726212397,
          0.29451098389601954,
          0.4965377867029668,
          0.2779343090564444,
          0.27631202859688425,
          0.17931779110879315,
          0.22205646096343545,
          0.29706375268815566,
          0.25432508283351335,
          0.23216057424120926,
          0.20130473687216405,
          0.006787488528452047,
          0.12132668205966637,
          0.14109022881325817,
          0.0990926919618756,
          0.214511858134883,
          0.17053796660814124,
          0.8017274291435857,
          0.8017274291435857,
          0.5675143117578384,
          0.5975395853519744,
          0.5975395853519744,
          0.5490862391541179,
          -0.47575947430711085,
          -0.4629131689172762,
          -0.4393110480180574,
          -0.4244883879528636,
          -0.3266740958618765,
          -0.3093809924524837,
          -0.3631225221509299,
          -0.3478057734168962,
          -0.2504855699947488,
          -0.21403714370569546,
          -0.19674404029630263,
          -0.23516882126071512,
          0.5707460436415065,
          0.5234276666379777,
          -0.6817048372338541,
          -0.7088550095866009,
          -0.6900302313038047,
          -0.7680020550415637,
          -0.6622823442491396,
          -0.5845575648458006,
          -0.5761580574755241,
          -0.6538828368788631,
          -0.5949828357583202,
          -0.6727076151616593,
          -0.5762321707758501,
          -0.5481631260864394,
          -0.558588396998959,
          -0.48086361759561985,
          -0.47043834668310014,
          0.15110794400578792,
          0.1245753824890909,
          0.2581369897706373,
          0.2485269651617033,
          0.31694858189788533,
          0.11541586775977784,
          0.2803860204037405,
          0.26852789235158536,
          0.38353647011819747,
          0.20102616973042217,
          0.3964321843749161,
          0.40255888386852956,
          0.5105514025376164,
          0.26664119808437825,
          0.51667810203123,
          0.49864386561857743,
          0.28902341478282095,
          0.2727678975779917,
          0.9903634137659745,
          0.6758080400032036,
          0.6634064144153248,
          1.2141081610396065,
          1.0984526893406947,
          -1.6687523215901978,
          -1.6687523215901978,
          1.288663381572043,
          1.1737310699770775,
          1.167653779350348,
          1.18717028176952,
          1.1965133659099025,
          1.202590656536632,
          1.2160298683290744,
          1.2742913849500415,
          1.3130042096830339,
          1.373959433946541,
          1.387669470109482,
          1.3069269190563044,
          0.7263396839003996,
          0.7357767774752396,
          0.9144096571545487,
          0.9193505438429466,
          1.0658959443064637,
          0.9066771694872059,
          1.033173308804343,
          1.0282324221159451,
          1.1797187092678605,
          1.0204999344486023,
          0.8495995424366363,
          0.8401624488617961,
          1.0989859726258349,
          1.2504722597777502,
          1.1039268593142328,
          0.9203530929465259,
          0.9109159993716859,
          1.091253484958492,
          1.2042642585856804,
          1.233272071745887,
          1.3476383342430074,
          1.2135476357825743,
          1.2160180791267732,
          1.4478525707941576,
          -0.06390273061009942,
          -0.36341785957397754,
          -0.0772431246687739,
          0.06153111806903235,
          0.03638200482508678,
          -0.2631331241387913,
          -0.23798401089484578,
          -0.1484951128738091,
          0.1717964446147824,
          -0.1277186843490957,
          0.15102001609006901,
          2.294719079068014,
          2.2907416652838535,
          2.3191764681755838,
          2.427366622312207,
          2.402909233204637,
          2.3989318194204765,
          2.5260997336078264,
          2.496405004610555,
          2.4700453741279516,
          2.474022787912112,
          1.10357363159184,
          1.178446838845306,
          1.2935048254788022,
          1.2186316182253363,
          1.193161347346645,
          1.2766024143416728,
          1.1344884944263902,
          1.1602058096395016,
          1.3062971433389445,
          1.1899005386367734,
          -0.5539342080510167,
          -0.7361782059872642,
          0.5140246147834667,
          0.3552505197661646,
          0.6691061256540496,
          0.6325906309657255,
          0.47381653594842343,
          0.6206785153838786,
          0.5042819106817069,
          0.3349279482786788,
          0.30328632420676904,
          0.4485530777725393,
          0.41691145370062954,
          -0.04137108974774593,
          0.009179988211330502,
          -0.0053956275194434675,
          0.009179988211330502,
          -0.03692429172818778,
          -0.05149990745896172,
          -0.05149990745896172,
          0.17626564538696593,
          0.2908295433516222,
          0.40554166791693036,
          0.31704135809939427,
          0.3463902250284781,
          0.33472973244385895,
          0.3116063827421565,
          0.3292947570866212,
          0.2319494618628106,
          0.5104947058579797,
          0.18195798749397113,
          0.1598381326012719,
          0.21712680179761673,
          0.14501547253607805,
          0.19500694690491752,
          0.5392353489131322,
          0.18018428683972365,
          0.5022928339552392,
          0.48747017389004527,
          0.46712401965159356,
          0.5474372208158729,
          0.48924387454429275,
          0.5122684065122273,
          0.5244126888479383,
          0.47532589155433413,
          0.19678064755916497,
          0.45230135958639966,
          0.5040665346094866,
          0.30882971186631414,
          0.2586900108968227,
          0.6029184129050373,
          0.2736608975626685,
          0.6161155989166356,
          0.625350038470364,
          0.5884075235124709,
          0.6235763378161165,
          0.58094678461299,
          0.31060341252056156,
          0.3308013401583614,
          0.6530581138745287,
          0.6178892995708831,
          0.5659758979471442,
          0.34577222682420716,
          0.6011447122507898,
          0.6644916878953621,
          0.6740319676125127,
          0.7136722843691584,
          0.7438116931683859,
          0.28742607528916725,
          0.5947119623394888,
          0.6486561460590466,
          0.7279761513320705,
          0.36674608056219116,
          0.6343522790961346,
          0.5322159178276759,
          0.519888405540123,
          0.6332911951330058,
          0.6443834857484592,
          0.6287103126421932,
          0.6398026032576467,
          0.7459528517226287,
          0.7413719692318161,
          0.7597520677126565,
          0.7643329502034691,
          0.9406528228623208,
          0.9659842541024787,
          0.9775953378202139,
          0.9491852393619257,
          0.9122427244040325,
          0.9290417391445857,
          0.9610433674140807,
          0.24791412117313535,
          0.5855864613571042,
          0.2795204785075587,
          0.59214252318135,
          0.2848566361310284,
          0.5552000082234568,
          0.6240760217917556,
          0.6324755291620321,
          0.6694180441199252,
          0.6610185367496487,
          -0.7868369559670184,
          -0.7649641454087391,
          -0.7984480396847536,
          -0.6843288215220532,
          -0.679882023502495,
          -0.6513390159148785,
          -0.672717737804318,
          -0.6445887219439788,
          0.42271252453373204,
          0.553471792027818,
          0.6271651701173048,
          0.5387833929383496,
          -0.25483904891994863,
          0.07082693661121336,
          -0.4512190987727247,
          0.060204030231157744,
          -0.4618420051527803,
          -0.23645895043910825,
          -0.1545561181024587,
          -0.4618420051527803,
          -0.2661042705694959,
          -0.17357853185279085,
          -0.24708185681916384,
          -0.4808644189031124,
          -0.25483904891994863,
          0.060204030231157744,
          -0.4512190987727247,
          -0.4808644189031124,
          0.04118161648082563,
          -0.1623133102032435,
          -0.14393321172240311,
          -0.14393321172240311,
          0.052446838130372965,
          -0.1623133102032435,
          -0.1545561181024587,
          0.04118161648082563,
          -0.4695991972535651,
          -0.24708185681916384,
          -0.23645895043910825,
          0.052446838130372965,
          0.17457029272827812,
          -0.03574305758578019,
          0.17901709074783625,
          -0.15245443664219335,
          -0.36721458497580983,
          0.1548067459746863,
          -0.029319904890862857,
          -0.33660579194118445,
          -0.36721458497580983,
          -0.04018985560533834,
          -0.05847113635241077,
          0.1671589626956812,
          -0.047601185637935285,
          -0.34747574265566,
          -0.12184564360756804,
          -0.34747574265566,
          -0.05995340235893016,
          0.15628901198120568,
          -0.12184564360756804,
          -0.05995340235893016,
          0.1854402434427536,
          -0.15245443664219335,
          -0.13963283568580068,
          -0.029319904890862857,
          -0.13271559432204355,
          -0.03574305758578019,
          0.15628901198120568,
          0.1854402434427536,
          -0.3543929840194171,
          0.1548067459746863,
          -0.05847113635241077,
          -0.3543929840194171,
          0.1671589626956812,
          -0.13963283568580068,
          -0.13271559432204355,
          -0.047601185637935285,
          0.17901709074783625,
          -0.33660579194118445,
          0.17457029272827812,
          -0.04018985560533834,
          0.2689259641373868,
          0.07689389457040091,
          0.05416581580377033,
          0.2916540429040173,
          0.5063505654541142,
          0.4926643093272518,
          8.717350664661907,
          8.829987616818089,
          8.94262456897427,
          8.404479001835048,
          0.7619292285054323,
          0.7900922826293006,
          0.12428908917789665,
          0.2470148109950837,
          0.23515668294292863,
          0.22379264355961334,
          0.6007561975095735,
          0.5761011729344677,
          0.5726425522525892,
          0.5859335374443797,
          0.5909238329996617,
          0.5662193995576719,
          0.6616279746426675,
          0.6433466938955952,
          0.6566376790873857,
          0.6714603391525795,
          0.6369235412006778,
          0.6468053145774737,
          -0.23694600487567383,
          -0.23200511818727587,
          -0.2492982215966687,
          -0.23200511818727587,
          -0.23694600487567383,
          -0.2492982215966687,
          -0.12332087538181313,
          -0.11837998869341518,
          -0.13567309210280803,
          -0.13567309210280803,
          -0.12332087538181313,
          -0.11837998869341518,
          0.5119187229329618,
          0.4369114312082416,
          0.17384472853341681,
          0.5183418756278791,
          0.5030251268938455,
          0.24638157691393806,
          0.4304882785133243,
          0.2869757693584377,
          0.6275202071021817,
          0.6250497637579827,
          0.6161561677188664,
          0.6349315371347786,
          0.35951261773895893,
          0.6324610937905796,
          0.7354591973372855,
          0.7492936800647997,
          0.7636222514611538,
          0.7404000840256835,
          0.6309207206872691,
          0.6269680113365508,
          0.40886001307741165,
          0.4964171569906627,
          1.1341737541425891,
          1.108530552229804,
          1.1173006261017102,
          1.108530552229804,
          1.1256507246051026,
          1.1173006261017102,
          1.1256507246051026,
          1.1341737541425891,
          1.2387817654301236,
          1.2304316669267312,
          1.2473047949676102,
          1.2304316669267312,
          1.2216615930548247,
          1.2473047949676102,
          1.2216615930548247,
          1.2387817654301236,
          1.3520363284223544,
          1.360559357959841,
          1.3349161560470555,
          1.3436862299189618,
          0.04860272846465739,
          0.17287546877201568,
          0.16207963135786616,
          0.27471658351404715,
          0.512511841380999,
          0.5852417465662482,
          -0.03349830033763835,
          0.08425246954103462,
          0.27745401222844907,
          0.26599115511136584,
          0.27287312973763644,
          0.2683275139843103,
          0.26287839649767514,
          0.2614102726205532,
          0.27745401222844907,
          0.2515637659812438,
          0.27287312973763644,
          0.2614102726205532,
          0.2683275139843103,
          0.2515637659812438,
          0.24698288349043118,
          0.2582975140068625,
          0.26599115511136584,
          0.26287839649767514,
          0.272908396475123,
          0.272908396475123,
          0.2582975140068625,
          1.4599539595886746,
          1.4500968906453207,
          1.4714909300060839,
          1.480656274813062,
          1.5968259609514477,
          1.5655254437804467,
          1.588673497915591,
          0.35378703896479746,
          0.5042604443455911,
          0.5129069960502876,
          0.6310036279971483,
          0.45493642957045316,
          0.4638300256095695,
          0.6270509186464299,
          0.6181573226073136,
          0.5713778644767008,
          0.5842241698665355,
          0.7474450629033959,
          0.7345987575135612,
          0.5802714605158171,
          0.7434923535526775,
          0.3830643429830606,
          1.0368059342714582,
          0.37140385039844137,
          1.0617173901431023,
          0.37140385039844137,
          0.375984732889254,
          1.0247748751852093,
          0.38764522547387315,
          0.14925885966227156,
          0.13641255427243687,
          0.6503381959080881,
          0.5721380877427115,
          0.4861520050074494,
          0.5333134180658223,
          0.6256831713329822,
          0.6358119890441981,
          0.519528344205192,
          0.5093995264939762,
          0.5347462752054577,
          0.7330674129961066,
          0.8457043651522876,
          0.6220364786501574,
          0.6736621644170963,
          0.7484489412003792,
          0.43156022252096277,
          0.4212337693422111,
          -0.39221276684225825,
          -0.25217349413920986,
          -0.139042453314189,
          -0.27883468168281755,
          -0.16397433051685734,
          -0.025911412489168083,
          -0.15794013285763178,
          0.39686056917615375,
          0.3803085987700206,
          0.6445769814880209,
          2.0404506549266883,
          0.6559410208713362,
          2.10952072413717,
          0.768849721795379,
          -0.1042604199551843,
          -0.31996604130713774,
          -0.36822318678146215,
          -0.48387865848037387,
          -0.06688736732473295,
          0.00837653220099683,
          -0.2555862346252811,
          0.12313806563318903,
          -0.25514613348613324,
          -0.13949066178722144,
          -0.09123351631289701,
          0.1605111182636404,
          -0.08355624005937291,
          -0.16935617755799054,
          -1.405432003999617,
          -1.4701520768697376,
          -1.4182193370559777,
          -1.4829394099260986,
          0.5425817606477373,
          0.7627768843385916,
          0.7568478203125141,
          0.6552187128039185,
          0.6616418654988359,
          0.8699788611375351,
          0.8741786148226733,
          0.8165982008733567,
          1.0644822392854028,
          1.073375835324519,
          1.075846278668718,
          0.12420110141622573,
          0.060315436535240206,
          0.6499023518208209,
          0.34940696656312964,
          0.2981946760378849,
          1.2219407580247676,
          0.22277797124869536,
          1.2731530485500124,
          0.27399026177394015,
          0.33541492340487644,
          1.3345777101809488,
          0.4108316281940661,
          0.33842993977574704,
          0.43519590685365495,
          0.29811230439841974,
          0.497747532328773,
          0.2845248660053254,
          0.8488981639961207,
          0.12265514571302862,
          0.16763716384361282,
          0.1330310077586643,
          0.15726130179797712,
          0.2722945839980312,
          0.2826704460436669,
          0.27921182536178835,
          0.24721019709229314,
          0.36044005565108195,
          0.3924416839205771,
          0.3959003046024556,
          0.38552444255681995,
          0.7361812121353365,
          0.6186129367573471,
          0.7312498889135282,
          0.8488181642915175,
          0.8360308312351564,
          1.2557612866396295,
          1.3092263124029349,
          1.3686205786967884,
          1.4218879689925576,
          1.8939125232924974,
          1.9185922523010452,
          1.1966140646801957,
          0.36664474241444667,
          1.1423584970467469,
          0.40518365858395067,
          0.4802698719083073,
          0.5188087880778114,
          0.6488303482160187,
          0.6789697570152462,
          0.3363302816863485,
          0.3096494935689995,
          0.3111317595755189,
          0.3348480156798291,
          0.32002535561463524,
          0.32150762162115465,
          0.45094358851788874,
          0.42426280040053976,
          0.4361209284526949,
          0.4346386624461755,
          0.4227805343940204,
          0.4494613225113694,
          0.547389749807448,
          0.4962515725825292,
          0.506380390293745,
          0.5295778532957734,
          0.019757751114983853,
          -0.05540304757456018,
          -0.13324078684106472,
          -0.12187674745774942,
          0.14900066120699001,
          0.029639524491779763,
          0.006911445725149186,
          0.1391188878301941,
          -0.044039008191244865,
          0.0705742986402954,
          0.04849381550732846,
          -0.01974974181845842,
          -0.006409347759783947,
          -0.01382067779238088,
          0.06316296860769847,
          0.0572339045816209,
          0.16785495222253866,
          0.03564751011749379,
          0.003472425617011964,
          0.0804560720170913,
          0.10029854037031945,
          0.1626130336700288,
          0.10770987040291635,
          0.23910259140126838,
          0.11759164377971226,
          0.18419942813415596,
          0.17678809810155902,
          0.1492726396113543,
          0.04715174722152813,
          0.1635483519236996,
          0.15860746523530164,
          0.280138013430599,
          0.16374140872842757,
          0.2702562400538031,
          0.2751971267422011,
          0.15880052204002962,
          0.34298614523905224,
          0.8876665682965319,
          0.8961895978340183,
          0.9113828244008421,
          0.9623915489493456,
          1.8996138126716273,
          1.8949199703176494,
          1.908186251075998,
          1.9160669653439926,
          2.013782439701212,
          2.0208232032321787,
          2.0098297303504933,
          2.0342130061577373,
          2.126518209591161,
          2.1225655002404427,
          2.1469487760476866,
          2.133558973122128,
          2.131434391846117,
          2.713266780280351,
          2.742912100410739,
          2.7216662876506272,
          1.5143450984087945,
          1.5211882264722256,
          1.5353932757013697,
          1.5292665762077562,
          1.6269820505649755,
          1.6338251786284066,
          1.6480302278575507,
          1.6419035283639372,
          1.65571811495732,
          1.6706395927562816,
          1.662561243020751,
          1.6767662922498952,
          2.1395325961843388,
          2.1604819557431463,
          2.131800108516996,
          2.1527247636423614,
          2.1455604779441844,
          2.126933335128924,
          2.417645388333718,
          2.427774206044934,
          2.4396323340970887,
          2.446302531126426,
          2.7133418924181316,
          2.43691484641847,
          2.5496259118749767,
          2.5590135965829326,
          2.5546656162971426,
          2.5428074882449874,
          2.532678670533772,
          2.828276356884418,
          0.4368966036224498,
          0.4561660617072018,
          0.4241644334377067,
          0.40489497535295466,
          0.5796729645778586,
          0.5476713363083634,
          0.5554626198047086,
          0.5234609915352134,
          0.629674790996477,
          0.6632728204775831,
          0.6400506530421127,
          0.6267102589834382,
          0.6163343969378026,
          0.6528969584319474,
          1.1401905458754726,
          1.1520486739276277,
          1.215197837600193,
          1.227055965652348,
          0.17787551974983912,
          1.2146497614016614,
          0.4529922319396208,
          0.2942181369223185,
          0.2722311911589476,
          0.4722616900243728,
          1.2047140004951733,
          0.9475043144578654,
          0.8662407346575318,
          0.4980100915937607,
          0.4836815201974066,
          0.9845609646208501,
          0.6042238910550243,
          0.6133645314285605,
          0.9818422188267518,
          1.0631057986270855,
          1.1105383108357059,
          1.0734816606727213,
          1.10016244879007,
          0.6744833528960744,
          0.06748747681712038,
          -0.04890912788505106,
          -0.037298044167315865,
          0.07909856053485556,
          1.0733908800582272,
          1.1872630538865079,
          1.2999000060426888,
          0.32086307099664846,
          0.2862569149117,
          0.48731514095470896,
          0.5219212970396574,
          -0.7481309716918972,
          -0.7843429159505751,
          -0.7843429159505751,
          -0.7481309716918972,
          -0.7098201494281052,
          -0.7098201494281052,
          0.3088813889048554,
          -0.007298094184582542,
          0.25107301465059934,
          0.25107301465059934,
          0.21549863049413406,
          -0.06905917778955693,
          0.23032129055932793,
          -0.04534292168524677,
          0.25107301465059934,
          0.2920823741643023,
          0.28763557614474417,
          0.2540375466636381,
          0.25107301465059934,
          0.37445639535404585,
          0.3907613214257591,
          0.05135967090085091,
          0.08643996638847638,
          0.3299884151584643,
          0.42534752824454475,
          0.3507401392497357,
          0.44730982270650493,
          0.11680176822071306,
          0.42161721192683554,
          0.5041300196230813,
          0.4018536651732437,
          0.46312066010937836,
          1.00541859840552,
          1.0313088446527252,
          1.1036434789029024,
          1.0789390454609127,
          0.26705046886535483,
          0.42793500302927073,
          0.25119022259559737,
          0.4043669735256125,
          0.2434824393616966,
          0.544598777836496,
          0.3594297855991043,
          0.5298008222047442,
          0.5203143197630201,
          0.3837142436725802,
          0.5556910684519495,
          0.39480653428803364,
          0.3689162880408284,
          0.5436307262694505,
          0.44194264642738135,
          0.4324561439856573,
          0.5518172807008676,
          0.48107446899949313,
          0.46664707986937115,
          0.5580581153995725,
          0.5613037831425916,
          0.5768922806444872,
          0.4575311439292769,
          0.17900516348660783,
          0.2924326575129325,
          0.3023847473271853,
          0.32955962411337403,
          0.3172074073923791,
          0.3044846241697544,
          0.13136200848993523,
          0.10628700854631562,
          0.11900979176894035,
          0.12066498880955367,
          0.31886260443299247,
          0.3877139135678492,
          0.23189378825954127,
          0.21917100503691656,
          0.6008670858211334,
          0.5796212730610221,
          0.5954321104638955,
          0.5860444257559395,
          0.7116017966022813,
          0.6996942596832423,
          0.7264244566674751,
          0.7699537215242924,
          0.7818612584433314,
          0.7966839185085253,
          0.08541724233582638,
          0.00818655160132712,
          0.12082350375750818,
          0.1980541944920074,
          0.47032508853664995,
          0.4974505564559547,
          0.47156031020874944,
          0.574681247190454,
          0.5559552866414258,
          0.5475557792711493,
          0.47872459590692645,
          0.5487910009432487,
          0.8786287448639262,
          0.8024991913302721,
          0.9909036044766847,
          0.9740551808692477,
          1.093416317584458,
          1.1252509984610954,
          1.1423464664029523,
          0.9443095382003656,
          1.063863731720304,
          1.0942501848539514,
          0.9954726494952286,
          -0.5278053368008113,
          -0.18441859186543436,
          0.26737317577589337,
          0.7383464478227225,
          0.4044675170396443,
          0.39409165499400856,
          0.9521773911521328,
          0.8200850806727911,
          0.9582995119829384,
          0.868224687621142,
          -0.09912524566010816,
          0.2136989658155956,
          0.13114353287034386,
          0.013511706496072896,
          0.32911413684222574,
          0.41024354939775143,
          0.5278753757720223,
          0.2872802371505897,
          0.2120259010914496,
          0.5092141415612016,
          -0.7373780914176103,
          -0.7424425002732182,
          -0.6244940949270095,
          -0.6264704496023686,
          -0.6200720013408934,
          0.48179167919979893,
          -0.11368154802898493,
          0.0010552809697651979,
          0.3644608846896399,
          1.263980214847014,
          1.8090424498584525,
          0.5256769767560756,
          0.4247100806511032,
          0.5256769767560756,
          0.6572917420950151,
          0.7597391539424254,
          0.4035673721339462,
          0.37686663475043447,
          0.6696575791552836,
          0.5256414178649674,
          0.5412898865377914,
          0.5166984129589671,
          0.43982772642205326,
          0.42278284268900646,
          0.7442156124152398,
          0.5160762234601094,
          0.5237981488234077,
          0.905484855210183,
          0.17775173381177137,
          0.22835165390939854,
          0.28956745602313017,
          0.2959906087180475,
          0.3457364359492496,
          0.38921623880715156,
          0.2718314567673005,
          0.2494934616593409,
          0.46034974278078966,
          0.3613091838706997,
          0.36773233656561705,
          0.3429649607409387,
          7.577273608664158,
          7.578879396837888,
          7.6824251174874165,
          7.684352063295892,
          7.796741971117653,
          7.794815025309178,
          0.6266930878495877,
          0.590382325857142,
          0.6336103292133448,
          0.6179477184111233,
          0.582896882524219,
          0.597497202688435,
          0.8246435592876283,
          0.8790132621261687,
          0.8716019320935717,
          0.8615966365495659,
          0.8146382637436226,
          0.8320548893202253,
          0.776727697218684,
          0.7602992489797608,
          0.807257621785704,
          0.8162747399920304,
          0.769316367186087,
          0.8236860700246272,
          0.11040751953759763,
          0.2314637108217253,
          0.12720653427815065,
          -0.03318391121692544,
          0.1125966627753548,
          -0.04998292595747846,
          0.06388924787080207,
          0.22427969336587816,
          0.2769493810877389,
          0.24009053076875161,
          0.3534389388189785,
          0.07970008527367552,
          0.23096925614494768,
          0.46443653660276246,
          0.4221896592337009,
          0.29485734162991406,
          0.43459128482157977,
          0.21856763055706882,
          -1.6158714284932796,
          -1.6286587615496406,
          -1.6286587615496406,
          -1.4799582774548434,
          -1.4750173907664454,
          -0.5286758877879584,
          -0.5214989800021873,
          -0.5266995331125992,
          -0.5205234247521017,
          -0.4867798640540733,
          -0.48430942070987437,
          -0.5262054444437594,
          -0.5252046450184858,
          -0.41505075829409765,
          -0.41120400813630686,
          -0.4073797618394869,
          -0.37315473456021264,
          -0.3706842912160137,
          -0.40640420658940124,
          -0.4140625809564181,
          -0.2898145450825018,
          -0.30142562880023704,
          -0.2587884720630923,
          -0.3675048882199592,
          -0.3673072527524233,
          -0.36256400153156126,
          -0.37338454337915283,
          -0.3783254300675507,
          0.2884042199019793,
          0.10344818060344702,
          0.14813855383203772,
          0.3186225503008431,
          0.28477747648531715,
          0.1586132336114414,
          -0.06126133235292704,
          -0.07111840129628096,
          -0.04638926342084921,
          0.01694814875713342,
          -0.014816997481986297,
          -0.039353255057161245,
          -0.034876997436881975,
          -0.0031118511977622563,
          -0.014624117181729492,
          -0.029496186113807325,
          0.06653938676935665,
          0.0819844128378794,
          0.06689000400482366,
          0.08536416505215284,
          0.034774240530236956,
          0.09865515024394335,
          0.11374955907699909,
          0.053599018813033146,
          0.07861527605968162,
          0.08837352726926757,
          0.063175005158438,
          0.10077515285714642,
          0.05341675394885204,
          0.11013813313166054,
          0.10037988192207459,
          0.09101690164756046,
          0.4211233928217241,
          0.5971434760322228,
          0.5812091164621395,
          0.4010880973002704,
          0.5611738209406858,
          0.6738107730968669,
          0.7097804281884039,
          0.5349955666500046,
          0.6938460686183205,
          0.8224173803445848,
          0.6486206961438652,
          0.41151281274014856,
          0.2087448769299417,
          0.19597268484043298,
          0.3872530591001146,
          0.18448512328990777,
          0.39874062065063987,
          0.3868577881650428,
          0.1840898523548359,
          0.3095978143342937,
          0.2980114350500005,
          0.5251379422340092,
          -0.3423039838000211,
          -0.6808085158721244,
          -0.6684068902842456,
          -0.35470560938789997,
          -0.059217664736640384,
          -0.04676663028187753,
          -0.4276980615359957,
          -0.41524702708123284,
          -0.8068527520522595,
          -0.81517814612221,
          -0.7657044997679914,
          -0.6577815157364224,
          -0.6480973778271625,
          -0.6319948423902643,
          -0.6634388309946381,
          -0.7753886376772514,
          -0.5347192926677218,
          -0.6620105525178107,
          -0.5444034305769818,
          -0.5500607458351975,
          -0.6676678677760264,
          -0.47709335978211787,
          -0.6523264146085507,
          -0.22803383894944504,
          -0.24606807536209757,
          -0.11292644344906494,
          -0.1309606798617175,
          0.0003281195431658686,
          -0.01770611686948665,
          -0.21036078207630396,
          -0.19504403334227033,
          -0.205419895387906,
          -0.33169827346687336,
          -0.09525338657592385,
          -0.0903124998875259,
          -0.2165908779664933,
          -0.0799366378418902,
          -0.10333631497426239,
          0.018001176416306948,
          0.03331792515034059,
          0.022942063104704903,
          0.38454605225689764,
          0.36972339219170375,
          0.519109482370916,
          0.5364025857803089,
          0.6520040699495285,
          0.6347109665401357,
          0.5758262751092705,
          0.5610036150440767,
          0.08759304754700364,
          0.13929313698715237,
          -0.07365149081449761,
          0.07400560915390929,
          -0.0927953669484901,
          -0.10585228913818544,
          -0.087238929207592,
          -0.0792079285553957,
          0.5889228670459085,
          0.46956173033069815,
          0.44867709711009846,
          0.05385599568710451,
          0.32931596039488825,
          0.3107876353133959,
          0.43014877202860613,
          0.3418730007964129,
          0.41213246263746306,
          0.1664929478432855,
          0.5606964384302296,
          0.5415505025126875,
          0.44133530171501945,
          0.4221893657974774,
          0.6591823288869586,
          0.5398211921717483,
          0.4198830835074459,
          0.4005148076889259,
          0.7241931557274711,
          0.526045004519791,
          0.5537139699748195,
          0.535679733562167,
          0.3908800786465499,
          0.8758830619881588,
          0.935324388881888,
          0.9629933543369165,
          0.944959117924264,
          0.3624477436213986,
          0.3624477436213986,
          0.2756996666610846,
          0.3056537587383338,
          0.3007128720499358,
          0.5025265661643511,
          0.4131907030432768,
          0.4664843053725577,
          0.45487322165482247,
          0.5025265661643511,
          0.4131907030432768,
          0.5487899672667094,
          0.45981410834322045,
          0.5487899672667094,
          0.45981410834322045,
          -0.1463097350348252,
          -0.16439338031436168,
          -0.13914544933664813,
          -0.15722909461618464,
          -0.04409805379116378,
          -0.0512623394893408,
          -0.032190516872124715,
          -0.025026231173947693,
          0.08909298698875275,
          0.06688370132440395,
          0.08192870129057571,
          0.07404798702258099,
          0.16795540168442125,
          0.2778995705954254,
          -0.5992582304932859,
          -0.9021998381237445,
          -0.8805587544285615,
          -0.8971647123643863,
          -0.48662127833710467,
          -0.7679218022723803,
          -0.7848690436135852,
          0.010991127444389591,
          0.2152413292611159,
          0.0035797974117926725,
          0.24595374832881964,
          0.22717837891290743,
          0.3403094197379283,
          1.0615501956011404,
          0.7075448978356728,
          0.8224052490016329,
          0.8322870223784288,
          0.9261286558525348,
          1.1703029538675582,
          1.199039018259903,
          1.3195813891175205,
          -1.1376532430666655,
          -1.1337005337159474,
          -0.9784390469102157,
          -1.0247692465760647,
          -0.8784579674341803,
          -0.9247881671000296,
          0.5558383191974846,
          0.46998002960384044,
          0.4739327389545588,
          0.4949315073802501,
          0.5499092551714071,
          0.5296516197489755,
          0.4546632808698068,
          0.48974357635743226,
          0.4768972709675976,
          0.5424979251388101,
          0.45787485721726545,
          0.5340984177685336,
          0.5227343783852183,
          0.5281693537424561,
          0.599416992921186,
          0.5028968948357718,
          0.5299765892624204,
          0.567280283759825,
          0.5056143825143907,
          0.48387448108543973,
          0.5231545302582035,
          0.621156894350137,
          0.5460344709997138,
          0.6217289081980016,
          0.6537115836219455,
          0.6766867067229959,
          0.6537115836219455,
          0.6217289081980016,
          0.4561455468763262,
          0.4529339705288675,
          0.5797560226480298,
          0.5544339783699903,
          0.5324470326066194,
          0.5748151359596319,
          0.5494930916815923,
          0.3442362019892463,
          0.3406634461022762,
          0.37673191892758123,
          0.3348485172812902,
          0.3081677291639413,
          0.36734423421962514,
          0.48887478241492244,
          0.4621939942975735,
          -0.20921509836110652,
          -0.20526238901038815,
          -0.2047435959081064,
          -0.20079088655738803,
          -0.07874154525980888,
          -0.09064908217884794,
          -0.08269425461052725,
          -0.09460179152956631,
          0.018899815797084475,
          0.022852525147802817,
          -0.21514415748464558,
          0.007387325079153191,
          -0.000024004953443755163,
          0.3268678235081428,
          0.343172749579856,
          0.11261294720273733,
          0.12002427723533428,
          -0.10250720532846451,
          0.31804438316187117,
          0.5397105894998735,
          0.5234056634281603,
          0.05398950314936677,
          0.05053088246748822,
          0.31063305312927425,
          0.6794024964947866,
          0.6373214593809596,
          0.3311472718355275,
          0.6327017303273076,
          0.36532289024791775,
          0.32652754278187546,
          0.6409777155303741,
          0.753861712020975,
          0.7922864929853874,
          0.4440312683261285,
          0.7502054558715605,
          0.47820688673851874,
          0.43941153927247645,
          0.7455857268179084,
          0.5115485380551178,
          0.5160447449415599,
          0.5502203633539502,
          0.8177227256005498,
          0.8222189324869918,
          0.8257516664691965,
          0.8641764474336088
         ],
         "y0": " ",
         "yaxis": "y"
        },
        {
         "alignmentgroup": "True",
         "boxpoints": "all",
         "customdata": [
          [
           "Nissan 350Z",
           2007
          ],
          [
           "Nissan 350Z",
           2007
          ],
          [
           "Nissan 350Z",
           2007
          ],
          [
           "Nissan 350Z",
           2007
          ],
          [
           "Nissan 350Z",
           2007
          ],
          [
           "Nissan 350Z",
           2007
          ],
          [
           "Nissan 350Z",
           2007
          ],
          [
           "Nissan 350Z",
           2008
          ],
          [
           "Nissan 350Z",
           2008
          ],
          [
           "Nissan 350Z",
           2008
          ],
          [
           "Nissan 350Z",
           2008
          ],
          [
           "Nissan 350Z",
           2008
          ],
          [
           "Nissan 350Z",
           2008
          ],
          [
           "BMW 4 Series Gran Coupe",
           2015
          ],
          [
           "BMW 4 Series Gran Coupe",
           2015
          ],
          [
           "BMW 4 Series Gran Coupe",
           2016
          ],
          [
           "BMW 4 Series Gran Coupe",
           2016
          ],
          [
           "BMW 4 Series Gran Coupe",
           2016
          ],
          [
           "BMW 4 Series Gran Coupe",
           2016
          ],
          [
           "BMW 4 Series Gran Coupe",
           2017
          ],
          [
           "BMW 4 Series Gran Coupe",
           2017
          ],
          [
           "BMW 4 Series Gran Coupe",
           2017
          ],
          [
           "BMW 4 Series Gran Coupe",
           2017
          ],
          [
           "BMW 4 Series",
           2015
          ],
          [
           "BMW 4 Series",
           2015
          ],
          [
           "BMW 4 Series",
           2015
          ],
          [
           "BMW 4 Series",
           2015
          ],
          [
           "BMW 5 Series Gran Turismo",
           2016
          ],
          [
           "BMW 5 Series Gran Turismo",
           2016
          ],
          [
           "BMW 5 Series Gran Turismo",
           2016
          ],
          [
           "BMW 5 Series Gran Turismo",
           2017
          ],
          [
           "BMW 5 Series Gran Turismo",
           2017
          ],
          [
           "BMW 5 Series Gran Turismo",
           2017
          ],
          [
           "BMW 5 Series",
           2015
          ],
          [
           "BMW 5 Series",
           2015
          ],
          [
           "BMW 5 Series",
           2015
          ],
          [
           "BMW 5 Series",
           2015
          ],
          [
           "BMW 5 Series",
           2015
          ],
          [
           "BMW 5 Series",
           2015
          ],
          [
           "BMW 5 Series",
           2015
          ],
          [
           "BMW 5 Series",
           2015
          ],
          [
           "BMW 5 Series",
           2016
          ],
          [
           "BMW 5 Series",
           2016
          ],
          [
           "BMW 5 Series",
           2016
          ],
          [
           "BMW 5 Series",
           2016
          ],
          [
           "BMW 5 Series",
           2016
          ],
          [
           "FIAT 500",
           2015
          ],
          [
           "FIAT 500",
           2015
          ],
          [
           "FIAT 500",
           2016
          ],
          [
           "FIAT 500",
           2016
          ],
          [
           "FIAT 500",
           2017
          ],
          [
           "FIAT 500",
           2017
          ],
          [
           "Ferrari 599",
           2011
          ],
          [
           "Volvo 850",
           1996
          ],
          [
           "Volvo 850",
           1996
          ],
          [
           "Volvo 850",
           1997
          ],
          [
           "Volvo 850",
           1997
          ],
          [
           "Volvo 850",
           1997
          ],
          [
           "Saab 9-3 Griffin",
           2012
          ],
          [
           "Saab 9-3 Griffin",
           2012
          ],
          [
           "Saab 9-3 Griffin",
           2012
          ],
          [
           "Saab 9-3 Griffin",
           2012
          ],
          [
           "Saab 9-3",
           2009
          ],
          [
           "Saab 9-3",
           2009
          ],
          [
           "Saab 9-3",
           2009
          ],
          [
           "Saab 9-3",
           2009
          ],
          [
           "Volvo 940",
           1993
          ],
          [
           "Audi A6",
           2015
          ],
          [
           "Audi A6",
           2015
          ],
          [
           "Audi A6",
           2015
          ],
          [
           "Audi A6",
           2015
          ],
          [
           "Audi A6",
           2015
          ],
          [
           "Audi A6",
           2016
          ],
          [
           "Audi A6",
           2016
          ],
          [
           "Audi A6",
           2016
          ],
          [
           "Audi A6",
           2016
          ],
          [
           "Audi A6",
           2016
          ],
          [
           "Audi A6",
           2016
          ],
          [
           "Audi A6",
           2016
          ],
          [
           "Audi A6",
           2016
          ],
          [
           "Audi A7",
           2016
          ],
          [
           "Audi A7",
           2016
          ],
          [
           "Audi A7",
           2017
          ],
          [
           "Audi A8",
           2017
          ],
          [
           "GMC Acadia Limited",
           2017
          ],
          [
           "GMC Acadia Limited",
           2017
          ],
          [
           "GMC Acadia",
           2015
          ],
          [
           "GMC Acadia",
           2015
          ],
          [
           "GMC Acadia",
           2015
          ],
          [
           "GMC Acadia",
           2015
          ],
          [
           "GMC Acadia",
           2015
          ],
          [
           "GMC Acadia",
           2015
          ],
          [
           "GMC Acadia",
           2015
          ],
          [
           "Honda Accord",
           2017
          ],
          [
           "Cadillac ATS",
           2015
          ],
          [
           "Cadillac ATS",
           2015
          ],
          [
           "Cadillac ATS",
           2017
          ],
          [
           "Toyota Avalon Hybrid",
           2017
          ],
          [
           "Dodge Avenger",
           2013
          ],
          [
           "Dodge Avenger",
           2014
          ],
          [
           "Dodge Avenger",
           2014
          ],
          [
           "Lamborghini Aventador",
           2016
          ],
          [
           "Lamborghini Aventador",
           2016
          ],
          [
           "Chevrolet Aveo",
           2009
          ],
          [
           "Chevrolet Aveo",
           2010
          ],
          [
           "Chevrolet Aveo",
           2011
          ],
          [
           "Hyundai Azera",
           2015
          ],
          [
           "Mazda B-Series Pickup",
           1999
          ],
          [
           "Mazda B-Series Pickup",
           2000
          ],
          [
           "Mazda B-Series Pickup",
           2000
          ],
          [
           "Subaru Baja",
           2005
          ],
          [
           "Subaru Baja",
           2006
          ],
          [
           "Volkswagen Beetle Convertible",
           2014
          ],
          [
           "Volkswagen Beetle Convertible",
           2014
          ],
          [
           "Volkswagen Beetle Convertible",
           2014
          ],
          [
           "Volkswagen Beetle Convertible",
           2014
          ],
          [
           "Volkswagen Beetle Convertible",
           2015
          ],
          [
           "Volkswagen Beetle Convertible",
           2016
          ],
          [
           "Volkswagen Beetle Convertible",
           2016
          ],
          [
           "Volkswagen Beetle Convertible",
           2016
          ],
          [
           "Volkswagen Beetle Convertible",
           2016
          ],
          [
           "Volkswagen Beetle Convertible",
           2016
          ],
          [
           "Volkswagen Beetle Convertible",
           2016
          ],
          [
           "Volkswagen Beetle Convertible",
           2016
          ],
          [
           "Volkswagen Beetle",
           2015
          ],
          [
           "Volkswagen Beetle",
           2015
          ],
          [
           "Volkswagen Beetle",
           2015
          ],
          [
           "Volkswagen Beetle",
           2015
          ],
          [
           "Volkswagen Beetle",
           2015
          ],
          [
           "Volkswagen Beetle",
           2015
          ],
          [
           "Volkswagen Beetle",
           2017
          ],
          [
           "Volkswagen Beetle",
           2017
          ],
          [
           "Volkswagen Beetle",
           2017
          ],
          [
           "Volkswagen Beetle",
           2017
          ],
          [
           "Chevrolet Beretta",
           1994
          ],
          [
           "Chevrolet Beretta",
           1995
          ],
          [
           "Chevrolet Beretta",
           1996
          ],
          [
           "Chevrolet Black Diamond Avalanche",
           2013
          ],
          [
           "Chevrolet Black Diamond Avalanche",
           2013
          ],
          [
           "Chevrolet Black Diamond Avalanche",
           2013
          ],
          [
           "Chevrolet Black Diamond Avalanche",
           2013
          ],
          [
           "Chevrolet Black Diamond Avalanche",
           2013
          ],
          [
           "Chevrolet Black Diamond Avalanche",
           2013
          ],
          [
           "Lincoln Blackwood",
           2002
          ],
          [
           "Pontiac Bonneville",
           2003
          ],
          [
           "Pontiac Bonneville",
           2004
          ],
          [
           "Pontiac Bonneville",
           2005
          ],
          [
           "Bentley Brooklands",
           2010
          ],
          [
           "Cadillac Brougham",
           1990
          ],
          [
           "Cadillac Brougham",
           1992
          ],
          [
           "Subaru BRZ",
           2015
          ],
          [
           "Subaru BRZ",
           2016
          ],
          [
           "Subaru BRZ",
           2017
          ],
          [
           "Mercedes-Benz C-Class",
           2015
          ],
          [
           "Mercedes-Benz C-Class",
           2015
          ],
          [
           "Mercedes-Benz C-Class",
           2015
          ],
          [
           "Mercedes-Benz C-Class",
           2016
          ],
          [
           "Mercedes-Benz C-Class",
           2016
          ],
          [
           "Mercedes-Benz C-Class",
           2016
          ],
          [
           "Mercedes-Benz C-Class",
           2017
          ],
          [
           "Mercedes-Benz C-Class",
           2017
          ],
          [
           "Mercedes-Benz C-Class",
           2017
          ],
          [
           "Mercedes-Benz C-Class",
           2017
          ],
          [
           "Volkswagen CC",
           2017
          ],
          [
           "Toyota Celica",
           2004
          ],
          [
           "Toyota Celica",
           2004
          ],
          [
           "Toyota Celica",
           2004
          ],
          [
           "Toyota Celica",
           2004
          ],
          [
           "Toyota Celica",
           2005
          ],
          [
           "Toyota Celica",
           2005
          ],
          [
           "Toyota Celica",
           2005
          ],
          [
           "Toyota Celica",
           2005
          ],
          [
           "Dodge Challenger",
           2015
          ],
          [
           "Dodge Challenger",
           2015
          ],
          [
           "Dodge Challenger",
           2015
          ],
          [
           "Dodge Challenger",
           2015
          ],
          [
           "Dodge Challenger",
           2015
          ],
          [
           "Dodge Challenger",
           2015
          ],
          [
           "Dodge Challenger",
           2015
          ],
          [
           "Dodge Challenger",
           2015
          ],
          [
           "Dodge Challenger",
           2015
          ],
          [
           "Dodge Challenger",
           2015
          ],
          [
           "Dodge Challenger",
           2016
          ],
          [
           "Dodge Challenger",
           2016
          ],
          [
           "Dodge Challenger",
           2016
          ],
          [
           "Dodge Challenger",
           2016
          ],
          [
           "Dodge Challenger",
           2016
          ],
          [
           "Dodge Challenger",
           2016
          ],
          [
           "Dodge Challenger",
           2016
          ],
          [
           "Dodge Challenger",
           2016
          ],
          [
           "Dodge Challenger",
           2016
          ],
          [
           "Dodge Challenger",
           2016
          ],
          [
           "Dodge Charger",
           2015
          ],
          [
           "Honda Civic",
           2015
          ],
          [
           "Cadillac CT6",
           2016
          ],
          [
           "Cadillac CT6",
           2017
          ],
          [
           "Cadillac CT6",
           2017
          ],
          [
           "Cadillac CT6",
           2017
          ],
          [
           "Cadillac CT6",
           2017
          ],
          [
           "Cadillac CT6",
           2017
          ],
          [
           "Cadillac CT6",
           2017
          ],
          [
           "Cadillac CT6",
           2017
          ],
          [
           "Cadillac CT6",
           2017
          ],
          [
           "Cadillac CT6",
           2017
          ],
          [
           "Cadillac CTS Coupe",
           2012
          ],
          [
           "Cadillac CTS Coupe",
           2012
          ],
          [
           "Cadillac CTS Coupe",
           2012
          ],
          [
           "Cadillac CTS Coupe",
           2012
          ],
          [
           "Cadillac CTS Coupe",
           2012
          ],
          [
           "Cadillac CTS Coupe",
           2012
          ],
          [
           "Cadillac CTS Coupe",
           2014
          ],
          [
           "Cadillac CTS Coupe",
           2014
          ],
          [
           "Cadillac CTS",
           2016
          ],
          [
           "Cadillac CTS",
           2016
          ],
          [
           "Cadillac CTS",
           2017
          ],
          [
           "Cadillac CTS",
           2017
          ],
          [
           "Cadillac CTS",
           2017
          ],
          [
           "Mazda CX-9",
           2016
          ],
          [
           "Mazda CX-9",
           2016
          ],
          [
           "Aston Martin DBS",
           2012
          ],
          [
           "Aston Martin DBS",
           2012
          ],
          [
           "Aston Martin DBS",
           2012
          ],
          [
           "Aston Martin DBS",
           2012
          ],
          [
           "Aston Martin DBS",
           2012
          ],
          [
           "Aston Martin DBS",
           2012
          ],
          [
           "Aston Martin DBS",
           2012
          ],
          [
           "Aston Martin DBS",
           2012
          ],
          [
           "Land Rover Defender",
           1994
          ],
          [
           "Land Rover Defender",
           1995
          ],
          [
           "Land Rover Defender",
           1997
          ],
          [
           "Land Rover Defender",
           1997
          ],
          [
           "Cadillac DeVille",
           2003
          ],
          [
           "Cadillac DeVille",
           2003
          ],
          [
           "Cadillac DeVille",
           2003
          ],
          [
           "Cadillac DeVille",
           2004
          ],
          [
           "Cadillac DeVille",
           2004
          ],
          [
           "Cadillac DeVille",
           2004
          ],
          [
           "Cadillac DeVille",
           2005
          ],
          [
           "Cadillac DeVille",
           2005
          ],
          [
           "Cadillac DeVille",
           2005
          ],
          [
           "Cadillac DeVille",
           2005
          ],
          [
           "Lamborghini Diablo",
           2001
          ],
          [
           "Cadillac DTS",
           2010
          ],
          [
           "Cadillac DTS",
           2010
          ],
          [
           "Cadillac DTS",
           2010
          ],
          [
           "Cadillac DTS",
           2010
          ],
          [
           "Cadillac DTS",
           2011
          ],
          [
           "Cadillac DTS",
           2011
          ],
          [
           "Cadillac DTS",
           2011
          ],
          [
           "Cadillac DTS",
           2011
          ],
          [
           "Dodge Durango",
           2015
          ],
          [
           "Dodge Durango",
           2015
          ],
          [
           "Dodge Durango",
           2015
          ],
          [
           "Dodge Durango",
           2015
          ],
          [
           "Dodge Durango",
           2016
          ],
          [
           "Dodge Durango",
           2016
          ],
          [
           "Mercedes-Benz E-Class",
           2015
          ],
          [
           "Mercedes-Benz E-Class",
           2015
          ],
          [
           "Hyundai Elantra GT",
           2015
          ],
          [
           "Hyundai Elantra GT",
           2015
          ],
          [
           "Hyundai Elantra GT",
           2016
          ],
          [
           "Hyundai Elantra GT",
           2016
          ],
          [
           "Hyundai Elantra GT",
           2017
          ],
          [
           "Hyundai Elantra GT",
           2017
          ],
          [
           "Hyundai Elantra Touring",
           2010
          ],
          [
           "Cadillac Eldorado",
           2000
          ],
          [
           "Cadillac Eldorado",
           2000
          ],
          [
           "Cadillac Eldorado",
           2001
          ],
          [
           "Cadillac Eldorado",
           2001
          ],
          [
           "Cadillac Eldorado",
           2002
          ],
          [
           "Cadillac Eldorado",
           2002
          ],
          [
           "Cadillac Eldorado",
           2002
          ],
          [
           "Chevrolet Equinox",
           2015
          ],
          [
           "Chevrolet Equinox",
           2015
          ],
          [
           "Chevrolet Equinox",
           2015
          ],
          [
           "Chevrolet Equinox",
           2015
          ],
          [
           "Ford F-150",
           2015
          ],
          [
           "Ford F-150",
           2017
          ],
          [
           "Ford F-150",
           2017
          ],
          [
           "Ford F-150",
           2017
          ],
          [
           "Honda Fit",
           2015
          ],
          [
           "Honda Fit",
           2015
          ],
          [
           "Scion FR-S",
           2014
          ],
          [
           "Scion FR-S",
           2014
          ],
          [
           "Scion FR-S",
           2014
          ],
          [
           "Scion FR-S",
           2014
          ],
          [
           "Ford Freestyle",
           2005
          ],
          [
           "Ford Freestyle",
           2005
          ],
          [
           "Ford Freestyle",
           2005
          ],
          [
           "Ford Freestyle",
           2005
          ],
          [
           "Ford Freestyle",
           2005
          ],
          [
           "Ford Freestyle",
           2005
          ],
          [
           "Ford Freestyle",
           2006
          ],
          [
           "Ford Freestyle",
           2006
          ],
          [
           "Ford Freestyle",
           2006
          ],
          [
           "Infiniti G Convertible",
           2012
          ],
          [
           "Pontiac G6",
           2009
          ],
          [
           "Genesis G80",
           2017
          ],
          [
           "Pontiac G8",
           2008
          ],
          [
           "Pontiac G8",
           2009
          ],
          [
           "Pontiac G8",
           2009
          ],
          [
           "Lamborghini Gallardo",
           2012
          ],
          [
           "Lamborghini Gallardo",
           2012
          ],
          [
           "Hyundai Genesis Coupe",
           2016
          ],
          [
           "Hyundai Genesis",
           2014
          ],
          [
           "Hyundai Genesis",
           2015
          ],
          [
           "Hyundai Genesis",
           2015
          ],
          [
           "Hyundai Genesis",
           2016
          ],
          [
           "Hyundai Genesis",
           2016
          ],
          [
           "Maserati Ghibli",
           2015
          ],
          [
           "Maserati Ghibli",
           2016
          ],
          [
           "Maserati Ghibli",
           2016
          ],
          [
           "Maserati Ghibli",
           2016
          ],
          [
           "Maserati Ghibli",
           2017
          ],
          [
           "Maserati Ghibli",
           2017
          ],
          [
           "Maserati Ghibli",
           2017
          ],
          [
           "Rolls-Royce Ghost Series II",
           2015
          ],
          [
           "Rolls-Royce Ghost Series II",
           2015
          ],
          [
           "Rolls-Royce Ghost Series II",
           2016
          ],
          [
           "Rolls-Royce Ghost Series II",
           2016
          ],
          [
           "Rolls-Royce Ghost",
           2012
          ],
          [
           "Plymouth Grand Voyager",
           1999
          ],
          [
           "Plymouth Grand Voyager",
           2000
          ],
          [
           "Maserati GranSport",
           2006
          ],
          [
           "Maserati GranTurismo Convertible",
           2014
          ],
          [
           "Nissan GT-R",
           2017
          ],
          [
           "Ford GT",
           2005
          ],
          [
           "Ford GT",
           2006
          ],
          [
           "Volkswagen GTI",
           2012
          ],
          [
           "Volkswagen GTI",
           2012
          ],
          [
           "Volkswagen GTI",
           2012
          ],
          [
           "Volkswagen GTI",
           2012
          ],
          [
           "Volkswagen GTI",
           2012
          ],
          [
           "Volkswagen GTI",
           2012
          ],
          [
           "Volkswagen GTI",
           2012
          ],
          [
           "Volkswagen GTI",
           2012
          ],
          [
           "Volkswagen GTI",
           2012
          ],
          [
           "Volkswagen GTI",
           2012
          ],
          [
           "Volkswagen GTI",
           2012
          ],
          [
           "Volkswagen GTI",
           2012
          ],
          [
           "Volkswagen GTI",
           2012
          ],
          [
           "Volkswagen GTI",
           2012
          ],
          [
           "Volkswagen GTI",
           2012
          ],
          [
           "Volkswagen GTI",
           2012
          ],
          [
           "Volkswagen GTI",
           2012
          ],
          [
           "Volkswagen GTI",
           2012
          ],
          [
           "Volkswagen GTI",
           2012
          ],
          [
           "Volkswagen GTI",
           2012
          ],
          [
           "Volkswagen GTI",
           2012
          ],
          [
           "Volkswagen GTI",
           2012
          ],
          [
           "Toyota Highlander Hybrid",
           2014
          ],
          [
           "Toyota Highlander Hybrid",
           2016
          ],
          [
           "Toyota Highlander Hybrid",
           2016
          ],
          [
           "Toyota Highlander",
           2015
          ],
          [
           "Toyota Highlander",
           2015
          ],
          [
           "Toyota Highlander",
           2015
          ],
          [
           "Toyota Highlander",
           2015
          ],
          [
           "Toyota Highlander",
           2015
          ],
          [
           "Toyota Highlander",
           2015
          ],
          [
           "Toyota Highlander",
           2016
          ],
          [
           "Toyota Highlander",
           2016
          ],
          [
           "Toyota Highlander",
           2016
          ],
          [
           "Toyota Highlander",
           2016
          ],
          [
           "Toyota Highlander",
           2016
          ],
          [
           "Toyota Highlander",
           2016
          ],
          [
           "Toyota Highlander",
           2016
          ],
          [
           "Honda HR-V",
           2016
          ],
          [
           "Honda HR-V",
           2016
          ],
          [
           "Honda HR-V",
           2016
          ],
          [
           "Honda HR-V",
           2016
          ],
          [
           "Honda HR-V",
           2016
          ],
          [
           "Honda HR-V",
           2016
          ],
          [
           "Honda HR-V",
           2017
          ],
          [
           "Honda HR-V",
           2017
          ],
          [
           "Honda HR-V",
           2017
          ],
          [
           "Honda HR-V",
           2017
          ],
          [
           "Honda HR-V",
           2017
          ],
          [
           "Honda HR-V",
           2017
          ],
          [
           "Lexus HS 250h",
           2011
          ],
          [
           "Lexus HS 250h",
           2012
          ],
          [
           "Lexus HS 250h",
           2012
          ],
          [
           "Lamborghini Huracan",
           2016
          ],
          [
           "Lamborghini Huracan",
           2016
          ],
          [
           "Lamborghini Huracan",
           2016
          ],
          [
           "Infiniti I30",
           2000
          ],
          [
           "Infiniti I30",
           2000
          ],
          [
           "Infiniti I30",
           2001
          ],
          [
           "Infiniti I30",
           2001
          ],
          [
           "Infiniti I35",
           2002
          ],
          [
           "Infiniti I35",
           2003
          ],
          [
           "Infiniti I35",
           2004
          ],
          [
           "Lexus IS 200t",
           2016
          ],
          [
           "Lexus IS 250",
           2013
          ],
          [
           "Lexus IS 250",
           2015
          ],
          [
           "Lexus IS 250",
           2015
          ],
          [
           "Lexus IS 250",
           2015
          ],
          [
           "Volkswagen Jetta Hybrid",
           2014
          ],
          [
           "Volkswagen Jetta Hybrid",
           2014
          ],
          [
           "Volkswagen Jetta SportWagen",
           2012
          ],
          [
           "Volkswagen Jetta SportWagen",
           2012
          ],
          [
           "Volkswagen Jetta SportWagen",
           2012
          ],
          [
           "Volkswagen Jetta SportWagen",
           2012
          ],
          [
           "Volkswagen Jetta SportWagen",
           2013
          ],
          [
           "Volkswagen Jetta SportWagen",
           2013
          ],
          [
           "Buick LaCrosse",
           2015
          ],
          [
           "Buick LaCrosse",
           2015
          ],
          [
           "Buick LaCrosse",
           2015
          ],
          [
           "Buick LaCrosse",
           2015
          ],
          [
           "Buick LaCrosse",
           2016
          ],
          [
           "Buick LaCrosse",
           2016
          ],
          [
           "Buick LaCrosse",
           2016
          ],
          [
           "Buick LaCrosse",
           2016
          ],
          [
           "Buick LaCrosse",
           2016
          ],
          [
           "Buick LaCrosse",
           2016
          ],
          [
           "Buick LaCrosse",
           2016
          ],
          [
           "Acura Legend",
           1993
          ],
          [
           "Acura Legend",
           1993
          ],
          [
           "Infiniti M30",
           1991
          ],
          [
           "Infiniti M30",
           1991
          ],
          [
           "Infiniti M30",
           1992
          ],
          [
           "Infiniti M35",
           2008
          ],
          [
           "Infiniti M35",
           2008
          ],
          [
           "Infiniti M35",
           2009
          ],
          [
           "Infiniti M35",
           2010
          ],
          [
           "Infiniti M45",
           2010
          ],
          [
           "BMW M4",
           2015
          ],
          [
           "BMW M4",
           2015
          ],
          [
           "BMW M4",
           2016
          ],
          [
           "BMW M4",
           2016
          ],
          [
           "BMW M4",
           2017
          ],
          [
           "BMW M4",
           2017
          ],
          [
           "Infiniti M56",
           2011
          ],
          [
           "Infiniti M56",
           2011
          ],
          [
           "BMW M5",
           2014
          ],
          [
           "BMW M5",
           2015
          ],
          [
           "BMW M5",
           2016
          ],
          [
           "BMW M6 Gran Coupe",
           2015
          ],
          [
           "Acura MDX",
           2015
          ],
          [
           "Acura MDX",
           2015
          ],
          [
           "Acura MDX",
           2015
          ],
          [
           "Acura MDX",
           2015
          ],
          [
           "Acura MDX",
           2016
          ],
          [
           "Acura MDX",
           2016
          ],
          [
           "Acura MDX",
           2016
          ],
          [
           "Acura MDX",
           2016
          ],
          [
           "Acura MDX",
           2016
          ],
          [
           "Acura MDX",
           2016
          ],
          [
           "Lincoln MKS",
           2015
          ],
          [
           "Lincoln MKS",
           2016
          ],
          [
           "Lincoln MKS",
           2016
          ],
          [
           "Volkswagen Passat",
           2016
          ],
          [
           "Volkswagen Passat",
           2017
          ],
          [
           "Nissan Pathfinder",
           2016
          ],
          [
           "Nissan Pathfinder",
           2016
          ],
          [
           "Nissan Pathfinder",
           2017
          ],
          [
           "Nissan Pathfinder",
           2017
          ],
          [
           "Nissan Pathfinder",
           2017
          ],
          [
           "Nissan Pathfinder",
           2017
          ],
          [
           "Nissan Pathfinder",
           2017
          ],
          [
           "Nissan Pathfinder",
           2017
          ],
          [
           "Nissan Pathfinder",
           2017
          ],
          [
           "Nissan Pathfinder",
           2017
          ],
          [
           "Volkswagen Phaeton",
           2004
          ],
          [
           "Volkswagen Phaeton",
           2004
          ],
          [
           "Volkswagen Phaeton",
           2004
          ],
          [
           "Volkswagen Phaeton",
           2005
          ],
          [
           "Volkswagen Phaeton",
           2005
          ],
          [
           "Volkswagen Phaeton",
           2005
          ],
          [
           "Volkswagen Phaeton",
           2005
          ],
          [
           "Volkswagen Phaeton",
           2006
          ],
          [
           "Volkswagen Phaeton",
           2006
          ],
          [
           "Volkswagen Phaeton",
           2006
          ],
          [
           "Volkswagen Phaeton",
           2006
          ],
          [
           "Rolls-Royce Phantom Coupe",
           2014
          ],
          [
           "Rolls-Royce Phantom Coupe",
           2015
          ],
          [
           "Rolls-Royce Phantom Coupe",
           2016
          ],
          [
           "Rolls-Royce Phantom Drophead Coupe",
           2014
          ],
          [
           "Rolls-Royce Phantom Drophead Coupe",
           2015
          ],
          [
           "Rolls-Royce Phantom Drophead Coupe",
           2016
          ],
          [
           "Rolls-Royce Phantom",
           2014
          ],
          [
           "Rolls-Royce Phantom",
           2014
          ],
          [
           "Rolls-Royce Phantom",
           2015
          ],
          [
           "Rolls-Royce Phantom",
           2015
          ],
          [
           "Rolls-Royce Phantom",
           2016
          ],
          [
           "Toyota Prius v",
           2015
          ],
          [
           "Toyota Prius v",
           2015
          ],
          [
           "Toyota Prius v",
           2015
          ],
          [
           "Toyota Prius v",
           2016
          ],
          [
           "Toyota Prius v",
           2016
          ],
          [
           "Toyota Prius v",
           2016
          ],
          [
           "Toyota Prius v",
           2016
          ],
          [
           "Toyota Prius v",
           2017
          ],
          [
           "Toyota Prius v",
           2017
          ],
          [
           "Toyota Prius v",
           2017
          ],
          [
           "Toyota Prius v",
           2017
          ],
          [
           "Toyota Prius",
           2015
          ],
          [
           "Toyota Prius",
           2015
          ],
          [
           "Toyota Prius",
           2015
          ],
          [
           "Toyota Prius",
           2015
          ],
          [
           "Toyota Prius",
           2015
          ],
          [
           "Toyota Prius",
           2016
          ],
          [
           "Toyota Prius",
           2016
          ],
          [
           "Toyota Prius",
           2016
          ],
          [
           "Audi Q3",
           2015
          ],
          [
           "Audi Q3",
           2016
          ],
          [
           "Audi Q3",
           2016
          ],
          [
           "Infiniti Q45",
           2005
          ],
          [
           "Infiniti Q45",
           2006
          ],
          [
           "Infiniti Q50",
           2015
          ],
          [
           "Infiniti QX50",
           2017
          ],
          [
           "Infiniti QX50",
           2017
          ],
          [
           "Infiniti QX56",
           2009
          ],
          [
           "Infiniti QX56",
           2009
          ]
         ],
         "fillcolor": "rgba(255,255,255,0)",
         "hoveron": "points",
         "hovertemplate": "cluster_pca=1<br>x=%{x}<br>y=%{y}<br>Car=%{customdata[0]}<br>Year=%{customdata[1]}<extra></extra>",
         "legendgroup": "1",
         "line": {
          "color": "rgba(255,255,255,0)"
         },
         "marker": {
          "color": "green"
         },
         "name": "1",
         "offsetgroup": "1",
         "orientation": "v",
         "pointpos": 0,
         "showlegend": true,
         "type": "box",
         "x": [
          3.179264145992312,
          3.0739100159427855,
          3.126441146682331,
          3.231383533569994,
          3.202045363172993,
          3.1400441397105823,
          3.0867260062186137,
          3.2557335443167634,
          3.1551116875297676,
          3.410165729113623,
          3.1007251065924564,
          3.218348140477769,
          3.2731151929443976,
          4.8509790962665,
          4.773654843664501,
          4.871143920190782,
          4.794627518096237,
          4.867047169197653,
          4.7905307671031085,
          4.00409684016424,
          3.879515868037306,
          3.8754191170441765,
          4.3022888895546005,
          4.0000000891711105,
          3.9017131809475942,
          4.027909854089437,
          4.317705637270556,
          3.112359878862236,
          5.040928839291363,
          5.037588057355884,
          5.053614531098247,
          5.0526139096650065,
          5.048517158671878,
          5.049517780105118,
          5.469178636092727,
          6.294853142174612,
          5.924045276376384,
          5.498959487025091,
          6.0191363068108625,
          5.529000934895344,
          6.051262530184222,
          5.833553790268867,
          5.781241560957147,
          5.7771448099640175,
          5.825360288282608,
          6.4955061629463495,
          2.107600602850871,
          2.1715570237020967,
          2.068656662193781,
          2.030832735144482,
          5.539132067209327,
          5.535035316216198,
          3.176329118371333,
          2.1806561855047524,
          2.1186341142873104,
          2.446606827788073,
          2.5086288990055143,
          2.1714580831229666,
          2.1145373632941817,
          2.504532148012385,
          2.1765594345116233,
          2.4425100767949433,
          2.167361332129838,
          2.5678293525396017,
          2.2066287337615433,
          2.1425218870409943,
          3.4829393689330432,
          2.253930902074523,
          2.581563475586643,
          2.5790303062208446,
          2.3513213568317033,
          2.280225371045238,
          2.3309947956764074,
          2.2598988098899415,
          2.2761286200521087,
          2.3268980446832783,
          2.347224605838574,
          2.255802058896813,
          2.5933257667492278,
          2.535428992943202,
          2.6390470794728937,
          2.6417258488648634,
          2.345638421422038,
          3.353492049547628,
          3.6670370744048686,
          3.6278536468870546,
          3.62957437784002,
          3.66294032341174,
          3.349395298554499,
          3.860238027149281,
          3.4163945333478356,
          3.735151496962844,
          3.646325381877964,
          6.8232557679656125,
          4.690090830230378,
          4.691811561183343,
          2.4321599101688194,
          2.232077069705873,
          3.0743197337751798,
          3.126439121352862,
          3.0743197337751798,
          3.1379919016860915,
          3.131438161079587,
          3.2620460527336785,
          2.6964294100872555,
          2.88083473545405,
          3.13645192518262,
          6.056104680239796,
          2.4576528179634867,
          2.4629375567343406,
          3.278591384894884,
          2.2041494296418085,
          3.3698261349118424,
          2.2000526786486794,
          3.3477481952044132,
          2.1729505971082848,
          2.967708710934696,
          2.9639918572955706,
          5.084459820703484,
          2.967713014439094,
          4.355658890121626,
          5.092350528853222,
          2.2262195282164896,
          2.971955365458394,
          2.8164504007308557,
          3.0976474308024042,
          2.813917231365058,
          2.4809441371985583,
          2.483362309652639,
          2.4849986912930553,
          4.808610033910409,
          4.820149099190584,
          4.816052348197456,
          4.363558429984336,
          4.3196373257513505,
          5.161000421007939,
          4.133179429824942,
          2.8340606687628527,
          3.018807115756974,
          4.618086548145465,
          5.178696099604608,
          5.005967308041662,
          4.6395282970654,
          3.195341413775993,
          4.7772642989382135,
          5.388055586356251,
          5.322312357995286,
          3.0788698470486464,
          3.0322490548604097,
          3.0530968098914824,
          3.0508296165318534,
          3.0716773715629264,
          3.099717602079719,
          3.0678412175076857,
          3.0750336929934057,
          3.028412900805169,
          3.0958814480244783,
          3.0492606558362416,
          3.0469934624766126,
          2.730469049017816,
          2.6966957566757284,
          2.6197878548334117,
          2.71440620771786,
          5.418168972616165,
          4.071975332858377,
          4.165259429420837,
          4.422139437599604,
          4.113140041843155,
          4.742308089216879,
          4.627348356036785,
          4.549169274670262,
          4.441348313524181,
          4.4310439763410265,
          4.378924588763344,
          4.457103670129868,
          4.50922305770755,
          5.014433569637837,
          5.1082388600760735,
          4.944072396407966,
          5.037877686846203,
          5.118709477910907,
          5.0476446929487375,
          4.954068727815843,
          5.025133512778012,
          5.18597459238914,
          4.96434129197788,
          5.126501159224247,
          5.0713215469198305,
          5.157173418813713,
          5.0118481137549376,
          5.042520373344404,
          5.07899433744719,
          5.782757511791269,
          2.511210753049093,
          6.227078546397599,
          6.222981795404471,
          6.240290476889496,
          3.444685376004129,
          3.6450635734852863,
          3.767127179192218,
          3.503215448253866,
          3.5913180610151803,
          3.5759687342440296,
          3.6711178882058464,
          3.729163250151111,
          3.512753129051059,
          3.5770839220086685,
          3.6722330759704853,
          3.5138683168156977,
          3.73027843791575,
          5.7875639211216345,
          5.783467170128505,
          4.540901322552756,
          4.6165472345534795,
          2.640411187894844,
          2.667064875572547,
          4.646328085485845,
          2.364433774951937,
          3.1616034932165196,
          4.422199671016433,
          4.263590992902049,
          4.02732442729692,
          4.3679955079356425,
          3.9868945308687365,
          4.141631625970273,
          4.076257223517889,
          4.198216590449665,
          4.356825268564048,
          4.044075431334862,
          4.302621105483258,
          4.135805553471584,
          4.131708802478455,
          3.9174233774232223,
          4.371491497098884,
          4.039978680341735,
          3.933448159457165,
          4.395987609260395,
          4.072160472524759,
          4.317287334018094,
          4.310213845639628,
          4.317287334018094,
          4.010882821065502,
          4.656031184590543,
          4.826200985031676,
          4.699363076293104,
          4.873832726209396,
          4.532242857735109,
          4.740720408045838,
          4.712435120086157,
          4.507345329967978,
          4.53738677783823,
          4.7463855220247355,
          2.8964743712031304,
          2.8991010212075228,
          2.1918836748623294,
          2.895004270214393,
          3.0253539623547043,
          2.2284735579428836,
          2.6712237439128526,
          2.7000925055626066,
          2.87105452069492,
          2.792578358819204,
          2.7884816078260752,
          2.695995754569478,
          2.8669577697017914,
          2.554257954920849,
          2.1805622280034416,
          2.605621373440881,
          2.129797944502779,
          2.2501810544761476,
          3.3599628593415827,
          3.355866108348453,
          4.394601222227811,
          4.341559225168732,
          4.521324134054664,
          4.0174006086766365,
          5.298261143556795,
          2.6549753941956635,
          2.6568723727739685,
          2.658769351352272,
          4.033081484944439,
          3.9836878450157975,
          3.722510584495458,
          3.743431139539617,
          3.7393343885464874,
          4.007642390391347,
          6.3109078651811785,
          6.481859456435975,
          6.241077493028675,
          6.412029084283473,
          6.542478410826505,
          6.394459350105888,
          6.329840916711153,
          6.477859977431771,
          6.9331644614224945,
          2.227789068836154,
          2.885370065318498,
          2.7800889024115802,
          2.4718286163251935,
          2.368632228921383,
          2.881273314325369,
          4.045026884095152,
          4.057035023863527,
          3.455276149483208,
          3.378660649744015,
          3.4589973066267317,
          3.4834934187882425,
          3.5799679064271688,
          3.5554717942656584,
          5.5522692065627,
          5.5730594631379144,
          5.627336426231789,
          5.766219292569085,
          5.789094324647407,
          5.8487135249679945,
          5.050171257716559,
          5.425691445213759,
          5.069319753583075,
          5.448618596679657,
          5.11955746413968,
          5.508368095469189,
          2.6237236116473297,
          2.502283496493457,
          2.5190345005314008,
          2.5190345005314008,
          3.8391792340227204,
          2.7428470822623496,
          3.7914606542308813,
          3.6589497167196727,
          2.44006226204079,
          3.7688180607928494,
          2.369701088810919,
          2.6724859090324786,
          3.5885885434898017,
          3.971690171533929,
          3.891368141149017,
          2.4406562559296523,
          2.3702950826997813,
          3.8423791972904664,
          3.974569447153991,
          3.8022439883911803,
          3.5980428332668692,
          2.673601096797118,
          2.743962270026989,
          4.072118852327842,
          3.778793544445694,
          3.661628486111642,
          3.9829946995700056,
          3.589799973104588,
          4.0162543548860805,
          2.359717793445642,
          2.4290365789239594,
          2.4290365789239594,
          2.359717793445642,
          2.3602857276407154,
          2.682421069732777,
          2.4254349621128184,
          2.4254349621128184,
          2.4243611355991947,
          2.3559544394034866,
          2.425507762125904,
          2.6828847651526946,
          2.3702612112935606,
          2.7493475866442956,
          2.5575482403584253,
          2.9682750741643495,
          2.721463714290236,
          2.5575482403584253,
          2.5304461588180307,
          2.5304461588180307,
          2.9682750741643495,
          2.721463714290236,
          2.6268930855305315,
          2.7493475866442956,
          2.5362260317708722,
          2.5622857255597133,
          2.6240471998392665,
          2.9766348568022867,
          2.723855827050528,
          2.749915520839369,
          2.6501068936281076,
          2.6689053021136795,
          2.4771059558278092,
          2.6949649959025206,
          4.2556211353744855,
          4.061972584983761,
          4.068325771199957,
          3.9433724663333223,
          3.9916296401619755,
          4.086325188322342,
          3.987532889168846,
          2.4784360918499853,
          2.146652072442066,
          2.1180841335695146,
          2.2986940260806072,
          2.303978764851461,
          2.668658281790764,
          3.112590994100212,
          3.9259876927717663,
          3.9330966101078393,
          3.1202211053120616,
          2.6774035807672525,
          3.301920363831778,
          4.9599912801675305,
          2.5252554703982453,
          2.4548942971683743,
          2.4598810679458603,
          2.450797546175245,
          2.4583902863316154,
          2.4805783971076094,
          2.3982419467544904,
          2.850008326456214,
          2.823948632667373,
          2.8245947459438128,
          2.850654439732654,
          3.836549333784423,
          3.885041044857176,
          4.79410602764433,
          2.787872912131344,
          2.1325463713104442,
          4.805905689862394,
          2.8779225385345013,
          2.8824254864916896,
          4.813796398012132,
          5.703067170086692,
          5.6179065797476575,
          5.61380982875453,
          3.797738736206037,
          3.8316163381315302,
          3.690852630420773,
          3.7247302323462663,
          4.35037115720187,
          3.6971797569431795,
          3.7310573588686733,
          3.4146735975537945,
          3.444975642361936,
          3.4788532442874294,
          2.7581706706448768,
          2.72397521126341,
          2.7198784602702815,
          2.754073919651748,
          2.7384801528399914,
          2.643439632916164,
          3.9699205416491887,
          4.089795133077858,
          4.017891058846163,
          3.9006224367963784,
          5.444624579424557,
          5.456450539274185,
          5.480618242273149,
          4.805578015668594,
          4.584245838927283,
          2.781507809468531,
          2.667721804670954,
          2.7059346974808913,
          2.449658753117016,
          2.592148692683315,
          2.5252318651046552,
          2.5634447579145925,
          2.639017869902232,
          2.78937245792448,
          2.7137993459368404,
          2.5324499368602953,
          2.635620264570317,
          2.3899599972939964,
          2.6468825183581806,
          2.5713094063705415,
          2.6080230488479343,
          2.493130325004018,
          2.5687034369916573,
          2.4655331092816355,
          2.711193376557956,
          2.792051227316449,
          2.71647811532881,
          2.554934073531784,
          2.5062329719115244,
          2.630507185519423,
          2.5818060838991634,
          2.7242960234654623,
          2.64956128775015,
          2.573988175762511,
          2.412444133965485,
          2.6487229114778232,
          2.4880172459531242,
          3.9264626825633613,
          3.8587074787123745,
          3.8065880911346923,
          3.8587074787123745,
          3.859301472601237,
          3.8176059625390915,
          3.9786548701541293,
          3.9223659315702326,
          3.859301472601237,
          3.9661250606344303,
          3.9244295505722846,
          4.085478458187323,
          3.9661250606344303,
          4.029189519603426,
          4.469276062033614,
          4.547455143400137,
          5.242041411704468,
          5.285503601875975,
          5.335220118556802,
          2.6670559195741688,
          2.663480362456817,
          2.6593836114636873,
          2.6847765113505804,
          2.681200954233229,
          2.6771042032400993,
          2.5502446272539347,
          2.4382703511765946,
          2.446088259313247,
          2.3495996115776623
         ],
         "x0": " ",
         "xaxis": "x",
         "y": [
          -1.054842180960591,
          -1.1547172644798673,
          -1.1049180675475043,
          -1.0054333140766116,
          -0.9167250761523419,
          -0.9755018641975239,
          -1.0260471350198348,
          -0.8658290023751546,
          -0.8446972716881034,
          -0.630192189415578,
          -0.896255424281536,
          -0.784749493497771,
          -0.7328306561760854,
          -0.6736881313968143,
          -0.6520376607395129,
          -0.538051351706141,
          -0.5156350436121377,
          -0.42541439954995985,
          -0.40299809145595655,
          1.3207665817720686,
          1.2026645672592922,
          1.3153015194154738,
          1.6817730364186843,
          1.43340353392825,
          1.456748781851703,
          1.5763824712378827,
          1.8129086683362272,
          1.2991436085121262,
          -0.36181395758482127,
          -0.27002760038571094,
          -0.23326735029199874,
          -0.13926253496979768,
          -0.02662558281361637,
          -0.12063039813581743,
          1.3166463283881304,
          2.003338947599265,
          1.6812827036772429,
          1.461399044018898,
          1.870486921235196,
          1.6063988039840862,
          2.0174630358757426,
          1.299689823137196,
          1.2500981434457459,
          1.3627350956019268,
          1.5249637274495582,
          2.1056887586485566,
          1.0381543025600346,
          1.1156910099624275,
          1.234276975410849,
          1.2980343629573454,
          1.0025241047199616,
          1.1151610568761425,
          -2.213540434739628,
          1.1803908187909313,
          1.1215942671989956,
          1.3888550413703336,
          1.4476515929622693,
          0.6417413074210147,
          1.2342312193551768,
          1.5602885451184505,
          1.2930277709471123,
          1.5014919935265147,
          0.7543782595771958,
          1.0071206782118238,
          2.051227171082961,
          1.9904542648156667,
          1.6560541980379433,
          1.7022596520448998,
          1.9642766837524694,
          2.0783959019151697,
          1.678064571611042,
          1.705619401860979,
          1.65879511352629,
          1.686349943776227,
          1.8182563540171601,
          1.7714320656824711,
          1.7907015237672232,
          1.7989868959324082,
          2.1915621563456456,
          -0.6517275073198244,
          0.8535024255586259,
          0.9725625304097244,
          0.743168509730659,
          -0.10956676609148873,
          0.13310279788732193,
          0.0555729845060945,
          0.1690640295287008,
          0.24573975004350312,
          0.0030701860646924557,
          0.4543440391596958,
          0.08815230797093633,
          0.33576275863814486,
          0.3014645284384735,
          2.4484468028600284,
          0.5792313184237418,
          0.6927223634463483,
          0.013903065059340657,
          0.7787855862855961,
          -0.21861161534020324,
          -0.16920274845622374,
          -0.21861161534020324,
          1.6111311733040037,
          0.6858384781891615,
          0.89343308017655,
          0.33394585032435053,
          0.5265213774713204,
          1.0204426988700894,
          0.9816081398543188,
          1.1815187209096636,
          1.3030492691049609,
          1.0281731020302602,
          0.5629842838461622,
          1.136230347037555,
          0.6756212360023431,
          1.231821240118763,
          0.6499286252226738,
          1.595566144546149,
          0.5598355946794111,
          1.068427876424075,
          0.6798838768681889,
          0.498672675987976,
          1.1924288679635713,
          0.40015811505889565,
          0.8004262477258068,
          -0.7747179114927204,
          -0.3239553869315556,
          -0.66059869333002,
          1.135405320678867,
          1.2542183811955456,
          1.3722903087089644,
          0.9154627781292116,
          1.0429223903505869,
          1.1555593425067678,
          0.7405106382261847,
          0.9103477407626906,
          0.5039394462929857,
          1.8579916912152763,
          0.8826758387998305,
          1.0348952821588224,
          1.0704007194864038,
          1.559030759136444,
          1.4902382989626208,
          1.2072480164157346,
          1.2191551420306108,
          1.1263468742703922,
          1.2019232325028015,
          1.0230783987220875,
          1.138855627020354,
          1.0946593955926345,
          1.1144229423462262,
          1.1122736566367732,
          1.132037203390365,
          1.158619173773946,
          1.244921199880966,
          1.251739623510955,
          1.2075433920832355,
          1.271503170264547,
          1.2273069388368272,
          1.225157653127374,
          -1.6605001928903764,
          -1.5975636730648217,
          -1.4488800877818389,
          -1.5537500986512363,
          1.8037855276870458,
          -0.9967309304630398,
          -1.102865808324667,
          -1.1652369132491074,
          -1.1522746752086466,
          1.316724631824002,
          1.2077434941380083,
          1.133630193812039,
          0.7145961702398025,
          0.9378690154433635,
          0.888460148559384,
          0.9625734488853533,
          1.0119823157693328,
          0.7137479718589285,
          0.6081071826661412,
          0.647046001565556,
          0.5414052123727687,
          0.7345539131163942,
          0.6671849231200883,
          0.773043111327165,
          0.8404121013234711,
          0.9148414858101203,
          0.8993020880832594,
          0.8584610278088111,
          1.0007187282493157,
          0.8875381459700332,
          0.9443382702480068,
          0.9734153884092287,
          0.8134248456440639,
          -0.36842784163489506,
          1.0644836474341934,
          2.1028187461889765,
          2.2154556983451577,
          2.348384872130589,
          -0.11663850423570131,
          0.07331882538644653,
          0.18903439162872648,
          -0.06115234672499225,
          0.02236840185568679,
          0.12433797965161665,
          0.2145388070350096,
          0.2695654620836976,
          0.06440996500803788,
          0.2419158184961957,
          0.33211664587958867,
          0.18198780385261693,
          0.38714330092827676,
          1.8899929475619757,
          2.002629899718156,
          1.4778649935685169,
          1.6660975120571864,
          1.3450703542603926,
          1.4868585378781216,
          1.810850227687954,
          0.17464346613288095,
          0.667328923005143,
          1.083488453406979,
          0.9440422255446946,
          0.7309767860252805,
          1.0321032318476404,
          0.7922637302275779,
          0.8284254770361825,
          0.9825858266410691,
          1.0982025751495814,
          1.2376488030118658,
          0.8633772849350533,
          1.186263581452527,
          0.9503368906508572,
          1.0629738428070385,
          1.059061031988646,
          1.3680729472462796,
          0.9760142370912345,
          1.1629528249606282,
          1.39129511468175,
          1.0952227787972504,
          1.316687725686941,
          1.4095963446949853,
          1.316687725686941,
          1.136746176245956,
          1.8833505259319132,
          2.0446704763081063,
          2.0409495469525156,
          2.206345728846637,
          1.3214845933496147,
          1.5191200608855329,
          1.7037798234872323,
          1.509355932298773,
          1.6543556922639606,
          1.8524852484687184,
          0.6686625095510899,
          0.7876732055353041,
          0.4607670073745388,
          0.9003101576914853,
          1.1109341424508419,
          0.689761192473159,
          0.24725658341223428,
          0.3911446438725322,
          0.5532156090253619,
          0.47882067815815393,
          0.5914576303143354,
          0.5037815960287136,
          0.6658525611815433,
          1.3018575329192212,
          1.0291896371160194,
          1.3721169947602714,
          0.9810654007710232,
          1.1898808189148171,
          0.36355092011073803,
          0.4761878722669191,
          1.5624603276906186,
          1.723650878522428,
          1.7991135357255883,
          1.4490919975679548,
          1.3364592074396426,
          0.3581265931944796,
          0.47644556504231833,
          0.5947645368901572,
          1.446832869186568,
          1.6114820407002555,
          1.3803534004752627,
          1.516706608735754,
          1.629343560891935,
          1.8564133180130569,
          0.853745661270137,
          1.01580674464959,
          0.9821145292295551,
          1.144175612609008,
          1.1908851822221747,
          1.0505640002716727,
          1.1838737549194889,
          1.3241949368699908,
          1.8297774982254076,
          1.3560986323271473,
          1.8003766585345786,
          1.7005707474289402,
          1.5794317316454267,
          1.4816021752151471,
          1.9130136106907598,
          -0.8330920964045293,
          -0.7051878043811987,
          -0.8280297228154369,
          -0.9006607571348867,
          -0.7079814406266588,
          -0.6847592731911885,
          -0.5029746248000306,
          -0.526196792235501,
          1.7183085333181984,
          1.8545382194114797,
          2.0225131024777174,
          1.9211319318769342,
          2.0593379726455745,
          2.2323772645674205,
          1.8713893468236198,
          2.227380232722692,
          2.0060626536100554,
          2.3656356823582168,
          2.170208349492785,
          2.5387984964472725,
          0.9674618966193865,
          1.1680865303613768,
          1.3004870292711497,
          1.3004870292711497,
          1.0436338225893873,
          0.5266858507079059,
          1.3555867143028195,
          1.257251759847907,
          0.8233505828638368,
          0.976931852296015,
          0.7566486125704645,
          0.4599838804145336,
          1.1905497895545345,
          1.1419687770443,
          1.566819060325982,
          0.940434333039576,
          0.8737323627462036,
          1.1631880161093258,
          1.623865703741483,
          1.4823298979543769,
          1.3160330471005504,
          0.5775617192591124,
          0.6442636895524848,
          1.3536952117363021,
          1.1029091985108708,
          1.3763118646990053,
          1.269206049364697,
          1.6245036319183541,
          1.952382893436534,
          0.432952462443744,
          0.49866625539943676,
          0.49866625539943676,
          0.432952462443744,
          0.5500115081860414,
          0.8117384892663736,
          0.6117725917910157,
          0.6117725917910157,
          0.7272752582264678,
          0.6624261204412446,
          0.7283622532979154,
          0.928698717274903,
          0.6759888544008971,
          0.7027049263641093,
          0.5208802962310647,
          0.9102468717102653,
          0.6762711825811802,
          0.5208802962310647,
          0.49518768545139535,
          0.49518768545139535,
          0.9102468717102653,
          0.6762711825811802,
          0.5866187936201994,
          0.7027049263641093,
          0.6171876178820906,
          0.6418920513240803,
          0.7004415585815961,
          1.0346925430517178,
          0.7950595386644169,
          0.8197639721064066,
          0.7251459920235859,
          0.9591016616460996,
          0.777277031513055,
          0.9838060950880895,
          1.2404598332414503,
          1.555694485557474,
          1.6782379155238927,
          0.565678160305441,
          0.7279463192465795,
          0.9342377785813438,
          0.8405832714027606,
          -0.4075233748106011,
          0.7441675230776792,
          1.7008666120332785,
          1.6990833141626474,
          1.8206138623579446,
          1.3086963589703806,
          1.100475250022438,
          1.2241271037422783,
          1.3473869622785146,
          1.2242291972275148,
          1.5500281450200362,
          1.318432010241132,
          1.900603718979012,
          1.152788315048546,
          1.0860863447551738,
          1.3069486646534325,
          1.1987232969113546,
          1.4220560601538126,
          1.3434760125421223,
          0.946146119245099,
          1.4636568878991623,
          1.4389524544571726,
          1.5560856134997956,
          1.5807900469417855,
          -1.0307275639404474,
          -0.8682370650983311,
          1.5103041992741582,
          1.103993191730212,
          0.7217986104918483,
          1.6380108558299529,
          1.2840526493475295,
          1.4048420645395672,
          1.7620118473694493,
          1.4910865607487782,
          1.6526829577888564,
          1.7653199099450372,
          1.1644008113391857,
          1.1965165748137723,
          0.8300321289469966,
          0.8621478924215834,
          1.339301581394475,
          0.9525508544799736,
          0.9846666179545603,
          0.5515701046309232,
          0.6968169089305306,
          0.7289326724051172,
          -1.7507598692348032,
          -1.6882235612310088,
          -1.5755866090748276,
          -1.638122917078622,
          -1.530928143037526,
          -1.4264583439898888,
          0.7158084197864709,
          0.8294488136196237,
          0.8778048299597477,
          0.7666348794707937,
          0.35189558445982017,
          0.4580599219221686,
          1.5117995224362308,
          -0.40141512318417794,
          0.3444062358611999,
          0.19160400439796926,
          0.09464940205590723,
          0.11996114741619897,
          0.17744797727697262,
          0.023006545074136915,
          0.24909083425874293,
          0.2744025796190346,
          0.3460454366008049,
          0.31558029150402356,
          0.24393743452225325,
          0.07201928219944652,
          0.16982413419628395,
          0.2264607144022822,
          0.47002172370685924,
          0.3983788667250888,
          0.14366213918121684,
          0.32426556639911963,
          0.39590842338088994,
          0.2981035713840524,
          0.24146699117805426,
          0.4346403963551221,
          0.3629975393733518,
          0.2098547564664573,
          0.45320744462701407,
          0.28149761344822755,
          0.5248503016087843,
          0.3704088694059487,
          0.5890818285579578,
          0.5174389715761875,
          0.364296188669293,
          0.2987660124241784,
          0.43593904565106323,
          1.0921017979783587,
          1.0278702710291852,
          0.9784614041452057,
          1.0278702710291852,
          1.1449540212049243,
          1.1054269276977406,
          1.2581003263692374,
          1.2047387501345395,
          1.1449540212049243,
          1.1728359927308438,
          1.1333088992236602,
          1.285982297895157,
          1.1728359927308438,
          1.232620721660459,
          0.5514251581346875,
          0.6255384584606568,
          1.626722929462307,
          1.784445472650119,
          1.9480970798640094,
          1.3904368226697572,
          1.503567863494778,
          1.616204815650959,
          1.4072358374103102,
          1.520366878235331,
          1.633003830391512,
          -0.5342084823758201,
          -0.3292711350855259,
          -0.321859805052929,
          -0.10690302008923157
         ],
         "y0": " ",
         "yaxis": "y"
        },
        {
         "alignmentgroup": "True",
         "boxpoints": "all",
         "customdata": [
          [
           "Chevrolet Express",
           2016
          ],
          [
           "Chevrolet Express",
           2016
          ],
          [
           "Scion iM",
           2016
          ],
          [
           "Toyota Prius c",
           2014
          ],
          [
           "Toyota Prius c",
           2014
          ],
          [
           "Toyota Prius c",
           2014
          ]
         ],
         "fillcolor": "rgba(255,255,255,0)",
         "hoveron": "points",
         "hovertemplate": "cluster_pca=4<br>x=%{x}<br>y=%{y}<br>Car=%{customdata[0]}<br>Year=%{customdata[1]}<extra></extra>",
         "legendgroup": "4",
         "line": {
          "color": "rgba(255,255,255,0)"
         },
         "marker": {
          "color": "purple"
         },
         "name": "4",
         "offsetgroup": "4",
         "orientation": "v",
         "pointpos": 0,
         "showlegend": true,
         "type": "box",
         "x": [
          11.064293024330498,
          11.074529104921233,
          12.33225593468774,
          17.828237278258595,
          14.878790711360045,
          15.947149386614125
         ],
         "x0": " ",
         "xaxis": "x",
         "y": [
          6.6532652356044135,
          6.77948962615369,
          6.736870239321914,
          10.561109931785614,
          7.7650522730478375,
          8.894370538188976
         ],
         "y0": " ",
         "yaxis": "y"
        }
       ],
       "layout": {
        "boxmode": "group",
        "legend": {
         "title": {
          "text": "cluster_pca"
         },
         "tracegroupgap": 0
        },
        "margin": {
         "t": 60
        },
        "template": {
         "data": {
          "candlestick": [
           {
            "decreasing": {
             "line": {
              "color": "#000033"
             }
            },
            "increasing": {
             "line": {
              "color": "#000032"
             }
            },
            "type": "candlestick"
           }
          ],
          "contour": [
           {
            "colorscale": [
             [
              0,
              "#000011"
             ],
             [
              0.1111111111111111,
              "#000012"
             ],
             [
              0.2222222222222222,
              "#000013"
             ],
             [
              0.3333333333333333,
              "#000014"
             ],
             [
              0.4444444444444444,
              "#000015"
             ],
             [
              0.5555555555555556,
              "#000016"
             ],
             [
              0.6666666666666666,
              "#000017"
             ],
             [
              0.7777777777777778,
              "#000018"
             ],
             [
              0.8888888888888888,
              "#000019"
             ],
             [
              1,
              "#000020"
             ]
            ],
            "type": "contour"
           }
          ],
          "contourcarpet": [
           {
            "colorscale": [
             [
              0,
              "#000011"
             ],
             [
              0.1111111111111111,
              "#000012"
             ],
             [
              0.2222222222222222,
              "#000013"
             ],
             [
              0.3333333333333333,
              "#000014"
             ],
             [
              0.4444444444444444,
              "#000015"
             ],
             [
              0.5555555555555556,
              "#000016"
             ],
             [
              0.6666666666666666,
              "#000017"
             ],
             [
              0.7777777777777778,
              "#000018"
             ],
             [
              0.8888888888888888,
              "#000019"
             ],
             [
              1,
              "#000020"
             ]
            ],
            "type": "contourcarpet"
           }
          ],
          "heatmap": [
           {
            "colorscale": [
             [
              0,
              "#000011"
             ],
             [
              0.1111111111111111,
              "#000012"
             ],
             [
              0.2222222222222222,
              "#000013"
             ],
             [
              0.3333333333333333,
              "#000014"
             ],
             [
              0.4444444444444444,
              "#000015"
             ],
             [
              0.5555555555555556,
              "#000016"
             ],
             [
              0.6666666666666666,
              "#000017"
             ],
             [
              0.7777777777777778,
              "#000018"
             ],
             [
              0.8888888888888888,
              "#000019"
             ],
             [
              1,
              "#000020"
             ]
            ],
            "type": "heatmap"
           }
          ],
          "histogram2d": [
           {
            "colorscale": [
             [
              0,
              "#000011"
             ],
             [
              0.1111111111111111,
              "#000012"
             ],
             [
              0.2222222222222222,
              "#000013"
             ],
             [
              0.3333333333333333,
              "#000014"
             ],
             [
              0.4444444444444444,
              "#000015"
             ],
             [
              0.5555555555555556,
              "#000016"
             ],
             [
              0.6666666666666666,
              "#000017"
             ],
             [
              0.7777777777777778,
              "#000018"
             ],
             [
              0.8888888888888888,
              "#000019"
             ],
             [
              1,
              "#000020"
             ]
            ],
            "type": "histogram2d"
           }
          ],
          "icicle": [
           {
            "textfont": {
             "color": "white"
            },
            "type": "icicle"
           }
          ],
          "sankey": [
           {
            "textfont": {
             "color": "#000036"
            },
            "type": "sankey"
           }
          ],
          "scatter": [
           {
            "marker": {
             "line": {
              "width": 0
             }
            },
            "type": "scatter"
           }
          ],
          "table": [
           {
            "cells": {
             "fill": {
              "color": "#000038"
             },
             "font": {
              "color": "#000037"
             },
             "line": {
              "color": "#000039"
             }
            },
            "header": {
             "fill": {
              "color": "#000040"
             },
             "font": {
              "color": "#000036"
             },
             "line": {
              "color": "#000039"
             }
            },
            "type": "table"
           }
          ],
          "waterfall": [
           {
            "connector": {
             "line": {
              "color": "#000036",
              "width": 2
             }
            },
            "decreasing": {
             "marker": {
              "color": "#000033"
             }
            },
            "increasing": {
             "marker": {
              "color": "#000032"
             }
            },
            "totals": {
             "marker": {
              "color": "#000034"
             }
            },
            "type": "waterfall"
           }
          ]
         },
         "layout": {
          "coloraxis": {
           "colorscale": [
            [
             0,
             "#000011"
            ],
            [
             0.1111111111111111,
             "#000012"
            ],
            [
             0.2222222222222222,
             "#000013"
            ],
            [
             0.3333333333333333,
             "#000014"
            ],
            [
             0.4444444444444444,
             "#000015"
            ],
            [
             0.5555555555555556,
             "#000016"
            ],
            [
             0.6666666666666666,
             "#000017"
            ],
            [
             0.7777777777777778,
             "#000018"
            ],
            [
             0.8888888888888888,
             "#000019"
            ],
            [
             1,
             "#000020"
            ]
           ]
          },
          "colorscale": {
           "diverging": [
            [
             0,
             "#000021"
            ],
            [
             0.1,
             "#000022"
            ],
            [
             0.2,
             "#000023"
            ],
            [
             0.3,
             "#000024"
            ],
            [
             0.4,
             "#000025"
            ],
            [
             0.5,
             "#000026"
            ],
            [
             0.6,
             "#000027"
            ],
            [
             0.7,
             "#000028"
            ],
            [
             0.8,
             "#000029"
            ],
            [
             0.9,
             "#000030"
            ],
            [
             1,
             "#000031"
            ]
           ],
           "sequential": [
            [
             0,
             "#000011"
            ],
            [
             0.1111111111111111,
             "#000012"
            ],
            [
             0.2222222222222222,
             "#000013"
            ],
            [
             0.3333333333333333,
             "#000014"
            ],
            [
             0.4444444444444444,
             "#000015"
            ],
            [
             0.5555555555555556,
             "#000016"
            ],
            [
             0.6666666666666666,
             "#000017"
            ],
            [
             0.7777777777777778,
             "#000018"
            ],
            [
             0.8888888888888888,
             "#000019"
            ],
            [
             1,
             "#000020"
            ]
           ],
           "sequentialminus": [
            [
             0,
             "#000011"
            ],
            [
             0.1111111111111111,
             "#000012"
            ],
            [
             0.2222222222222222,
             "#000013"
            ],
            [
             0.3333333333333333,
             "#000014"
            ],
            [
             0.4444444444444444,
             "#000015"
            ],
            [
             0.5555555555555556,
             "#000016"
            ],
            [
             0.6666666666666666,
             "#000017"
            ],
            [
             0.7777777777777778,
             "#000018"
            ],
            [
             0.8888888888888888,
             "#000019"
            ],
            [
             1,
             "#000020"
            ]
           ]
          },
          "colorway": [
           "#000001",
           "#000002",
           "#000003",
           "#000004",
           "#000005",
           "#000006",
           "#000007",
           "#000008",
           "#000009",
           "#000010"
          ]
         }
        },
        "xaxis": {
         "anchor": "y",
         "domain": [
          0,
          1
         ],
         "title": {
          "text": "x"
         }
        },
        "yaxis": {
         "anchor": "x",
         "domain": [
          0,
          1
         ],
         "title": {
          "text": "y"
         }
        }
       }
      }
     },
     "metadata": {},
     "output_type": "display_data"
    }
   ],
   "source": [
    "px.strip(projection, x='x',y='y',color='cluster_pca',\n",
    "         color_discrete_sequence=['blue', 'yellow', 'orange', 'green', 'purple'],  hover_data=['x', 'y', 'Car', 'Year'])"
   ]
  },
  {
   "cell_type": "code",
   "execution_count": 20,
   "metadata": {},
   "outputs": [
    {
     "data": {
      "text/html": [
       "<div>\n",
       "<style scoped>\n",
       "    .dataframe tbody tr th:only-of-type {\n",
       "        vertical-align: middle;\n",
       "    }\n",
       "\n",
       "    .dataframe tbody tr th {\n",
       "        vertical-align: top;\n",
       "    }\n",
       "\n",
       "    .dataframe thead th {\n",
       "        text-align: right;\n",
       "    }\n",
       "</style>\n",
       "<table border=\"1\" class=\"dataframe\">\n",
       "  <thead>\n",
       "    <tr style=\"text-align: right;\">\n",
       "      <th></th>\n",
       "      <th>x</th>\n",
       "      <th>y</th>\n",
       "      <th>cluster_pca</th>\n",
       "      <th>Car</th>\n",
       "      <th>Year</th>\n",
       "    </tr>\n",
       "  </thead>\n",
       "  <tbody>\n",
       "    <tr>\n",
       "      <th>0</th>\n",
       "      <td>0.585254</td>\n",
       "      <td>0.161046</td>\n",
       "      <td>0</td>\n",
       "      <td>BMW 1 Series M</td>\n",
       "      <td>2011</td>\n",
       "    </tr>\n",
       "    <tr>\n",
       "      <th>1</th>\n",
       "      <td>0.302880</td>\n",
       "      <td>0.121462</td>\n",
       "      <td>0</td>\n",
       "      <td>BMW 1 Series</td>\n",
       "      <td>2011</td>\n",
       "    </tr>\n",
       "    <tr>\n",
       "      <th>2</th>\n",
       "      <td>0.219191</td>\n",
       "      <td>0.141740</td>\n",
       "      <td>0</td>\n",
       "      <td>BMW 1 Series</td>\n",
       "      <td>2011</td>\n",
       "    </tr>\n",
       "    <tr>\n",
       "      <th>3</th>\n",
       "      <td>0.020052</td>\n",
       "      <td>-0.169875</td>\n",
       "      <td>0</td>\n",
       "      <td>BMW 1 Series</td>\n",
       "      <td>2011</td>\n",
       "    </tr>\n",
       "    <tr>\n",
       "      <th>4</th>\n",
       "      <td>0.046372</td>\n",
       "      <td>-0.144923</td>\n",
       "      <td>0</td>\n",
       "      <td>BMW 1 Series</td>\n",
       "      <td>2011</td>\n",
       "    </tr>\n",
       "  </tbody>\n",
       "</table>\n",
       "</div>"
      ],
      "text/plain": [
       "          x         y  cluster_pca             Car  Year\n",
       "0  0.585254  0.161046            0  BMW 1 Series M  2011\n",
       "1  0.302880  0.121462            0    BMW 1 Series  2011\n",
       "2  0.219191  0.141740            0    BMW 1 Series  2011\n",
       "3  0.020052 -0.169875            0    BMW 1 Series  2011\n",
       "4  0.046372 -0.144923            0    BMW 1 Series  2011"
      ]
     },
     "execution_count": 20,
     "metadata": {},
     "output_type": "execute_result"
    }
   ],
   "source": [
    "projection.head()"
   ]
  },
  {
   "cell_type": "code",
   "execution_count": 21,
   "metadata": {},
   "outputs": [],
   "source": [
    "projection.to_csv('projection.csv')"
   ]
  },
  {
   "cell_type": "code",
   "execution_count": 126,
   "metadata": {},
   "outputs": [
    {
     "data": {
      "text/plain": [
       "np.float64(0.59)"
      ]
     },
     "execution_count": 126,
     "metadata": {},
     "output_type": "execute_result"
    }
   ],
   "source": [
    "pca_pipeline[1].explained_variance_ratio_.sum().round(2)"
   ]
  },
  {
   "cell_type": "code",
   "execution_count": 125,
   "metadata": {},
   "outputs": [
    {
     "data": {
      "text/plain": [
       "np.float64(4.75)"
      ]
     },
     "execution_count": 125,
     "metadata": {},
     "output_type": "execute_result"
    }
   ],
   "source": [
    "pca_pipeline[1].explained_variance_.sum().round(2)"
   ]
  },
  {
   "cell_type": "code",
   "execution_count": null,
   "metadata": {},
   "outputs": [],
   "source": []
  }
 ],
 "metadata": {
  "kernelspec": {
   "display_name": "venv",
   "language": "python",
   "name": "python3"
  },
  "language_info": {
   "codemirror_mode": {
    "name": "ipython",
    "version": 3
   },
   "file_extension": ".py",
   "mimetype": "text/x-python",
   "name": "python",
   "nbconvert_exporter": "python",
   "pygments_lexer": "ipython3",
   "version": "3.11.9"
  }
 },
 "nbformat": 4,
 "nbformat_minor": 2
}
